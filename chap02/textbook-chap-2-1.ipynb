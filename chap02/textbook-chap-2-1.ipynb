{
 "cells": [
  {
   "cell_type": "markdown",
   "metadata": {},
   "source": [
    "## 2. The Mathematical Building Blocks of Neural Networks"
   ]
  },
  {
   "cell_type": "markdown",
   "metadata": {},
   "source": [
    "### The MNIST Problem\n",
    "\n",
    "This is a concrete example of a neural network that uses Keras applied to the MNIST problem. The problem is to classify the image of a digit to one of 10 categories (0 through 9). "
   ]
  },
  {
   "cell_type": "code",
   "execution_count": 1,
   "metadata": {
    "ExecuteTime": {
     "end_time": "2020-05-25T08:27:37.972656Z",
     "start_time": "2020-05-25T08:27:35.544764Z"
    }
   },
   "outputs": [
    {
     "name": "stderr",
     "output_type": "stream",
     "text": [
      "Using TensorFlow backend.\n"
     ]
    }
   ],
   "source": [
    "from keras.datasets import mnist\n",
    "\n",
    "from keras import models\n",
    "from keras import layers\n",
    "from keras.utils import to_categorical"
   ]
  },
  {
   "cell_type": "code",
   "execution_count": 2,
   "metadata": {
    "ExecuteTime": {
     "end_time": "2020-05-25T08:27:38.317257Z",
     "start_time": "2020-05-25T08:27:37.975257Z"
    }
   },
   "outputs": [],
   "source": [
    "# Ingestion\n",
    "(train_images, train_labels), (test_images, test_labels) = mnist.load_data()"
   ]
  },
  {
   "cell_type": "code",
   "execution_count": 3,
   "metadata": {
    "ExecuteTime": {
     "end_time": "2020-05-25T08:27:38.324291Z",
     "start_time": "2020-05-25T08:27:38.319602Z"
    }
   },
   "outputs": [],
   "source": [
    "# For testing\n",
    "# print(train_images.shape)\n",
    "# print(train_labels.shape)\n",
    "# print(train_labels[:10])\n",
    "# print()\n",
    "# print(test_images.shape)\n",
    "# print(test_labels.shape)\n",
    "# print(test_labels[:10])"
   ]
  },
  {
   "cell_type": "markdown",
   "metadata": {},
   "source": [
    "The following are steps to build the neural network.\n",
    "\n",
    "The core building block of neural networks is the <b>layer</b>, a data-processing module that is a filter for data. Some data goes in and out comes data in a more useful form. Specificically, layers extract <b>representations</b> of the data fed into them, hopefully, representations that are more meaningful for the problem at hand. Most of deep learning consists of chaining together simple layers that will implement a form of <b>data distillation</b>. "
   ]
  },
  {
   "cell_type": "code",
   "execution_count": 4,
   "metadata": {
    "ExecuteTime": {
     "end_time": "2020-05-25T08:27:38.374462Z",
     "start_time": "2020-05-25T08:27:38.328680Z"
    }
   },
   "outputs": [],
   "source": [
    "# Model preprocessing - network architecture\n",
    "network = models.Sequential()\n",
    "network.add(layers.Dense(512, activation='relu', input_shape=(28 * 28,)))\n",
    "network.add(layers.Dense(10, activation='softmax'))"
   ]
  },
  {
   "cell_type": "markdown",
   "metadata": {},
   "source": [
    "This model contains two `Dense` layers, which are densely connected (fully connected). The last layer is a 10-way <b>softmax layer</b>, which means it will return an array of 10 probability scores summing to $1$.\n",
    "\n",
    "The next step is to pick a <b>loss function</b>, an <b>optimiser</b> and a <b>performance metric</b>. "
   ]
  },
  {
   "cell_type": "code",
   "execution_count": 5,
   "metadata": {
    "ExecuteTime": {
     "end_time": "2020-05-25T08:27:38.426979Z",
     "start_time": "2020-05-25T08:27:38.376625Z"
    }
   },
   "outputs": [],
   "source": [
    "# Model preprocessing - metrics\n",
    "network.compile(optimizer='rmsprop', loss='categorical_crossentropy', metrics=['accuracy'])"
   ]
  },
  {
   "cell_type": "code",
   "execution_count": 6,
   "metadata": {
    "ExecuteTime": {
     "end_time": "2020-05-25T08:27:38.616687Z",
     "start_time": "2020-05-25T08:27:38.430734Z"
    }
   },
   "outputs": [],
   "source": [
    "# Data preprocessing - reshaping\n",
    "train_images_flat = train_images.reshape((60000, 28 * 28))\n",
    "train_images_flat = train_images_flat.astype('float32') / 255\n",
    "test_images_flat = test_images.reshape((10000, 28 * 28))\n",
    "test_images_flat = test_images_flat.astype('float32') / 255\n",
    "\n",
    "# Data preprocessing - prepare the labels\n",
    "train_labels = to_categorical(train_labels)\n",
    "test_labels = to_categorical(test_labels)"
   ]
  },
  {
   "cell_type": "code",
   "execution_count": 7,
   "metadata": {
    "ExecuteTime": {
     "end_time": "2020-05-25T08:27:56.532771Z",
     "start_time": "2020-05-25T08:27:38.625827Z"
    }
   },
   "outputs": [
    {
     "name": "stdout",
     "output_type": "stream",
     "text": [
      "Epoch 1/5\n",
      "60000/60000 [==============================] - 4s 60us/step - loss: 0.2585 - accuracy: 0.9250\n",
      "Epoch 2/5\n",
      "60000/60000 [==============================] - 4s 67us/step - loss: 0.1047 - accuracy: 0.9690\n",
      "Epoch 3/5\n",
      "60000/60000 [==============================] - 3s 56us/step - loss: 0.0681 - accuracy: 0.9794\n",
      "Epoch 4/5\n",
      "60000/60000 [==============================] - 3s 54us/step - loss: 0.0491 - accuracy: 0.9850\n",
      "Epoch 5/5\n",
      "60000/60000 [==============================] - 3s 55us/step - loss: 0.0369 - accuracy: 0.9892\n"
     ]
    },
    {
     "data": {
      "text/plain": [
       "<keras.callbacks.callbacks.History at 0x138e808d0>"
      ]
     },
     "execution_count": 7,
     "metadata": {},
     "output_type": "execute_result"
    }
   ],
   "source": [
    "# Train model with data\n",
    "network.fit(train_images_flat, train_labels, epochs=5, batch_size=128)"
   ]
  },
  {
   "cell_type": "markdown",
   "metadata": {},
   "source": [
    "Here, two quantities are displayed during the training: the loss and the accuracy of the model. Naturally, a lower loss leads to a better accuracy as the model fits the training data better and better."
   ]
  },
  {
   "cell_type": "code",
   "execution_count": 8,
   "metadata": {
    "ExecuteTime": {
     "end_time": "2020-05-25T08:27:57.220350Z",
     "start_time": "2020-05-25T08:27:56.538941Z"
    }
   },
   "outputs": [
    {
     "name": "stdout",
     "output_type": "stream",
     "text": [
      "10000/10000 [==============================] - 1s 60us/step\n",
      "test_acc: 0.9782999753952026\n"
     ]
    }
   ],
   "source": [
    "# Model evaluation with accuracy\n",
    "test_loss, test_acc = network.evaluate(test_images_flat, test_labels)\n",
    "print('test_acc:', test_acc)"
   ]
  }
 ],
 "metadata": {
  "kernelspec": {
   "display_name": "Python 3",
   "language": "python",
   "name": "python3"
  },
  "language_info": {
   "codemirror_mode": {
    "name": "ipython",
    "version": 3
   },
   "file_extension": ".py",
   "mimetype": "text/x-python",
   "name": "python",
   "nbconvert_exporter": "python",
   "pygments_lexer": "ipython3",
   "version": "3.7.2"
  }
 },
 "nbformat": 4,
 "nbformat_minor": 4
}
