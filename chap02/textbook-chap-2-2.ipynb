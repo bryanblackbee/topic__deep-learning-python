{
 "cells": [
  {
   "cell_type": "markdown",
   "metadata": {},
   "source": [
    "## 2. The Mathematical Building Blocks of Neural Networks"
   ]
  },
  {
   "cell_type": "code",
   "execution_count": 1,
   "metadata": {
    "ExecuteTime": {
     "end_time": "2020-05-25T08:27:42.596134Z",
     "start_time": "2020-05-25T08:27:38.635022Z"
    }
   },
   "outputs": [
    {
     "name": "stderr",
     "output_type": "stream",
     "text": [
      "Using TensorFlow backend.\n"
     ]
    }
   ],
   "source": [
    "from keras.datasets import mnist\n",
    "\n",
    "import matplotlib.pyplot as plt\n",
    "\n",
    "import numpy as np"
   ]
  },
  {
   "cell_type": "markdown",
   "metadata": {},
   "source": [
    "### Introduction to Tensors\n",
    "\n",
    "All machine-learning systems use <b>tensors</b> as their basic data structure. It is a container for data, usually numbers. They are a generalisation of matrices for an arbitrary number of dimensions. The following are representations of 0D - 4D tensors in `numpy`."
   ]
  },
  {
   "cell_type": "code",
   "execution_count": 2,
   "metadata": {
    "ExecuteTime": {
     "end_time": "2020-05-25T08:27:42.616857Z",
     "start_time": "2020-05-25T08:27:42.600578Z"
    }
   },
   "outputs": [
    {
     "name": "stdout",
     "output_type": "stream",
     "text": [
      "13\n",
      "0\n"
     ]
    }
   ],
   "source": [
    "# Scalars (0D)\n",
    "x0 = np.array(13)\n",
    "print(x0)\n",
    "print(x0.ndim)"
   ]
  },
  {
   "cell_type": "code",
   "execution_count": 3,
   "metadata": {
    "ExecuteTime": {
     "end_time": "2020-05-25T08:27:42.643299Z",
     "start_time": "2020-05-25T08:27:42.628324Z"
    }
   },
   "outputs": [
    {
     "name": "stdout",
     "output_type": "stream",
     "text": [
      "[13 14 15 16]\n",
      "1\n"
     ]
    }
   ],
   "source": [
    "# Vectors (1D tensors)\n",
    "x1 = np.array([13, 14, 15, 16])\n",
    "print(x1)\n",
    "print(x1.ndim)"
   ]
  },
  {
   "cell_type": "code",
   "execution_count": 4,
   "metadata": {
    "ExecuteTime": {
     "end_time": "2020-05-25T08:27:42.722599Z",
     "start_time": "2020-05-25T08:27:42.655232Z"
    }
   },
   "outputs": [
    {
     "name": "stdout",
     "output_type": "stream",
     "text": [
      "[[13 14 15 16]\n",
      " [ 1  3  5  7]]\n",
      "2\n"
     ]
    }
   ],
   "source": [
    "# Matrices (2D tensors)\n",
    "x2 = np.array([[13, 14, 15, 16], \n",
    "               [1,3,5,7]])\n",
    "print(x2)\n",
    "print(x2.ndim)"
   ]
  },
  {
   "cell_type": "code",
   "execution_count": 5,
   "metadata": {
    "ExecuteTime": {
     "end_time": "2020-05-25T08:27:42.799205Z",
     "start_time": "2020-05-25T08:27:42.726293Z"
    }
   },
   "outputs": [
    {
     "name": "stdout",
     "output_type": "stream",
     "text": [
      "[[[ 1  2  3  4]\n",
      "  [ 1  2  3  4]]\n",
      "\n",
      " [[ 1  2  3  4]\n",
      "  [ 2  4  6  8]]\n",
      "\n",
      " [[ 1  2  3  4]\n",
      "  [ 1  4  8 16]]]\n",
      "3\n",
      "(3, 2, 4)\n"
     ]
    }
   ],
   "source": [
    "# 3D tensors (and higher-dimensional tensors)\n",
    "x3 = np.array([[[1, 2, 3, 4], \n",
    "                [1, 2, 3, 4]],\n",
    "               [[1, 2, 3, 4], \n",
    "                [2, 4, 6, 8]],\n",
    "               [[1, 2, 3, 4], \n",
    "                [1, 4, 8, 16]]])\n",
    "print(x3)\n",
    "print(x3.ndim)\n",
    "print(x3.shape)"
   ]
  },
  {
   "cell_type": "code",
   "execution_count": 6,
   "metadata": {
    "ExecuteTime": {
     "end_time": "2020-05-25T08:27:42.851105Z",
     "start_time": "2020-05-25T08:27:42.801883Z"
    }
   },
   "outputs": [
    {
     "name": "stdout",
     "output_type": "stream",
     "text": [
      "[[[[1.0e+00 2.0e+00 3.0e+00 4.0e+00]\n",
      "   [1.0e+00 2.0e+00 3.0e+00 4.0e+00]]\n",
      "\n",
      "  [[1.0e+00 2.0e+00 3.0e+00 4.0e+00]\n",
      "   [2.0e+00 4.0e+00 6.0e+00 8.0e+00]]\n",
      "\n",
      "  [[1.0e+00 2.0e+00 3.0e+00 4.0e+00]\n",
      "   [1.0e+00 4.0e+00 8.0e+00 1.6e+01]]]\n",
      "\n",
      "\n",
      " [[[1.0e+00 1.0e+01 1.0e+02 1.0e+03]\n",
      "   [1.0e+00 2.0e+00 3.0e+00 4.0e+00]]\n",
      "\n",
      "  [[1.0e+00 1.0e+01 1.0e+02 1.0e+03]\n",
      "   [2.0e+00 2.0e+01 2.0e+02 2.0e+03]]\n",
      "\n",
      "  [[1.0e+00 1.0e+01 1.0e+02 1.0e+03]\n",
      "   [1.0e+00 1.0e-01 1.0e-02 1.0e-03]]]]\n",
      "4\n",
      "(2, 3, 2, 4)\n"
     ]
    }
   ],
   "source": [
    "# 4D tensors (and higher-dimensional tensors)\n",
    "x4 = np.array([[[[1, 2, 3, 4], [1, 2, 3, 4]],\n",
    "                [[1, 2, 3, 4], [2, 4, 6, 8]],\n",
    "                [[1, 2, 3, 4], [1, 4, 8, 16]]],\n",
    "               [[[1, 10, 100, 1000], [1, 2, 3, 4]],\n",
    "                [[1, 10, 100, 1000], [2, 20, 200, 2000]],\n",
    "                [[1, 10, 100, 1000], [1, 0.1, 0.01, 0.001]]]])\n",
    "print(x4)\n",
    "print(x4.ndim)\n",
    "print(x4.shape)"
   ]
  },
  {
   "cell_type": "markdown",
   "metadata": {},
   "source": [
    "A tensor is defined by three key attributes:\n",
    "- <b>No. of axes</b> (rank) e.g. a matrix has 2 axes\n",
    "- <b>Shape</b> e.g. a tensor will use this to represent the no. of elements across each axis\n",
    "- <b>Datatype</b> e.g. the type of data (e.g. `int`, `float` etc.) that exists in the tensor\n"
   ]
  },
  {
   "cell_type": "markdown",
   "metadata": {
    "ExecuteTime": {
     "end_time": "2020-05-25T08:10:26.971767Z",
     "start_time": "2020-05-25T08:10:26.959148Z"
    }
   },
   "source": [
    "The training images are also represented as a tensor. It has 3 axes and has the `int` datatype. "
   ]
  },
  {
   "cell_type": "code",
   "execution_count": 7,
   "metadata": {
    "ExecuteTime": {
     "end_time": "2020-05-25T08:27:43.438983Z",
     "start_time": "2020-05-25T08:27:42.881388Z"
    }
   },
   "outputs": [],
   "source": [
    "# Ingestion\n",
    "(train_images, train_labels), (test_images, test_labels) = mnist.load_data()"
   ]
  },
  {
   "cell_type": "code",
   "execution_count": 8,
   "metadata": {
    "ExecuteTime": {
     "end_time": "2020-05-25T08:27:43.488569Z",
     "start_time": "2020-05-25T08:27:43.456335Z"
    }
   },
   "outputs": [
    {
     "name": "stdout",
     "output_type": "stream",
     "text": [
      "(60000, 28, 28)\n",
      "3\n",
      "uint8\n"
     ]
    }
   ],
   "source": [
    "# For testing\n",
    "print(train_images.shape)\n",
    "print(train_images.ndim)\n",
    "print(train_images.dtype)"
   ]
  },
  {
   "cell_type": "markdown",
   "metadata": {},
   "source": [
    "In general, the first axis of a tensor represents the <i>Sample axis</i>. Here is the image of the first 3 samples in the dataset:"
   ]
  },
  {
   "cell_type": "code",
   "execution_count": 9,
   "metadata": {
    "ExecuteTime": {
     "end_time": "2020-05-25T08:27:45.057696Z",
     "start_time": "2020-05-25T08:27:43.501358Z"
    }
   },
   "outputs": [
    {
     "data": {
      "image/png": "[encoded data removed]",
      "text/plain": [
       "<Figure size 432x288 with 1 Axes>"
      ]
     },
     "metadata": {
      "needs_background": "light"
     },
     "output_type": "display_data"
    },
    {
     "data": {
      "image/png": "[encoded data removed]",
      "text/plain": [
       "<Figure size 432x288 with 1 Axes>"
      ]
     },
     "metadata": {
      "needs_background": "light"
     },
     "output_type": "display_data"
    },
    {
     "data": {
      "image/png": "[encoded data removed]",
      "text/plain": [
       "<Figure size 432x288 with 1 Axes>"
      ]
     },
     "metadata": {
      "needs_background": "light"
     },
     "output_type": "display_data"
    }
   ],
   "source": [
    "# For testing\n",
    "for i in range(0,3):\n",
    "    digit = train_images[i].reshape(28,28)\n",
    "    plt.imshow(digit, cmap=plt.cm.binary)\n",
    "    plt.show()"
   ]
  },
  {
   "cell_type": "markdown",
   "metadata": {},
   "source": [
    "### Tensor Operations"
   ]
  },
  {
   "cell_type": "code",
   "execution_count": null,
   "metadata": {},
   "outputs": [],
   "source": []
  }
 ],
 "metadata": {
  "kernelspec": {
   "display_name": "Python 3",
   "language": "python",
   "name": "python3"
  },
  "language_info": {
   "codemirror_mode": {
    "name": "ipython",
    "version": 3
   },
   "file_extension": ".py",
   "mimetype": "text/x-python",
   "name": "python",
   "nbconvert_exporter": "python",
   "pygments_lexer": "ipython3",
   "version": "3.7.2"
  }
 },
 "nbformat": 4,
 "nbformat_minor": 4
}
