{
 "cells": [
  {
   "cell_type": "markdown",
   "metadata": {},
   "source": [
    "# 5. Deep Learning for Computer Vision\n",
    "\n",
    "## Using a Pretrained Convnet"
   ]
  },
  {
   "cell_type": "code",
   "execution_count": 1,
   "metadata": {
    "ExecuteTime": {
     "end_time": "2020-06-03T04:08:12.355551Z",
     "start_time": "2020-06-03T04:08:09.385955Z"
    }
   },
   "outputs": [],
   "source": [
    "import os\n",
    "\n",
    "from tensorflow import keras\n",
    "\n",
    "import pandas as pd\n",
    "import numpy as np\n",
    "import matplotlib.pyplot as plt"
   ]
  },
  {
   "cell_type": "markdown",
   "metadata": {},
   "source": [
    "A highly effective approach to deep learining on small image datasets is to use a <b>pretrained network</b>. A pretrained network is a saved network that was previously trained on a large dataset, typically on a large scale image classification task. If this original dataset is large enough and general enough then the spatial hierarchy of features learned by the pretrained network can effectively act as a generic mdoel of the visual world, and hence its features can prove useful for many different compute vision problems, even though these new problems may involve completely different classes than those of the original task.\n",
    "\n",
    "We will use VGG16 architecture, which is a simple and widely used convnet architecture for ImageNet. Although it is an older model, far from the current state of the art and somewhat heavier than many other recent mocels, its architecture is similar to what we have learnt before and is easy to understand.\n",
    "\n",
    "To use a pretrained network there are two ways: <b>feature extraction</b> and <b>fine-tuning</b>."
   ]
  },
  {
   "cell_type": "markdown",
   "metadata": {},
   "source": [
    "### Feature Extraction"
   ]
  },
  {
   "cell_type": "markdown",
   "metadata": {},
   "source": [
    "Feature extraction consists using the representations learned by a previous network to extract interesting features from new samples. These features are then run through a new classifier, which is trained from scratch.\n",
    "\n",
    "Convnets used for image classification has two parts: \n",
    "- A series of pooling and convolution layers (the <b>convolutional base</b>)\n",
    "- A densely connected classifier\n",
    "\n",
    "In the case of convnets, feature extraction consists of taking the convolutional base of a previously trained network, running the new data through it, and training a new classifer on top of the output.\n",
    "\n",
    "<img src=\"img5h.png\" width=\"575\"/>\n",
    "\n",
    "Generally, we reuse the convolutional base as the representations learnt by the convlutional base are likely to be more generic and therefore more reusable. The feature maps of a convnet are presence maps of generic concepts over a picture, which is likely to be useful regardless of the computer vision problem at hand. In contrast, the representations learned by the classifier will necessarily be specific to the set of classes on which the model was trained - they will only contain information about whether this or that class exists in the entire picture.\n",
    "\n",
    "For this example, we will use the convolutional base of the VGG16 network, trained on ImageNet to extract interesting features from cat and dog images, and then train a dog-vs-cat classifier on top of these features."
   ]
  },
  {
   "cell_type": "code",
   "execution_count": 2,
   "metadata": {
    "ExecuteTime": {
     "end_time": "2020-06-03T04:08:14.338390Z",
     "start_time": "2020-06-03T04:08:13.903980Z"
    }
   },
   "outputs": [],
   "source": [
    "# Instantiate Model\n",
    "conv_base = keras.applications.VGG16(\n",
    "    # specifies the weight checkpoint from which to initialise the model\n",
    "    weights='imagenet', \n",
    "    # refers to use/not use the densly connected classifier (which we are not)\n",
    "    include_top=False, \n",
    "    # shape of the image tensors to be fed into the network\n",
    "    input_shape=(150,150,3) )"
   ]
  },
  {
   "cell_type": "markdown",
   "metadata": {},
   "source": [
    "You can see that the architecture of the VGG16 convolutional base is similar to the convnets we have seen before:"
   ]
  },
  {
   "cell_type": "code",
   "execution_count": 3,
   "metadata": {
    "ExecuteTime": {
     "end_time": "2020-06-03T04:08:15.811602Z",
     "start_time": "2020-06-03T04:08:15.798409Z"
    },
    "scrolled": true
   },
   "outputs": [
    {
     "name": "stdout",
     "output_type": "stream",
     "text": [
      "Model: \"vgg16\"\n",
      "_________________________________________________________________\n",
      "Layer (type)                 Output Shape              Param #   \n",
      "=================================================================\n",
      "input_1 (InputLayer)         [(None, 150, 150, 3)]     0         \n",
      "_________________________________________________________________\n",
      "block1_conv1 (Conv2D)        (None, 150, 150, 64)      1792      \n",
      "_________________________________________________________________\n",
      "block1_conv2 (Conv2D)        (None, 150, 150, 64)      36928     \n",
      "_________________________________________________________________\n",
      "block1_pool (MaxPooling2D)   (None, 75, 75, 64)        0         \n",
      "_________________________________________________________________\n",
      "block2_conv1 (Conv2D)        (None, 75, 75, 128)       73856     \n",
      "_________________________________________________________________\n",
      "block2_conv2 (Conv2D)        (None, 75, 75, 128)       147584    \n",
      "_________________________________________________________________\n",
      "block2_pool (MaxPooling2D)   (None, 37, 37, 128)       0         \n",
      "_________________________________________________________________\n",
      "block3_conv1 (Conv2D)        (None, 37, 37, 256)       295168    \n",
      "_________________________________________________________________\n",
      "block3_conv2 (Conv2D)        (None, 37, 37, 256)       590080    \n",
      "_________________________________________________________________\n",
      "block3_conv3 (Conv2D)        (None, 37, 37, 256)       590080    \n",
      "_________________________________________________________________\n",
      "block3_pool (MaxPooling2D)   (None, 18, 18, 256)       0         \n",
      "_________________________________________________________________\n",
      "block4_conv1 (Conv2D)        (None, 18, 18, 512)       1180160   \n",
      "_________________________________________________________________\n",
      "block4_conv2 (Conv2D)        (None, 18, 18, 512)       2359808   \n",
      "_________________________________________________________________\n",
      "block4_conv3 (Conv2D)        (None, 18, 18, 512)       2359808   \n",
      "_________________________________________________________________\n",
      "block4_pool (MaxPooling2D)   (None, 9, 9, 512)         0         \n",
      "_________________________________________________________________\n",
      "block5_conv1 (Conv2D)        (None, 9, 9, 512)         2359808   \n",
      "_________________________________________________________________\n",
      "block5_conv2 (Conv2D)        (None, 9, 9, 512)         2359808   \n",
      "_________________________________________________________________\n",
      "block5_conv3 (Conv2D)        (None, 9, 9, 512)         2359808   \n",
      "_________________________________________________________________\n",
      "block5_pool (MaxPooling2D)   (None, 4, 4, 512)         0         \n",
      "=================================================================\n",
      "Total params: 14,714,688\n",
      "Trainable params: 14,714,688\n",
      "Non-trainable params: 0\n",
      "_________________________________________________________________\n"
     ]
    }
   ],
   "source": [
    "# For testing\n",
    "conv_base.summary()"
   ]
  },
  {
   "cell_type": "markdown",
   "metadata": {},
   "source": [
    "From here, there are two ways to proceed:\n",
    "\n",
    "1. Run the convolutional base over the dataset, recording the output to a Numpy array, then use this data to input to a standalone, densly connected classifier.\n",
    "\n",
    "2. Extend the `conv_base` by adding `Dense` layers on top, and running the whole thing end to end on the input data.\n",
    "\n",
    "<b>Method 1</b>"
   ]
  },
  {
   "cell_type": "code",
   "execution_count": 4,
   "metadata": {
    "ExecuteTime": {
     "end_time": "2020-06-03T04:08:19.155930Z",
     "start_time": "2020-06-03T04:08:18.927457Z"
    },
    "scrolled": true
   },
   "outputs": [
    {
     "name": "stdout",
     "output_type": "stream",
     "text": [
      "Found 2000 images belonging to 2 classes.\n",
      "Found 1000 images belonging to 2 classes.\n"
     ]
    }
   ],
   "source": [
    "# Preprocessing\n",
    "HOME_DIR = os.path.dirname(os.path.abspath('__FILE__'))\n",
    "WORKSPACE_DIR = os.path.join(HOME_DIR, 'workspace')\n",
    "\n",
    "train_dir = os.path.join(WORKSPACE_DIR, 'train')\n",
    "validation_dir = os.path.join(WORKSPACE_DIR, 'validation')\n",
    "test_dir = os.path.join(WORKSPACE_DIR, 'test')"
   ]
  },
  {
   "cell_type": "markdown",
   "metadata": {},
   "source": [
    "Here we load the datasets onto Numpy arrays."
   ]
  },
  {
   "cell_type": "code",
   "execution_count": 5,
   "metadata": {
    "ExecuteTime": {
     "end_time": "2020-06-03T04:08:21.091279Z",
     "start_time": "2020-06-03T04:08:21.082612Z"
    }
   },
   "outputs": [],
   "source": [
    "def extract_features(directory, sample_count):\n",
    "    \n",
    "    BATCH_SIZE = 20\n",
    "    TARGET_SIZE = (150, 150)\n",
    "    CLASS_MODE = 'binary'\n",
    "    features = np.zeros(shape=(sample_count, 4,4,512))\n",
    "    labels = np.zeros(shape=(sample_count))\n",
    "    \n",
    "    datagen = keras.preprocessing.image.ImageDataGenerator(rescale=1./255)\n",
    "    generator = datagen.flow_from_directory(directory, target_size=TARGET_SIZE,\n",
    "                                           batch_size=BATCH_SIZE, class_mode=CLASS_MODE)\n",
    "    i = 0\n",
    "    for inputs_batch, labels_batch in generator:\n",
    "        features_batch = conv_base.predict(inputs_batch)\n",
    "        features[i*BATCH_SIZE:(i+1)*BATCH_SIZE] = features_batch\n",
    "        labels[i*BATCH_SIZE:(i+1)*BATCH_SIZE] = labels_batch\n",
    "        i+=1\n",
    "        if i * BATCH_SIZE >= sample_count:\n",
    "            break\n",
    "    return features, labels"
   ]
  },
  {
   "cell_type": "code",
   "execution_count": 25,
   "metadata": {
    "ExecuteTime": {
     "end_time": "2020-06-03T05:03:08.099818Z",
     "start_time": "2020-06-03T04:49:12.496671Z"
    },
    "scrolled": true
   },
   "outputs": [
    {
     "name": "stdout",
     "output_type": "stream",
     "text": [
      "Found 2000 images belonging to 2 classes.\n"
     ]
    },
    {
     "name": "stderr",
     "output_type": "stream",
     "text": [
      "/Users/bryanlim/.pyenv/versions/3.7.2/envs/botanic/lib/python3.7/site-packages/PIL/TiffImagePlugin.py:770: UserWarning: Possibly corrupt EXIF data.  Expecting to read 32 bytes but only got 0. Skipping tag 270\n",
      "  \" Skipping tag %s\" % (size, len(data), tag)\n",
      "/Users/bryanlim/.pyenv/versions/3.7.2/envs/botanic/lib/python3.7/site-packages/PIL/TiffImagePlugin.py:770: UserWarning: Possibly corrupt EXIF data.  Expecting to read 5 bytes but only got 0. Skipping tag 271\n",
      "  \" Skipping tag %s\" % (size, len(data), tag)\n",
      "/Users/bryanlim/.pyenv/versions/3.7.2/envs/botanic/lib/python3.7/site-packages/PIL/TiffImagePlugin.py:770: UserWarning: Possibly corrupt EXIF data.  Expecting to read 8 bytes but only got 0. Skipping tag 272\n",
      "  \" Skipping tag %s\" % (size, len(data), tag)\n",
      "/Users/bryanlim/.pyenv/versions/3.7.2/envs/botanic/lib/python3.7/site-packages/PIL/TiffImagePlugin.py:770: UserWarning: Possibly corrupt EXIF data.  Expecting to read 8 bytes but only got 0. Skipping tag 282\n",
      "  \" Skipping tag %s\" % (size, len(data), tag)\n",
      "/Users/bryanlim/.pyenv/versions/3.7.2/envs/botanic/lib/python3.7/site-packages/PIL/TiffImagePlugin.py:770: UserWarning: Possibly corrupt EXIF data.  Expecting to read 8 bytes but only got 0. Skipping tag 283\n",
      "  \" Skipping tag %s\" % (size, len(data), tag)\n",
      "/Users/bryanlim/.pyenv/versions/3.7.2/envs/botanic/lib/python3.7/site-packages/PIL/TiffImagePlugin.py:770: UserWarning: Possibly corrupt EXIF data.  Expecting to read 20 bytes but only got 0. Skipping tag 306\n",
      "  \" Skipping tag %s\" % (size, len(data), tag)\n",
      "/Users/bryanlim/.pyenv/versions/3.7.2/envs/botanic/lib/python3.7/site-packages/PIL/TiffImagePlugin.py:770: UserWarning: Possibly corrupt EXIF data.  Expecting to read 48 bytes but only got 0. Skipping tag 532\n",
      "  \" Skipping tag %s\" % (size, len(data), tag)\n",
      "/Users/bryanlim/.pyenv/versions/3.7.2/envs/botanic/lib/python3.7/site-packages/PIL/TiffImagePlugin.py:788: UserWarning: Corrupt EXIF data.  Expecting to read 2 bytes but only got 0. \n",
      "  warnings.warn(str(msg))\n"
     ]
    },
    {
     "name": "stdout",
     "output_type": "stream",
     "text": [
      "Found 2000 images belonging to 2 classes.\n",
      "Found 2000 images belonging to 2 classes.\n"
     ]
    }
   ],
   "source": [
    "import warnings\n",
    "warnings.filterwarnings(\"ignore\")\n",
    "\n",
    "train_features, train_labels = extract_features(train_dir, 2000)\n",
    "train_features = np.reshape(train_features, (2000, 4*4*512))\n",
    "\n",
    "val_features, val_labels = extract_features(train_dir, 1000)\n",
    "val_features = np.reshape(val_features, (1000, 4*4*512))"
   ]
  },
  {
   "cell_type": "markdown",
   "metadata": {},
   "source": [
    "Now that the data images have been transformed, we can use it to train the densely connected layer model directly."
   ]
  },
  {
   "cell_type": "code",
   "execution_count": 27,
   "metadata": {
    "ExecuteTime": {
     "end_time": "2020-06-03T05:03:08.277245Z",
     "start_time": "2020-06-03T05:03:08.125275Z"
    }
   },
   "outputs": [
    {
     "name": "stdout",
     "output_type": "stream",
     "text": [
      "Model: \"sequential_4\"\n",
      "_________________________________________________________________\n",
      "Layer (type)                 Output Shape              Param #   \n",
      "=================================================================\n",
      "dense_8 (Dense)              (None, 256)               2097408   \n",
      "_________________________________________________________________\n",
      "dropout_4 (Dropout)          (None, 256)               0         \n",
      "_________________________________________________________________\n",
      "dense_9 (Dense)              (None, 1)                 257       \n",
      "=================================================================\n",
      "Total params: 2,097,665\n",
      "Trainable params: 2,097,665\n",
      "Non-trainable params: 0\n",
      "_________________________________________________________________\n",
      "None\n"
     ]
    }
   ],
   "source": [
    "model21a = keras.models.Sequential()\n",
    "model21a.add(keras.layers.Dense(256, activation='relu', input_dim=4*4*512))\n",
    "model21a.add(keras.layers.Dropout(0.5))\n",
    "model21a.add(keras.layers.Dense(1, activation='sigmoid'))\n",
    "print(model21a.summary())"
   ]
  },
  {
   "cell_type": "code",
   "execution_count": 28,
   "metadata": {
    "ExecuteTime": {
     "end_time": "2020-06-03T05:07:40.376144Z",
     "start_time": "2020-06-03T05:03:08.283034Z"
    },
    "scrolled": true
   },
   "outputs": [
    {
     "name": "stdout",
     "output_type": "stream",
     "text": [
      "Epoch 1/50\n",
      "100/100 [==============================] - 4s 42ms/step - loss: 0.6057 - accuracy: 0.6700 - val_loss: 0.4494 - val_accuracy: 0.8190\n",
      "Epoch 2/50\n",
      "100/100 [==============================] - 4s 41ms/step - loss: 0.4408 - accuracy: 0.8095 - val_loss: 0.3597 - val_accuracy: 0.8680\n",
      "Epoch 3/50\n",
      "100/100 [==============================] - 4s 40ms/step - loss: 0.3634 - accuracy: 0.8485 - val_loss: 0.3168 - val_accuracy: 0.8820\n",
      "Epoch 4/50\n",
      "100/100 [==============================] - 4s 44ms/step - loss: 0.3215 - accuracy: 0.8685 - val_loss: 0.2811 - val_accuracy: 0.9000\n",
      "Epoch 5/50\n",
      "100/100 [==============================] - 4s 44ms/step - loss: 0.3065 - accuracy: 0.8765 - val_loss: 0.2634 - val_accuracy: 0.9030\n",
      "Epoch 6/50\n",
      "100/100 [==============================] - 5s 47ms/step - loss: 0.2753 - accuracy: 0.9005 - val_loss: 0.2454 - val_accuracy: 0.9050\n",
      "Epoch 7/50\n",
      "100/100 [==============================] - 5s 47ms/step - loss: 0.2554 - accuracy: 0.8945 - val_loss: 0.2344 - val_accuracy: 0.9110\n",
      "Epoch 8/50\n",
      "100/100 [==============================] - 6s 56ms/step - loss: 0.2358 - accuracy: 0.9065 - val_loss: 0.2125 - val_accuracy: 0.9350\n",
      "Epoch 9/50\n",
      "100/100 [==============================] - 7s 72ms/step - loss: 0.2258 - accuracy: 0.9170 - val_loss: 0.1993 - val_accuracy: 0.9330\n",
      "Epoch 10/50\n",
      "100/100 [==============================] - 6s 57ms/step - loss: 0.2159 - accuracy: 0.9170 - val_loss: 0.1923 - val_accuracy: 0.9440\n",
      "Epoch 11/50\n",
      "100/100 [==============================] - 7s 73ms/step - loss: 0.2057 - accuracy: 0.9205 - val_loss: 0.2029 - val_accuracy: 0.9290\n",
      "Epoch 12/50\n",
      "100/100 [==============================] - 7s 68ms/step - loss: 0.1985 - accuracy: 0.9275 - val_loss: 0.1751 - val_accuracy: 0.9380\n",
      "Epoch 13/50\n",
      "100/100 [==============================] - 5s 54ms/step - loss: 0.1919 - accuracy: 0.9305 - val_loss: 0.1650 - val_accuracy: 0.9490\n",
      "Epoch 14/50\n",
      "100/100 [==============================] - 7s 70ms/step - loss: 0.1887 - accuracy: 0.9345 - val_loss: 0.1618 - val_accuracy: 0.9440\n",
      "Epoch 15/50\n",
      "100/100 [==============================] - 5s 52ms/step - loss: 0.1734 - accuracy: 0.9345 - val_loss: 0.1504 - val_accuracy: 0.9520\n",
      "Epoch 16/50\n",
      "100/100 [==============================] - 7s 71ms/step - loss: 0.1674 - accuracy: 0.9385 - val_loss: 0.1443 - val_accuracy: 0.9560\n",
      "Epoch 17/50\n",
      "100/100 [==============================] - 5s 50ms/step - loss: 0.1588 - accuracy: 0.9490 - val_loss: 0.1398 - val_accuracy: 0.9550\n",
      "Epoch 18/50\n",
      "100/100 [==============================] - 5s 52ms/step - loss: 0.1513 - accuracy: 0.9535 - val_loss: 0.1374 - val_accuracy: 0.9640\n",
      "Epoch 19/50\n",
      "100/100 [==============================] - 5s 50ms/step - loss: 0.1444 - accuracy: 0.9480 - val_loss: 0.1300 - val_accuracy: 0.9580\n",
      "Epoch 20/50\n",
      "100/100 [==============================] - 5s 50ms/step - loss: 0.1440 - accuracy: 0.9480 - val_loss: 0.1230 - val_accuracy: 0.9630\n",
      "Epoch 21/50\n",
      "100/100 [==============================] - 5s 51ms/step - loss: 0.1310 - accuracy: 0.9565 - val_loss: 0.1191 - val_accuracy: 0.9690\n",
      "Epoch 22/50\n",
      "100/100 [==============================] - 5s 54ms/step - loss: 0.1298 - accuracy: 0.9605 - val_loss: 0.1146 - val_accuracy: 0.9640\n",
      "Epoch 23/50\n",
      "100/100 [==============================] - 5s 49ms/step - loss: 0.1253 - accuracy: 0.9585 - val_loss: 0.1089 - val_accuracy: 0.9680\n",
      "Epoch 24/50\n",
      "100/100 [==============================] - 5s 50ms/step - loss: 0.1214 - accuracy: 0.9585 - val_loss: 0.1048 - val_accuracy: 0.9680\n",
      "Epoch 25/50\n",
      "100/100 [==============================] - 5s 55ms/step - loss: 0.1170 - accuracy: 0.9645 - val_loss: 0.1010 - val_accuracy: 0.9690\n",
      "Epoch 26/50\n",
      "100/100 [==============================] - 5s 48ms/step - loss: 0.1144 - accuracy: 0.9615 - val_loss: 0.0992 - val_accuracy: 0.9690\n",
      "Epoch 27/50\n",
      "100/100 [==============================] - 5s 46ms/step - loss: 0.1094 - accuracy: 0.9685 - val_loss: 0.0940 - val_accuracy: 0.9690\n",
      "Epoch 28/50\n",
      "100/100 [==============================] - 5s 47ms/step - loss: 0.1037 - accuracy: 0.9730 - val_loss: 0.0917 - val_accuracy: 0.9790\n",
      "Epoch 29/50\n",
      "100/100 [==============================] - 5s 46ms/step - loss: 0.1029 - accuracy: 0.9700 - val_loss: 0.0884 - val_accuracy: 0.9730\n",
      "Epoch 30/50\n",
      "100/100 [==============================] - 5s 48ms/step - loss: 0.0939 - accuracy: 0.9710 - val_loss: 0.0844 - val_accuracy: 0.9810\n",
      "Epoch 31/50\n",
      "100/100 [==============================] - 5s 45ms/step - loss: 0.0937 - accuracy: 0.9700 - val_loss: 0.0822 - val_accuracy: 0.9800\n",
      "Epoch 32/50\n",
      "100/100 [==============================] - 5s 45ms/step - loss: 0.0919 - accuracy: 0.9760 - val_loss: 0.0773 - val_accuracy: 0.9830\n",
      "Epoch 33/50\n",
      "100/100 [==============================] - 4s 42ms/step - loss: 0.0841 - accuracy: 0.9730 - val_loss: 0.0750 - val_accuracy: 0.9810\n",
      "Epoch 34/50\n",
      "100/100 [==============================] - 4s 42ms/step - loss: 0.0840 - accuracy: 0.9765 - val_loss: 0.0713 - val_accuracy: 0.9840\n",
      "Epoch 35/50\n",
      "100/100 [==============================] - 4s 44ms/step - loss: 0.0798 - accuracy: 0.9760 - val_loss: 0.0682 - val_accuracy: 0.9850\n",
      "Epoch 36/50\n",
      "100/100 [==============================] - 5s 48ms/step - loss: 0.0785 - accuracy: 0.9780 - val_loss: 0.0658 - val_accuracy: 0.9850\n",
      "Epoch 37/50\n",
      "100/100 [==============================] - 5s 45ms/step - loss: 0.0777 - accuracy: 0.9780 - val_loss: 0.0636 - val_accuracy: 0.9870\n",
      "Epoch 38/50\n",
      "100/100 [==============================] - 5s 46ms/step - loss: 0.0689 - accuracy: 0.9825 - val_loss: 0.0608 - val_accuracy: 0.9860\n",
      "Epoch 39/50\n",
      "100/100 [==============================] - 5s 50ms/step - loss: 0.0691 - accuracy: 0.9825 - val_loss: 0.0584 - val_accuracy: 0.9870\n",
      "Epoch 40/50\n",
      "100/100 [==============================] - 5s 48ms/step - loss: 0.0662 - accuracy: 0.9835 - val_loss: 0.0614 - val_accuracy: 0.9880\n",
      "Epoch 41/50\n",
      "100/100 [==============================] - 5s 46ms/step - loss: 0.0633 - accuracy: 0.9860 - val_loss: 0.0540 - val_accuracy: 0.9890\n",
      "Epoch 42/50\n",
      "100/100 [==============================] - 5s 47ms/step - loss: 0.0628 - accuracy: 0.9855 - val_loss: 0.0516 - val_accuracy: 0.9910\n",
      "Epoch 43/50\n",
      "100/100 [==============================] - 5s 50ms/step - loss: 0.0571 - accuracy: 0.9890 - val_loss: 0.0511 - val_accuracy: 0.9900\n",
      "Epoch 44/50\n",
      "100/100 [==============================] - 6s 60ms/step - loss: 0.0567 - accuracy: 0.9880 - val_loss: 0.0475 - val_accuracy: 0.9930\n",
      "Epoch 45/50\n",
      "100/100 [==============================] - 7s 75ms/step - loss: 0.0503 - accuracy: 0.9925 - val_loss: 0.0462 - val_accuracy: 0.9920\n",
      "Epoch 46/50\n",
      "100/100 [==============================] - 5s 52ms/step - loss: 0.0542 - accuracy: 0.9875 - val_loss: 0.0463 - val_accuracy: 0.9910\n",
      "Epoch 47/50\n",
      "100/100 [==============================] - 8s 79ms/step - loss: 0.0473 - accuracy: 0.9930 - val_loss: 0.0440 - val_accuracy: 0.9910\n",
      "Epoch 48/50\n",
      "100/100 [==============================] - 8s 78ms/step - loss: 0.0477 - accuracy: 0.9905 - val_loss: 0.0397 - val_accuracy: 0.9940\n",
      "Epoch 49/50\n",
      "100/100 [==============================] - 8s 81ms/step - loss: 0.0470 - accuracy: 0.9925 - val_loss: 0.0384 - val_accuracy: 0.9940\n",
      "Epoch 50/50\n",
      "100/100 [==============================] - 9s 85ms/step - loss: 0.0432 - accuracy: 0.9940 - val_loss: 0.0366 - val_accuracy: 0.9940\n"
     ]
    }
   ],
   "source": [
    "model21a.compile(optimizer=keras.optimizers.RMSprop(learning_rate=2e-5), \n",
    "              loss='binary_crossentropy', metrics=['accuracy'])\n",
    "history21a = model21a.fit(train_features, train_labels, epochs=50, batch_size=20,\n",
    "         validation_data=(val_features, val_labels), verbose=0)"
   ]
  },
  {
   "cell_type": "code",
   "execution_count": 35,
   "metadata": {
    "ExecuteTime": {
     "end_time": "2020-06-03T07:18:47.444712Z",
     "start_time": "2020-06-03T07:18:45.817154Z"
    },
    "scrolled": false
   },
   "outputs": [
    {
     "data": {
      "text/html": [
       "<div>\n",
       "<style scoped>\n",
       "    .dataframe tbody tr th:only-of-type {\n",
       "        vertical-align: middle;\n",
       "    }\n",
       "\n",
       "    .dataframe tbody tr th {\n",
       "        vertical-align: top;\n",
       "    }\n",
       "\n",
       "    .dataframe thead th {\n",
       "        text-align: right;\n",
       "    }\n",
       "</style>\n",
       "<table border=\"1\" class=\"dataframe\">\n",
       "  <thead>\n",
       "    <tr style=\"text-align: right;\">\n",
       "      <th></th>\n",
       "      <th>loss</th>\n",
       "      <th>accuracy</th>\n",
       "      <th>val_loss</th>\n",
       "      <th>val_accuracy</th>\n",
       "      <th>epoch</th>\n",
       "    </tr>\n",
       "  </thead>\n",
       "  <tbody>\n",
       "    <tr>\n",
       "      <th>45</th>\n",
       "      <td>0.054232</td>\n",
       "      <td>0.9875</td>\n",
       "      <td>0.046295</td>\n",
       "      <td>0.991</td>\n",
       "      <td>46</td>\n",
       "    </tr>\n",
       "    <tr>\n",
       "      <th>46</th>\n",
       "      <td>0.047314</td>\n",
       "      <td>0.9930</td>\n",
       "      <td>0.043953</td>\n",
       "      <td>0.991</td>\n",
       "      <td>47</td>\n",
       "    </tr>\n",
       "    <tr>\n",
       "      <th>47</th>\n",
       "      <td>0.047697</td>\n",
       "      <td>0.9905</td>\n",
       "      <td>0.039666</td>\n",
       "      <td>0.994</td>\n",
       "      <td>48</td>\n",
       "    </tr>\n",
       "    <tr>\n",
       "      <th>48</th>\n",
       "      <td>0.047004</td>\n",
       "      <td>0.9925</td>\n",
       "      <td>0.038363</td>\n",
       "      <td>0.994</td>\n",
       "      <td>49</td>\n",
       "    </tr>\n",
       "    <tr>\n",
       "      <th>49</th>\n",
       "      <td>0.043207</td>\n",
       "      <td>0.9940</td>\n",
       "      <td>0.036615</td>\n",
       "      <td>0.994</td>\n",
       "      <td>50</td>\n",
       "    </tr>\n",
       "  </tbody>\n",
       "</table>\n",
       "</div>"
      ],
      "text/plain": [
       "        loss  accuracy  val_loss  val_accuracy  epoch\n",
       "45  0.054232    0.9875  0.046295         0.991     46\n",
       "46  0.047314    0.9930  0.043953         0.991     47\n",
       "47  0.047697    0.9905  0.039666         0.994     48\n",
       "48  0.047004    0.9925  0.038363         0.994     49\n",
       "49  0.043207    0.9940  0.036615         0.994     50"
      ]
     },
     "metadata": {},
     "output_type": "display_data"
    },
    {
     "data": {
      "image/png": "[encoded data removed]",
      "text/plain": [
       "<Figure size 1224x720 with 2 Axes>"
      ]
     },
     "metadata": {
      "needs_background": "light"
     },
     "output_type": "display_data"
    }
   ],
   "source": [
    "import warnings\n",
    "warnings.filterwarnings(\"ignore\")\n",
    "\n",
    "metrics_df = pd.DataFrame(history21a.history)\n",
    "metrics_df['epoch'] = metrics_df.index+1\n",
    "display(metrics_df.tail())\n",
    "\n",
    "fig = plt.figure(figsize=(17,10))\n",
    "ax1, ax2 = fig.add_subplot(2,1,1), fig.add_subplot(2,1,2)\n",
    "metrics_df.plot(kind='scatter', x='epoch', y='loss', ax=ax1, label='train', color='blue')\n",
    "metrics_df.plot(kind='line', x='epoch', y='val_loss', ax=ax1, label='validation', color='red',)\n",
    "ax1.set_ylabel(\"Loss\")\n",
    "ax1.grid('GAINSBORO')\n",
    "ax1.legend([])\n",
    "ax1.set_ylim(0,1.1)\n",
    "ax1.set_xticks(range(0,51))\n",
    "\n",
    "metrics_df.plot(kind='scatter', x='epoch', y='accuracy', ax=ax2, label='train', color='blue')\n",
    "metrics_df.plot(kind='line', x='epoch', y='val_accuracy', ax=ax2, label='validation', color='red',)\n",
    "ax2.set_ylabel(\"Accuracy\")\n",
    "ax2.grid('GAINSBORO')\n",
    "ax2.set_xticks(range(0,51))\n",
    "ax2.legend([])\n",
    "ax2.set_ylim(0,1.1)\n",
    "plt.show()"
   ]
  },
  {
   "cell_type": "markdown",
   "metadata": {},
   "source": [
    "The following is method 2. This allows us to use data augmentation during training. Extend the `conv_base` and running it end to end on the inputs.\n",
    "\n",
    "<p style=\"color:maroon\"><b>NOTE: This cannot be done without a GPU. Refer to Colab notebook for implementation details.</b></p>"
   ]
  },
  {
   "cell_type": "markdown",
   "metadata": {},
   "source": [
    "### Fine-Tuning\n",
    "\n",
    "Another widely used technique for model reuse, complementary to feature extraction is <b>fine-tuning</b>. Fine-tuning consists of freezing the top layers of a frozen model base used for feature extraction, and jointly training both the newly added part of the model and these top layers.\n",
    "\n",
    "This is called fine tuning because it slightly adjusts the more abstract representations of the model being reused, in order to make them more applicable to the problem at hand.\n",
    "\n",
    "<img src=\"img5i.png\" width=\"450\"/>"
   ]
  },
  {
   "cell_type": "markdown",
   "metadata": {},
   "source": [
    "<p style=\"color:maroon\"><b>NOTE: This cannot be done without a GPU. Refer to Colab notebook for implementation details.</b></p>"
   ]
  },
  {
   "cell_type": "markdown",
   "metadata": {},
   "source": [
    "Wrapping up, there are some key takeaways:\n",
    "\n",
    "1. Convnets are the best type of ML models for computer vision problems. It is possible to train one from scratech even on a small dataset.\n",
    "2. On a small dataset, overfitting will be the main issue. Data Augmentation is a powerful way to fight overfitting.\n",
    "3. We can use a pretrained convnet on a new dataset. We can use this for both feature extraction and fine-tuning. Feature extraction is to learn spatial hierarchy before performing the task, while fine-tuning is to train the last layers in the convolutional base before doing the task in the Dense layer."
   ]
  }
 ],
 "metadata": {
  "kernelspec": {
   "display_name": "Python 3",
   "language": "python",
   "name": "python3"
  },
  "language_info": {
   "codemirror_mode": {
    "name": "ipython",
    "version": 3
   },
   "file_extension": ".py",
   "mimetype": "text/x-python",
   "name": "python",
   "nbconvert_exporter": "python",
   "pygments_lexer": "ipython3",
   "version": "3.7.2"
  }
 },
 "nbformat": 4,
 "nbformat_minor": 4
}
