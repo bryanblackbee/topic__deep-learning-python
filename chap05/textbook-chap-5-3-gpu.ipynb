{
 "cells": [
  {
   "cell_type": "code",
   "execution_count": 71,
   "metadata": {
    "colab": {
     "base_uri": "https://localhost:8080/",
     "height": 34
    },
    "colab_type": "code",
    "id": "NdRp32s1L1eN",
    "outputId": "10e71481-5402-4d10-c72b-dcf648474b24"
   },
   "outputs": [
    {
     "name": "stdout",
     "output_type": "stream",
     "text": [
      "Found GPU at: /device:GPU:0\n"
     ]
    }
   ],
   "source": [
    "import os\n",
    "import warnings\n",
    "warnings.filterwarnings(\"ignore\")\n",
    "\n",
    "import tensorflow as tf\n",
    "\n",
    "import pandas as pd\n",
    "import numpy as np\n",
    "import matplotlib.pyplot as plt\n",
    "\n",
    "%tensorflow_version 2.x\n",
    "device_name = tf.test.gpu_device_name()\n",
    "if device_name != '/device:GPU:0':\n",
    "    raise SystemError('GPU device not found')\n",
    "print('Found GPU at: {}'.format(device_name))"
   ]
  },
  {
   "cell_type": "code",
   "execution_count": 0,
   "metadata": {
    "colab": {},
    "colab_type": "code",
    "id": "nG62m7nwL87P"
   },
   "outputs": [],
   "source": [
    "# Instantiate Convolutional Base\n",
    "conv_base = tf.keras.applications.VGG16(\n",
    "    # specifies the weight checkpoint from which to initialise the model\n",
    "    weights='imagenet', \n",
    "    # refers to use/not use the densly connected classifier (which we are not)\n",
    "    include_top=False, \n",
    "    # shape of the image tensors to be fed into the network\n",
    "    input_shape=(150,150,3) )"
   ]
  },
  {
   "cell_type": "code",
   "execution_count": 75,
   "metadata": {
    "colab": {
     "base_uri": "https://localhost:8080/",
     "height": 275
    },
    "colab_type": "code",
    "id": "cGAQB5bUL_dg",
    "outputId": "32a4d0c4-44ee-47df-9755-e271b8ef3f10"
   },
   "outputs": [
    {
     "name": "stdout",
     "output_type": "stream",
     "text": [
      "['77.jpg', '1187.jpg', '6574.jpg', '10320.jpg', '943.jpg', '2048.jpg', '7286.jpg', '7523.jpg', '9684.jpg', '3948.jpg']\n",
      "1000\n",
      "['77.jpg', '1187.jpg', '6574.jpg', '10320.jpg', '943.jpg', '2048.jpg', '7286.jpg', '7523.jpg', '9684.jpg', '3948.jpg']\n",
      "1000\n",
      "\n",
      "['1741.jpg', '6984.jpg', '9094.jpg', '9693.jpg', '5094.jpg', '4836.jpg', '8822.jpg', '5902.jpg', '565.jpg', '8759.jpg']\n",
      "500\n",
      "['1741.jpg', '6984.jpg', '9094.jpg', '9693.jpg', '5094.jpg', '4836.jpg', '8822.jpg', '5902.jpg', '565.jpg', '8759.jpg']\n",
      "500\n",
      "\n",
      "['3542.jpg', '6823.jpg', '2304.jpg', '3386.jpg', '6370.jpg', '10680.jpg', '7863.jpg', '6412.jpg', '8417.jpg', '7254.jpg']\n",
      "500\n",
      "['3542.jpg', '6823.jpg', '2304.jpg', '3386.jpg', '6370.jpg', '10680.jpg', '7863.jpg', '6412.jpg', '8417.jpg', '7254.jpg']\n",
      "500\n"
     ]
    }
   ],
   "source": [
    "# Listing of directories. Ensure images are loaded in the mentioned directories.\n",
    "HOME_DIR = os.path.dirname(os.path.abspath('__FILE__'))\n",
    "WORKSPACE_DIR = os.path.join(HOME_DIR, 'sample_data', 'workspace')\n",
    "\n",
    "train_dir = os.path.join(WORKSPACE_DIR, 'train')\n",
    "validation_dir = os.path.join(WORKSPACE_DIR, 'validation')\n",
    "test_dir = os.path.join(WORKSPACE_DIR, 'test')\n",
    "\n",
    "# TESTING: Validate the images in train & validation folder\n",
    "catsdir = os.listdir(os.path.join(HOME_DIR, train_dir, 'cat'))\n",
    "print(catsdir[:10])\n",
    "print(len(catsdir))\n",
    "dogssdir = os.listdir(os.path.join(HOME_DIR, train_dir, 'dog'))\n",
    "print(dogssdir[:10])\n",
    "print(len(dogssdir))\n",
    "print()\n",
    "\n",
    "catsdir2 = os.listdir(os.path.join(HOME_DIR, validation_dir, 'cat'))\n",
    "print(catsdir2[:10])\n",
    "print(len(catsdir2))\n",
    "dogssdir2 = os.listdir(os.path.join(HOME_DIR, validation_dir, 'dog'))\n",
    "print(dogssdir2[:10])\n",
    "print(len(dogssdir2))\n",
    "print()\n",
    "\n",
    "catsdir3 = os.listdir(os.path.join(HOME_DIR, test_dir, 'cat'))\n",
    "print(catsdir3[:10])\n",
    "print(len(catsdir3))\n",
    "dogssdir3 = os.listdir(os.path.join(HOME_DIR, test_dir, 'dog'))\n",
    "print(dogssdir3[:10])\n",
    "print(len(dogssdir3))"
   ]
  },
  {
   "cell_type": "code",
   "execution_count": 76,
   "metadata": {
    "colab": {
     "base_uri": "https://localhost:8080/",
     "height": 51
    },
    "colab_type": "code",
    "id": "PxT0rmZ0L_n_",
    "outputId": "49a5f34b-3a2e-4c94-cb6e-8604badeea8b"
   },
   "outputs": [
    {
     "name": "stdout",
     "output_type": "stream",
     "text": [
      "Found 2000 images belonging to 2 classes.\n",
      "Found 1000 images belonging to 2 classes.\n"
     ]
    }
   ],
   "source": [
    "# MODEL 1: Feature Extraction\n",
    "#############################\n",
    "\n",
    "# Transform images to numpy arrays using the convolutional base\n",
    "def extract_features(directory, sample_count):\n",
    "    \n",
    "    BATCH_SIZE = 20\n",
    "    TARGET_SIZE = (150, 150)\n",
    "    CLASS_MODE = 'binary'\n",
    "    features = np.zeros(shape=(sample_count, 4,4,512))\n",
    "    labels = np.zeros(shape=(sample_count))\n",
    "    \n",
    "    datagen = tf.keras.preprocessing.image.ImageDataGenerator(rescale=1./255)\n",
    "    generator = datagen.flow_from_directory(directory, target_size=TARGET_SIZE,\n",
    "                                           batch_size=BATCH_SIZE, class_mode=CLASS_MODE)\n",
    "    i = 0\n",
    "    for inputs_batch, labels_batch in generator:\n",
    "        features_batch = conv_base.predict(inputs_batch)\n",
    "        features[i*BATCH_SIZE:(i+1)*BATCH_SIZE] = features_batch\n",
    "        labels[i*BATCH_SIZE:(i+1)*BATCH_SIZE] = labels_batch\n",
    "        i+=1\n",
    "        if i * BATCH_SIZE >= sample_count:\n",
    "            break\n",
    "    return features, labels\n",
    "\n",
    "\n",
    "train_features, train_labels = extract_features(train_dir, 2000)\n",
    "train_features = np.reshape(train_features, (2000, 4*4*512))\n",
    "\n",
    "val_features, val_labels = extract_features(validation_dir, 1000)\n",
    "val_features = np.reshape(val_features, (1000, 4*4*512))"
   ]
  },
  {
   "cell_type": "code",
   "execution_count": 77,
   "metadata": {
    "colab": {
     "base_uri": "https://localhost:8080/",
     "height": 272
    },
    "colab_type": "code",
    "id": "5wKkET5JWBib",
    "outputId": "5a5168ac-f7ef-44b6-b628-e4b359595157"
   },
   "outputs": [
    {
     "name": "stdout",
     "output_type": "stream",
     "text": [
      "Model: \"sequential_5\"\n",
      "_________________________________________________________________\n",
      "Layer (type)                 Output Shape              Param #   \n",
      "=================================================================\n",
      "dense_10 (Dense)             (None, 256)               2097408   \n",
      "_________________________________________________________________\n",
      "dropout_1 (Dropout)          (None, 256)               0         \n",
      "_________________________________________________________________\n",
      "dense_11 (Dense)             (None, 1)                 257       \n",
      "=================================================================\n",
      "Total params: 2,097,665\n",
      "Trainable params: 2,097,665\n",
      "Non-trainable params: 0\n",
      "_________________________________________________________________\n",
      "None\n"
     ]
    }
   ],
   "source": [
    "# MODEL 1: Instantiate Model\n",
    "#########################################\n",
    "model2a = tf.keras.models.Sequential()\n",
    "model2a.add(tf.keras.layers.Dense(256, activation='relu', input_dim=4*4*512))\n",
    "model2a.add(tf.keras.layers.Dropout(0.5))\n",
    "model2a.add(tf.keras.layers.Dense(1, activation='sigmoid'))\n",
    "print(model2a.summary())"
   ]
  },
  {
   "cell_type": "code",
   "execution_count": 79,
   "metadata": {
    "colab": {
     "base_uri": "https://localhost:8080/",
     "height": 1000
    },
    "colab_type": "code",
    "id": "aEJIpR7cWBlg",
    "outputId": "8c7d5a21-5c03-43a2-e4a1-b19edf3ab3b8"
   },
   "outputs": [
    {
     "name": "stdout",
     "output_type": "stream",
     "text": [
      "Epoch 1/50\n",
      "100/100 [==============================] - 0s 4ms/step - loss: 0.0806 - accuracy: 0.9785 - val_loss: 0.2420 - val_accuracy: 0.8970\n",
      "Epoch 2/50\n",
      "100/100 [==============================] - 0s 4ms/step - loss: 0.0763 - accuracy: 0.9795 - val_loss: 0.2398 - val_accuracy: 0.8960\n",
      "Epoch 3/50\n",
      "100/100 [==============================] - 0s 3ms/step - loss: 0.0737 - accuracy: 0.9810 - val_loss: 0.2296 - val_accuracy: 0.9040\n",
      "Epoch 4/50\n",
      "100/100 [==============================] - 0s 4ms/step - loss: 0.0755 - accuracy: 0.9780 - val_loss: 0.2313 - val_accuracy: 0.9040\n",
      "Epoch 5/50\n",
      "100/100 [==============================] - 0s 4ms/step - loss: 0.0726 - accuracy: 0.9795 - val_loss: 0.2391 - val_accuracy: 0.8970\n",
      "Epoch 6/50\n",
      "100/100 [==============================] - 0s 3ms/step - loss: 0.0648 - accuracy: 0.9870 - val_loss: 0.2330 - val_accuracy: 0.9060\n",
      "Epoch 7/50\n",
      "100/100 [==============================] - 0s 4ms/step - loss: 0.0651 - accuracy: 0.9880 - val_loss: 0.2412 - val_accuracy: 0.8950\n",
      "Epoch 8/50\n",
      "100/100 [==============================] - 0s 4ms/step - loss: 0.0621 - accuracy: 0.9845 - val_loss: 0.2355 - val_accuracy: 0.9010\n",
      "Epoch 9/50\n",
      "100/100 [==============================] - 0s 4ms/step - loss: 0.0596 - accuracy: 0.9830 - val_loss: 0.2409 - val_accuracy: 0.8940\n",
      "Epoch 10/50\n",
      "100/100 [==============================] - 0s 4ms/step - loss: 0.0550 - accuracy: 0.9890 - val_loss: 0.2628 - val_accuracy: 0.8920\n",
      "Epoch 11/50\n",
      "100/100 [==============================] - 0s 4ms/step - loss: 0.0550 - accuracy: 0.9890 - val_loss: 0.2489 - val_accuracy: 0.8950\n",
      "Epoch 12/50\n",
      "100/100 [==============================] - 0s 4ms/step - loss: 0.0555 - accuracy: 0.9865 - val_loss: 0.2412 - val_accuracy: 0.8990\n",
      "Epoch 13/50\n",
      "100/100 [==============================] - 0s 4ms/step - loss: 0.0487 - accuracy: 0.9915 - val_loss: 0.2480 - val_accuracy: 0.8940\n",
      "Epoch 14/50\n",
      "100/100 [==============================] - 0s 4ms/step - loss: 0.0458 - accuracy: 0.9910 - val_loss: 0.2385 - val_accuracy: 0.9020\n",
      "Epoch 15/50\n",
      "100/100 [==============================] - 0s 4ms/step - loss: 0.0472 - accuracy: 0.9925 - val_loss: 0.2509 - val_accuracy: 0.8950\n",
      "Epoch 16/50\n",
      "100/100 [==============================] - 0s 4ms/step - loss: 0.0421 - accuracy: 0.9935 - val_loss: 0.2391 - val_accuracy: 0.9060\n",
      "Epoch 17/50\n",
      "100/100 [==============================] - 0s 3ms/step - loss: 0.0422 - accuracy: 0.9930 - val_loss: 0.2501 - val_accuracy: 0.8930\n",
      "Epoch 18/50\n",
      "100/100 [==============================] - 0s 4ms/step - loss: 0.0421 - accuracy: 0.9940 - val_loss: 0.2488 - val_accuracy: 0.8950\n",
      "Epoch 19/50\n",
      "100/100 [==============================] - 0s 4ms/step - loss: 0.0378 - accuracy: 0.9940 - val_loss: 0.2443 - val_accuracy: 0.9050\n",
      "Epoch 20/50\n",
      "100/100 [==============================] - 0s 3ms/step - loss: 0.0381 - accuracy: 0.9935 - val_loss: 0.2483 - val_accuracy: 0.9020\n",
      "Epoch 21/50\n",
      "100/100 [==============================] - 0s 3ms/step - loss: 0.0336 - accuracy: 0.9940 - val_loss: 0.2507 - val_accuracy: 0.9010\n",
      "Epoch 22/50\n",
      "100/100 [==============================] - 0s 4ms/step - loss: 0.0341 - accuracy: 0.9950 - val_loss: 0.2720 - val_accuracy: 0.8900\n",
      "Epoch 23/50\n",
      "100/100 [==============================] - 0s 4ms/step - loss: 0.0319 - accuracy: 0.9950 - val_loss: 0.2546 - val_accuracy: 0.9000\n",
      "Epoch 24/50\n",
      "100/100 [==============================] - 0s 3ms/step - loss: 0.0314 - accuracy: 0.9975 - val_loss: 0.2514 - val_accuracy: 0.9030\n",
      "Epoch 25/50\n",
      "100/100 [==============================] - 0s 4ms/step - loss: 0.0295 - accuracy: 0.9955 - val_loss: 0.2745 - val_accuracy: 0.8920\n",
      "Epoch 26/50\n",
      "100/100 [==============================] - 0s 4ms/step - loss: 0.0290 - accuracy: 0.9975 - val_loss: 0.2568 - val_accuracy: 0.9050\n",
      "Epoch 27/50\n",
      "100/100 [==============================] - 0s 4ms/step - loss: 0.0267 - accuracy: 0.9965 - val_loss: 0.2832 - val_accuracy: 0.8900\n",
      "Epoch 28/50\n",
      "100/100 [==============================] - 0s 3ms/step - loss: 0.0259 - accuracy: 0.9980 - val_loss: 0.2639 - val_accuracy: 0.9000\n",
      "Epoch 29/50\n",
      "100/100 [==============================] - 0s 3ms/step - loss: 0.0270 - accuracy: 0.9970 - val_loss: 0.2607 - val_accuracy: 0.9050\n",
      "Epoch 30/50\n",
      "100/100 [==============================] - 0s 4ms/step - loss: 0.0226 - accuracy: 0.9980 - val_loss: 0.2627 - val_accuracy: 0.9050\n",
      "Epoch 31/50\n",
      "100/100 [==============================] - 0s 3ms/step - loss: 0.0215 - accuracy: 0.9980 - val_loss: 0.2644 - val_accuracy: 0.9020\n",
      "Epoch 32/50\n",
      "100/100 [==============================] - 0s 4ms/step - loss: 0.0226 - accuracy: 0.9970 - val_loss: 0.2744 - val_accuracy: 0.8960\n",
      "Epoch 33/50\n",
      "100/100 [==============================] - 0s 4ms/step - loss: 0.0203 - accuracy: 0.9975 - val_loss: 0.2732 - val_accuracy: 0.8960\n",
      "Epoch 34/50\n",
      "100/100 [==============================] - 0s 3ms/step - loss: 0.0210 - accuracy: 0.9990 - val_loss: 0.2904 - val_accuracy: 0.8890\n",
      "Epoch 35/50\n",
      "100/100 [==============================] - 0s 4ms/step - loss: 0.0207 - accuracy: 0.9970 - val_loss: 0.2731 - val_accuracy: 0.8960\n",
      "Epoch 36/50\n",
      "100/100 [==============================] - 0s 4ms/step - loss: 0.0184 - accuracy: 0.9985 - val_loss: 0.2772 - val_accuracy: 0.8950\n",
      "Epoch 37/50\n",
      "100/100 [==============================] - 0s 3ms/step - loss: 0.0186 - accuracy: 0.9960 - val_loss: 0.2874 - val_accuracy: 0.8950\n",
      "Epoch 38/50\n",
      "100/100 [==============================] - 0s 4ms/step - loss: 0.0182 - accuracy: 0.9990 - val_loss: 0.2808 - val_accuracy: 0.8960\n",
      "Epoch 39/50\n",
      "100/100 [==============================] - 0s 4ms/step - loss: 0.0161 - accuracy: 0.9990 - val_loss: 0.2810 - val_accuracy: 0.8970\n",
      "Epoch 40/50\n",
      "100/100 [==============================] - 0s 3ms/step - loss: 0.0153 - accuracy: 0.9995 - val_loss: 0.2889 - val_accuracy: 0.8950\n",
      "Epoch 41/50\n",
      "100/100 [==============================] - 0s 4ms/step - loss: 0.0145 - accuracy: 0.9990 - val_loss: 0.2843 - val_accuracy: 0.8970\n",
      "Epoch 42/50\n",
      "100/100 [==============================] - 0s 4ms/step - loss: 0.0143 - accuracy: 0.9985 - val_loss: 0.2841 - val_accuracy: 0.8970\n",
      "Epoch 43/50\n",
      "100/100 [==============================] - 0s 4ms/step - loss: 0.0143 - accuracy: 0.9990 - val_loss: 0.2902 - val_accuracy: 0.8990\n",
      "Epoch 44/50\n",
      "100/100 [==============================] - 0s 4ms/step - loss: 0.0127 - accuracy: 0.9995 - val_loss: 0.3040 - val_accuracy: 0.8910\n",
      "Epoch 45/50\n",
      "100/100 [==============================] - 0s 3ms/step - loss: 0.0110 - accuracy: 1.0000 - val_loss: 0.2899 - val_accuracy: 0.9010\n",
      "Epoch 46/50\n",
      "100/100 [==============================] - 0s 4ms/step - loss: 0.0130 - accuracy: 1.0000 - val_loss: 0.2934 - val_accuracy: 0.8990\n",
      "Epoch 47/50\n",
      "100/100 [==============================] - 0s 4ms/step - loss: 0.0103 - accuracy: 1.0000 - val_loss: 0.2956 - val_accuracy: 0.8990\n",
      "Epoch 48/50\n",
      "100/100 [==============================] - 0s 3ms/step - loss: 0.0107 - accuracy: 0.9995 - val_loss: 0.3262 - val_accuracy: 0.8890\n",
      "Epoch 49/50\n",
      "100/100 [==============================] - 0s 3ms/step - loss: 0.0101 - accuracy: 0.9995 - val_loss: 0.2950 - val_accuracy: 0.8970\n",
      "Epoch 50/50\n",
      "100/100 [==============================] - 0s 4ms/step - loss: 0.0087 - accuracy: 1.0000 - val_loss: 0.3084 - val_accuracy: 0.8940\n"
     ]
    }
   ],
   "source": [
    "# MODEL 1: Train Model & Evaluation\n",
    "###################################\n",
    "model2a.compile(optimizer=tf.keras.optimizers.RMSprop(learning_rate=2e-5), \n",
    "              loss='binary_crossentropy', metrics=['accuracy'])\n",
    "with tf.device('/device:GPU:0'):\n",
    "    history2a = model2a.fit(train_features, train_labels, epochs=50, batch_size=20,\n",
    "          validation_data=(val_features, val_labels))"
   ]
  },
  {
   "cell_type": "code",
   "execution_count": 81,
   "metadata": {
    "colab": {
     "base_uri": "https://localhost:8080/",
     "height": 709
    },
    "colab_type": "code",
    "id": "qkMMU5BdWBo-",
    "outputId": "22458b95-ca9b-4531-e16c-3d9aa77ad443"
   },
   "outputs": [
    {
     "data": {
      "text/html": [
       "<div>\n",
       "<style scoped>\n",
       "    .dataframe tbody tr th:only-of-type {\n",
       "        vertical-align: middle;\n",
       "    }\n",
       "\n",
       "    .dataframe tbody tr th {\n",
       "        vertical-align: top;\n",
       "    }\n",
       "\n",
       "    .dataframe thead th {\n",
       "        text-align: right;\n",
       "    }\n",
       "</style>\n",
       "<table border=\"1\" class=\"dataframe\">\n",
       "  <thead>\n",
       "    <tr style=\"text-align: right;\">\n",
       "      <th></th>\n",
       "      <th>loss</th>\n",
       "      <th>accuracy</th>\n",
       "      <th>val_loss</th>\n",
       "      <th>val_accuracy</th>\n",
       "      <th>epoch</th>\n",
       "    </tr>\n",
       "  </thead>\n",
       "  <tbody>\n",
       "    <tr>\n",
       "      <th>45</th>\n",
       "      <td>0.013040</td>\n",
       "      <td>1.0000</td>\n",
       "      <td>0.293413</td>\n",
       "      <td>0.899</td>\n",
       "      <td>46</td>\n",
       "    </tr>\n",
       "    <tr>\n",
       "      <th>46</th>\n",
       "      <td>0.010287</td>\n",
       "      <td>1.0000</td>\n",
       "      <td>0.295604</td>\n",
       "      <td>0.899</td>\n",
       "      <td>47</td>\n",
       "    </tr>\n",
       "    <tr>\n",
       "      <th>47</th>\n",
       "      <td>0.010682</td>\n",
       "      <td>0.9995</td>\n",
       "      <td>0.326227</td>\n",
       "      <td>0.889</td>\n",
       "      <td>48</td>\n",
       "    </tr>\n",
       "    <tr>\n",
       "      <th>48</th>\n",
       "      <td>0.010119</td>\n",
       "      <td>0.9995</td>\n",
       "      <td>0.295048</td>\n",
       "      <td>0.897</td>\n",
       "      <td>49</td>\n",
       "    </tr>\n",
       "    <tr>\n",
       "      <th>49</th>\n",
       "      <td>0.008708</td>\n",
       "      <td>1.0000</td>\n",
       "      <td>0.308383</td>\n",
       "      <td>0.894</td>\n",
       "      <td>50</td>\n",
       "    </tr>\n",
       "  </tbody>\n",
       "</table>\n",
       "</div>"
      ],
      "text/plain": [
       "        loss  accuracy  val_loss  val_accuracy  epoch\n",
       "45  0.013040    1.0000  0.293413         0.899     46\n",
       "46  0.010287    1.0000  0.295604         0.899     47\n",
       "47  0.010682    0.9995  0.326227         0.889     48\n",
       "48  0.010119    0.9995  0.295048         0.897     49\n",
       "49  0.008708    1.0000  0.308383         0.894     50"
      ]
     },
     "metadata": {
      "tags": []
     },
     "output_type": "display_data"
    },
    {
     "data": {
      "image/png": "[encoded data removed]",
      "text/plain": [
       "<Figure size 1224x720 with 2 Axes>"
      ]
     },
     "metadata": {
      "needs_background": "light",
      "tags": []
     },
     "output_type": "display_data"
    }
   ],
   "source": [
    "metrics_df = pd.DataFrame(history2a.history)\n",
    "metrics_df['epoch'] = metrics_df.index+1\n",
    "display(metrics_df.tail())\n",
    "\n",
    "fig = plt.figure(figsize=(17,10))\n",
    "ax1, ax2 = fig.add_subplot(2,1,1), fig.add_subplot(2,1,2)\n",
    "metrics_df.plot(kind='scatter', x='epoch', y='loss', ax=ax1, label='train', color='blue')\n",
    "metrics_df.plot(kind='line', x='epoch', y='val_loss', ax=ax1, label='validation', color='red',)\n",
    "ax1.set_ylabel(\"Loss\")\n",
    "ax1.grid('GAINSBORO')\n",
    "ax1.legend([])\n",
    "ax1.set_ylim(0,1.1)\n",
    "ax1.set_xticks(range(0,51))\n",
    "\n",
    "metrics_df.plot(kind='scatter', x='epoch', y='accuracy', ax=ax2, label='train', color='blue')\n",
    "metrics_df.plot(kind='line', x='epoch', y='val_accuracy', ax=ax2, label='validation', color='red',)\n",
    "ax2.set_ylabel(\"Accuracy\")\n",
    "ax2.grid('GAINSBORO')\n",
    "ax2.set_xticks(range(0,51))\n",
    "ax2.legend([])\n",
    "ax2.set_ylim(0,1.1)\n",
    "plt.show()"
   ]
  },
  {
   "cell_type": "code",
   "execution_count": 0,
   "metadata": {
    "colab": {},
    "colab_type": "code",
    "id": "JSr-4PE0WBsV"
   },
   "outputs": [],
   "source": [
    "# MODEL 2: Instantiate Model\n",
    "############################\n",
    "# Instantiate Convolutional Base\n",
    "conv_base_b = tf.keras.applications.VGG16(\n",
    "    weights='imagenet', \n",
    "    include_top=False, \n",
    "    input_shape=(150,150,3) )\n",
    "\n",
    "model2b = tf.keras.models.Sequential()\n",
    "model2b.add(conv_base_b)\n",
    "model2b.add(tf.keras.layers.Flatten())\n",
    "model2b.add(tf.keras.layers.Dense(256, activation='relu'))\n",
    "model2b.add(tf.keras.layers.Dense(1, activation='sigmoid'))"
   ]
  },
  {
   "cell_type": "code",
   "execution_count": 87,
   "metadata": {
    "colab": {
     "base_uri": "https://localhost:8080/",
     "height": 323
    },
    "colab_type": "code",
    "id": "nmdLmtCFWBvX",
    "outputId": "eb8d0a83-0bd4-4770-b991-0dea714fb057"
   },
   "outputs": [
    {
     "name": "stdout",
     "output_type": "stream",
     "text": [
      "Model: \"sequential_7\"\n",
      "_________________________________________________________________\n",
      "Layer (type)                 Output Shape              Param #   \n",
      "=================================================================\n",
      "vgg16 (Model)                (None, 4, 4, 512)         14714688  \n",
      "_________________________________________________________________\n",
      "flatten_4 (Flatten)          (None, 8192)              0         \n",
      "_________________________________________________________________\n",
      "dense_14 (Dense)             (None, 256)               2097408   \n",
      "_________________________________________________________________\n",
      "dense_15 (Dense)             (None, 1)                 257       \n",
      "=================================================================\n",
      "Total params: 16,812,353\n",
      "Trainable params: 16,812,353\n",
      "Non-trainable params: 0\n",
      "_________________________________________________________________\n",
      "None\n",
      "30\n"
     ]
    }
   ],
   "source": [
    "# Validate that the no. of trainable weights is more because of the conv_base\n",
    "print(model2b.summary())\n",
    "print(len(model2b.trainable_weights))"
   ]
  },
  {
   "cell_type": "code",
   "execution_count": 0,
   "metadata": {
    "colab": {},
    "colab_type": "code",
    "id": "hfRAn84bWByX"
   },
   "outputs": [],
   "source": [
    "conv_base_b.trainable = False"
   ]
  },
  {
   "cell_type": "code",
   "execution_count": 90,
   "metadata": {
    "colab": {
     "base_uri": "https://localhost:8080/",
     "height": 34
    },
    "colab_type": "code",
    "id": "Zu5WDl4LZO2H",
    "outputId": "d01df1ab-62b4-4f38-92d9-a831a416dbdf"
   },
   "outputs": [
    {
     "name": "stdout",
     "output_type": "stream",
     "text": [
      "4\n"
     ]
    }
   ],
   "source": [
    "print(len(model2b.trainable_weights))"
   ]
  },
  {
   "cell_type": "code",
   "execution_count": 91,
   "metadata": {
    "colab": {
     "base_uri": "https://localhost:8080/",
     "height": 51
    },
    "colab_type": "code",
    "id": "C3qyEC6UZO6N",
    "outputId": "0d7c3666-7c01-41b3-8559-d739d57368b8"
   },
   "outputs": [
    {
     "name": "stdout",
     "output_type": "stream",
     "text": [
      "Found 2000 images belonging to 2 classes.\n",
      "Found 1000 images belonging to 2 classes.\n"
     ]
    }
   ],
   "source": [
    "# MODEL 2: Preprocessing of data before feeding to the model\n",
    "############################################################\n",
    "train_datagen = tf.keras.preprocessing.image.ImageDataGenerator(\n",
    "    rescale=1./255, \n",
    "    rotation_range=40, # 0 - 180 degrees to randomly rotate\n",
    "    width_shift_range=0.2,  # ranges (as a fraction of total width/height)\n",
    "    height_shift_range=0.2, # to randomly translate pictures horizontally / vertically\n",
    "    shear_range=0.2, # randomly apply shearing transformations\n",
    "    zoom_range=0.2, # randomly zooming inside pictures\n",
    "    horizontal_flip = True, # randomly flipping the images\n",
    "    fill_mode='nearest' # strategy used for filling in newly created pixels, which can appear after any transformation\n",
    ")\n",
    "train_generator = train_datagen.flow_from_directory(train_dir, target_size=(150, 150),\n",
    "                                                   batch_size=20, class_mode='binary')\n",
    "validation_generator = test_datagen.flow_from_directory(validation_dir, target_size=(150, 150),\n",
    "                                                   batch_size=20, class_mode='binary')"
   ]
  },
  {
   "cell_type": "code",
   "execution_count": 96,
   "metadata": {
    "colab": {
     "base_uri": "https://localhost:8080/",
     "height": 1000
    },
    "colab_type": "code",
    "id": "4I2lgvQjZO-S",
    "outputId": "fe03cd50-b71b-49e0-f3b2-5b774f5f2509"
   },
   "outputs": [
    {
     "name": "stdout",
     "output_type": "stream",
     "text": [
      "Epoch 1/50\n",
      "50/50 [==============================] - 11s 220ms/step - loss: 0.3845 - accuracy: 0.8330 - val_loss: 0.3310 - val_accuracy: 0.8530\n",
      "Epoch 2/50\n",
      "50/50 [==============================] - 11s 218ms/step - loss: 0.3733 - accuracy: 0.8410 - val_loss: 0.3150 - val_accuracy: 0.8630\n",
      "Epoch 3/50\n",
      "50/50 [==============================] - 11s 217ms/step - loss: 0.3980 - accuracy: 0.8130 - val_loss: 0.3157 - val_accuracy: 0.8660\n",
      "Epoch 4/50\n",
      "50/50 [==============================] - 11s 218ms/step - loss: 0.3758 - accuracy: 0.8390 - val_loss: 0.2998 - val_accuracy: 0.8690\n",
      "Epoch 5/50\n",
      "50/50 [==============================] - 11s 217ms/step - loss: 0.3540 - accuracy: 0.8480 - val_loss: 0.3008 - val_accuracy: 0.8740\n",
      "Epoch 6/50\n",
      "50/50 [==============================] - 11s 216ms/step - loss: 0.3686 - accuracy: 0.8360 - val_loss: 0.2914 - val_accuracy: 0.8730\n",
      "Epoch 7/50\n",
      "50/50 [==============================] - 11s 215ms/step - loss: 0.3476 - accuracy: 0.8480 - val_loss: 0.2897 - val_accuracy: 0.8720\n",
      "Epoch 8/50\n",
      "50/50 [==============================] - 11s 215ms/step - loss: 0.3354 - accuracy: 0.8530 - val_loss: 0.2828 - val_accuracy: 0.8740\n",
      "Epoch 9/50\n",
      "50/50 [==============================] - 11s 215ms/step - loss: 0.3347 - accuracy: 0.8570 - val_loss: 0.2833 - val_accuracy: 0.8720\n",
      "Epoch 10/50\n",
      "50/50 [==============================] - 11s 216ms/step - loss: 0.3427 - accuracy: 0.8550 - val_loss: 0.2793 - val_accuracy: 0.8780\n",
      "Epoch 11/50\n",
      "50/50 [==============================] - 11s 216ms/step - loss: 0.3421 - accuracy: 0.8560 - val_loss: 0.2751 - val_accuracy: 0.8780\n",
      "Epoch 12/50\n",
      "50/50 [==============================] - 11s 215ms/step - loss: 0.3203 - accuracy: 0.8750 - val_loss: 0.2744 - val_accuracy: 0.8800\n",
      "Epoch 13/50\n",
      "50/50 [==============================] - 11s 220ms/step - loss: 0.3347 - accuracy: 0.8490 - val_loss: 0.2690 - val_accuracy: 0.8850\n",
      "Epoch 14/50\n",
      "50/50 [==============================] - 11s 219ms/step - loss: 0.3187 - accuracy: 0.8620 - val_loss: 0.2661 - val_accuracy: 0.8860\n",
      "Epoch 15/50\n",
      "50/50 [==============================] - 11s 215ms/step - loss: 0.3371 - accuracy: 0.8490 - val_loss: 0.2649 - val_accuracy: 0.8860\n",
      "Epoch 16/50\n",
      "50/50 [==============================] - 11s 216ms/step - loss: 0.3238 - accuracy: 0.8580 - val_loss: 0.2678 - val_accuracy: 0.8820\n",
      "Epoch 17/50\n",
      "50/50 [==============================] - 11s 213ms/step - loss: 0.3171 - accuracy: 0.8580 - val_loss: 0.2590 - val_accuracy: 0.8880\n",
      "Epoch 18/50\n",
      "50/50 [==============================] - 11s 214ms/step - loss: 0.3318 - accuracy: 0.8510 - val_loss: 0.2622 - val_accuracy: 0.8870\n",
      "Epoch 19/50\n",
      "50/50 [==============================] - 11s 215ms/step - loss: 0.3086 - accuracy: 0.8740 - val_loss: 0.2559 - val_accuracy: 0.8950\n",
      "Epoch 20/50\n",
      "50/50 [==============================] - 11s 216ms/step - loss: 0.3147 - accuracy: 0.8650 - val_loss: 0.2581 - val_accuracy: 0.8930\n",
      "Epoch 21/50\n",
      "50/50 [==============================] - 11s 216ms/step - loss: 0.3062 - accuracy: 0.8750 - val_loss: 0.2506 - val_accuracy: 0.8930\n",
      "Epoch 22/50\n",
      "50/50 [==============================] - 11s 215ms/step - loss: 0.2959 - accuracy: 0.8810 - val_loss: 0.2678 - val_accuracy: 0.8810\n",
      "Epoch 23/50\n",
      "50/50 [==============================] - 11s 215ms/step - loss: 0.3237 - accuracy: 0.8680 - val_loss: 0.2571 - val_accuracy: 0.8860\n",
      "Epoch 24/50\n",
      "50/50 [==============================] - 11s 216ms/step - loss: 0.3133 - accuracy: 0.8630 - val_loss: 0.2517 - val_accuracy: 0.8940\n",
      "Epoch 25/50\n",
      "50/50 [==============================] - 11s 217ms/step - loss: 0.3057 - accuracy: 0.8680 - val_loss: 0.2480 - val_accuracy: 0.8970\n",
      "Epoch 26/50\n",
      "50/50 [==============================] - 11s 215ms/step - loss: 0.3339 - accuracy: 0.8430 - val_loss: 0.2500 - val_accuracy: 0.8950\n",
      "Epoch 27/50\n",
      "50/50 [==============================] - 11s 216ms/step - loss: 0.3003 - accuracy: 0.8840 - val_loss: 0.2484 - val_accuracy: 0.8970\n",
      "Epoch 28/50\n",
      "50/50 [==============================] - 11s 219ms/step - loss: 0.2997 - accuracy: 0.8750 - val_loss: 0.2445 - val_accuracy: 0.9010\n",
      "Epoch 29/50\n",
      "50/50 [==============================] - 11s 219ms/step - loss: 0.2894 - accuracy: 0.8880 - val_loss: 0.2472 - val_accuracy: 0.8930\n",
      "Epoch 30/50\n",
      "50/50 [==============================] - 11s 217ms/step - loss: 0.2799 - accuracy: 0.8730 - val_loss: 0.2425 - val_accuracy: 0.9010\n",
      "Epoch 31/50\n",
      "50/50 [==============================] - 11s 219ms/step - loss: 0.2934 - accuracy: 0.8800 - val_loss: 0.2389 - val_accuracy: 0.9010\n",
      "Epoch 32/50\n",
      "50/50 [==============================] - 11s 217ms/step - loss: 0.3134 - accuracy: 0.8570 - val_loss: 0.2480 - val_accuracy: 0.8940\n",
      "Epoch 33/50\n",
      "50/50 [==============================] - 11s 218ms/step - loss: 0.2684 - accuracy: 0.8870 - val_loss: 0.2418 - val_accuracy: 0.8980\n",
      "Epoch 34/50\n",
      "50/50 [==============================] - 11s 216ms/step - loss: 0.3013 - accuracy: 0.8790 - val_loss: 0.2419 - val_accuracy: 0.9000\n",
      "Epoch 35/50\n",
      "50/50 [==============================] - 11s 219ms/step - loss: 0.3016 - accuracy: 0.8780 - val_loss: 0.2417 - val_accuracy: 0.8960\n",
      "Epoch 36/50\n",
      "50/50 [==============================] - 11s 216ms/step - loss: 0.2899 - accuracy: 0.8790 - val_loss: 0.2404 - val_accuracy: 0.9020\n",
      "Epoch 37/50\n",
      "50/50 [==============================] - 11s 215ms/step - loss: 0.3153 - accuracy: 0.8650 - val_loss: 0.2391 - val_accuracy: 0.8960\n",
      "Epoch 38/50\n",
      "50/50 [==============================] - 11s 216ms/step - loss: 0.2749 - accuracy: 0.8840 - val_loss: 0.2383 - val_accuracy: 0.9020\n",
      "Epoch 39/50\n",
      "50/50 [==============================] - 11s 215ms/step - loss: 0.2757 - accuracy: 0.8800 - val_loss: 0.2414 - val_accuracy: 0.9020\n",
      "Epoch 40/50\n",
      "50/50 [==============================] - 11s 218ms/step - loss: 0.2807 - accuracy: 0.8740 - val_loss: 0.2376 - val_accuracy: 0.8980\n",
      "Epoch 41/50\n",
      "50/50 [==============================] - 11s 218ms/step - loss: 0.2850 - accuracy: 0.8900 - val_loss: 0.2365 - val_accuracy: 0.8980\n",
      "Epoch 42/50\n",
      "50/50 [==============================] - 11s 223ms/step - loss: 0.3100 - accuracy: 0.8620 - val_loss: 0.2393 - val_accuracy: 0.8980\n",
      "Epoch 43/50\n",
      "50/50 [==============================] - 11s 219ms/step - loss: 0.2644 - accuracy: 0.8880 - val_loss: 0.2401 - val_accuracy: 0.8950\n",
      "Epoch 44/50\n",
      "50/50 [==============================] - 11s 219ms/step - loss: 0.2788 - accuracy: 0.8840 - val_loss: 0.2324 - val_accuracy: 0.8980\n",
      "Epoch 45/50\n",
      "50/50 [==============================] - 11s 216ms/step - loss: 0.2825 - accuracy: 0.8860 - val_loss: 0.2417 - val_accuracy: 0.9020\n",
      "Epoch 46/50\n",
      "50/50 [==============================] - 11s 218ms/step - loss: 0.2891 - accuracy: 0.8740 - val_loss: 0.2336 - val_accuracy: 0.9000\n",
      "Epoch 47/50\n",
      "50/50 [==============================] - 11s 218ms/step - loss: 0.3019 - accuracy: 0.8650 - val_loss: 0.2372 - val_accuracy: 0.8980\n",
      "Epoch 48/50\n",
      "50/50 [==============================] - 11s 219ms/step - loss: 0.2836 - accuracy: 0.8740 - val_loss: 0.2368 - val_accuracy: 0.9020\n",
      "Epoch 49/50\n",
      "50/50 [==============================] - 11s 220ms/step - loss: 0.2897 - accuracy: 0.8620 - val_loss: 0.2314 - val_accuracy: 0.9030\n",
      "Epoch 50/50\n",
      "50/50 [==============================] - 11s 219ms/step - loss: 0.2803 - accuracy: 0.8780 - val_loss: 0.2370 - val_accuracy: 0.8970\n"
     ]
    }
   ],
   "source": [
    "# MODEL 2: Train Model\n",
    "######################\n",
    "model2b.compile(optimizer=tf.keras.optimizers.RMSprop(learning_rate=2e-5), \n",
    "              loss='binary_crossentropy', metrics=['accuracy'])\n",
    "with tf.device('/device:GPU:0'):\n",
    "  history2b = model2b.fit(train_generator, epochs=50, batch_size=20,\n",
    "                        steps_per_epoch=50,\n",
    "          validation_data=validation_generator)"
   ]
  },
  {
   "cell_type": "code",
   "execution_count": 97,
   "metadata": {
    "colab": {
     "base_uri": "https://localhost:8080/",
     "height": 709
    },
    "colab_type": "code",
    "id": "CJaBg1dnZPBA",
    "outputId": "28263bcb-950f-45e1-8c57-d031e6be5456"
   },
   "outputs": [
    {
     "data": {
      "text/html": [
       "<div>\n",
       "<style scoped>\n",
       "    .dataframe tbody tr th:only-of-type {\n",
       "        vertical-align: middle;\n",
       "    }\n",
       "\n",
       "    .dataframe tbody tr th {\n",
       "        vertical-align: top;\n",
       "    }\n",
       "\n",
       "    .dataframe thead th {\n",
       "        text-align: right;\n",
       "    }\n",
       "</style>\n",
       "<table border=\"1\" class=\"dataframe\">\n",
       "  <thead>\n",
       "    <tr style=\"text-align: right;\">\n",
       "      <th></th>\n",
       "      <th>loss</th>\n",
       "      <th>accuracy</th>\n",
       "      <th>val_loss</th>\n",
       "      <th>val_accuracy</th>\n",
       "      <th>epoch</th>\n",
       "    </tr>\n",
       "  </thead>\n",
       "  <tbody>\n",
       "    <tr>\n",
       "      <th>45</th>\n",
       "      <td>0.289064</td>\n",
       "      <td>0.874</td>\n",
       "      <td>0.233560</td>\n",
       "      <td>0.900</td>\n",
       "      <td>46</td>\n",
       "    </tr>\n",
       "    <tr>\n",
       "      <th>46</th>\n",
       "      <td>0.301899</td>\n",
       "      <td>0.865</td>\n",
       "      <td>0.237197</td>\n",
       "      <td>0.898</td>\n",
       "      <td>47</td>\n",
       "    </tr>\n",
       "    <tr>\n",
       "      <th>47</th>\n",
       "      <td>0.283627</td>\n",
       "      <td>0.874</td>\n",
       "      <td>0.236789</td>\n",
       "      <td>0.902</td>\n",
       "      <td>48</td>\n",
       "    </tr>\n",
       "    <tr>\n",
       "      <th>48</th>\n",
       "      <td>0.289662</td>\n",
       "      <td>0.862</td>\n",
       "      <td>0.231425</td>\n",
       "      <td>0.903</td>\n",
       "      <td>49</td>\n",
       "    </tr>\n",
       "    <tr>\n",
       "      <th>49</th>\n",
       "      <td>0.280276</td>\n",
       "      <td>0.878</td>\n",
       "      <td>0.236985</td>\n",
       "      <td>0.897</td>\n",
       "      <td>50</td>\n",
       "    </tr>\n",
       "  </tbody>\n",
       "</table>\n",
       "</div>"
      ],
      "text/plain": [
       "        loss  accuracy  val_loss  val_accuracy  epoch\n",
       "45  0.289064     0.874  0.233560         0.900     46\n",
       "46  0.301899     0.865  0.237197         0.898     47\n",
       "47  0.283627     0.874  0.236789         0.902     48\n",
       "48  0.289662     0.862  0.231425         0.903     49\n",
       "49  0.280276     0.878  0.236985         0.897     50"
      ]
     },
     "metadata": {
      "tags": []
     },
     "output_type": "display_data"
    },
    {
     "data": {
      "image/png": "[encoded data removed]",
      "text/plain": [
       "<Figure size 1224x720 with 2 Axes>"
      ]
     },
     "metadata": {
      "needs_background": "light",
      "tags": []
     },
     "output_type": "display_data"
    }
   ],
   "source": [
    "# MODEL 2: Evaluation\n",
    "#####################\n",
    "metrics_df = pd.DataFrame(history2b.history)\n",
    "metrics_df['epoch'] = metrics_df.index+1\n",
    "display(metrics_df.tail())\n",
    "\n",
    "fig = plt.figure(figsize=(17,10))\n",
    "ax1, ax2 = fig.add_subplot(2,1,1), fig.add_subplot(2,1,2)\n",
    "metrics_df.plot(kind='scatter', x='epoch', y='loss', ax=ax1, label='train', color='blue')\n",
    "metrics_df.plot(kind='line', x='epoch', y='val_loss', ax=ax1, label='validation', color='red',)\n",
    "ax1.set_ylabel(\"Loss\")\n",
    "ax1.grid('GAINSBORO')\n",
    "ax1.legend([])\n",
    "ax1.set_ylim(0,1.1)\n",
    "ax1.set_xticks(range(0,51))\n",
    "\n",
    "metrics_df.plot(kind='scatter', x='epoch', y='accuracy', ax=ax2, label='train', color='blue')\n",
    "metrics_df.plot(kind='line', x='epoch', y='val_accuracy', ax=ax2, label='validation', color='red',)\n",
    "ax2.set_ylabel(\"Accuracy\")\n",
    "ax2.grid('GAINSBORO')\n",
    "ax2.set_xticks(range(0,51))\n",
    "ax2.legend([])\n",
    "ax2.set_ylim(0,1.1)\n",
    "plt.show()"
   ]
  },
  {
   "cell_type": "code",
   "execution_count": 98,
   "metadata": {
    "colab": {
     "base_uri": "https://localhost:8080/",
     "height": 816
    },
    "colab_type": "code",
    "id": "TZRMK5HrZO8N",
    "outputId": "1637b372-ac1d-4574-993b-8c4a8cf91439"
   },
   "outputs": [
    {
     "name": "stdout",
     "output_type": "stream",
     "text": [
      "Model: \"vgg16\"\n",
      "_________________________________________________________________\n",
      "Layer (type)                 Output Shape              Param #   \n",
      "=================================================================\n",
      "input_5 (InputLayer)         [(None, 150, 150, 3)]     0         \n",
      "_________________________________________________________________\n",
      "block1_conv1 (Conv2D)        (None, 150, 150, 64)      1792      \n",
      "_________________________________________________________________\n",
      "block1_conv2 (Conv2D)        (None, 150, 150, 64)      36928     \n",
      "_________________________________________________________________\n",
      "block1_pool (MaxPooling2D)   (None, 75, 75, 64)        0         \n",
      "_________________________________________________________________\n",
      "block2_conv1 (Conv2D)        (None, 75, 75, 128)       73856     \n",
      "_________________________________________________________________\n",
      "block2_conv2 (Conv2D)        (None, 75, 75, 128)       147584    \n",
      "_________________________________________________________________\n",
      "block2_pool (MaxPooling2D)   (None, 37, 37, 128)       0         \n",
      "_________________________________________________________________\n",
      "block3_conv1 (Conv2D)        (None, 37, 37, 256)       295168    \n",
      "_________________________________________________________________\n",
      "block3_conv2 (Conv2D)        (None, 37, 37, 256)       590080    \n",
      "_________________________________________________________________\n",
      "block3_conv3 (Conv2D)        (None, 37, 37, 256)       590080    \n",
      "_________________________________________________________________\n",
      "block3_pool (MaxPooling2D)   (None, 18, 18, 256)       0         \n",
      "_________________________________________________________________\n",
      "block4_conv1 (Conv2D)        (None, 18, 18, 512)       1180160   \n",
      "_________________________________________________________________\n",
      "block4_conv2 (Conv2D)        (None, 18, 18, 512)       2359808   \n",
      "_________________________________________________________________\n",
      "block4_conv3 (Conv2D)        (None, 18, 18, 512)       2359808   \n",
      "_________________________________________________________________\n",
      "block4_pool (MaxPooling2D)   (None, 9, 9, 512)         0         \n",
      "_________________________________________________________________\n",
      "block5_conv1 (Conv2D)        (None, 9, 9, 512)         2359808   \n",
      "_________________________________________________________________\n",
      "block5_conv2 (Conv2D)        (None, 9, 9, 512)         2359808   \n",
      "_________________________________________________________________\n",
      "block5_conv3 (Conv2D)        (None, 9, 9, 512)         2359808   \n",
      "_________________________________________________________________\n",
      "block5_pool (MaxPooling2D)   (None, 4, 4, 512)         0         \n",
      "=================================================================\n",
      "Total params: 14,714,688\n",
      "Trainable params: 14,714,688\n",
      "Non-trainable params: 0\n",
      "_________________________________________________________________\n",
      "None\n"
     ]
    }
   ],
   "source": [
    "# MODEL 3: Fine-Tuning\n",
    "######################\n",
    "conv_base_c = tf.keras.applications.VGG16(weights='imagenet', include_top=False, \n",
    "                                          input_shape=(150,150,3))\n",
    "print(conv_base_c.summary())"
   ]
  },
  {
   "cell_type": "code",
   "execution_count": 0,
   "metadata": {
    "colab": {},
    "colab_type": "code",
    "id": "ogKrHtgOZO4e"
   },
   "outputs": [],
   "source": [
    "# Only allow the final layer to be trained\n",
    "conv_base_c.trainable = True\n",
    "set_trainable = False\n",
    "\n",
    "for layer in conv_base_c.layers:\n",
    "    if layer.name == 'block5_conv1':\n",
    "        set_trainable = True\n",
    "    if set_trainable:\n",
    "        layer.trainable = True\n",
    "    else:\n",
    "        layer.trainable = False\n",
    "model2c = tf.keras.models.Sequential()\n",
    "model2c.add(conv_base_c)\n",
    "model2c.add(tf.keras.layers.Flatten())\n",
    "model2c.add(tf.keras.layers.Dense(256, activation='relu'))\n",
    "model2c.add(tf.keras.layers.Dense(1, activation='sigmoid'))"
   ]
  },
  {
   "cell_type": "code",
   "execution_count": 102,
   "metadata": {
    "colab": {
     "base_uri": "https://localhost:8080/",
     "height": 1000
    },
    "colab_type": "code",
    "id": "xH040ciOc5ry",
    "outputId": "ddb51040-e626-442d-a2f9-9e96365e8ef6"
   },
   "outputs": [
    {
     "name": "stdout",
     "output_type": "stream",
     "text": [
      "Epoch 1/50\n",
      "50/50 [==============================] - 11s 226ms/step - loss: 0.5306 - accuracy: 0.7380 - val_loss: 0.3434 - val_accuracy: 0.8570\n",
      "Epoch 2/50\n",
      "50/50 [==============================] - 11s 222ms/step - loss: 0.4074 - accuracy: 0.8270 - val_loss: 0.2618 - val_accuracy: 0.8910\n",
      "Epoch 3/50\n",
      "50/50 [==============================] - 11s 219ms/step - loss: 0.3302 - accuracy: 0.8420 - val_loss: 0.2360 - val_accuracy: 0.9000\n",
      "Epoch 4/50\n",
      "50/50 [==============================] - 11s 220ms/step - loss: 0.3069 - accuracy: 0.8700 - val_loss: 0.2077 - val_accuracy: 0.9120\n",
      "Epoch 5/50\n",
      "50/50 [==============================] - 11s 222ms/step - loss: 0.2776 - accuracy: 0.8900 - val_loss: 0.2353 - val_accuracy: 0.9010\n",
      "Epoch 6/50\n",
      "50/50 [==============================] - 11s 221ms/step - loss: 0.2984 - accuracy: 0.8670 - val_loss: 0.2032 - val_accuracy: 0.9130\n",
      "Epoch 7/50\n",
      "50/50 [==============================] - 11s 224ms/step - loss: 0.2777 - accuracy: 0.8860 - val_loss: 0.1924 - val_accuracy: 0.9170\n",
      "Epoch 8/50\n",
      "50/50 [==============================] - 11s 226ms/step - loss: 0.2521 - accuracy: 0.9050 - val_loss: 0.1946 - val_accuracy: 0.9270\n",
      "Epoch 9/50\n",
      "50/50 [==============================] - 11s 223ms/step - loss: 0.2518 - accuracy: 0.9060 - val_loss: 0.2167 - val_accuracy: 0.9080\n",
      "Epoch 10/50\n",
      "50/50 [==============================] - 11s 222ms/step - loss: 0.2350 - accuracy: 0.9000 - val_loss: 0.1804 - val_accuracy: 0.9190\n",
      "Epoch 11/50\n",
      "50/50 [==============================] - 11s 220ms/step - loss: 0.2351 - accuracy: 0.9040 - val_loss: 0.1886 - val_accuracy: 0.9230\n",
      "Epoch 12/50\n",
      "50/50 [==============================] - 11s 220ms/step - loss: 0.2039 - accuracy: 0.9150 - val_loss: 0.3343 - val_accuracy: 0.8720\n",
      "Epoch 13/50\n",
      "50/50 [==============================] - 11s 220ms/step - loss: 0.2064 - accuracy: 0.9180 - val_loss: 0.1985 - val_accuracy: 0.9190\n",
      "Epoch 14/50\n",
      "50/50 [==============================] - 11s 219ms/step - loss: 0.1800 - accuracy: 0.9230 - val_loss: 0.2506 - val_accuracy: 0.9080\n",
      "Epoch 15/50\n",
      "50/50 [==============================] - 11s 220ms/step - loss: 0.1717 - accuracy: 0.9370 - val_loss: 0.2622 - val_accuracy: 0.9060\n",
      "Epoch 16/50\n",
      "50/50 [==============================] - 11s 222ms/step - loss: 0.2047 - accuracy: 0.9260 - val_loss: 0.1808 - val_accuracy: 0.9310\n",
      "Epoch 17/50\n",
      "50/50 [==============================] - 11s 218ms/step - loss: 0.1578 - accuracy: 0.9410 - val_loss: 0.1907 - val_accuracy: 0.9290\n",
      "Epoch 18/50\n",
      "50/50 [==============================] - 11s 220ms/step - loss: 0.1605 - accuracy: 0.9360 - val_loss: 0.2041 - val_accuracy: 0.9220\n",
      "Epoch 19/50\n",
      "50/50 [==============================] - 11s 219ms/step - loss: 0.1805 - accuracy: 0.9260 - val_loss: 0.1796 - val_accuracy: 0.9280\n",
      "Epoch 20/50\n",
      "50/50 [==============================] - 11s 219ms/step - loss: 0.1629 - accuracy: 0.9360 - val_loss: 0.1828 - val_accuracy: 0.9380\n",
      "Epoch 21/50\n",
      "50/50 [==============================] - 11s 220ms/step - loss: 0.1272 - accuracy: 0.9540 - val_loss: 0.1976 - val_accuracy: 0.9310\n",
      "Epoch 22/50\n",
      "50/50 [==============================] - 11s 222ms/step - loss: 0.1453 - accuracy: 0.9440 - val_loss: 0.2387 - val_accuracy: 0.9220\n",
      "Epoch 23/50\n",
      "50/50 [==============================] - 11s 223ms/step - loss: 0.1414 - accuracy: 0.9330 - val_loss: 0.2314 - val_accuracy: 0.9260\n",
      "Epoch 24/50\n",
      "50/50 [==============================] - 11s 223ms/step - loss: 0.1276 - accuracy: 0.9520 - val_loss: 0.2030 - val_accuracy: 0.9280\n",
      "Epoch 25/50\n",
      "50/50 [==============================] - 11s 221ms/step - loss: 0.1331 - accuracy: 0.9570 - val_loss: 0.1922 - val_accuracy: 0.9280\n",
      "Epoch 26/50\n",
      "50/50 [==============================] - 11s 220ms/step - loss: 0.1322 - accuracy: 0.9380 - val_loss: 0.1972 - val_accuracy: 0.9340\n",
      "Epoch 27/50\n",
      "50/50 [==============================] - 11s 224ms/step - loss: 0.1376 - accuracy: 0.9490 - val_loss: 0.1876 - val_accuracy: 0.9350\n",
      "Epoch 28/50\n",
      "50/50 [==============================] - 11s 222ms/step - loss: 0.1541 - accuracy: 0.9450 - val_loss: 0.3199 - val_accuracy: 0.9030\n",
      "Epoch 29/50\n",
      "50/50 [==============================] - 11s 221ms/step - loss: 0.1040 - accuracy: 0.9570 - val_loss: 0.2654 - val_accuracy: 0.9160\n",
      "Epoch 30/50\n",
      "50/50 [==============================] - 11s 224ms/step - loss: 0.1207 - accuracy: 0.9500 - val_loss: 0.2127 - val_accuracy: 0.9320\n",
      "Epoch 31/50\n",
      "50/50 [==============================] - 11s 221ms/step - loss: 0.1228 - accuracy: 0.9480 - val_loss: 0.2317 - val_accuracy: 0.9260\n",
      "Epoch 32/50\n",
      "50/50 [==============================] - 11s 221ms/step - loss: 0.1461 - accuracy: 0.9450 - val_loss: 0.2068 - val_accuracy: 0.9330\n",
      "Epoch 33/50\n",
      "50/50 [==============================] - 11s 221ms/step - loss: 0.1239 - accuracy: 0.9510 - val_loss: 0.2421 - val_accuracy: 0.9270\n",
      "Epoch 34/50\n",
      "50/50 [==============================] - 11s 221ms/step - loss: 0.1191 - accuracy: 0.9540 - val_loss: 0.2243 - val_accuracy: 0.9310\n",
      "Epoch 35/50\n",
      "50/50 [==============================] - 11s 225ms/step - loss: 0.0900 - accuracy: 0.9650 - val_loss: 0.2298 - val_accuracy: 0.9350\n",
      "Epoch 36/50\n",
      "50/50 [==============================] - 11s 223ms/step - loss: 0.1185 - accuracy: 0.9540 - val_loss: 0.2119 - val_accuracy: 0.9340\n",
      "Epoch 37/50\n",
      "50/50 [==============================] - 11s 222ms/step - loss: 0.0931 - accuracy: 0.9620 - val_loss: 0.2360 - val_accuracy: 0.9280\n",
      "Epoch 38/50\n",
      "50/50 [==============================] - 11s 220ms/step - loss: 0.0914 - accuracy: 0.9680 - val_loss: 0.3568 - val_accuracy: 0.9020\n",
      "Epoch 39/50\n",
      "50/50 [==============================] - 11s 219ms/step - loss: 0.1008 - accuracy: 0.9650 - val_loss: 0.2102 - val_accuracy: 0.9400\n",
      "Epoch 40/50\n",
      "50/50 [==============================] - 11s 220ms/step - loss: 0.0967 - accuracy: 0.9620 - val_loss: 0.2060 - val_accuracy: 0.9370\n",
      "Epoch 41/50\n",
      "50/50 [==============================] - 11s 219ms/step - loss: 0.0883 - accuracy: 0.9660 - val_loss: 0.2304 - val_accuracy: 0.9330\n",
      "Epoch 42/50\n",
      "50/50 [==============================] - 11s 219ms/step - loss: 0.0653 - accuracy: 0.9730 - val_loss: 0.2343 - val_accuracy: 0.9350\n",
      "Epoch 43/50\n",
      "50/50 [==============================] - 11s 220ms/step - loss: 0.0976 - accuracy: 0.9610 - val_loss: 0.2339 - val_accuracy: 0.9330\n",
      "Epoch 44/50\n",
      "50/50 [==============================] - 11s 224ms/step - loss: 0.0944 - accuracy: 0.9630 - val_loss: 0.2109 - val_accuracy: 0.9370\n",
      "Epoch 45/50\n",
      "50/50 [==============================] - 11s 221ms/step - loss: 0.0814 - accuracy: 0.9670 - val_loss: 0.2224 - val_accuracy: 0.9400\n",
      "Epoch 46/50\n",
      "50/50 [==============================] - 11s 219ms/step - loss: 0.0786 - accuracy: 0.9700 - val_loss: 0.3282 - val_accuracy: 0.9210\n",
      "Epoch 47/50\n",
      "50/50 [==============================] - 11s 221ms/step - loss: 0.0954 - accuracy: 0.9610 - val_loss: 0.2417 - val_accuracy: 0.9320\n",
      "Epoch 48/50\n",
      "50/50 [==============================] - 11s 221ms/step - loss: 0.0739 - accuracy: 0.9750 - val_loss: 0.2768 - val_accuracy: 0.9280\n",
      "Epoch 49/50\n",
      "50/50 [==============================] - 11s 222ms/step - loss: 0.0802 - accuracy: 0.9700 - val_loss: 0.2410 - val_accuracy: 0.9330\n",
      "Epoch 50/50\n",
      "50/50 [==============================] - 11s 224ms/step - loss: 0.0583 - accuracy: 0.9790 - val_loss: 0.3408 - val_accuracy: 0.9130\n"
     ]
    }
   ],
   "source": [
    "# Train\n",
    "model2c.compile(optimizer=tf.keras.optimizers.RMSprop(learning_rate=2e-5), \n",
    "              loss='binary_crossentropy', metrics=['accuracy'])\n",
    "with tf.device('/device:GPU:0'):\n",
    "    history2c = model2c.fit(train_generator, epochs=50, batch_size=20,\n",
    "                        steps_per_epoch=50,\n",
    "          validation_data=validation_generator)"
   ]
  },
  {
   "cell_type": "code",
   "execution_count": 103,
   "metadata": {
    "colab": {
     "base_uri": "https://localhost:8080/",
     "height": 709
    },
    "colab_type": "code",
    "id": "rghE-KqsdN5B",
    "outputId": "30da06e2-ff9b-4a75-f27c-be3816e29eb5"
   },
   "outputs": [
    {
     "data": {
      "text/html": [
       "<div>\n",
       "<style scoped>\n",
       "    .dataframe tbody tr th:only-of-type {\n",
       "        vertical-align: middle;\n",
       "    }\n",
       "\n",
       "    .dataframe tbody tr th {\n",
       "        vertical-align: top;\n",
       "    }\n",
       "\n",
       "    .dataframe thead th {\n",
       "        text-align: right;\n",
       "    }\n",
       "</style>\n",
       "<table border=\"1\" class=\"dataframe\">\n",
       "  <thead>\n",
       "    <tr style=\"text-align: right;\">\n",
       "      <th></th>\n",
       "      <th>loss</th>\n",
       "      <th>accuracy</th>\n",
       "      <th>val_loss</th>\n",
       "      <th>val_accuracy</th>\n",
       "      <th>epoch</th>\n",
       "    </tr>\n",
       "  </thead>\n",
       "  <tbody>\n",
       "    <tr>\n",
       "      <th>45</th>\n",
       "      <td>0.078636</td>\n",
       "      <td>0.970</td>\n",
       "      <td>0.328210</td>\n",
       "      <td>0.921</td>\n",
       "      <td>46</td>\n",
       "    </tr>\n",
       "    <tr>\n",
       "      <th>46</th>\n",
       "      <td>0.095415</td>\n",
       "      <td>0.961</td>\n",
       "      <td>0.241738</td>\n",
       "      <td>0.932</td>\n",
       "      <td>47</td>\n",
       "    </tr>\n",
       "    <tr>\n",
       "      <th>47</th>\n",
       "      <td>0.073891</td>\n",
       "      <td>0.975</td>\n",
       "      <td>0.276778</td>\n",
       "      <td>0.928</td>\n",
       "      <td>48</td>\n",
       "    </tr>\n",
       "    <tr>\n",
       "      <th>48</th>\n",
       "      <td>0.080188</td>\n",
       "      <td>0.970</td>\n",
       "      <td>0.240959</td>\n",
       "      <td>0.933</td>\n",
       "      <td>49</td>\n",
       "    </tr>\n",
       "    <tr>\n",
       "      <th>49</th>\n",
       "      <td>0.058298</td>\n",
       "      <td>0.979</td>\n",
       "      <td>0.340845</td>\n",
       "      <td>0.913</td>\n",
       "      <td>50</td>\n",
       "    </tr>\n",
       "  </tbody>\n",
       "</table>\n",
       "</div>"
      ],
      "text/plain": [
       "        loss  accuracy  val_loss  val_accuracy  epoch\n",
       "45  0.078636     0.970  0.328210         0.921     46\n",
       "46  0.095415     0.961  0.241738         0.932     47\n",
       "47  0.073891     0.975  0.276778         0.928     48\n",
       "48  0.080188     0.970  0.240959         0.933     49\n",
       "49  0.058298     0.979  0.340845         0.913     50"
      ]
     },
     "metadata": {
      "tags": []
     },
     "output_type": "display_data"
    },
    {
     "data": {
      "image/png": "[encoded data removed]",
      "text/plain": [
       "<Figure size 1224x720 with 2 Axes>"
      ]
     },
     "metadata": {
      "needs_background": "light",
      "tags": []
     },
     "output_type": "display_data"
    }
   ],
   "source": [
    "metrics_df = pd.DataFrame(history2c.history)\n",
    "metrics_df['epoch'] = metrics_df.index+1\n",
    "display(metrics_df.tail())\n",
    "\n",
    "fig = plt.figure(figsize=(17,10))\n",
    "ax1, ax2 = fig.add_subplot(2,1,1), fig.add_subplot(2,1,2)\n",
    "metrics_df.plot(kind='scatter', x='epoch', y='loss', ax=ax1, label='train', color='blue')\n",
    "metrics_df.plot(kind='line', x='epoch', y='val_loss', ax=ax1, label='validation', color='red',)\n",
    "ax1.set_ylabel(\"Loss\")\n",
    "ax1.grid('GAINSBORO')\n",
    "ax1.legend([])\n",
    "ax1.set_ylim(0,1.1)\n",
    "ax1.set_xticks(range(0,51))\n",
    "\n",
    "metrics_df.plot(kind='scatter', x='epoch', y='accuracy', ax=ax2, label='train', color='blue')\n",
    "metrics_df.plot(kind='line', x='epoch', y='val_accuracy', ax=ax2, label='validation', color='red',)\n",
    "ax2.set_ylabel(\"Accuracy\")\n",
    "ax2.grid('GAINSBORO')\n",
    "ax2.set_xticks(range(0,51))\n",
    "ax2.legend([])\n",
    "ax2.set_ylim(0,1.1)\n",
    "plt.show()"
   ]
  },
  {
   "cell_type": "code",
   "execution_count": 104,
   "metadata": {
    "colab": {
     "base_uri": "https://localhost:8080/",
     "height": 34
    },
    "colab_type": "code",
    "id": "0BR_GQBudRek",
    "outputId": "f5152ae8-c818-474a-d278-df40f2139f46"
   },
   "outputs": [
    {
     "name": "stdout",
     "output_type": "stream",
     "text": [
      "Found 1000 images belonging to 2 classes.\n"
     ]
    }
   ],
   "source": [
    "# Test this on the test set\n",
    "test_datagen = tf.keras.preprocessing.image.ImageDataGenerator(rescale=1./255)\n",
    "test_generator = test_datagen.flow_from_directory(test_dir, target_size=(150, 150),\n",
    "                                                   batch_size=20, class_mode='binary')"
   ]
  },
  {
   "cell_type": "code",
   "execution_count": 105,
   "metadata": {
    "colab": {
     "base_uri": "https://localhost:8080/",
     "height": 51
    },
    "colab_type": "code",
    "id": "OwmjMslidl3S",
    "outputId": "32353166-c566-4874-803b-bfa3ca7f1ffc"
   },
   "outputs": [
    {
     "name": "stdout",
     "output_type": "stream",
     "text": [
      "50/50 [==============================] - 3s 67ms/step - loss: 0.3031 - accuracy: 0.9150\n",
      "0.9150000214576721\n"
     ]
    }
   ],
   "source": [
    "test_loss, test_acc = model2c.evaluate(test_generator, steps=50)\n",
    "print(test_acc)"
   ]
  }
 ],
 "metadata": {
  "accelerator": "GPU",
  "colab": {
   "collapsed_sections": [],
   "name": "Untitled1.ipynb",
   "provenance": [],
   "toc_visible": true
  },
  "kernelspec": {
   "display_name": "Python 3",
   "language": "python",
   "name": "python3"
  },
  "language_info": {
   "codemirror_mode": {
    "name": "ipython",
    "version": 3
   },
   "file_extension": ".py",
   "mimetype": "text/x-python",
   "name": "python",
   "nbconvert_exporter": "python",
   "pygments_lexer": "ipython3",
   "version": "3.7.2"
  }
 },
 "nbformat": 4,
 "nbformat_minor": 1
}
