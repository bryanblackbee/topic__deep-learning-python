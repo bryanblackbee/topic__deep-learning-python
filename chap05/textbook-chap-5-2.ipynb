{
 "cells": [
  {
   "cell_type": "markdown",
   "metadata": {},
   "source": [
    "# 5. Deep Learning for Computer Vision\n",
    "\n",
    "## Training a Convnet from Scratch on a Small Dataset"
   ]
  },
  {
   "cell_type": "code",
   "execution_count": 1,
   "metadata": {
    "ExecuteTime": {
     "end_time": "2020-06-02T10:01:08.217821Z",
     "start_time": "2020-06-02T10:01:06.307269Z"
    }
   },
   "outputs": [],
   "source": [
    "from tensorflow import keras\n",
    "\n",
    "from chap05preprocessing import run_ingest\n",
    "\n",
    "import pandas as pd\n",
    "import matplotlib.pyplot as plt"
   ]
  },
  {
   "cell_type": "markdown",
   "metadata": {},
   "source": [
    "As a practical example for using convnets, we shall consider the **dogs-vs-cats** problem. Given an image, we have to classify it to be either a dog or a cat. \n",
    "\n",
    "We will first start tackling the problem by naïvely training a small convnet on the training set with no regularisation to obtain a baseline model. Then, we will introduce <b>data augmentation</b> to improve the model performance.\n",
    "\n",
    "Afterwhich, we will look at more essential techniques, in particular <b>feature extraction with a pretrained network</b> and <b>fine-tuning a pretrained network</b>. Together, these strategies will constitute a toolbox for tackling image classification."
   ]
  },
  {
   "cell_type": "code",
   "execution_count": 2,
   "metadata": {
    "ExecuteTime": {
     "end_time": "2020-06-02T10:01:08.223415Z",
     "start_time": "2020-06-02T10:01:08.220314Z"
    },
    "scrolled": true
   },
   "outputs": [],
   "source": [
    "# Ingest\n",
    "########\n",
    "# run_ingest()"
   ]
  },
  {
   "cell_type": "code",
   "execution_count": 3,
   "metadata": {
    "ExecuteTime": {
     "end_time": "2020-06-02T10:01:08.463980Z",
     "start_time": "2020-06-02T10:01:08.227706Z"
    }
   },
   "outputs": [
    {
     "name": "stdout",
     "output_type": "stream",
     "text": [
      "Found 2000 images belonging to 2 classes.\n",
      "Found 1000 images belonging to 2 classes.\n"
     ]
    }
   ],
   "source": [
    "# Preprocessing\n",
    "import os\n",
    "HOME_DIR = os.path.dirname(os.path.abspath('__FILE__'))\n",
    "WORKSPACE_DIR = os.path.join(HOME_DIR, 'workspace')\n",
    "\n",
    "train_dir = os.path.join(WORKSPACE_DIR, 'train')\n",
    "validation_dir = os.path.join(WORKSPACE_DIR, 'validation')\n",
    "test_dir = os.path.join(WORKSPACE_DIR, 'test')\n",
    "\n",
    "train_datagen = keras.preprocessing.image.ImageDataGenerator(rescale=1./255)\n",
    "test_datagen = keras.preprocessing.image.ImageDataGenerator(rescale=1./255)\n",
    "\n",
    "train_generator = train_datagen.flow_from_directory(train_dir, target_size=(150, 150),\n",
    "                                                   batch_size=20, class_mode='binary')\n",
    "validation_generator = test_datagen.flow_from_directory(validation_dir, target_size=(150, 150),\n",
    "                                                   batch_size=20, class_mode='binary')"
   ]
  },
  {
   "cell_type": "markdown",
   "metadata": {},
   "source": [
    "Building the network follows the simple workflow. Build the model, and tune the model."
   ]
  },
  {
   "cell_type": "code",
   "execution_count": 4,
   "metadata": {
    "ExecuteTime": {
     "end_time": "2020-06-02T10:01:08.625043Z",
     "start_time": "2020-06-02T10:01:08.467762Z"
    }
   },
   "outputs": [],
   "source": [
    "# Instantiate Model\n",
    "model = keras.models.Sequential()\n",
    "model.add(keras.layers.Conv2D(32, (3,3), activation='relu', input_shape=(150, 150, 3)))\n",
    "model.add(keras.layers.MaxPooling2D(2,2))\n",
    "model.add(keras.layers.Conv2D(64, (3,3), activation='relu'))\n",
    "model.add(keras.layers.MaxPooling2D(2,2))\n",
    "model.add(keras.layers.Conv2D(128, (3,3), activation='relu'))\n",
    "model.add(keras.layers.MaxPooling2D(2,2))\n",
    "model.add(keras.layers.Conv2D(128, (3,3), activation='relu'))\n",
    "model.add(keras.layers.MaxPooling2D(2,2))\n",
    "model.add(keras.layers.Flatten())\n",
    "model.add(keras.layers.Dense(512, activation='relu'))\n",
    "model.add(keras.layers.Dense(1, activation='sigmoid'))"
   ]
  },
  {
   "cell_type": "code",
   "execution_count": 5,
   "metadata": {
    "ExecuteTime": {
     "end_time": "2020-06-02T10:01:08.641942Z",
     "start_time": "2020-06-02T10:01:08.627073Z"
    },
    "scrolled": true
   },
   "outputs": [
    {
     "name": "stdout",
     "output_type": "stream",
     "text": [
      "Model: \"sequential\"\n",
      "_________________________________________________________________\n",
      "Layer (type)                 Output Shape              Param #   \n",
      "=================================================================\n",
      "conv2d (Conv2D)              (None, 148, 148, 32)      896       \n",
      "_________________________________________________________________\n",
      "max_pooling2d (MaxPooling2D) (None, 74, 74, 32)        0         \n",
      "_________________________________________________________________\n",
      "conv2d_1 (Conv2D)            (None, 72, 72, 64)        18496     \n",
      "_________________________________________________________________\n",
      "max_pooling2d_1 (MaxPooling2 (None, 36, 36, 64)        0         \n",
      "_________________________________________________________________\n",
      "conv2d_2 (Conv2D)            (None, 34, 34, 128)       73856     \n",
      "_________________________________________________________________\n",
      "max_pooling2d_2 (MaxPooling2 (None, 17, 17, 128)       0         \n",
      "_________________________________________________________________\n",
      "conv2d_3 (Conv2D)            (None, 15, 15, 128)       147584    \n",
      "_________________________________________________________________\n",
      "max_pooling2d_3 (MaxPooling2 (None, 7, 7, 128)         0         \n",
      "_________________________________________________________________\n",
      "flatten (Flatten)            (None, 6272)              0         \n",
      "_________________________________________________________________\n",
      "dense (Dense)                (None, 512)               3211776   \n",
      "_________________________________________________________________\n",
      "dense_1 (Dense)              (None, 1)                 513       \n",
      "=================================================================\n",
      "Total params: 3,453,121\n",
      "Trainable params: 3,453,121\n",
      "Non-trainable params: 0\n",
      "_________________________________________________________________\n",
      "None\n"
     ]
    }
   ],
   "source": [
    "# For testing\n",
    "print(model.summary())"
   ]
  },
  {
   "cell_type": "code",
   "execution_count": 6,
   "metadata": {
    "ExecuteTime": {
     "end_time": "2020-06-02T10:01:08.665537Z",
     "start_time": "2020-06-02T10:01:08.645358Z"
    }
   },
   "outputs": [],
   "source": [
    "# Compile model\n",
    "model.compile(optimizer=keras.optimizers.RMSprop(learning_rate=1e-4), \n",
    "              loss='binary_crossentropy', metrics=['accuracy'])"
   ]
  },
  {
   "cell_type": "code",
   "execution_count": 7,
   "metadata": {
    "ExecuteTime": {
     "end_time": "2020-06-02T11:03:06.129627Z",
     "start_time": "2020-06-02T10:01:08.669975Z"
    }
   },
   "outputs": [
    {
     "name": "stdout",
     "output_type": "stream",
     "text": [
      "Epoch 1/30\n",
      " 43/100 [===========>..................] - ETA: 42s - loss: 0.6934 - accuracy: 0.5081"
     ]
    },
    {
     "name": "stderr",
     "output_type": "stream",
     "text": [
      "/Users/bryanlim/.pyenv/versions/3.7.2/envs/botanic/lib/python3.7/site-packages/PIL/TiffImagePlugin.py:770: UserWarning: Possibly corrupt EXIF data.  Expecting to read 32 bytes but only got 0. Skipping tag 270\n",
      "  \" Skipping tag %s\" % (size, len(data), tag)\n",
      "/Users/bryanlim/.pyenv/versions/3.7.2/envs/botanic/lib/python3.7/site-packages/PIL/TiffImagePlugin.py:770: UserWarning: Possibly corrupt EXIF data.  Expecting to read 5 bytes but only got 0. Skipping tag 271\n",
      "  \" Skipping tag %s\" % (size, len(data), tag)\n",
      "/Users/bryanlim/.pyenv/versions/3.7.2/envs/botanic/lib/python3.7/site-packages/PIL/TiffImagePlugin.py:770: UserWarning: Possibly corrupt EXIF data.  Expecting to read 8 bytes but only got 0. Skipping tag 272\n",
      "  \" Skipping tag %s\" % (size, len(data), tag)\n",
      "/Users/bryanlim/.pyenv/versions/3.7.2/envs/botanic/lib/python3.7/site-packages/PIL/TiffImagePlugin.py:770: UserWarning: Possibly corrupt EXIF data.  Expecting to read 8 bytes but only got 0. Skipping tag 282\n",
      "  \" Skipping tag %s\" % (size, len(data), tag)\n",
      "/Users/bryanlim/.pyenv/versions/3.7.2/envs/botanic/lib/python3.7/site-packages/PIL/TiffImagePlugin.py:770: UserWarning: Possibly corrupt EXIF data.  Expecting to read 8 bytes but only got 0. Skipping tag 283\n",
      "  \" Skipping tag %s\" % (size, len(data), tag)\n",
      "/Users/bryanlim/.pyenv/versions/3.7.2/envs/botanic/lib/python3.7/site-packages/PIL/TiffImagePlugin.py:770: UserWarning: Possibly corrupt EXIF data.  Expecting to read 20 bytes but only got 0. Skipping tag 306\n",
      "  \" Skipping tag %s\" % (size, len(data), tag)\n",
      "/Users/bryanlim/.pyenv/versions/3.7.2/envs/botanic/lib/python3.7/site-packages/PIL/TiffImagePlugin.py:770: UserWarning: Possibly corrupt EXIF data.  Expecting to read 48 bytes but only got 0. Skipping tag 532\n",
      "  \" Skipping tag %s\" % (size, len(data), tag)\n",
      "/Users/bryanlim/.pyenv/versions/3.7.2/envs/botanic/lib/python3.7/site-packages/PIL/TiffImagePlugin.py:788: UserWarning: Corrupt EXIF data.  Expecting to read 2 bytes but only got 0. \n",
      "  warnings.warn(str(msg))\n"
     ]
    },
    {
     "name": "stdout",
     "output_type": "stream",
     "text": [
      "100/100 [==============================] - 87s 872ms/step - loss: 0.6875 - accuracy: 0.5330 - val_loss: 0.6684 - val_accuracy: 0.6080\n",
      "Epoch 2/30\n",
      "100/100 [==============================] - 114s 1s/step - loss: 0.6492 - accuracy: 0.6150 - val_loss: 0.6766 - val_accuracy: 0.5730\n",
      "Epoch 3/30\n",
      "100/100 [==============================] - 102s 1s/step - loss: 0.6122 - accuracy: 0.6690 - val_loss: 0.6410 - val_accuracy: 0.6110\n",
      "Epoch 4/30\n",
      "100/100 [==============================] - 108s 1s/step - loss: 0.5830 - accuracy: 0.7020 - val_loss: 0.6137 - val_accuracy: 0.6530\n",
      "Epoch 5/30\n",
      "100/100 [==============================] - 109s 1s/step - loss: 0.5420 - accuracy: 0.7305 - val_loss: 0.5809 - val_accuracy: 0.7030\n",
      "Epoch 6/30\n",
      "100/100 [==============================] - 109s 1s/step - loss: 0.5131 - accuracy: 0.7490 - val_loss: 0.6364 - val_accuracy: 0.6420\n",
      "Epoch 7/30\n",
      "100/100 [==============================] - 110s 1s/step - loss: 0.4872 - accuracy: 0.7730 - val_loss: 0.5974 - val_accuracy: 0.7040\n",
      "Epoch 8/30\n",
      "100/100 [==============================] - 111s 1s/step - loss: 0.4595 - accuracy: 0.7820 - val_loss: 0.5475 - val_accuracy: 0.7390\n",
      "Epoch 9/30\n",
      "100/100 [==============================] - 113s 1s/step - loss: 0.4309 - accuracy: 0.8045 - val_loss: 0.5518 - val_accuracy: 0.7170\n",
      "Epoch 10/30\n",
      "100/100 [==============================] - 115s 1s/step - loss: 0.4073 - accuracy: 0.8215 - val_loss: 0.5188 - val_accuracy: 0.7620\n",
      "Epoch 11/30\n",
      "100/100 [==============================] - 117s 1s/step - loss: 0.3763 - accuracy: 0.8355 - val_loss: 0.6212 - val_accuracy: 0.6910\n",
      "Epoch 12/30\n",
      "100/100 [==============================] - 116s 1s/step - loss: 0.3494 - accuracy: 0.8485 - val_loss: 0.6396 - val_accuracy: 0.7060\n",
      "Epoch 13/30\n",
      "100/100 [==============================] - 124s 1s/step - loss: 0.3330 - accuracy: 0.8550 - val_loss: 0.5290 - val_accuracy: 0.7730\n",
      "Epoch 14/30\n",
      "100/100 [==============================] - 136s 1s/step - loss: 0.2983 - accuracy: 0.8835 - val_loss: 0.6134 - val_accuracy: 0.7430\n",
      "Epoch 15/30\n",
      "100/100 [==============================] - 130s 1s/step - loss: 0.2831 - accuracy: 0.8885 - val_loss: 0.5768 - val_accuracy: 0.7510\n",
      "Epoch 16/30\n",
      "100/100 [==============================] - 128s 1s/step - loss: 0.2510 - accuracy: 0.9070 - val_loss: 0.5279 - val_accuracy: 0.7820\n",
      "Epoch 17/30\n",
      "100/100 [==============================] - 126s 1s/step - loss: 0.2287 - accuracy: 0.9120 - val_loss: 0.5503 - val_accuracy: 0.7720\n",
      "Epoch 18/30\n",
      "100/100 [==============================] - 130s 1s/step - loss: 0.2035 - accuracy: 0.9245 - val_loss: 0.5740 - val_accuracy: 0.7780\n",
      "Epoch 19/30\n",
      "100/100 [==============================] - 130s 1s/step - loss: 0.1881 - accuracy: 0.9310 - val_loss: 0.5684 - val_accuracy: 0.7750\n",
      "Epoch 20/30\n",
      "100/100 [==============================] - 134s 1s/step - loss: 0.1642 - accuracy: 0.9400 - val_loss: 0.5853 - val_accuracy: 0.7830\n",
      "Epoch 21/30\n",
      "100/100 [==============================] - 133s 1s/step - loss: 0.1463 - accuracy: 0.9510 - val_loss: 0.6396 - val_accuracy: 0.7680\n",
      "Epoch 22/30\n",
      "100/100 [==============================] - 138s 1s/step - loss: 0.1277 - accuracy: 0.9615 - val_loss: 0.6367 - val_accuracy: 0.7850\n",
      "Epoch 23/30\n",
      "100/100 [==============================] - 137s 1s/step - loss: 0.1154 - accuracy: 0.9620 - val_loss: 0.6380 - val_accuracy: 0.7750\n",
      "Epoch 24/30\n",
      "100/100 [==============================] - 140s 1s/step - loss: 0.0937 - accuracy: 0.9720 - val_loss: 0.7894 - val_accuracy: 0.7580\n",
      "Epoch 25/30\n",
      "100/100 [==============================] - 132s 1s/step - loss: 0.0858 - accuracy: 0.9740 - val_loss: 0.7068 - val_accuracy: 0.7700\n",
      "Epoch 26/30\n",
      "100/100 [==============================] - 135s 1s/step - loss: 0.0723 - accuracy: 0.9835 - val_loss: 0.7190 - val_accuracy: 0.7860\n",
      "Epoch 27/30\n",
      "100/100 [==============================] - 129s 1s/step - loss: 0.0627 - accuracy: 0.9840 - val_loss: 0.7410 - val_accuracy: 0.7980\n",
      "Epoch 28/30\n",
      "100/100 [==============================] - 133s 1s/step - loss: 0.0534 - accuracy: 0.9840 - val_loss: 0.8009 - val_accuracy: 0.7860\n",
      "Epoch 29/30\n",
      "100/100 [==============================] - 125s 1s/step - loss: 0.0403 - accuracy: 0.9905 - val_loss: 0.8380 - val_accuracy: 0.7870\n",
      "Epoch 30/30\n",
      "100/100 [==============================] - 131s 1s/step - loss: 0.0401 - accuracy: 0.9885 - val_loss: 0.8557 - val_accuracy: 0.7890\n"
     ]
    }
   ],
   "source": [
    "# Train\n",
    "# history = model.fit(train_generator, steps_per_epoch=100, epochs=30,\n",
    "#          validation_data=validation_generator, validation_steps=50)\n",
    "# Note: Training took 1h"
   ]
  },
  {
   "cell_type": "code",
   "execution_count": 18,
   "metadata": {
    "ExecuteTime": {
     "end_time": "2020-06-02T12:42:44.917684Z",
     "start_time": "2020-06-02T12:42:44.839877Z"
    }
   },
   "outputs": [],
   "source": [
    "# Save model\n",
    "model.save('model_ex2v0__baseline.h5')"
   ]
  },
  {
   "cell_type": "code",
   "execution_count": 22,
   "metadata": {
    "ExecuteTime": {
     "end_time": "2020-06-02T12:48:28.764885Z",
     "start_time": "2020-06-02T12:48:28.194218Z"
    }
   },
   "outputs": [
    {
     "data": {
      "image/png": "[encoded data removed]",
      "text/plain": [
       "<Figure size 720x720 with 2 Axes>"
      ]
     },
     "metadata": {
      "needs_background": "light"
     },
     "output_type": "display_data"
    }
   ],
   "source": [
    "import warnings\n",
    "warnings.filterwarnings(\"ignore\")\n",
    "\n",
    "metrics_df = pd.DataFrame(history.history)\n",
    "metrics_df['epoch'] = metrics_df.index+1\n",
    "\n",
    "fig = plt.figure(figsize=(10,10))\n",
    "ax1, ax2 = fig.add_subplot(2,1,1), fig.add_subplot(2,1,2)\n",
    "metrics_df.plot(kind='scatter', x='epoch', y='loss', ax=ax1, label='train', color='blue')\n",
    "metrics_df.plot(kind='line', x='epoch', y='val_loss', ax=ax1, label='validation', color='red',)\n",
    "ax1.set_ylabel(\"Loss\")\n",
    "ax1.grid('GAINSBORO')\n",
    "ax1.legend([])\n",
    "ax1.set_ylim(0,1.1)\n",
    "ax1.set_xticks(range(0,31))\n",
    "\n",
    "metrics_df.plot(kind='scatter', x='epoch', y='accuracy', ax=ax2, label='train', color='blue')\n",
    "metrics_df.plot(kind='line', x='epoch', y='val_accuracy', ax=ax2, label='validation', color='red',)\n",
    "ax2.set_ylabel(\"Accuracy\")\n",
    "ax2.grid('GAINSBORO')\n",
    "ax2.set_xticks(range(0,31))\n",
    "ax2.legend([])\n",
    "ax2.set_ylim(0,1.1)\n",
    "plt.show()"
   ]
  },
  {
   "cell_type": "markdown",
   "metadata": {},
   "source": [
    "### Data Augmentation\n",
    "\n",
    "Data augmentation takes the approach of generating more training data from existing training samples, by <b>agumenting</b> the samples via a number of random transformations that yield believeable-looking images. This will never let the model see the same image twice. This helps expose the model to more aspects of the data and generalize better.\n",
    "\n",
    "It can be done by the `ImageDataGenerator`."
   ]
  },
  {
   "cell_type": "code",
   "execution_count": 31,
   "metadata": {
    "ExecuteTime": {
     "end_time": "2020-06-02T13:13:54.129306Z",
     "start_time": "2020-06-02T13:13:54.013652Z"
    }
   },
   "outputs": [
    {
     "name": "stdout",
     "output_type": "stream",
     "text": [
      "Found 2000 images belonging to 2 classes.\n"
     ]
    }
   ],
   "source": [
    "train_datagen2 = keras.preprocessing.image.ImageDataGenerator(\n",
    "    rescale=1./255, \n",
    "    rotation_range=40, # 0 - 180 degrees to randomly rotate\n",
    "    width_shift_range=0.2,  # ranges (as a fraction of total width/height)\n",
    "    height_shift_range=0.2, # to randomly translate pictures horizontally / vertically\n",
    "    shear_range=0.2, # randomly apply shearing transformations\n",
    "    zoom_range=0.2, # randomly zooming inside pictures\n",
    "    horizontal_flip = True, # randomly flipping the images\n",
    "    fill_mode='nearest' # strategy used for filling in newly created pixels, which can appear after any transformation\n",
    ")\n",
    "train_generator2 = train_datagen2.flow_from_directory(train_dir, target_size=(150, 150),\n",
    "                                                      batch_size=32, class_mode='binary')"
   ]
  },
  {
   "cell_type": "markdown",
   "metadata": {},
   "source": [
    "Another way to fight overfitting, we add a `Dropout` layer to the model, before the densely connected classifier."
   ]
  },
  {
   "cell_type": "code",
   "execution_count": 25,
   "metadata": {
    "ExecuteTime": {
     "end_time": "2020-06-02T13:04:33.299716Z",
     "start_time": "2020-06-02T13:04:33.155933Z"
    }
   },
   "outputs": [],
   "source": [
    "# Instantiate model2\n",
    "model2 = keras.models.Sequential()\n",
    "model2.add(keras.layers.Conv2D(32, (3,3), activation='relu', input_shape=(150, 150, 3)))\n",
    "model2.add(keras.layers.MaxPooling2D(2,2))\n",
    "model2.add(keras.layers.Conv2D(64, (3,3), activation='relu'))\n",
    "model2.add(keras.layers.MaxPooling2D(2,2))\n",
    "model2.add(keras.layers.Conv2D(128, (3,3), activation='relu'))\n",
    "model2.add(keras.layers.MaxPooling2D(2,2))\n",
    "model2.add(keras.layers.Conv2D(128, (3,3), activation='relu'))\n",
    "model2.add(keras.layers.MaxPooling2D(2,2))\n",
    "model2.add(keras.layers.Flatten())\n",
    "model2.add(keras.layers.Dropout(0.5))\n",
    "model2.add(keras.layers.Dense(512, activation='relu'))\n",
    "model2.add(keras.layers.Dense(1, activation='sigmoid'))"
   ]
  },
  {
   "cell_type": "code",
   "execution_count": 26,
   "metadata": {
    "ExecuteTime": {
     "end_time": "2020-06-02T13:04:53.674290Z",
     "start_time": "2020-06-02T13:04:53.659837Z"
    }
   },
   "outputs": [],
   "source": [
    "# Compile model\n",
    "model2.compile(optimizer=keras.optimizers.RMSprop(learning_rate=1e-4), \n",
    "              loss='binary_crossentropy', metrics=['accuracy'])"
   ]
  },
  {
   "cell_type": "code",
   "execution_count": 32,
   "metadata": {
    "ExecuteTime": {
     "end_time": "2020-06-02T14:27:03.341176Z",
     "start_time": "2020-06-02T13:14:08.177185Z"
    },
    "scrolled": true
   },
   "outputs": [
    {
     "name": "stdout",
     "output_type": "stream",
     "text": [
      "Epoch 1/50\n",
      "50/50 [==============================] - 54s 1s/step - loss: 0.6773 - accuracy: 0.5644 - val_loss: 0.6727 - val_accuracy: 0.5840\n",
      "Epoch 2/50\n",
      "50/50 [==============================] - 59s 1s/step - loss: 0.6735 - accuracy: 0.5612 - val_loss: 0.7067 - val_accuracy: 0.5160\n",
      "Epoch 3/50\n",
      "50/50 [==============================] - 232s 5s/step - loss: 0.6628 - accuracy: 0.6056 - val_loss: 0.7045 - val_accuracy: 0.5320\n",
      "Epoch 4/50\n",
      "50/50 [==============================] - 66s 1s/step - loss: 0.6538 - accuracy: 0.6086 - val_loss: 0.6386 - val_accuracy: 0.6250\n",
      "Epoch 5/50\n",
      "50/50 [==============================] - 131s 3s/step - loss: 0.6466 - accuracy: 0.6124 - val_loss: 0.6257 - val_accuracy: 0.6360\n",
      "Epoch 6/50\n",
      "50/50 [==============================] - 82s 2s/step - loss: 0.6357 - accuracy: 0.6356 - val_loss: 0.6415 - val_accuracy: 0.6210\n",
      "Epoch 7/50\n",
      "50/50 [==============================] - 96s 2s/step - loss: 0.6291 - accuracy: 0.6363 - val_loss: 0.5990 - val_accuracy: 0.6820\n",
      "Epoch 8/50\n",
      "50/50 [==============================] - 100s 2s/step - loss: 0.6163 - accuracy: 0.6597 - val_loss: 0.6382 - val_accuracy: 0.6090\n",
      "Epoch 9/50\n",
      "50/50 [==============================] - 89s 2s/step - loss: 0.6178 - accuracy: 0.6509 - val_loss: 0.6068 - val_accuracy: 0.6780\n",
      "Epoch 10/50\n",
      "50/50 [==============================] - 103s 2s/step - loss: 0.6001 - accuracy: 0.6755 - val_loss: 0.5952 - val_accuracy: 0.6780\n",
      "Epoch 11/50\n",
      "50/50 [==============================] - 93s 2s/step - loss: 0.6115 - accuracy: 0.6692 - val_loss: 0.5774 - val_accuracy: 0.6980\n",
      "Epoch 12/50\n",
      "50/50 [==============================] - 100s 2s/step - loss: 0.5969 - accuracy: 0.6717 - val_loss: 0.5677 - val_accuracy: 0.6980\n",
      "Epoch 13/50\n",
      "50/50 [==============================] - 98s 2s/step - loss: 0.6017 - accuracy: 0.6597 - val_loss: 0.5818 - val_accuracy: 0.7050\n",
      "Epoch 14/50\n",
      "50/50 [==============================] - 131s 3s/step - loss: 0.5942 - accuracy: 0.6736 - val_loss: 0.6101 - val_accuracy: 0.6930\n",
      "Epoch 15/50\n",
      "50/50 [==============================] - 86s 2s/step - loss: 0.6003 - accuracy: 0.6723 - val_loss: 0.6168 - val_accuracy: 0.6570\n",
      "Epoch 16/50\n",
      "50/50 [==============================] - 105s 2s/step - loss: 0.5846 - accuracy: 0.6806 - val_loss: 0.5641 - val_accuracy: 0.7260\n",
      "Epoch 17/50\n",
      "50/50 [==============================] - 93s 2s/step - loss: 0.5900 - accuracy: 0.6862 - val_loss: 0.5704 - val_accuracy: 0.7080\n",
      "Epoch 18/50\n",
      "50/50 [==============================] - 83s 2s/step - loss: 0.5859 - accuracy: 0.6824 - val_loss: 0.5877 - val_accuracy: 0.6950\n",
      "Epoch 19/50\n",
      "50/50 [==============================] - 93s 2s/step - loss: 0.5745 - accuracy: 0.6963 - val_loss: 0.7178 - val_accuracy: 0.5900\n",
      "Epoch 20/50\n",
      "50/50 [==============================] - 83s 2s/step - loss: 0.5739 - accuracy: 0.6900 - val_loss: 0.5453 - val_accuracy: 0.7410\n",
      "Epoch 21/50\n",
      "50/50 [==============================] - 84s 2s/step - loss: 0.5765 - accuracy: 0.6812 - val_loss: 0.5397 - val_accuracy: 0.7460\n",
      "Epoch 22/50\n",
      "50/50 [==============================] - 86s 2s/step - loss: 0.5762 - accuracy: 0.6900 - val_loss: 0.5350 - val_accuracy: 0.7400\n",
      "Epoch 23/50\n",
      "50/50 [==============================] - 81s 2s/step - loss: 0.5740 - accuracy: 0.6982 - val_loss: 0.5369 - val_accuracy: 0.7180\n",
      "Epoch 24/50\n",
      "50/50 [==============================] - 82s 2s/step - loss: 0.5550 - accuracy: 0.7115 - val_loss: 0.5574 - val_accuracy: 0.6970\n",
      "Epoch 25/50\n",
      "50/50 [==============================] - 81s 2s/step - loss: 0.5574 - accuracy: 0.7134 - val_loss: 0.5547 - val_accuracy: 0.7240\n",
      "Epoch 26/50\n",
      "50/50 [==============================] - 79s 2s/step - loss: 0.5546 - accuracy: 0.7184 - val_loss: 0.5394 - val_accuracy: 0.7060\n",
      "Epoch 27/50\n",
      "50/50 [==============================] - 79s 2s/step - loss: 0.5564 - accuracy: 0.7071 - val_loss: 0.5535 - val_accuracy: 0.7140\n",
      "Epoch 28/50\n",
      "50/50 [==============================] - 79s 2s/step - loss: 0.5661 - accuracy: 0.7096 - val_loss: 0.5599 - val_accuracy: 0.7110\n",
      "Epoch 29/50\n",
      "50/50 [==============================] - 78s 2s/step - loss: 0.5590 - accuracy: 0.6944 - val_loss: 0.5445 - val_accuracy: 0.7180\n",
      "Epoch 30/50\n",
      "50/50 [==============================] - 77s 2s/step - loss: 0.5388 - accuracy: 0.7153 - val_loss: 0.5133 - val_accuracy: 0.7530\n",
      "Epoch 31/50\n",
      "50/50 [==============================] - 77s 2s/step - loss: 0.5487 - accuracy: 0.7200 - val_loss: 0.5129 - val_accuracy: 0.7420\n",
      "Epoch 32/50\n",
      "50/50 [==============================] - 77s 2s/step - loss: 0.5372 - accuracy: 0.7342 - val_loss: 0.5168 - val_accuracy: 0.7430\n",
      "Epoch 33/50\n",
      "50/50 [==============================] - 76s 2s/step - loss: 0.5349 - accuracy: 0.7279 - val_loss: 0.6195 - val_accuracy: 0.6890\n",
      "Epoch 34/50\n",
      "50/50 [==============================] - 76s 2s/step - loss: 0.5490 - accuracy: 0.7140 - val_loss: 0.5021 - val_accuracy: 0.7580\n",
      "Epoch 35/50\n",
      "50/50 [==============================] - 75s 2s/step - loss: 0.5434 - accuracy: 0.7237 - val_loss: 0.5171 - val_accuracy: 0.7380\n",
      "Epoch 36/50\n",
      "50/50 [==============================] - 75s 2s/step - loss: 0.5399 - accuracy: 0.7266 - val_loss: 0.5058 - val_accuracy: 0.7540\n",
      "Epoch 37/50\n",
      "50/50 [==============================] - 75s 2s/step - loss: 0.5372 - accuracy: 0.7134 - val_loss: 0.5114 - val_accuracy: 0.7500\n",
      "Epoch 38/50\n",
      "50/50 [==============================] - 75s 2s/step - loss: 0.5359 - accuracy: 0.7336 - val_loss: 0.5131 - val_accuracy: 0.7520\n",
      "Epoch 39/50\n",
      "50/50 [==============================] - 75s 1s/step - loss: 0.5174 - accuracy: 0.7331 - val_loss: 0.4938 - val_accuracy: 0.7670\n",
      "Epoch 40/50\n",
      "50/50 [==============================] - 75s 1s/step - loss: 0.5255 - accuracy: 0.7298 - val_loss: 0.5073 - val_accuracy: 0.7570\n",
      "Epoch 41/50\n",
      "50/50 [==============================] - 74s 1s/step - loss: 0.5242 - accuracy: 0.7216 - val_loss: 0.5206 - val_accuracy: 0.7490\n",
      "Epoch 42/50\n",
      "50/50 [==============================] - 74s 1s/step - loss: 0.5322 - accuracy: 0.7285 - val_loss: 0.4886 - val_accuracy: 0.7690\n",
      "Epoch 43/50\n",
      "50/50 [==============================] - 75s 1s/step - loss: 0.5373 - accuracy: 0.7241 - val_loss: 0.5125 - val_accuracy: 0.7470\n",
      "Epoch 44/50\n",
      "50/50 [==============================] - 74s 1s/step - loss: 0.5290 - accuracy: 0.7380 - val_loss: 0.5077 - val_accuracy: 0.7480\n",
      "Epoch 45/50\n",
      "50/50 [==============================] - 74s 1s/step - loss: 0.5193 - accuracy: 0.7418 - val_loss: 0.4878 - val_accuracy: 0.7760\n",
      "Epoch 46/50\n",
      "50/50 [==============================] - 76s 2s/step - loss: 0.5211 - accuracy: 0.7444 - val_loss: 0.4924 - val_accuracy: 0.7650\n",
      "Epoch 47/50\n",
      "50/50 [==============================] - 74s 1s/step - loss: 0.5018 - accuracy: 0.7519 - val_loss: 0.4852 - val_accuracy: 0.7650\n",
      "Epoch 48/50\n",
      "50/50 [==============================] - 74s 1s/step - loss: 0.4989 - accuracy: 0.7487 - val_loss: 0.4957 - val_accuracy: 0.7660\n",
      "Epoch 49/50\n",
      "50/50 [==============================] - 76s 2s/step - loss: 0.5221 - accuracy: 0.7449 - val_loss: 0.4914 - val_accuracy: 0.7680\n",
      "Epoch 50/50\n",
      "50/50 [==============================] - 75s 1s/step - loss: 0.5045 - accuracy: 0.7607 - val_loss: 0.5218 - val_accuracy: 0.7520\n"
     ]
    }
   ],
   "source": [
    "# Train\n",
    "history2 = model2.fit(train_generator2, steps_per_epoch=50, \n",
    "                     epochs=50, validation_data=validation_generator, \n",
    "                     validation_steps=50)"
   ]
  },
  {
   "cell_type": "code",
   "execution_count": 28,
   "metadata": {
    "ExecuteTime": {
     "end_time": "2020-06-02T13:06:59.689662Z",
     "start_time": "2020-06-02T13:06:59.601223Z"
    }
   },
   "outputs": [],
   "source": [
    "# Save model\n",
    "model2.save('model_ex2v1__augmentaion_dropout.h5')"
   ]
  },
  {
   "cell_type": "code",
   "execution_count": 34,
   "metadata": {
    "ExecuteTime": {
     "end_time": "2020-06-02T14:54:53.273667Z",
     "start_time": "2020-06-02T14:54:52.149315Z"
    }
   },
   "outputs": [
    {
     "data": {
      "image/png": "[encoded data removed]",
      "text/plain": [
       "<Figure size 1296x720 with 2 Axes>"
      ]
     },
     "metadata": {
      "needs_background": "light"
     },
     "output_type": "display_data"
    }
   ],
   "source": [
    "metrics_df = pd.DataFrame(history2.history)\n",
    "metrics_df['epoch'] = metrics_df.index+1\n",
    "\n",
    "fig = plt.figure(figsize=(18,10))\n",
    "ax1, ax2 = fig.add_subplot(2,1,1), fig.add_subplot(2,1,2)\n",
    "metrics_df.plot(kind='scatter', x='epoch', y='loss', ax=ax1, label='train', color='blue')\n",
    "metrics_df.plot(kind='line', x='epoch', y='val_loss', ax=ax1, label='validation', color='red',)\n",
    "ax1.set_ylabel(\"Loss\")\n",
    "ax1.grid('GAINSBORO')\n",
    "ax1.legend([])\n",
    "ax1.set_ylim(0,1.1)\n",
    "ax1.set_xticks(range(0,50))\n",
    "\n",
    "metrics_df.plot(kind='scatter', x='epoch', y='accuracy', ax=ax2, label='train', color='blue')\n",
    "metrics_df.plot(kind='line', x='epoch', y='val_accuracy', ax=ax2, label='validation', color='red',)\n",
    "ax2.set_ylabel(\"Accuracy\")\n",
    "ax2.grid('GAINSBORO')\n",
    "ax2.set_xticks(range(0,50))\n",
    "ax2.legend([])\n",
    "ax2.set_ylim(0,1.1)\n",
    "plt.show()"
   ]
  },
  {
   "cell_type": "markdown",
   "metadata": {},
   "source": [
    "Additional References / Resources:\n",
    "\n",
    "(1) - https://github.com/lutzroeder/Netron\n",
    "\n",
    "(2) - https://download.microsoft.com/download/3/E/1/3E1C3F21-ECDB-4869-8368-6DEBA77B919F/kagglecatsanddogs_3367a.zip"
   ]
  }
 ],
 "metadata": {
  "kernelspec": {
   "display_name": "Python 3",
   "language": "python",
   "name": "python3"
  },
  "language_info": {
   "codemirror_mode": {
    "name": "ipython",
    "version": 3
   },
   "file_extension": ".py",
   "mimetype": "text/x-python",
   "name": "python",
   "nbconvert_exporter": "python",
   "pygments_lexer": "ipython3",
   "version": "3.7.2"
  }
 },
 "nbformat": 4,
 "nbformat_minor": 4
}
