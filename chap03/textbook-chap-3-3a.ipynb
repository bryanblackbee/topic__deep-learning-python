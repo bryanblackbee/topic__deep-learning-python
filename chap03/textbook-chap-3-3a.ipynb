{
 "cells": [
  {
   "cell_type": "markdown",
   "metadata": {},
   "source": [
    "## 3. Getting Started with Neural Networks"
   ]
  },
  {
   "cell_type": "markdown",
   "metadata": {},
   "source": [
    "### Classifying newswires: A Multiclass Classification Example\n",
    "In the **reuters** problem, we want to classify newswires to one of 46 mutually exclusive topics. Since the number of classes is more than 2, this is a multiclass classification problem, extending from the binary classification problem."
   ]
  },
  {
   "cell_type": "code",
   "execution_count": 1,
   "metadata": {
    "ExecuteTime": {
     "end_time": "2020-05-27T04:33:24.356287Z",
     "start_time": "2020-05-27T04:33:20.490580Z"
    }
   },
   "outputs": [
    {
     "name": "stderr",
     "output_type": "stream",
     "text": [
      "Using TensorFlow backend.\n"
     ]
    }
   ],
   "source": [
    "from keras.datasets import reuters\n",
    "\n",
    "import numpy as np\n",
    "import pandas as pd\n",
    "import matplotlib.pyplot as plt\n",
    "\n",
    "from sklearn.model_selection import train_test_split\n",
    "\n",
    "from keras.utils.np_utils import to_categorical\n",
    "from keras import models\n",
    "from keras import layers"
   ]
  },
  {
   "cell_type": "code",
   "execution_count": 2,
   "metadata": {
    "ExecuteTime": {
     "end_time": "2020-05-27T04:33:25.732933Z",
     "start_time": "2020-05-27T04:33:24.359665Z"
    }
   },
   "outputs": [],
   "source": [
    "##########\n",
    "# Ingestion\n",
    "##########\n",
    "VOCABULARY_SIZE = 10000\n",
    "(train_data, train_labels), (test_data, test_labels) = reuters.load_data(num_words=VOCABULARY_SIZE)"
   ]
  },
  {
   "cell_type": "markdown",
   "metadata": {},
   "source": [
    "This is the Reuters dataset, a set of short newswires and their topics, published by Reuters in 1986. \n",
    "\n",
    "The data consists of 8982 training examples and 2246 test examples. Similarly each document is stored as a word vector. The labels are one of the 46 topics."
   ]
  },
  {
   "cell_type": "code",
   "execution_count": 3,
   "metadata": {
    "ExecuteTime": {
     "end_time": "2020-05-27T04:33:25.750728Z",
     "start_time": "2020-05-27T04:33:25.745907Z"
    }
   },
   "outputs": [],
   "source": [
    "# For testing\n",
    "# print([td[:15] for td in train_data[0:3]])\n",
    "# print(train_labels[0:3])"
   ]
  },
  {
   "cell_type": "markdown",
   "metadata": {},
   "source": [
    "Preprocessing follows that in the **reviews** problem for the input data. \n",
    "\n",
    "For the labels, we can cast the label list as an integer tensor, or one-hot encode the categorical data. We will do one-hot encoding.\n",
    "\n",
    "Note that if we use the integer tensor way, then the loss function will be `sparse_categorical_crossentropy`."
   ]
  },
  {
   "cell_type": "code",
   "execution_count": 4,
   "metadata": {
    "ExecuteTime": {
     "end_time": "2020-05-27T04:33:27.855468Z",
     "start_time": "2020-05-27T04:33:25.765254Z"
    }
   },
   "outputs": [],
   "source": [
    "##########\n",
    "# Preprocessing\n",
    "##########\n",
    "def vectorize_sequences(sequences, dimension=10000):\n",
    "    results = np.zeros((len(sequences), dimension))\n",
    "    for i, sequence in enumerate(sequences):\n",
    "          results[i, sequence] = 1.\n",
    "    return results\n",
    "x_train = vectorize_sequences(train_data)\n",
    "x_test = vectorize_sequences(test_data)\n",
    "y_train = to_categorical(train_labels)\n",
    "y_test = to_categorical(test_labels)\n",
    "\n",
    "# Train-Validation Split\n",
    "x_train__train, x_train__val, y_train__train, y_train__val = train_test_split(x_train, y_train, test_size=0.15,\n",
    "                                                                             random_state=0)"
   ]
  },
  {
   "cell_type": "markdown",
   "metadata": {},
   "source": [
    "For this problem, a 16-dimensional space might be too limited to learn to separate 46 different classes. For this, we go with a larger layer with 64 units.\n",
    "\n",
    "Also, for the last layer, we now use a softmax function because this is a multiclass problem with more than 2 classes. Note that the 46 probabilities from the output layer will sum to $1$ too.\n",
    "\n",
    "The network ends with a dense layer of size 46 to represent the 46 different categories. Each entry will encode a different output class."
   ]
  },
  {
   "cell_type": "code",
   "execution_count": 5,
   "metadata": {
    "ExecuteTime": {
     "end_time": "2020-05-27T04:33:28.235409Z",
     "start_time": "2020-05-27T04:33:27.860135Z"
    }
   },
   "outputs": [],
   "source": [
    "##########\n",
    "# Instantiate Model\n",
    "##########\n",
    "model = models.Sequential()\n",
    "model.add(layers.Dense(64, activation='relu', input_shape=(VOCABULARY_SIZE,)))\n",
    "model.add(layers.Dense(64, activation='relu'))\n",
    "model.add(layers.Dense(46, activation='softmax'))"
   ]
  },
  {
   "cell_type": "markdown",
   "metadata": {},
   "source": [
    "We use the same workflow and now will compile the model. This time the loss function changes to `categorical_crossentropy`."
   ]
  },
  {
   "cell_type": "code",
   "execution_count": 6,
   "metadata": {
    "ExecuteTime": {
     "end_time": "2020-05-27T04:33:28.341246Z",
     "start_time": "2020-05-27T04:33:28.238789Z"
    }
   },
   "outputs": [],
   "source": [
    "model.compile(optimizer='rmsprop', loss='categorical_crossentropy', metrics=['accuracy'])"
   ]
  },
  {
   "cell_type": "markdown",
   "metadata": {},
   "source": [
    "We will train the network on 20 epochs"
   ]
  },
  {
   "cell_type": "code",
   "execution_count": 7,
   "metadata": {
    "ExecuteTime": {
     "end_time": "2020-05-27T04:33:52.767843Z",
     "start_time": "2020-05-27T04:33:28.344497Z"
    },
    "scrolled": true
   },
   "outputs": [
    {
     "name": "stdout",
     "output_type": "stream",
     "text": [
      "Train on 7634 samples, validate on 1348 samples\n",
      "Epoch 1/20\n",
      "7634/7634 [==============================] - 2s 224us/step - loss: 2.6801 - accuracy: 0.5179 - val_loss: 1.7398 - val_accuracy: 0.6706\n",
      "Epoch 2/20\n",
      "7634/7634 [==============================] - 1s 138us/step - loss: 1.4373 - accuracy: 0.7096 - val_loss: 1.2920 - val_accuracy: 0.7322\n",
      "Epoch 3/20\n",
      "7634/7634 [==============================] - 1s 163us/step - loss: 1.0497 - accuracy: 0.7846 - val_loss: 1.1351 - val_accuracy: 0.7530\n",
      "Epoch 4/20\n",
      "7634/7634 [==============================] - 1s 158us/step - loss: 0.8273 - accuracy: 0.8274 - val_loss: 1.0442 - val_accuracy: 0.7797\n",
      "Epoch 5/20\n",
      "7634/7634 [==============================] - 1s 188us/step - loss: 0.6628 - accuracy: 0.8626 - val_loss: 0.9735 - val_accuracy: 0.7826\n",
      "Epoch 6/20\n",
      "7634/7634 [==============================] - 1s 144us/step - loss: 0.5361 - accuracy: 0.8884 - val_loss: 0.9528 - val_accuracy: 0.7841\n",
      "Epoch 7/20\n",
      "7634/7634 [==============================] - 1s 146us/step - loss: 0.4333 - accuracy: 0.9111 - val_loss: 0.9187 - val_accuracy: 0.8064\n",
      "Epoch 8/20\n",
      "7634/7634 [==============================] - 1s 137us/step - loss: 0.3508 - accuracy: 0.9276 - val_loss: 0.9311 - val_accuracy: 0.8056\n",
      "Epoch 9/20\n",
      "7634/7634 [==============================] - 1s 143us/step - loss: 0.2922 - accuracy: 0.9380 - val_loss: 0.9362 - val_accuracy: 0.8093\n",
      "Epoch 10/20\n",
      "7634/7634 [==============================] - 1s 171us/step - loss: 0.2429 - accuracy: 0.9439 - val_loss: 0.9231 - val_accuracy: 0.8131\n",
      "Epoch 11/20\n",
      "7634/7634 [==============================] - 1s 143us/step - loss: 0.2072 - accuracy: 0.9524 - val_loss: 0.9444 - val_accuracy: 0.8086\n",
      "Epoch 12/20\n",
      "7634/7634 [==============================] - 1s 148us/step - loss: 0.1863 - accuracy: 0.9519 - val_loss: 0.9693 - val_accuracy: 0.8138\n",
      "Epoch 13/20\n",
      "7634/7634 [==============================] - 1s 148us/step - loss: 0.1640 - accuracy: 0.9560 - val_loss: 1.0187 - val_accuracy: 0.8071\n",
      "Epoch 14/20\n",
      "7634/7634 [==============================] - 1s 149us/step - loss: 0.1528 - accuracy: 0.9564 - val_loss: 1.0036 - val_accuracy: 0.8138\n",
      "Epoch 15/20\n",
      "7634/7634 [==============================] - 1s 152us/step - loss: 0.1393 - accuracy: 0.9561 - val_loss: 1.0139 - val_accuracy: 0.8116\n",
      "Epoch 16/20\n",
      "7634/7634 [==============================] - 1s 141us/step - loss: 0.1281 - accuracy: 0.9574 - val_loss: 1.0965 - val_accuracy: 0.7967\n",
      "Epoch 17/20\n",
      "7634/7634 [==============================] - 1s 133us/step - loss: 0.1234 - accuracy: 0.9581 - val_loss: 1.0569 - val_accuracy: 0.8138\n",
      "Epoch 18/20\n",
      "7634/7634 [==============================] - 1s 154us/step - loss: 0.1184 - accuracy: 0.9583 - val_loss: 1.1076 - val_accuracy: 0.8042\n",
      "Epoch 19/20\n",
      "7634/7634 [==============================] - 1s 157us/step - loss: 0.1146 - accuracy: 0.9582 - val_loss: 1.1086 - val_accuracy: 0.8086\n",
      "Epoch 20/20\n",
      "7634/7634 [==============================] - 1s 162us/step - loss: 0.1131 - accuracy: 0.9595 - val_loss: 1.1150 - val_accuracy: 0.8101\n"
     ]
    }
   ],
   "source": [
    "##########\n",
    "# Train / Model Tuning\n",
    "##########\n",
    "history = model.fit(x_train__train, y_train__train, \n",
    "                    epochs=20, batch_size=512, \n",
    "                    validation_data=(x_train__val, y_train__val))"
   ]
  },
  {
   "cell_type": "markdown",
   "metadata": {},
   "source": [
    "Let's plot the loss and accuracy curves."
   ]
  },
  {
   "cell_type": "code",
   "execution_count": 8,
   "metadata": {
    "ExecuteTime": {
     "end_time": "2020-05-27T04:33:54.202402Z",
     "start_time": "2020-05-27T04:33:52.787089Z"
    },
    "scrolled": false
   },
   "outputs": [
    {
     "name": "stderr",
     "output_type": "stream",
     "text": [
      "/Users/bryanlim/.pyenv/versions/3.7.2/envs/botanic/lib/python3.7/site-packages/pandas/plotting/_matplotlib/tools.py:298: MatplotlibDeprecationWarning: \n",
      "The rowNum attribute was deprecated in Matplotlib 3.2 and will be removed two minor releases later. Use ax.get_subplotspec().rowspan.start instead.\n",
      "  layout[ax.rowNum, ax.colNum] = ax.get_visible()\n",
      "/Users/bryanlim/.pyenv/versions/3.7.2/envs/botanic/lib/python3.7/site-packages/pandas/plotting/_matplotlib/tools.py:298: MatplotlibDeprecationWarning: \n",
      "The colNum attribute was deprecated in Matplotlib 3.2 and will be removed two minor releases later. Use ax.get_subplotspec().colspan.start instead.\n",
      "  layout[ax.rowNum, ax.colNum] = ax.get_visible()\n",
      "/Users/bryanlim/.pyenv/versions/3.7.2/envs/botanic/lib/python3.7/site-packages/pandas/plotting/_matplotlib/tools.py:304: MatplotlibDeprecationWarning: \n",
      "The rowNum attribute was deprecated in Matplotlib 3.2 and will be removed two minor releases later. Use ax.get_subplotspec().rowspan.start instead.\n",
      "  if not layout[ax.rowNum + 1, ax.colNum]:\n",
      "/Users/bryanlim/.pyenv/versions/3.7.2/envs/botanic/lib/python3.7/site-packages/pandas/plotting/_matplotlib/tools.py:304: MatplotlibDeprecationWarning: \n",
      "The colNum attribute was deprecated in Matplotlib 3.2 and will be removed two minor releases later. Use ax.get_subplotspec().colspan.start instead.\n",
      "  if not layout[ax.rowNum + 1, ax.colNum]:\n",
      "/Users/bryanlim/.pyenv/versions/3.7.2/envs/botanic/lib/python3.7/site-packages/pandas/plotting/_matplotlib/tools.py:298: MatplotlibDeprecationWarning: \n",
      "The rowNum attribute was deprecated in Matplotlib 3.2 and will be removed two minor releases later. Use ax.get_subplotspec().rowspan.start instead.\n",
      "  layout[ax.rowNum, ax.colNum] = ax.get_visible()\n",
      "/Users/bryanlim/.pyenv/versions/3.7.2/envs/botanic/lib/python3.7/site-packages/pandas/plotting/_matplotlib/tools.py:298: MatplotlibDeprecationWarning: \n",
      "The colNum attribute was deprecated in Matplotlib 3.2 and will be removed two minor releases later. Use ax.get_subplotspec().colspan.start instead.\n",
      "  layout[ax.rowNum, ax.colNum] = ax.get_visible()\n",
      "/Users/bryanlim/.pyenv/versions/3.7.2/envs/botanic/lib/python3.7/site-packages/pandas/plotting/_matplotlib/tools.py:304: MatplotlibDeprecationWarning: \n",
      "The rowNum attribute was deprecated in Matplotlib 3.2 and will be removed two minor releases later. Use ax.get_subplotspec().rowspan.start instead.\n",
      "  if not layout[ax.rowNum + 1, ax.colNum]:\n",
      "/Users/bryanlim/.pyenv/versions/3.7.2/envs/botanic/lib/python3.7/site-packages/pandas/plotting/_matplotlib/tools.py:304: MatplotlibDeprecationWarning: \n",
      "The colNum attribute was deprecated in Matplotlib 3.2 and will be removed two minor releases later. Use ax.get_subplotspec().colspan.start instead.\n",
      "  if not layout[ax.rowNum + 1, ax.colNum]:\n",
      "/Users/bryanlim/.pyenv/versions/3.7.2/envs/botanic/lib/python3.7/site-packages/pandas/plotting/_matplotlib/tools.py:298: MatplotlibDeprecationWarning: \n",
      "The rowNum attribute was deprecated in Matplotlib 3.2 and will be removed two minor releases later. Use ax.get_subplotspec().rowspan.start instead.\n",
      "  layout[ax.rowNum, ax.colNum] = ax.get_visible()\n",
      "/Users/bryanlim/.pyenv/versions/3.7.2/envs/botanic/lib/python3.7/site-packages/pandas/plotting/_matplotlib/tools.py:298: MatplotlibDeprecationWarning: \n",
      "The colNum attribute was deprecated in Matplotlib 3.2 and will be removed two minor releases later. Use ax.get_subplotspec().colspan.start instead.\n",
      "  layout[ax.rowNum, ax.colNum] = ax.get_visible()\n",
      "/Users/bryanlim/.pyenv/versions/3.7.2/envs/botanic/lib/python3.7/site-packages/pandas/plotting/_matplotlib/tools.py:304: MatplotlibDeprecationWarning: \n",
      "The rowNum attribute was deprecated in Matplotlib 3.2 and will be removed two minor releases later. Use ax.get_subplotspec().rowspan.start instead.\n",
      "  if not layout[ax.rowNum + 1, ax.colNum]:\n",
      "/Users/bryanlim/.pyenv/versions/3.7.2/envs/botanic/lib/python3.7/site-packages/pandas/plotting/_matplotlib/tools.py:304: MatplotlibDeprecationWarning: \n",
      "The colNum attribute was deprecated in Matplotlib 3.2 and will be removed two minor releases later. Use ax.get_subplotspec().colspan.start instead.\n",
      "  if not layout[ax.rowNum + 1, ax.colNum]:\n"
     ]
    },
    {
     "data": {
      "image/png": "[encoded data removed]",
      "text/plain": [
       "<Figure size 720x720 with 2 Axes>"
      ]
     },
     "metadata": {
      "needs_background": "light"
     },
     "output_type": "display_data"
    }
   ],
   "source": [
    "history_dict = history.history\n",
    "metrics_df = pd.DataFrame({'loss' : history_dict['loss'], 'val_loss' : history_dict['val_loss'],\n",
    "                          'accuracy' : history_dict['accuracy'], 'val_accuracy' : history_dict['val_accuracy']})\n",
    "metrics_df['epoch'] = metrics_df.index+1\n",
    "\n",
    "fig = plt.figure(figsize=(10,10))\n",
    "ax1, ax2 = fig.add_subplot(2,1,1), fig.add_subplot(2,1,2)\n",
    "metrics_df.plot(kind='scatter', x='epoch', y='loss', ax=ax1, label='train', color='blue')\n",
    "metrics_df.plot(kind='line', x='epoch', y='val_loss', ax=ax1, label='validation', color='red',)\n",
    "ax1.set_ylabel(\"Loss\")\n",
    "ax1.grid('GAINSBORO')\n",
    "ax1.legend([])\n",
    "ax1.set_xticks(range(0,21))\n",
    "\n",
    "metrics_df.plot(kind='scatter', x='epoch', y='accuracy', ax=ax2, label='train', color='blue')\n",
    "metrics_df.plot(kind='line', x='epoch', y='val_accuracy', ax=ax2, label='validation', color='red',)\n",
    "ax2.set_ylabel(\"Accuracy\")\n",
    "ax2.grid('GAINSBORO')\n",
    "ax2.set_xticks(range(0,21))\n",
    "ax2.legend([])\n",
    "plt.show()"
   ]
  },
  {
   "cell_type": "markdown",
   "metadata": {},
   "source": [
    "For this, the network starts to overfit after 9 epochs. So we train a new network on the 9 epochs and use this on the test set."
   ]
  },
  {
   "cell_type": "code",
   "execution_count": 9,
   "metadata": {
    "ExecuteTime": {
     "end_time": "2020-05-27T04:34:06.609812Z",
     "start_time": "2020-05-27T04:33:54.210511Z"
    }
   },
   "outputs": [
    {
     "name": "stdout",
     "output_type": "stream",
     "text": [
      "Train on 7634 samples, validate on 1348 samples\n",
      "Epoch 1/9\n",
      "7634/7634 [==============================] - 2s 214us/step - loss: 2.6977 - accuracy: 0.5151 - val_loss: 1.7273 - val_accuracy: 0.6691\n",
      "Epoch 2/9\n",
      "7634/7634 [==============================] - 1s 147us/step - loss: 1.4365 - accuracy: 0.7026 - val_loss: 1.3043 - val_accuracy: 0.7263\n",
      "Epoch 3/9\n",
      "7634/7634 [==============================] - 1s 159us/step - loss: 1.0559 - accuracy: 0.7744 - val_loss: 1.1471 - val_accuracy: 0.7648\n",
      "Epoch 4/9\n",
      "7634/7634 [==============================] - 1s 151us/step - loss: 0.8280 - accuracy: 0.8238 - val_loss: 1.0568 - val_accuracy: 0.7774\n",
      "Epoch 5/9\n",
      "7634/7634 [==============================] - 1s 167us/step - loss: 0.6610 - accuracy: 0.8573 - val_loss: 0.9956 - val_accuracy: 0.7908\n",
      "Epoch 6/9\n",
      "7634/7634 [==============================] - 1s 159us/step - loss: 0.5266 - accuracy: 0.8934 - val_loss: 0.9578 - val_accuracy: 0.8012\n",
      "Epoch 7/9\n",
      "7634/7634 [==============================] - 1s 146us/step - loss: 0.4210 - accuracy: 0.9141 - val_loss: 0.9371 - val_accuracy: 0.8049\n",
      "Epoch 8/9\n",
      "7634/7634 [==============================] - 1s 154us/step - loss: 0.3412 - accuracy: 0.9290 - val_loss: 0.9910 - val_accuracy: 0.7945\n",
      "Epoch 9/9\n",
      "7634/7634 [==============================] - 1s 157us/step - loss: 0.2841 - accuracy: 0.9396 - val_loss: 0.9680 - val_accuracy: 0.7997\n"
     ]
    },
    {
     "data": {
      "text/plain": [
       "<keras.callbacks.callbacks.History at 0x141ff0fd0>"
      ]
     },
     "execution_count": 9,
     "metadata": {},
     "output_type": "execute_result"
    }
   ],
   "source": [
    "##########\n",
    "# Train Tuned Model\n",
    "##########\n",
    "model2 = models.Sequential()\n",
    "model2.add(layers.Dense(64, activation='relu', input_shape=(10000,)))\n",
    "model2.add(layers.Dense(64, activation='relu'))\n",
    "model2.add(layers.Dense(46, activation='softmax'))\n",
    "\n",
    "model2.compile(optimizer='rmsprop', loss='categorical_crossentropy', metrics=['accuracy'])\n",
    "model2.fit(x_train__train, y_train__train, \n",
    "           epochs=9, batch_size=512, \n",
    "           validation_data=(x_train__val, y_train__val))"
   ]
  },
  {
   "cell_type": "code",
   "execution_count": 10,
   "metadata": {
    "ExecuteTime": {
     "end_time": "2020-05-27T04:34:07.290495Z",
     "start_time": "2020-05-27T04:34:06.614560Z"
    }
   },
   "outputs": [
    {
     "name": "stdout",
     "output_type": "stream",
     "text": [
      "2246/2246 [==============================] - 1s 293us/step\n",
      "[0.9781410946765332, 0.7916295528411865]\n"
     ]
    }
   ],
   "source": [
    "##########\n",
    "# Evaluate on Test Set\n",
    "##########\n",
    "results = model2.evaluate(x_test, y_test)\n",
    "print(results)"
   ]
  },
  {
   "cell_type": "markdown",
   "metadata": {},
   "source": [
    "The final accuracy for the model is 79%."
   ]
  },
  {
   "cell_type": "markdown",
   "metadata": {},
   "source": [
    "For the softmax problem, the output class is the class with the highest probability."
   ]
  },
  {
   "cell_type": "code",
   "execution_count": 11,
   "metadata": {
    "ExecuteTime": {
     "end_time": "2020-05-27T04:34:07.672841Z",
     "start_time": "2020-05-27T04:34:07.294582Z"
    }
   },
   "outputs": [
    {
     "name": "stdout",
     "output_type": "stream",
     "text": [
      "(46,)\n",
      "[2.1319839e-04 5.6695560e-04 8.5935790e-05 9.1823786e-01 5.4409511e-02\n",
      " 4.2418309e-05 4.1385356e-04 1.2296803e-04 4.2097443e-03 4.3482435e-04\n",
      " 4.0947367e-04 4.0250167e-04 5.2805670e-04 5.8899546e-04 2.4064450e-04\n",
      " 2.2589864e-04 2.4976006e-03 3.5916158e-04 1.7567402e-04 8.4789265e-03\n",
      " 9.6042961e-04 2.8023732e-04 3.6053825e-05 9.2828716e-04 7.0048103e-05\n",
      " 3.7623732e-04 5.4751296e-04 4.1950436e-05 4.6452996e-04 2.3327624e-04\n",
      " 1.4909316e-04 5.3410017e-04 2.1194706e-05 2.0779729e-05 4.1986539e-05\n",
      " 4.1704257e-06 1.9494286e-04 7.5887633e-04 2.0173863e-04 3.0133824e-04\n",
      " 6.8227359e-04 1.8039605e-04 1.2039105e-04 1.4595005e-04 3.6131547e-05\n",
      " 2.3843990e-05]\n",
      "1.0000001\n",
      "3\n"
     ]
    }
   ],
   "source": [
    "##########\n",
    "# Predict\n",
    "##########\n",
    "prediction_probs = model2.predict(x_test)\n",
    "print(prediction_probs[0].shape)\n",
    "print(prediction_probs[0])\n",
    "print(np.sum(prediction_probs[0])) # sums to 1\n",
    "print(np.argmax(prediction_probs[0])) # sums to 1"
   ]
  },
  {
   "cell_type": "markdown",
   "metadata": {},
   "source": [
    "Here is how to update the framing of the model when using the integer tensor."
   ]
  },
  {
   "cell_type": "code",
   "execution_count": 12,
   "metadata": {
    "ExecuteTime": {
     "end_time": "2020-05-27T04:34:10.369551Z",
     "start_time": "2020-05-27T04:34:07.681451Z"
    }
   },
   "outputs": [],
   "source": [
    "ytrain_int = np.array(train_labels)\n",
    "ytest_int = np.array(test_labels)\n",
    "\n",
    "# Train-Validation Split\n",
    "x_train2__train, x_train2__val, y_train2__train, y_train2__val = train_test_split(x_train, ytrain_int, test_size=0.15,\n",
    "                                                                             random_state=0)"
   ]
  },
  {
   "cell_type": "code",
   "execution_count": 13,
   "metadata": {
    "ExecuteTime": {
     "end_time": "2020-05-27T04:34:25.568088Z",
     "start_time": "2020-05-27T04:34:10.376805Z"
    }
   },
   "outputs": [
    {
     "name": "stdout",
     "output_type": "stream",
     "text": [
      "Train on 7634 samples, validate on 1348 samples\n",
      "Epoch 1/9\n",
      "7634/7634 [==============================] - 3s 394us/step - loss: 2.6453 - accuracy: 0.4750 - val_loss: 1.7587 - val_accuracy: 0.6558\n",
      "Epoch 2/9\n",
      "7634/7634 [==============================] - 1s 183us/step - loss: 1.4545 - accuracy: 0.7050 - val_loss: 1.3366 - val_accuracy: 0.7285\n",
      "Epoch 3/9\n",
      "7634/7634 [==============================] - 1s 178us/step - loss: 1.0615 - accuracy: 0.7805 - val_loss: 1.1633 - val_accuracy: 0.7530\n",
      "Epoch 4/9\n",
      "7634/7634 [==============================] - 1s 171us/step - loss: 0.8340 - accuracy: 0.8268 - val_loss: 1.0717 - val_accuracy: 0.7760\n",
      "Epoch 5/9\n",
      "7634/7634 [==============================] - 1s 169us/step - loss: 0.6656 - accuracy: 0.8596 - val_loss: 1.0214 - val_accuracy: 0.7871\n",
      "Epoch 6/9\n",
      "7634/7634 [==============================] - 1s 191us/step - loss: 0.5343 - accuracy: 0.8872 - val_loss: 0.9906 - val_accuracy: 0.7960\n",
      "Epoch 7/9\n",
      "7634/7634 [==============================] - 1s 184us/step - loss: 0.4295 - accuracy: 0.9073 - val_loss: 0.9757 - val_accuracy: 0.8064\n",
      "Epoch 8/9\n",
      "7634/7634 [==============================] - 1s 192us/step - loss: 0.3507 - accuracy: 0.9272 - val_loss: 0.9640 - val_accuracy: 0.8071\n",
      "Epoch 9/9\n",
      "7634/7634 [==============================] - 1s 194us/step - loss: 0.2917 - accuracy: 0.9350 - val_loss: 0.9759 - val_accuracy: 0.7975\n"
     ]
    },
    {
     "data": {
      "text/plain": [
       "<keras.callbacks.callbacks.History at 0x1425b7e10>"
      ]
     },
     "execution_count": 13,
     "metadata": {},
     "output_type": "execute_result"
    }
   ],
   "source": [
    "# We shall use the tuned parameters for this model\n",
    "model3 = models.Sequential()\n",
    "model3.add(layers.Dense(64, activation='relu', input_shape=(VOCABULARY_SIZE,)))\n",
    "model3.add(layers.Dense(64, activation='relu'))\n",
    "model3.add(layers.Dense(46, activation='softmax'))\n",
    "\n",
    "model3.compile(optimizer='rmsprop', loss='sparse_categorical_crossentropy', metrics=['accuracy'])\n",
    "model3.fit(x_train2__train, y_train2__train, \n",
    "           epochs=9, batch_size=512, \n",
    "           validation_data=(x_train2__val, y_train2__val))"
   ]
  },
  {
   "cell_type": "code",
   "execution_count": 14,
   "metadata": {
    "ExecuteTime": {
     "end_time": "2020-05-27T04:34:25.915369Z",
     "start_time": "2020-05-27T04:34:25.571883Z"
    }
   },
   "outputs": [
    {
     "name": "stdout",
     "output_type": "stream",
     "text": [
      "2246/2246 [==============================] - 0s 146us/step\n",
      "[0.9897002526297701, 0.7889581322669983]\n"
     ]
    }
   ],
   "source": [
    "results2 = model3.evaluate(x_test, ytest_int)\n",
    "print(results2)"
   ]
  },
  {
   "cell_type": "code",
   "execution_count": 15,
   "metadata": {
    "ExecuteTime": {
     "end_time": "2020-05-27T04:34:26.237739Z",
     "start_time": "2020-05-27T04:34:25.919565Z"
    },
    "scrolled": true
   },
   "outputs": [
    {
     "name": "stdout",
     "output_type": "stream",
     "text": [
      "(46,)\n",
      "[2.00937011e-05 4.75303648e-04 5.48469361e-05 9.71745431e-01\n",
      " 6.83764648e-03 1.01447531e-05 8.80928055e-05 5.78742438e-05\n",
      " 9.53069143e-03 3.97691401e-05 4.37089839e-05 8.08792131e-04\n",
      " 4.39594296e-05 1.14097353e-03 3.65021871e-04 1.15519115e-05\n",
      " 2.31776881e-04 1.81775558e-05 1.55314883e-05 4.01448272e-03\n",
      " 1.40220136e-03 6.57891433e-05 8.54663813e-05 4.51777705e-05\n",
      " 9.07900994e-06 7.11566099e-05 3.51785934e-06 1.92862262e-06\n",
      " 2.44562951e-04 1.68944553e-05 5.03640804e-05 5.58470929e-05\n",
      " 2.64553411e-04 4.25675807e-07 5.87548653e-04 4.81367749e-07\n",
      " 7.42216012e-04 4.75376191e-06 2.77122545e-05 3.89154331e-04\n",
      " 3.20099556e-04 1.33315680e-05 6.28044381e-06 2.67464784e-05\n",
      " 2.26579914e-06 8.56229781e-06]\n",
      "1.0\n",
      "3\n"
     ]
    }
   ],
   "source": [
    "##########\n",
    "# Predict using the integer tensor method\n",
    "##########\n",
    "prediction_probs2 = model3.predict(x_test)\n",
    "print(prediction_probs2[0].shape)\n",
    "print(prediction_probs2[0])\n",
    "print(np.sum(prediction_probs2[0])) # sums to 1\n",
    "print(np.argmax(prediction_probs2[0])) # sums to 1"
   ]
  }
 ],
 "metadata": {
  "kernelspec": {
   "display_name": "Python 3",
   "language": "python",
   "name": "python3"
  },
  "language_info": {
   "codemirror_mode": {
    "name": "ipython",
    "version": 3
   },
   "file_extension": ".py",
   "mimetype": "text/x-python",
   "name": "python",
   "nbconvert_exporter": "python",
   "pygments_lexer": "ipython3",
   "version": "3.7.2"
  }
 },
 "nbformat": 4,
 "nbformat_minor": 4
}
