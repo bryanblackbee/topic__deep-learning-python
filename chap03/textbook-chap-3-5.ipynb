{
 "cells": [
  {
   "cell_type": "markdown",
   "metadata": {},
   "source": [
    "## 10. Introduction to Artificial Neural Networks with Keras"
   ]
  },
  {
   "cell_type": "markdown",
   "metadata": {},
   "source": [
    "### Building Complex Models using the Functional API\n",
    "\n",
    "Let's build a wide & deep network to tackle the **housing prices** problem"
   ]
  },
  {
   "cell_type": "code",
   "execution_count": 1,
   "metadata": {
    "ExecuteTime": {
     "end_time": "2020-05-29T11:14:30.872940Z",
     "start_time": "2020-05-29T11:14:28.261200Z"
    }
   },
   "outputs": [
    {
     "name": "stderr",
     "output_type": "stream",
     "text": [
      "Using TensorFlow backend.\n"
     ]
    }
   ],
   "source": [
    "from keras.datasets import boston_housing\n",
    "\n",
    "import numpy as np\n",
    "import pandas as pd\n",
    "import matplotlib.pyplot as plt\n",
    "\n",
    "from sklearn.preprocessing import StandardScaler\n",
    "from sklearn.model_selection import KFold, train_test_split\n",
    "\n",
    "from tensorflow import keras as tf_keras"
   ]
  },
  {
   "cell_type": "code",
   "execution_count": 2,
   "metadata": {
    "ExecuteTime": {
     "end_time": "2020-05-29T11:14:30.891810Z",
     "start_time": "2020-05-29T11:14:30.875343Z"
    }
   },
   "outputs": [],
   "source": [
    "# Ingestion\n",
    "###########\n",
    "(train_data, y_train), (test_data, y_test) = boston_housing.load_data()\n",
    "\n",
    "# Preprocessing\n",
    "###############\n",
    "sc = StandardScaler()\n",
    "x_train = sc.fit_transform(train_data)\n",
    "x_test = sc.transform(test_data)\n",
    "\n",
    "x_train__train, x_train__val, y_train__train, y_train__val = train_test_split(x_train, y_train, test_size=0.15,\n",
    "                                                                             random_state=0)\n",
    "NUM_FEATURES = x_train.shape[1:]"
   ]
  },
  {
   "cell_type": "markdown",
   "metadata": {},
   "source": [
    "An example of a non-sequential neural network is the <b>Wide & Deep</b> neural network. This architecture connects all or part of the inputs directly to the output layer. With this architecture, it is possible to learn both deep patterns  (using the deep path) and simple rules (using the short path). \n",
    "\n",
    "<img src=\"img3.png\" width=\"900\"/>\n",
    "\n",
    "In contrast, a regular network forces all the data to flow through all layers, and simple patterns might end up being distorted."
   ]
  },
  {
   "cell_type": "code",
   "execution_count": 3,
   "metadata": {
    "ExecuteTime": {
     "end_time": "2020-05-29T11:14:30.960380Z",
     "start_time": "2020-05-29T11:14:30.894899Z"
    }
   },
   "outputs": [],
   "source": [
    "# Instantiate Model\n",
    "###################\n",
    "input_layer = tf_keras.layers.Input(shape=NUM_FEATURES)\n",
    "hidden_layer1 = tf_keras.layers.Dense(30, activation='relu')(input_layer)\n",
    "hidden_layer2 = tf_keras.layers.Dense(30, activation='relu')(hidden_layer1)\n",
    "concat_layer = tf_keras.layers.Concatenate()([hidden_layer1, hidden_layer2])\n",
    "output_layer = tf_keras.layers.Dense(1)(concat_layer)\n",
    "model0 = tf_keras.models.Model(inputs=[input_layer], outputs=output_layer)"
   ]
  },
  {
   "cell_type": "code",
   "execution_count": 4,
   "metadata": {
    "ExecuteTime": {
     "end_time": "2020-05-29T11:14:31.547655Z",
     "start_time": "2020-05-29T11:14:30.963023Z"
    }
   },
   "outputs": [],
   "source": [
    "model0.compile(optimizer='sgd', loss='mean_squared_error', metrics=['mae'])\n",
    "history0 = model0.fit(x_train, y_train,  epochs = 10, verbose=0)"
   ]
  },
  {
   "cell_type": "code",
   "execution_count": 5,
   "metadata": {
    "ExecuteTime": {
     "end_time": "2020-05-29T11:14:31.606045Z",
     "start_time": "2020-05-29T11:14:31.549654Z"
    }
   },
   "outputs": [],
   "source": [
    "# Instantiate Model\n",
    "###################\n",
    "input_layera = tf_keras.layers.Input(shape=(10,))\n",
    "input_layerb = tf_keras.layers.Input(shape=(7,))\n",
    "hidden_layer1 = tf_keras.layers.Dense(30, activation='relu')(input_layerb)\n",
    "hidden_layer2 = tf_keras.layers.Dense(30, activation='relu')(hidden_layer1)\n",
    "concat_layer = tf_keras.layers.Concatenate()([input_layera, hidden_layer2])\n",
    "output_layer = tf_keras.layers.Dense(1)(concat_layer)\n",
    "model1 = tf_keras.models.Model(inputs=[input_layera, input_layerb], outputs=output_layer)"
   ]
  },
  {
   "cell_type": "code",
   "execution_count": 6,
   "metadata": {
    "ExecuteTime": {
     "end_time": "2020-05-29T11:14:31.614308Z",
     "start_time": "2020-05-29T11:14:31.608081Z"
    }
   },
   "outputs": [],
   "source": [
    "# Prepare data for feeding to NN \n",
    "####\n",
    "x_train__trainA = x_train__train[:,:10]\n",
    "x_train__trainB = x_train__train[:,[1,5,6,7,8,11,12]]\n",
    "x_train__val_A = x_train__val[:,:10]\n",
    "x_train__val_B = x_train__val[:,[1,5,6,7,8,11,12]]"
   ]
  },
  {
   "cell_type": "code",
   "execution_count": 7,
   "metadata": {
    "ExecuteTime": {
     "end_time": "2020-05-29T11:14:31.628915Z",
     "start_time": "2020-05-29T11:14:31.616570Z"
    }
   },
   "outputs": [],
   "source": [
    "model1.compile(optimizer='sgd', loss='mean_squared_error', metrics=['mae'])"
   ]
  },
  {
   "cell_type": "code",
   "execution_count": 8,
   "metadata": {
    "ExecuteTime": {
     "end_time": "2020-05-29T11:14:33.076429Z",
     "start_time": "2020-05-29T11:14:31.632797Z"
    }
   },
   "outputs": [
    {
     "data": {
      "text/plain": [
       "<tensorflow.python.keras.callbacks.History at 0x1374e8978>"
      ]
     },
     "execution_count": 8,
     "metadata": {},
     "output_type": "execute_result"
    }
   ],
   "source": [
    "model1.fit((x_train__trainA, x_train__trainB), y_train__train, epochs=20,\n",
    "           validation_data=((x_train__val_A, x_train__val_B), y_train__val), verbose=0)"
   ]
  },
  {
   "cell_type": "code",
   "execution_count": 9,
   "metadata": {
    "ExecuteTime": {
     "end_time": "2020-05-29T11:14:33.085103Z",
     "start_time": "2020-05-29T11:14:33.079543Z"
    }
   },
   "outputs": [],
   "source": [
    "x_testA = x_test[:,:10]\n",
    "x_testB = x_test[:,[1,5,6,7,8,11,12]]"
   ]
  },
  {
   "cell_type": "code",
   "execution_count": 10,
   "metadata": {
    "ExecuteTime": {
     "end_time": "2020-05-29T11:14:33.139487Z",
     "start_time": "2020-05-29T11:14:33.088076Z"
    }
   },
   "outputs": [
    {
     "name": "stdout",
     "output_type": "stream",
     "text": [
      "4/4 [==============================] - 0s 1ms/step - loss: 27.7809 - mae: 3.6010\n"
     ]
    },
    {
     "data": {
      "text/plain": [
       "[27.780866622924805, 3.600985288619995]"
      ]
     },
     "execution_count": 10,
     "metadata": {},
     "output_type": "execute_result"
    }
   ],
   "source": [
    "model1.evaluate((x_testA, x_testB), y_test)"
   ]
  },
  {
   "cell_type": "code",
   "execution_count": 11,
   "metadata": {
    "ExecuteTime": {
     "end_time": "2020-05-29T11:14:33.323879Z",
     "start_time": "2020-05-29T11:14:33.142612Z"
    }
   },
   "outputs": [
    {
     "data": {
      "text/plain": [
       "array([[ 9.990591],\n",
       "       [17.994114]], dtype=float32)"
      ]
     },
     "execution_count": 11,
     "metadata": {},
     "output_type": "execute_result"
    }
   ],
   "source": [
    "model1.predict((x_testA[:2], x_testB[:2]))"
   ]
  },
  {
   "cell_type": "markdown",
   "metadata": {},
   "source": [
    "### Using the Subclassing API"
   ]
  },
  {
   "cell_type": "code",
   "execution_count": 12,
   "metadata": {
    "ExecuteTime": {
     "end_time": "2020-05-29T11:14:33.340217Z",
     "start_time": "2020-05-29T11:14:33.327386Z"
    }
   },
   "outputs": [],
   "source": [
    "class WideAndDeepModel(tf_keras.models.Model):\n",
    "    def __init__(self, units=30, activation='relu', **kwargs):\n",
    "        super().__init__(**kwargs)\n",
    "        self.hidden_layer1 = tf_keras.layers.Dense(units, activation=activation)\n",
    "        self.hidden_layer2 = tf_keras.layers.Dense(units, activation=activation)\n",
    "        self.output_layer = tf_keras.layers.Dense(1)\n",
    "    \n",
    "    def call(self, inputs):\n",
    "        inputa, inputb = inputs\n",
    "        hidden1 = self.hidden_layer1(inputb)\n",
    "        hidden2 = self.hidden_layer2(hidden1)\n",
    "        conct = tf_keras.layers.Concatenate()([inputa, hidden2])\n",
    "        ouptt = self.output_layer(conct)\n",
    "        return ouptt\n",
    "        "
   ]
  },
  {
   "cell_type": "code",
   "execution_count": 13,
   "metadata": {
    "ExecuteTime": {
     "end_time": "2020-05-29T11:14:34.725764Z",
     "start_time": "2020-05-29T11:14:33.345004Z"
    }
   },
   "outputs": [
    {
     "data": {
      "text/plain": [
       "<tensorflow.python.keras.callbacks.History at 0x1376a2ef0>"
      ]
     },
     "execution_count": 13,
     "metadata": {},
     "output_type": "execute_result"
    }
   ],
   "source": [
    "model3 = WideAndDeepModel(30, 'relu')\n",
    "model3.compile(optimizer='sgd', loss='mean_squared_error', metrics=['mae'])\n",
    "model3.fit((x_train__trainA, x_train__trainB), y_train__train, epochs=20,\n",
    "           validation_data=((x_train__val_A, x_train__val_B), y_train__val), verbose=0)"
   ]
  },
  {
   "cell_type": "code",
   "execution_count": 14,
   "metadata": {
    "ExecuteTime": {
     "end_time": "2020-05-29T11:14:34.774438Z",
     "start_time": "2020-05-29T11:14:34.728256Z"
    }
   },
   "outputs": [
    {
     "name": "stdout",
     "output_type": "stream",
     "text": [
      "4/4 [==============================] - 0s 1ms/step - loss: 25.3322 - mae: 3.1506\n"
     ]
    },
    {
     "data": {
      "text/plain": [
       "[25.332244873046875, 3.150632858276367]"
      ]
     },
     "execution_count": 14,
     "metadata": {},
     "output_type": "execute_result"
    }
   ],
   "source": [
    "model3.evaluate((x_testA, x_testB), y_test)"
   ]
  },
  {
   "cell_type": "markdown",
   "metadata": {},
   "source": [
    "### Saving & Restoring a Model"
   ]
  },
  {
   "cell_type": "code",
   "execution_count": 15,
   "metadata": {
    "ExecuteTime": {
     "end_time": "2020-05-29T11:14:34.860877Z",
     "start_time": "2020-05-29T11:14:34.777128Z"
    }
   },
   "outputs": [
    {
     "data": {
      "text/plain": [
       "array([[10.932526],\n",
       "       [18.94964 ]], dtype=float32)"
      ]
     },
     "execution_count": 15,
     "metadata": {},
     "output_type": "execute_result"
    }
   ],
   "source": [
    "model3.predict((x_testA[:2], x_testB[:2]))"
   ]
  },
  {
   "cell_type": "code",
   "execution_count": 16,
   "metadata": {
    "ExecuteTime": {
     "end_time": "2020-05-29T11:14:34.882632Z",
     "start_time": "2020-05-29T11:14:34.863218Z"
    }
   },
   "outputs": [],
   "source": [
    "model1.save('model3.h5')"
   ]
  },
  {
   "cell_type": "code",
   "execution_count": 17,
   "metadata": {
    "ExecuteTime": {
     "end_time": "2020-05-29T11:14:34.995415Z",
     "start_time": "2020-05-29T11:14:34.884837Z"
    }
   },
   "outputs": [
    {
     "data": {
      "text/plain": [
       "array([[18.078266],\n",
       "       [17.542145],\n",
       "       [16.323627],\n",
       "       [35.126472],\n",
       "       [20.318432]], dtype=float32)"
      ]
     },
     "execution_count": 17,
     "metadata": {},
     "output_type": "execute_result"
    }
   ],
   "source": [
    "model1ld = tf_keras.models.load_model('model3.h5')\n",
    "model1ld.predict((x_testA[10:15], x_testB[10:15]))"
   ]
  },
  {
   "cell_type": "markdown",
   "metadata": {},
   "source": [
    "Additional Readings:\n",
    "\n",
    "- https://ai.googleblog.com/2016/06/wide-deep-learning-better-together-with.html"
   ]
  }
 ],
 "metadata": {
  "kernelspec": {
   "display_name": "Python 3",
   "language": "python",
   "name": "python3"
  },
  "language_info": {
   "codemirror_mode": {
    "name": "ipython",
    "version": 3
   },
   "file_extension": ".py",
   "mimetype": "text/x-python",
   "name": "python",
   "nbconvert_exporter": "python",
   "pygments_lexer": "ipython3",
   "version": "3.7.2"
  }
 },
 "nbformat": 4,
 "nbformat_minor": 4
}
