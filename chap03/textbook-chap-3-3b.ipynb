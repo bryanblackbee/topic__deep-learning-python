{
 "cells": [
  {
   "cell_type": "markdown",
   "metadata": {},
   "source": [
    "## 3. Getting Started with Neural Networks"
   ]
  },
  {
   "cell_type": "markdown",
   "metadata": {},
   "source": [
    "### Building an Image Classifier using Keras & the Sequential API\n",
    "In the **fashion** problem, we want to classify the image of an item to one of 10 different classes. It is a multiclasss classification problem, the same as the **reuters** problem."
   ]
  },
  {
   "cell_type": "code",
   "execution_count": 1,
   "metadata": {
    "ExecuteTime": {
     "end_time": "2020-06-01T02:49:57.973502Z",
     "start_time": "2020-06-01T02:49:54.814330Z"
    }
   },
   "outputs": [
    {
     "name": "stderr",
     "output_type": "stream",
     "text": [
      "Using TensorFlow backend.\n"
     ]
    }
   ],
   "source": [
    "from keras.datasets import fashion_mnist\n",
    "\n",
    "import numpy as np\n",
    "import pandas as pd\n",
    "import matplotlib.pyplot as plt\n",
    "\n",
    "from sklearn.model_selection import train_test_split\n",
    "\n",
    "import tensorflow as tf\n",
    "from tensorflow import keras as tf_keras"
   ]
  },
  {
   "cell_type": "code",
   "execution_count": 2,
   "metadata": {
    "ExecuteTime": {
     "end_time": "2020-06-01T02:49:58.358373Z",
     "start_time": "2020-06-01T02:49:57.975680Z"
    }
   },
   "outputs": [],
   "source": [
    "##########\n",
    "# Ingestion\n",
    "##########\n",
    "(train_data_full, train_labels_full), (test_data, test_labels) = fashion_mnist.load_data()\n",
    "class_names = ['T-shirt/top', 'Trouser', 'Pullover', \n",
    "               'Dress', 'Coat', 'Sandal', 'Shirt', \n",
    "               'Sneaker', 'Bag', 'Ankle boot',]\n",
    "DIMENSION_LENGTH, DIMENSION_HEIGHT = train_data_full.shape[1], train_data_full.shape[2]\n",
    "DIMENSION_SIZE = train_data_full.shape[1] * train_data_full.shape[2]"
   ]
  },
  {
   "cell_type": "markdown",
   "metadata": {},
   "source": [
    "The fashion dataset contains 60,000 28x28 grayscale images of 10 fashion categories, along with a test set of 10,000 images."
   ]
  },
  {
   "cell_type": "code",
   "execution_count": 3,
   "metadata": {
    "ExecuteTime": {
     "end_time": "2020-06-01T02:49:58.363602Z",
     "start_time": "2020-06-01T02:49:58.360843Z"
    }
   },
   "outputs": [],
   "source": [
    "# For testing\n",
    "# print([td[:15] for td in train_data_full[0:3]])\n",
    "# print([class_names[i] for i in train_labels_full[0:3]])"
   ]
  },
  {
   "cell_type": "markdown",
   "metadata": {},
   "source": [
    "Preprocessing steps are:\n",
    "\n",
    "1. scale pixel intensities down by dividing them by 255.0 (and also converts them to floats."
   ]
  },
  {
   "cell_type": "code",
   "execution_count": 4,
   "metadata": {
    "ExecuteTime": {
     "end_time": "2020-06-01T02:49:58.660900Z",
     "start_time": "2020-06-01T02:49:58.366718Z"
    }
   },
   "outputs": [],
   "source": [
    "##########\n",
    "# Preprocessing for training\n",
    "##########\n",
    "x_train = train_data_full/255.0\n",
    "x_train__train, x_train__val = x_train[5000:], x_train[:5000]\n",
    "y_train__train, y_train__val = train_labels_full[5000:], train_labels_full[:5000]"
   ]
  },
  {
   "cell_type": "markdown",
   "metadata": {},
   "source": [
    "### Tensorflow Implementation\n",
    "\n",
    "We now implement the workflow using `tf.keras`."
   ]
  },
  {
   "cell_type": "code",
   "execution_count": 5,
   "metadata": {
    "ExecuteTime": {
     "end_time": "2020-06-01T02:49:58.729860Z",
     "start_time": "2020-06-01T02:49:58.662774Z"
    }
   },
   "outputs": [],
   "source": [
    "##########\n",
    "# Model I: Instantiate Model\n",
    "##########\n",
    "modeli = tf_keras.models.Sequential([\n",
    "    tf_keras.layers.Flatten(input_shape=(DIMENSION_LENGTH, DIMENSION_HEIGHT)),\n",
    "    tf_keras.layers.Dense(300, activation='relu', input_shape=(DIMENSION_SIZE,)),\n",
    "    tf_keras.layers.Dense(100, activation='relu'),\n",
    "    tf_keras.layers.Dense(10, activation='softmax'),\n",
    "])"
   ]
  },
  {
   "cell_type": "code",
   "execution_count": 6,
   "metadata": {
    "ExecuteTime": {
     "end_time": "2020-06-01T02:50:36.361516Z",
     "start_time": "2020-06-01T02:49:58.731737Z"
    }
   },
   "outputs": [],
   "source": [
    "##########\n",
    "# Model I: Train / Model Tuning\n",
    "##########\n",
    "modeli.compile(optimizer='sgd', loss='sparse_categorical_crossentropy', metrics=['accuracy'])\n",
    "history = modeli.fit(x_train__train, y_train__train, \n",
    "                    epochs=30, batch_size=128, \n",
    "                    validation_data=(x_train__val, y_train__val),\n",
    "                    verbose=0)"
   ]
  },
  {
   "cell_type": "code",
   "execution_count": 7,
   "metadata": {
    "ExecuteTime": {
     "end_time": "2020-06-01T02:50:36.379013Z",
     "start_time": "2020-06-01T02:50:36.363483Z"
    }
   },
   "outputs": [
    {
     "name": "stdout",
     "output_type": "stream",
     "text": [
      "Model: \"sequential\"\n",
      "_________________________________________________________________\n",
      "Layer (type)                 Output Shape              Param #   \n",
      "=================================================================\n",
      "flatten (Flatten)            (None, 784)               0         \n",
      "_________________________________________________________________\n",
      "dense (Dense)                (None, 300)               235500    \n",
      "_________________________________________________________________\n",
      "dense_1 (Dense)              (None, 100)               30100     \n",
      "_________________________________________________________________\n",
      "dense_2 (Dense)              (None, 10)                1010      \n",
      "=================================================================\n",
      "Total params: 266,610\n",
      "Trainable params: 266,610\n",
      "Non-trainable params: 0\n",
      "_________________________________________________________________\n"
     ]
    }
   ],
   "source": [
    "# For testing: Get the properties of the model\n",
    "modeli.summary()"
   ]
  },
  {
   "cell_type": "markdown",
   "metadata": {},
   "source": [
    "You can see from here a dense network has many parameters. The first hidden layer has $784 \\times 300$ connection weights, and another $300$ bias terms, adding up to $235500$ parameters. This gives the model a lot of flexibility to fit the training data but can also lead to overfitting."
   ]
  },
  {
   "cell_type": "code",
   "execution_count": 8,
   "metadata": {
    "ExecuteTime": {
     "end_time": "2020-06-01T02:50:36.391724Z",
     "start_time": "2020-06-01T02:50:36.382901Z"
    }
   },
   "outputs": [
    {
     "name": "stdout",
     "output_type": "stream",
     "text": [
      "(784, 300)\n",
      "(300,)\n"
     ]
    }
   ],
   "source": [
    "# For testing: Get the weights of the first hidden layer\n",
    "w1, b1 = modeli.layers[1].get_weights() # Note: there is also a set_weights() function\n",
    "print(w1.shape)\n",
    "# print(w1[:5])\n",
    "print(b1.shape)\n",
    "# print(b1[:5])"
   ]
  },
  {
   "cell_type": "code",
   "execution_count": 9,
   "metadata": {
    "ExecuteTime": {
     "end_time": "2020-06-01T02:50:36.401532Z",
     "start_time": "2020-06-01T02:50:36.394857Z"
    },
    "scrolled": true
   },
   "outputs": [
    {
     "name": "stdout",
     "output_type": "stream",
     "text": [
      "[<tensorflow.python.keras.layers.core.Flatten object at 0x1391e84a8>, <tensorflow.python.keras.layers.core.Dense object at 0x13921b048>, <tensorflow.python.keras.layers.core.Dense object at 0x13921b2b0>, <tensorflow.python.keras.layers.core.Dense object at 0x13921b518>]\n",
      "\n",
      "dense\n"
     ]
    }
   ],
   "source": [
    "# For testing: The layers\n",
    "print(modeli.layers)\n",
    "print()\n",
    "print(modeli.layers[1].name)"
   ]
  },
  {
   "cell_type": "markdown",
   "metadata": {},
   "source": [
    "Let's plot the training loss and accuracy curve."
   ]
  },
  {
   "cell_type": "code",
   "execution_count": 10,
   "metadata": {
    "ExecuteTime": {
     "end_time": "2020-06-01T02:50:36.934375Z",
     "start_time": "2020-06-01T02:50:36.404508Z"
    },
    "scrolled": false
   },
   "outputs": [
    {
     "data": {
      "image/png": "[encoded data removed]",
      "text/plain": [
       "<Figure size 1152x720 with 1 Axes>"
      ]
     },
     "metadata": {
      "needs_background": "light"
     },
     "output_type": "display_data"
    }
   ],
   "source": [
    "metrics_df = pd.DataFrame(history.history)\n",
    "metrics_df['epoch'] = metrics_df.index+1\n",
    "\n",
    "fig = plt.figure(figsize=(16,10))\n",
    "ax1 = fig.add_subplot(1,1,1)\n",
    "metrics_df.plot(kind='line', x='epoch', y='loss', ax=ax1, label='train_loss', style='--', color='steelblue')\n",
    "metrics_df.plot(kind='line', x='epoch', y='val_loss', ax=ax1, label='validation_loss', color='steelblue')\n",
    "metrics_df.plot(kind='line', x='epoch', y='accuracy', ax=ax1, label='train_accuracy', style='--', color='salmon')\n",
    "metrics_df.plot(kind='line', x='epoch', y='val_accuracy', ax=ax1, label='validation_accuracy', color='salmon')\n",
    "ax1.set_ylabel(\"Metric\")\n",
    "ax1.grid('GAINSBORO')\n",
    "ax1.set_xticks(range(0,31,2))\n",
    "ax1.set_ylim(0,1.2)\n",
    "ax1.set_yticks([r/20 for r in list(range(0,25,))])\n",
    "plt.show()"
   ]
  },
  {
   "cell_type": "markdown",
   "metadata": {},
   "source": [
    "Let's use 13 epochs for the final model."
   ]
  },
  {
   "cell_type": "code",
   "execution_count": 11,
   "metadata": {
    "ExecuteTime": {
     "end_time": "2020-06-01T02:50:56.117601Z",
     "start_time": "2020-06-01T02:50:36.936812Z"
    }
   },
   "outputs": [
    {
     "data": {
      "text/plain": [
       "<tensorflow.python.keras.callbacks.History at 0x10654ceb8>"
      ]
     },
     "execution_count": 11,
     "metadata": {},
     "output_type": "execute_result"
    }
   ],
   "source": [
    "##########\n",
    "# Train Tuned Model\n",
    "##########\n",
    "modeli2 = tf_keras.models.Sequential([\n",
    "    tf_keras.layers.Flatten(input_shape=(DIMENSION_LENGTH, DIMENSION_HEIGHT)),\n",
    "    tf_keras.layers.Dense(300, activation='relu', input_shape=(DIMENSION_SIZE,)),\n",
    "    tf_keras.layers.Dense(100, activation='relu'),\n",
    "    tf_keras.layers.Dense(10, activation='softmax'),\n",
    "])\n",
    "\n",
    "modeli2.compile(optimizer='sgd', loss='sparse_categorical_crossentropy', metrics=['accuracy'])\n",
    "modeli2.fit(x_train__train, y_train__train, \n",
    "           epochs=13, batch_size=128, \n",
    "           validation_data=(x_train__val, y_train__val),\n",
    "           verbose=0)"
   ]
  },
  {
   "cell_type": "code",
   "execution_count": 12,
   "metadata": {
    "ExecuteTime": {
     "end_time": "2020-06-01T02:50:56.680552Z",
     "start_time": "2020-06-01T02:50:56.120138Z"
    },
    "scrolled": true
   },
   "outputs": [
    {
     "name": "stdout",
     "output_type": "stream",
     "text": [
      "313/313 [==============================] - 0s 1ms/step - loss: 0.4381 - accuracy: 0.8441\n",
      "[0.4381150007247925, 0.8440999984741211]\n"
     ]
    }
   ],
   "source": [
    "##########\n",
    "# Preprocessing for test set\n",
    "##########\n",
    "x_test = test_data/255.0\n",
    "\n",
    "##########\n",
    "# Evaluate on Test Set\n",
    "##########\n",
    "results = modeli2.evaluate(x_test, test_labels)\n",
    "print(results)"
   ]
  },
  {
   "cell_type": "code",
   "execution_count": 13,
   "metadata": {
    "ExecuteTime": {
     "end_time": "2020-06-01T02:50:57.441306Z",
     "start_time": "2020-06-01T02:50:56.682715Z"
    }
   },
   "outputs": [
    {
     "name": "stdout",
     "output_type": "stream",
     "text": [
      "PROBABILITY:\n",
      "[3.2349773e-05 3.5801120e-06 2.3825829e-05 2.8376075e-05 3.8681751e-06\n",
      " 1.4062324e-01 5.8557875e-05 1.2583052e-01 3.2516490e-03 7.3014408e-01]\n",
      "9\n",
      "\n",
      "CLASS:\n",
      "9\n",
      "Ankle boot\n"
     ]
    }
   ],
   "source": [
    "##########\n",
    "# Predict\n",
    "##########\n",
    "\n",
    "# Using probability\n",
    "print(\"PROBABILITY:\")\n",
    "prediction_probs = modeli2.predict(x_test)\n",
    "print(prediction_probs[0])\n",
    "print(np.argmax(prediction_probs[0])) # sums to 1\n",
    "print()\n",
    "# Using class\n",
    "print(\"CLASS:\")\n",
    "prediction_classes = np.argmax(modeli2.predict(x_test), axis=-1)\n",
    "print(prediction_classes[0])\n",
    "print(class_names[prediction_classes[0]])"
   ]
  }
 ],
 "metadata": {
  "kernelspec": {
   "display_name": "Python 3",
   "language": "python",
   "name": "python3"
  },
  "language_info": {
   "codemirror_mode": {
    "name": "ipython",
    "version": 3
   },
   "file_extension": ".py",
   "mimetype": "text/x-python",
   "name": "python",
   "nbconvert_exporter": "python",
   "pygments_lexer": "ipython3",
   "version": "3.7.2"
  }
 },
 "nbformat": 4,
 "nbformat_minor": 4
}
