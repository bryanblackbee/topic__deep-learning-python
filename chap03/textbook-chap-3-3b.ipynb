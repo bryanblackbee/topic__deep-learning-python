{
 "cells": [
  {
   "cell_type": "markdown",
   "metadata": {},
   "source": [
    "## 3. Getting Started with Neural Networks"
   ]
  },
  {
   "cell_type": "markdown",
   "metadata": {},
   "source": [
    "### Building an Image Classifier using Keras & the Sequential API\n",
    "In the **fashion** problem, we want to classify the image of an item to one of 10 different classes. It is a multiclasss classification problem, the same as the **reuters** problem."
   ]
  },
  {
   "cell_type": "code",
   "execution_count": 1,
   "metadata": {
    "ExecuteTime": {
     "end_time": "2020-05-29T07:18:05.974775Z",
     "start_time": "2020-05-29T07:18:02.415836Z"
    }
   },
   "outputs": [
    {
     "name": "stderr",
     "output_type": "stream",
     "text": [
      "Using TensorFlow backend.\n"
     ]
    }
   ],
   "source": [
    "from keras.datasets import fashion_mnist\n",
    "\n",
    "import numpy as np\n",
    "import pandas as pd\n",
    "import matplotlib.pyplot as plt\n",
    "\n",
    "from sklearn.model_selection import train_test_split\n",
    "\n",
    "from keras.utils.np_utils import to_categorical\n",
    "from keras import models\n",
    "from keras import layers\n",
    "\n",
    "import tensorflow as tf\n",
    "from tensorflow import keras as tf_keras"
   ]
  },
  {
   "cell_type": "code",
   "execution_count": 2,
   "metadata": {
    "ExecuteTime": {
     "end_time": "2020-05-29T07:18:06.376906Z",
     "start_time": "2020-05-29T07:18:05.977124Z"
    }
   },
   "outputs": [],
   "source": [
    "##########\n",
    "# Ingestion\n",
    "##########\n",
    "(train_data_full, train_labels_full), (test_data, test_labels) = fashion_mnist.load_data()\n",
    "class_names = ['T-shirt/top', 'Trouser', 'Pullover', \n",
    "               'Dress', 'Coat', 'Sandal', 'Shirt', \n",
    "               'Sneaker', 'Bag', 'Ankle boot',]\n",
    "DIMENSION_LENGTH, DIMENSION_HEIGHT = train_data_full.shape[1], train_data_full.shape[2]\n",
    "DIMENSION_SIZE = train_data_full.shape[1] * train_data_full.shape[2]"
   ]
  },
  {
   "cell_type": "markdown",
   "metadata": {},
   "source": [
    "The fashion dataset contains 60,000 28x28 grayscale images of 10 fashion categories, along with a test set of 10,000 images."
   ]
  },
  {
   "cell_type": "code",
   "execution_count": 3,
   "metadata": {
    "ExecuteTime": {
     "end_time": "2020-05-29T07:18:06.383366Z",
     "start_time": "2020-05-29T07:18:06.379759Z"
    }
   },
   "outputs": [],
   "source": [
    "# For testing\n",
    "# print([td[:15] for td in train_data_full[0:3]])\n",
    "# print([class_names[i] for i in train_labels_full[0:3]])"
   ]
  },
  {
   "cell_type": "markdown",
   "metadata": {},
   "source": [
    "Preprocessing steps are:\n",
    "\n",
    "1. scale pixel intensities down by dividing them by 255.0 (and also converts them to floats."
   ]
  },
  {
   "cell_type": "code",
   "execution_count": 4,
   "metadata": {
    "ExecuteTime": {
     "end_time": "2020-05-29T07:18:06.679069Z",
     "start_time": "2020-05-29T07:18:06.386205Z"
    }
   },
   "outputs": [],
   "source": [
    "##########\n",
    "# Preprocessing for training\n",
    "##########\n",
    "x_train = train_data_full/255.0\n",
    "x_train__train, x_train__val = x_train[5000:], x_train[:5000]\n",
    "y_train__train, y_train__val = train_labels_full[5000:], train_labels_full[:5000]"
   ]
  },
  {
   "cell_type": "markdown",
   "metadata": {},
   "source": [
    "### Keras Implementation"
   ]
  },
  {
   "cell_type": "markdown",
   "metadata": {},
   "source": [
    "We will use 2 dense layers for training - one of size 300 and another of size 100.\n",
    "The last layer uses a softmax function of size 10, similar to that of other multiclass problems learnt."
   ]
  },
  {
   "cell_type": "code",
   "execution_count": 5,
   "metadata": {
    "ExecuteTime": {
     "end_time": "2020-05-29T07:18:06.738517Z",
     "start_time": "2020-05-29T07:18:06.681035Z"
    }
   },
   "outputs": [],
   "source": [
    "##########\n",
    "# Instantiate Model\n",
    "##########\n",
    "model = models.Sequential()\n",
    "model.add(layers.Flatten(input_shape=(DIMENSION_LENGTH, DIMENSION_HEIGHT)))\n",
    "model.add(layers.Dense(300, activation='relu', input_shape=(DIMENSION_SIZE,)))\n",
    "model.add(layers.Dense(100, activation='relu'))\n",
    "model.add(layers.Dense(10, activation='softmax'))"
   ]
  },
  {
   "cell_type": "code",
   "execution_count": 6,
   "metadata": {
    "ExecuteTime": {
     "end_time": "2020-05-29T07:18:06.749093Z",
     "start_time": "2020-05-29T07:18:06.740736Z"
    }
   },
   "outputs": [
    {
     "name": "stdout",
     "output_type": "stream",
     "text": [
      "Model: \"sequential_1\"\n",
      "_________________________________________________________________\n",
      "Layer (type)                 Output Shape              Param #   \n",
      "=================================================================\n",
      "flatten_1 (Flatten)          (None, 784)               0         \n",
      "_________________________________________________________________\n",
      "dense_1 (Dense)              (None, 300)               235500    \n",
      "_________________________________________________________________\n",
      "dense_2 (Dense)              (None, 100)               30100     \n",
      "_________________________________________________________________\n",
      "dense_3 (Dense)              (None, 10)                1010      \n",
      "=================================================================\n",
      "Total params: 266,610\n",
      "Trainable params: 266,610\n",
      "Non-trainable params: 0\n",
      "_________________________________________________________________\n"
     ]
    }
   ],
   "source": [
    "# For testing: Get the properties of the model\n",
    "model.summary()"
   ]
  },
  {
   "cell_type": "code",
   "execution_count": 7,
   "metadata": {
    "ExecuteTime": {
     "end_time": "2020-05-29T07:18:06.761054Z",
     "start_time": "2020-05-29T07:18:06.751510Z"
    }
   },
   "outputs": [
    {
     "name": "stdout",
     "output_type": "stream",
     "text": [
      "(784, 300)\n",
      "(300,)\n"
     ]
    }
   ],
   "source": [
    "# For testing: Get the weights of the first hidden layer\n",
    "w1, b1 = model.layers[1].get_weights()\n",
    "print(w1.shape)\n",
    "# print(w1[:5])\n",
    "print(b1.shape)\n",
    "# print(b1[:5])"
   ]
  },
  {
   "cell_type": "code",
   "execution_count": 8,
   "metadata": {
    "ExecuteTime": {
     "end_time": "2020-05-29T07:18:58.815962Z",
     "start_time": "2020-05-29T07:18:06.765617Z"
    },
    "scrolled": true
   },
   "outputs": [],
   "source": [
    "##########\n",
    "# Train / Model Tuning\n",
    "##########\n",
    "model.compile(optimizer='sgd', loss='sparse_categorical_crossentropy', metrics=['accuracy'])\n",
    "history = model.fit(x_train__train, y_train__train, \n",
    "                    epochs=30, batch_size=128, \n",
    "                    validation_data=(x_train__val, y_train__val),\n",
    "                    verbose=0)"
   ]
  },
  {
   "cell_type": "markdown",
   "metadata": {},
   "source": [
    "Let's plot the loss and accuracy curves."
   ]
  },
  {
   "cell_type": "code",
   "execution_count": 9,
   "metadata": {
    "ExecuteTime": {
     "end_time": "2020-05-29T07:18:59.474208Z",
     "start_time": "2020-05-29T07:18:58.818530Z"
    },
    "scrolled": false
   },
   "outputs": [
    {
     "data": {
      "image/png": "[encoded data removed]",
      "text/plain": [
       "<Figure size 1152x720 with 1 Axes>"
      ]
     },
     "metadata": {
      "needs_background": "light"
     },
     "output_type": "display_data"
    }
   ],
   "source": [
    "metrics_df = pd.DataFrame(history.history)\n",
    "metrics_df['epoch'] = metrics_df.index+1\n",
    "\n",
    "fig = plt.figure(figsize=(16,10))\n",
    "ax1 = fig.add_subplot(1,1,1)\n",
    "metrics_df.plot(kind='line', x='epoch', y='loss', ax=ax1, label='train_loss', style='--', color='steelblue')\n",
    "metrics_df.plot(kind='line', x='epoch', y='val_loss', ax=ax1, label='validation_loss', color='steelblue')\n",
    "metrics_df.plot(kind='line', x='epoch', y='accuracy', ax=ax1, label='train_accuracy', style='--', color='salmon')\n",
    "metrics_df.plot(kind='line', x='epoch', y='val_accuracy', ax=ax1, label='validation_accuracy', color='salmon')\n",
    "ax1.set_ylabel(\"Metric\")\n",
    "ax1.grid('GAINSBORO')\n",
    "ax1.set_xticks(range(0,51,2))\n",
    "ax1.set_ylim(0,1.2)\n",
    "ax1.set_yticks([r/20 for r in list(range(0,25,))])\n",
    "plt.show()"
   ]
  },
  {
   "cell_type": "markdown",
   "metadata": {},
   "source": [
    "Let's use 13 epochs for the final model"
   ]
  },
  {
   "cell_type": "code",
   "execution_count": 10,
   "metadata": {
    "ExecuteTime": {
     "end_time": "2020-05-29T07:19:23.130809Z",
     "start_time": "2020-05-29T07:18:59.476501Z"
    }
   },
   "outputs": [
    {
     "data": {
      "text/plain": [
       "<keras.callbacks.callbacks.History at 0x159cf8160>"
      ]
     },
     "execution_count": 10,
     "metadata": {},
     "output_type": "execute_result"
    }
   ],
   "source": [
    "##########\n",
    "# Train Tuned Model\n",
    "##########\n",
    "model2 = models.Sequential()\n",
    "model2.add(layers.Flatten(input_shape=(DIMENSION_LENGTH, DIMENSION_HEIGHT)))\n",
    "model2.add(layers.Dense(300, activation='relu', input_shape=(10000,)))\n",
    "model2.add(layers.Dense(100, activation='relu'))\n",
    "model2.add(layers.Dense(10, activation='softmax'))\n",
    "\n",
    "model2.compile(optimizer='sgd', loss='sparse_categorical_crossentropy', metrics=['accuracy'])\n",
    "model2.fit(x_train__train, y_train__train, \n",
    "           epochs=13, batch_size=128, \n",
    "           validation_data=(x_train__val, y_train__val),\n",
    "           verbose=0)"
   ]
  },
  {
   "cell_type": "code",
   "execution_count": 11,
   "metadata": {
    "ExecuteTime": {
     "end_time": "2020-05-29T07:19:23.192596Z",
     "start_time": "2020-05-29T07:19:23.133586Z"
    }
   },
   "outputs": [],
   "source": [
    "##########\n",
    "# Preprocessing for test set\n",
    "##########\n",
    "x_test = test_data/255.0"
   ]
  },
  {
   "cell_type": "code",
   "execution_count": 12,
   "metadata": {
    "ExecuteTime": {
     "end_time": "2020-05-29T07:19:23.781544Z",
     "start_time": "2020-05-29T07:19:23.195570Z"
    }
   },
   "outputs": [
    {
     "name": "stdout",
     "output_type": "stream",
     "text": [
      "10000/10000 [==============================] - 1s 58us/step\n",
      "[0.4351761119365692, 0.84579998254776]\n"
     ]
    }
   ],
   "source": [
    "##########\n",
    "# Evaluate on Test Set\n",
    "##########\n",
    "results = model2.evaluate(x_test, test_labels)\n",
    "print(results)"
   ]
  },
  {
   "cell_type": "markdown",
   "metadata": {},
   "source": [
    "The final accuracy for the model is 83%."
   ]
  },
  {
   "cell_type": "markdown",
   "metadata": {},
   "source": [
    "For the softmax problem, the output class is the class with the highest probability."
   ]
  },
  {
   "cell_type": "code",
   "execution_count": 13,
   "metadata": {
    "ExecuteTime": {
     "end_time": "2020-05-29T07:19:24.484948Z",
     "start_time": "2020-05-29T07:19:23.785098Z"
    }
   },
   "outputs": [
    {
     "name": "stdout",
     "output_type": "stream",
     "text": [
      "PROBABILITY:\n",
      "[1.93655724e-05 1.06156085e-05 3.78027039e-06 1.43411962e-05\n",
      " 5.34030232e-06 1.04297921e-01 3.54122312e-05 2.40733534e-01\n",
      " 1.74823625e-03 6.53131485e-01]\n",
      "9\n",
      "\n",
      "CLASS:\n",
      "9\n",
      "Ankle boot\n"
     ]
    }
   ],
   "source": [
    "##########\n",
    "# Predict\n",
    "##########\n",
    "\n",
    "# Using probability\n",
    "print(\"PROBABILITY:\")\n",
    "prediction_probs = model2.predict(x_test)\n",
    "print(prediction_probs[0])\n",
    "print(np.argmax(prediction_probs[0])) # sums to 1\n",
    "print()\n",
    "# Using class\n",
    "print(\"CLASS:\")\n",
    "prediction_classes = model2.predict_classes(x_test)\n",
    "print(prediction_classes[0])\n",
    "print(class_names[prediction_classes[0]])"
   ]
  },
  {
   "cell_type": "markdown",
   "metadata": {},
   "source": [
    "### Tensorflow Implementation"
   ]
  },
  {
   "cell_type": "code",
   "execution_count": 14,
   "metadata": {
    "ExecuteTime": {
     "end_time": "2020-05-29T07:20:08.163341Z",
     "start_time": "2020-05-29T07:19:24.487839Z"
    }
   },
   "outputs": [],
   "source": [
    "##########\n",
    "# Model I: Instantiate Model\n",
    "##########\n",
    "modeli = tf_keras.models.Sequential([\n",
    "    tf_keras.layers.Flatten(input_shape=(DIMENSION_LENGTH, DIMENSION_HEIGHT)),\n",
    "    tf_keras.layers.Dense(300, activation='relu', input_shape=(DIMENSION_SIZE,)),\n",
    "    tf_keras.layers.Dense(100, activation='relu'),\n",
    "    tf_keras.layers.Dense(10, activation='softmax'),\n",
    "])\n",
    "\n",
    "##########\n",
    "# Model I: Train / Model Tuning\n",
    "##########\n",
    "modeli.compile(optimizer='sgd', loss='sparse_categorical_crossentropy', metrics=['accuracy'])\n",
    "history = modeli.fit(x_train__train, y_train__train, \n",
    "                    epochs=30, batch_size=128, \n",
    "                    validation_data=(x_train__val, y_train__val),\n",
    "                    verbose=0)"
   ]
  },
  {
   "cell_type": "code",
   "execution_count": 15,
   "metadata": {
    "ExecuteTime": {
     "end_time": "2020-05-29T07:20:08.847682Z",
     "start_time": "2020-05-29T07:20:08.165360Z"
    }
   },
   "outputs": [
    {
     "name": "stdout",
     "output_type": "stream",
     "text": [
      "313/313 [==============================] - 1s 2ms/step - loss: 0.3809 - accuracy: 0.8653\n",
      "[0.3808850049972534, 0.8652999997138977]\n"
     ]
    }
   ],
   "source": [
    "##########\n",
    "# Model I: Evaluate\n",
    "##########\n",
    "results = modeli.evaluate(x_test, test_labels)\n",
    "print(results)"
   ]
  },
  {
   "cell_type": "code",
   "execution_count": 16,
   "metadata": {
    "ExecuteTime": {
     "end_time": "2020-05-29T07:20:09.418153Z",
     "start_time": "2020-05-29T07:20:08.853764Z"
    }
   },
   "outputs": [
    {
     "name": "stdout",
     "output_type": "stream",
     "text": [
      "CLASS:\n",
      "9\n",
      "Ankle boot\n"
     ]
    }
   ],
   "source": [
    "##########\n",
    "# Model I: Predict\n",
    "##########\n",
    "\n",
    "# Using probability\n",
    "print(\"CLASS:\")\n",
    "prediction_classes_i = np.argmax(modeli.predict(x_test), axis=-1)\n",
    "print(prediction_classes_i[0])\n",
    "print(class_names[prediction_classes_i[0]])"
   ]
  }
 ],
 "metadata": {
  "kernelspec": {
   "display_name": "Python 3",
   "language": "python",
   "name": "python3"
  },
  "language_info": {
   "codemirror_mode": {
    "name": "ipython",
    "version": 3
   },
   "file_extension": ".py",
   "mimetype": "text/x-python",
   "name": "python",
   "nbconvert_exporter": "python",
   "pygments_lexer": "ipython3",
   "version": "3.7.2"
  }
 },
 "nbformat": 4,
 "nbformat_minor": 4
}
