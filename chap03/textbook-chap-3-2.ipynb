{
 "cells": [
  {
   "cell_type": "markdown",
   "metadata": {},
   "source": [
    "## 3. Getting Started with Neural Networks"
   ]
  },
  {
   "cell_type": "markdown",
   "metadata": {},
   "source": [
    "### Classifying Movie Reviews: A Binary Classification Example\n",
    "In the reviews problem, we intend to classify movie reviews as positive or negative based on the text content of the reviews."
   ]
  },
  {
   "cell_type": "code",
   "execution_count": 1,
   "metadata": {
    "ExecuteTime": {
     "end_time": "2020-05-26T03:08:37.077324Z",
     "start_time": "2020-05-26T03:08:33.122478Z"
    }
   },
   "outputs": [
    {
     "name": "stderr",
     "output_type": "stream",
     "text": [
      "Using TensorFlow backend.\n"
     ]
    }
   ],
   "source": [
    "from keras.datasets import imdb\n",
    "\n",
    "import numpy as np\n",
    "import pandas as pd\n",
    "\n",
    "from keras import models\n",
    "from keras import layers\n",
    "\n",
    "import matplotlib.pyplot as plt"
   ]
  },
  {
   "cell_type": "code",
   "execution_count": 2,
   "metadata": {
    "ExecuteTime": {
     "end_time": "2020-05-26T03:08:42.057285Z",
     "start_time": "2020-05-26T03:08:37.079453Z"
    }
   },
   "outputs": [],
   "source": [
    "##########\n",
    "# Ingestion\n",
    "##########\n",
    "(train_data, train_labels), (test_data, test_labels) = imdb.load_data(num_words=10000)"
   ]
  },
  {
   "cell_type": "markdown",
   "metadata": {},
   "source": [
    "The training data contains lists of reviews, each review is a vectorised document. Labels are 0s and 1s indicating negative and positive reviews respectively."
   ]
  },
  {
   "cell_type": "code",
   "execution_count": 3,
   "metadata": {
    "ExecuteTime": {
     "end_time": "2020-05-26T03:08:42.064107Z",
     "start_time": "2020-05-26T03:08:42.060592Z"
    },
    "code_folding": []
   },
   "outputs": [],
   "source": [
    "# For testing\n",
    "# print([td[:15] for td in train_data[0:3]])\n",
    "# print(train_labels[0:3])"
   ]
  },
  {
   "cell_type": "markdown",
   "metadata": {},
   "source": [
    "For preprocessing, there are two candidate methods:\n",
    "1. Pad the lists so all the lists have the same length, and then them into and integer tensor of shape (samples, word_indices) then use as the first layer in the network capable of handling such integer tensors\n",
    "2. One-hot encode the list to turn the vectors into 0s and 1s. The vector size represents the vocabulary size of the corpus. \n",
    "\n",
    "We will use option 2."
   ]
  },
  {
   "cell_type": "code",
   "execution_count": 4,
   "metadata": {
    "ExecuteTime": {
     "end_time": "2020-05-26T03:08:45.020389Z",
     "start_time": "2020-05-26T03:08:42.067488Z"
    }
   },
   "outputs": [],
   "source": [
    "##########\n",
    "# Preprocessing\n",
    "##########\n",
    "def vectorize_sequences(sequences, dimension=10000):\n",
    "    results = np.zeros((len(sequences), dimension))\n",
    "    for i, sequence in enumerate(sequences):\n",
    "          results[i, sequence] = 1.\n",
    "    return results\n",
    "x_train = vectorize_sequences(train_data)\n",
    "x_test = vectorize_sequences(test_data)\n",
    "y_train = np.asarray(train_labels).astype('float32')\n",
    "y_test = np.asarray(test_labels).astype('float32')"
   ]
  },
  {
   "cell_type": "markdown",
   "metadata": {},
   "source": [
    "A type of network that performs well for such problems is a simple stack of dense layers via relu activations. We will use 2 layers with 16 hidden units each and a third layer that outputs the scalar prediction regarding the sentiment of the review. The intermediate layers will use relu as the activation function and the final layers uses a sigmoid activation."
   ]
  },
  {
   "cell_type": "code",
   "execution_count": 5,
   "metadata": {
    "ExecuteTime": {
     "end_time": "2020-05-26T03:08:45.110903Z",
     "start_time": "2020-05-26T03:08:45.022322Z"
    }
   },
   "outputs": [],
   "source": [
    "##########\n",
    "# Train\n",
    "##########\n",
    "model = models.Sequential()\n",
    "model.add(layers.Dense(16, activation='relu', input_shape=(10000,)))\n",
    "model.add(layers.Dense(16, activation='relu'))\n",
    "model.add(layers.Dense(1, activation='sigmoid'))"
   ]
  },
  {
   "cell_type": "markdown",
   "metadata": {},
   "source": [
    "Then we need to confirm the model with the optimiser and loss function"
   ]
  },
  {
   "cell_type": "code",
   "execution_count": 6,
   "metadata": {
    "ExecuteTime": {
     "end_time": "2020-05-26T03:08:45.172147Z",
     "start_time": "2020-05-26T03:08:45.114292Z"
    }
   },
   "outputs": [],
   "source": [
    "model.compile(optimizer='rmsprop', loss='binary_crossentropy', metrics=['accuracy'])"
   ]
  },
  {
   "cell_type": "markdown",
   "metadata": {},
   "source": [
    "Let's do a train_test_split for the training data"
   ]
  },
  {
   "cell_type": "code",
   "execution_count": 7,
   "metadata": {
    "ExecuteTime": {
     "end_time": "2020-05-26T03:08:45.179666Z",
     "start_time": "2020-05-26T03:08:45.173949Z"
    }
   },
   "outputs": [],
   "source": [
    "x_val, y_val = x_train[:10000], y_train[:10000]\n",
    "partial_x_train, partial_y_train = x_train[10000:], y_train[10000:]"
   ]
  },
  {
   "cell_type": "markdown",
   "metadata": {},
   "source": [
    "We now train the model for 20 epochs in mini-batches of 512 samples. We also monitor the loss and accuracy of the validation set."
   ]
  },
  {
   "cell_type": "code",
   "execution_count": 8,
   "metadata": {
    "ExecuteTime": {
     "end_time": "2020-05-26T03:09:16.953971Z",
     "start_time": "2020-05-26T03:08:45.184502Z"
    },
    "scrolled": true
   },
   "outputs": [
    {
     "name": "stdout",
     "output_type": "stream",
     "text": [
      "Train on 15000 samples, validate on 10000 samples\n",
      "Epoch 1/20\n",
      "15000/15000 [==============================] - 2s 157us/step - loss: 0.5192 - accuracy: 0.7740 - val_loss: 0.3886 - val_accuracy: 0.8680\n",
      "Epoch 2/20\n",
      "15000/15000 [==============================] - 2s 108us/step - loss: 0.3088 - accuracy: 0.9023 - val_loss: 0.3238 - val_accuracy: 0.8748\n",
      "Epoch 3/20\n",
      "15000/15000 [==============================] - 1s 98us/step - loss: 0.2297 - accuracy: 0.9261 - val_loss: 0.2865 - val_accuracy: 0.8874\n",
      "Epoch 4/20\n",
      "15000/15000 [==============================] - 2s 101us/step - loss: 0.1765 - accuracy: 0.9425 - val_loss: 0.2740 - val_accuracy: 0.8903\n",
      "Epoch 5/20\n",
      "15000/15000 [==============================] - 2s 103us/step - loss: 0.1447 - accuracy: 0.9549 - val_loss: 0.2909 - val_accuracy: 0.8855\n",
      "Epoch 6/20\n",
      "15000/15000 [==============================] - 2s 103us/step - loss: 0.1180 - accuracy: 0.9640 - val_loss: 0.3022 - val_accuracy: 0.8819\n",
      "Epoch 7/20\n",
      "15000/15000 [==============================] - 2s 101us/step - loss: 0.0976 - accuracy: 0.9713 - val_loss: 0.3111 - val_accuracy: 0.8804\n",
      "Epoch 8/20\n",
      "15000/15000 [==============================] - 2s 101us/step - loss: 0.0805 - accuracy: 0.9773 - val_loss: 0.3558 - val_accuracy: 0.8718\n",
      "Epoch 9/20\n",
      "15000/15000 [==============================] - 2s 103us/step - loss: 0.0675 - accuracy: 0.9817 - val_loss: 0.3481 - val_accuracy: 0.8814\n",
      "Epoch 10/20\n",
      "15000/15000 [==============================] - 1s 100us/step - loss: 0.0560 - accuracy: 0.9861 - val_loss: 0.4157 - val_accuracy: 0.8654\n",
      "Epoch 11/20\n",
      "15000/15000 [==============================] - 2s 103us/step - loss: 0.0465 - accuracy: 0.9887 - val_loss: 0.4099 - val_accuracy: 0.8723\n",
      "Epoch 12/20\n",
      "15000/15000 [==============================] - 2s 104us/step - loss: 0.0395 - accuracy: 0.9907 - val_loss: 0.4249 - val_accuracy: 0.8735\n",
      "Epoch 13/20\n",
      "15000/15000 [==============================] - 1s 99us/step - loss: 0.0315 - accuracy: 0.9926 - val_loss: 0.4506 - val_accuracy: 0.8734\n",
      "Epoch 14/20\n",
      "15000/15000 [==============================] - 1s 98us/step - loss: 0.0220 - accuracy: 0.9968 - val_loss: 0.4922 - val_accuracy: 0.8689\n",
      "Epoch 15/20\n",
      "15000/15000 [==============================] - 1s 97us/step - loss: 0.0222 - accuracy: 0.9953 - val_loss: 0.5127 - val_accuracy: 0.8711\n",
      "Epoch 16/20\n",
      "15000/15000 [==============================] - 1s 98us/step - loss: 0.0152 - accuracy: 0.9975 - val_loss: 0.5621 - val_accuracy: 0.8638\n",
      "Epoch 17/20\n",
      "15000/15000 [==============================] - 2s 104us/step - loss: 0.0137 - accuracy: 0.9984 - val_loss: 0.5744 - val_accuracy: 0.8688\n",
      "Epoch 18/20\n",
      "15000/15000 [==============================] - 2s 101us/step - loss: 0.0119 - accuracy: 0.9979 - val_loss: 0.6053 - val_accuracy: 0.8671\n",
      "Epoch 19/20\n",
      "15000/15000 [==============================] - 2s 103us/step - loss: 0.0061 - accuracy: 0.9997 - val_loss: 0.6728 - val_accuracy: 0.8637\n",
      "Epoch 20/20\n",
      "15000/15000 [==============================] - 1s 100us/step - loss: 0.0114 - accuracy: 0.9970 - val_loss: 0.6720 - val_accuracy: 0.8662\n"
     ]
    }
   ],
   "source": [
    "history = model.fit(partial_x_train, partial_y_train, epochs=20, batch_size=512, validation_data=(x_val, y_val))"
   ]
  },
  {
   "cell_type": "markdown",
   "metadata": {},
   "source": [
    "We can use the `history` to plot training and validation loss over each epoch."
   ]
  },
  {
   "cell_type": "code",
   "execution_count": 9,
   "metadata": {
    "ExecuteTime": {
     "end_time": "2020-05-26T03:09:16.964242Z",
     "start_time": "2020-05-26T03:09:16.956032Z"
    }
   },
   "outputs": [],
   "source": [
    "history_dict = history.history\n",
    "metrics_df = pd.DataFrame({'loss' : history_dict['loss'], \n",
    "                           'val_loss' : history_dict['val_loss'],\n",
    "                          'accuracy' : history_dict['accuracy'],\n",
    "                          'val_accuracy' : history_dict['val_accuracy']})\n",
    "metrics_df['epoch'] = metrics_df.index+1"
   ]
  },
  {
   "cell_type": "code",
   "execution_count": 10,
   "metadata": {
    "ExecuteTime": {
     "end_time": "2020-05-26T03:09:17.400039Z",
     "start_time": "2020-05-26T03:09:16.966806Z"
    }
   },
   "outputs": [
    {
     "data": {
      "image/png": "[encoded data removed]",
      "text/plain": [
       "<Figure size 720x360 with 1 Axes>"
      ]
     },
     "metadata": {
      "needs_background": "light"
     },
     "output_type": "display_data"
    }
   ],
   "source": [
    "fig, ax = plt.subplots(figsize=(10,5))\n",
    "metrics_df.plot(kind='scatter', x='epoch', y='loss', ax=ax, label='train', color='blue')\n",
    "metrics_df.plot(kind='scatter', x='epoch', y='val_loss', ax=ax, label='validation', color='red', marker='+')\n",
    "ax.set_ylabel(\"Loss\")\n",
    "plt.show()"
   ]
  },
  {
   "cell_type": "code",
   "execution_count": 11,
   "metadata": {
    "ExecuteTime": {
     "end_time": "2020-05-26T03:09:17.634694Z",
     "start_time": "2020-05-26T03:09:17.402676Z"
    }
   },
   "outputs": [
    {
     "data": {
      "image/png": "[encoded data removed]",
      "text/plain": [
       "<Figure size 720x360 with 1 Axes>"
      ]
     },
     "metadata": {
      "needs_background": "light"
     },
     "output_type": "display_data"
    }
   ],
   "source": [
    "fig, ax = plt.subplots(figsize=(10,5))\n",
    "metrics_df.plot(kind='scatter', x='epoch', y='accuracy', ax=ax, label='train', color='blue')\n",
    "metrics_df.plot(kind='scatter', x='epoch', y='val_accuracy', ax=ax, label='validation', color='red', marker='+')\n",
    "ax.set_ylabel(\"Accuracy\")\n",
    "plt.show()"
   ]
  },
  {
   "cell_type": "markdown",
   "metadata": {},
   "source": [
    "As you can see, training loss decreases with every epoch and training accuracy increases with every epoch. This is consistent as we use SGD. But this is not the case for valdation. They seem to be peaking at the 4th - 6th epoch. \n",
    "\n",
    "Hence, we can see here that the model that is trained on the training data might not directly also perform well on the validation data. This is an example of <b>overfitting</b>. So let's stop after 4 epochs."
   ]
  },
  {
   "cell_type": "code",
   "execution_count": 12,
   "metadata": {
    "ExecuteTime": {
     "end_time": "2020-05-26T03:09:27.252846Z",
     "start_time": "2020-05-26T03:09:17.637152Z"
    }
   },
   "outputs": [
    {
     "name": "stdout",
     "output_type": "stream",
     "text": [
      "Train on 15000 samples, validate on 10000 samples\n",
      "Epoch 1/4\n",
      "15000/15000 [==============================] - 2s 110us/step - loss: 0.5033 - accuracy: 0.7847 - val_loss: 0.3714 - val_accuracy: 0.8687\n",
      "Epoch 2/4\n",
      "15000/15000 [==============================] - 2s 106us/step - loss: 0.2940 - accuracy: 0.9036 - val_loss: 0.2977 - val_accuracy: 0.8882\n",
      "Epoch 3/4\n",
      "15000/15000 [==============================] - 1s 99us/step - loss: 0.2158 - accuracy: 0.9281 - val_loss: 0.2805 - val_accuracy: 0.8867\n",
      "Epoch 4/4\n",
      "15000/15000 [==============================] - 1s 100us/step - loss: 0.1744 - accuracy: 0.9415 - val_loss: 0.2819 - val_accuracy: 0.8877\n",
      "25000/25000 [==============================] - 3s 120us/step\n",
      "[0.3043244568824768, 0.876039981842041]\n"
     ]
    }
   ],
   "source": [
    "model2 = models.Sequential()\n",
    "model2.add(layers.Dense(16, activation='relu', input_shape=(10000,)))\n",
    "model2.add(layers.Dense(16, activation='relu'))\n",
    "model2.add(layers.Dense(1, activation='sigmoid'))\n",
    "\n",
    "model2.compile(optimizer='rmsprop', loss='binary_crossentropy', metrics=['accuracy'])\n",
    "model2.fit(partial_x_train, partial_y_train, epochs=4, batch_size=512, validation_data=(x_val, y_val))\n",
    "\n",
    "results = model2.evaluate(x_test, y_test)\n",
    "print(results)"
   ]
  },
  {
   "cell_type": "code",
   "execution_count": 13,
   "metadata": {
    "ExecuteTime": {
     "end_time": "2020-05-26T03:09:28.790628Z",
     "start_time": "2020-05-26T03:09:27.256854Z"
    }
   },
   "outputs": [
    {
     "data": {
      "text/plain": [
       "array([[0.22599068],\n",
       "       [0.9989202 ],\n",
       "       [0.682426  ],\n",
       "       ...,\n",
       "       [0.08676031],\n",
       "       [0.10610563],\n",
       "       [0.35438138]], dtype=float32)"
      ]
     },
     "execution_count": 13,
     "metadata": {},
     "output_type": "execute_result"
    }
   ],
   "source": [
    "##########\n",
    "# Predict\n",
    "##########\n",
    "model2.predict(x_test)"
   ]
  }
 ],
 "metadata": {
  "kernelspec": {
   "display_name": "Python 3",
   "language": "python",
   "name": "python3"
  },
  "language_info": {
   "codemirror_mode": {
    "name": "ipython",
    "version": 3
   },
   "file_extension": ".py",
   "mimetype": "text/x-python",
   "name": "python",
   "nbconvert_exporter": "python",
   "pygments_lexer": "ipython3",
   "version": "3.7.2"
  }
 },
 "nbformat": 4,
 "nbformat_minor": 4
}
