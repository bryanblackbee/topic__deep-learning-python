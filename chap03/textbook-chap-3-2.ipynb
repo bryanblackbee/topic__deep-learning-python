{
 "cells": [
  {
   "cell_type": "markdown",
   "metadata": {},
   "source": [
    "## 3. Getting Started with Neural Networks"
   ]
  },
  {
   "cell_type": "markdown",
   "metadata": {},
   "source": [
    "### Classifying Movie Reviews: A Binary Classification Example\n",
    "In the **reviews** problem, we intend to classify movie reviews as positive or negative based on the text content of the reviews."
   ]
  },
  {
   "cell_type": "code",
   "execution_count": 1,
   "metadata": {
    "ExecuteTime": {
     "end_time": "2020-05-27T04:33:21.145655Z",
     "start_time": "2020-05-27T04:33:17.127418Z"
    }
   },
   "outputs": [
    {
     "name": "stderr",
     "output_type": "stream",
     "text": [
      "Using TensorFlow backend.\n"
     ]
    }
   ],
   "source": [
    "from keras.datasets import imdb\n",
    "\n",
    "import numpy as np\n",
    "import pandas as pd\n",
    "import matplotlib.pyplot as plt\n",
    "\n",
    "from sklearn.model_selection import train_test_split\n",
    "\n",
    "from keras import models\n",
    "from keras import layers"
   ]
  },
  {
   "cell_type": "code",
   "execution_count": 2,
   "metadata": {
    "ExecuteTime": {
     "end_time": "2020-05-27T04:33:31.397470Z",
     "start_time": "2020-05-27T04:33:21.148491Z"
    },
    "code_folding": []
   },
   "outputs": [],
   "source": [
    "##########\n",
    "# Ingestion\n",
    "##########\n",
    "VOCABULARY_SIZE = 10000\n",
    "(train_data, train_labels), (test_data, test_labels) = imdb.load_data(num_words=VOCABULARY_SIZE)"
   ]
  },
  {
   "cell_type": "markdown",
   "metadata": {},
   "source": [
    "The dataset is the IMDB dataset, consisting of 50000 highly polarized reviews. Each review is represented as a vector, where each value representing a word in the vocabulary of the corpus. The labels are 0 indicating negative review and 1 indicating positive review."
   ]
  },
  {
   "cell_type": "code",
   "execution_count": 3,
   "metadata": {
    "ExecuteTime": {
     "end_time": "2020-05-27T04:33:31.420521Z",
     "start_time": "2020-05-27T04:33:31.409839Z"
    },
    "code_folding": []
   },
   "outputs": [],
   "source": [
    "# For testing\n",
    "# print([td[:15] for td in train_data[0:3]])\n",
    "# print(train_labels[0:3])"
   ]
  },
  {
   "cell_type": "markdown",
   "metadata": {},
   "source": [
    "Preprocessing involves transforming the source data to data that can be consumed in the network. There are two candidate methods:\n",
    "1. Pad the lists so all the lists have the same length, and then them into and integer tensor of shape (samples, word_indices) then use as the first layer in the network capable of handling such integer tensors\n",
    "2. One-hot encode the list to turn the vectors into 0s and 1s. The vector size represents the vocabulary size of the corpus. \n",
    "\n",
    "We will use option 2."
   ]
  },
  {
   "cell_type": "code",
   "execution_count": 4,
   "metadata": {
    "ExecuteTime": {
     "end_time": "2020-05-27T04:33:47.215220Z",
     "start_time": "2020-05-27T04:33:31.428559Z"
    }
   },
   "outputs": [],
   "source": [
    "##########\n",
    "# Preprocessing\n",
    "##########\n",
    "def vectorize_sequences(sequences, dimension=VOCABULARY_SIZE):\n",
    "    results = np.zeros((len(sequences), dimension))\n",
    "    for i, sequence in enumerate(sequences):\n",
    "          results[i, sequence] = 1.\n",
    "    return results\n",
    "x_train = vectorize_sequences(train_data)\n",
    "x_test = vectorize_sequences(test_data)\n",
    "y_train = np.asarray(train_labels).astype('float32')\n",
    "y_test = np.asarray(test_labels).astype('float32')\n",
    "\n",
    "# Train-Validation Split\n",
    "x_train__train, x_train__val, y_train__train, y_train__val = train_test_split(x_train, y_train, test_size=0.4,\n",
    "                                                                             random_state=0)"
   ]
  },
  {
   "cell_type": "markdown",
   "metadata": {},
   "source": [
    "A type of network that performs well for such problems is a simple stack of dense layers via <b>relu</b> activations. We will use 2 layers with 16 hidden units each and a third layer that outputs the scalar prediction regarding the sentiment of the review. The intermediate layers will use relu as the activation function and the final layers uses a sigmoid activation.\n",
    "\n",
    "A `relu` (rectified linear unit) is a function meant to zero-out the negatives. That means that if the value is zero or positive, the output is the value. But if the value is negative, the output is just zero.\n",
    "\n",
    "<img src=\"img2.png\" width=\"450\"/>"
   ]
  },
  {
   "cell_type": "code",
   "execution_count": 5,
   "metadata": {
    "ExecuteTime": {
     "end_time": "2020-05-27T04:33:47.472337Z",
     "start_time": "2020-05-27T04:33:47.241796Z"
    }
   },
   "outputs": [],
   "source": [
    "##########\n",
    "# Instantiate Model\n",
    "##########\n",
    "model = models.Sequential()\n",
    "model.add(layers.Dense(16, activation='relu', input_shape=(VOCABULARY_SIZE,)))\n",
    "model.add(layers.Dense(16, activation='relu'))\n",
    "model.add(layers.Dense(1, activation='sigmoid'))"
   ]
  },
  {
   "cell_type": "markdown",
   "metadata": {},
   "source": [
    "Then we need to compile the model with the optimiser and loss function"
   ]
  },
  {
   "cell_type": "code",
   "execution_count": 6,
   "metadata": {
    "ExecuteTime": {
     "end_time": "2020-05-27T04:33:47.641120Z",
     "start_time": "2020-05-27T04:33:47.480306Z"
    }
   },
   "outputs": [],
   "source": [
    "model.compile(optimizer='rmsprop', loss='binary_crossentropy', metrics=['accuracy'])"
   ]
  },
  {
   "cell_type": "markdown",
   "metadata": {},
   "source": [
    "We now train the model for 20 epochs in mini-batches of 512 samples. We also monitor the loss and accuracy of the validation set. This will be used to determine the optimum number of epochs the final model will have."
   ]
  },
  {
   "cell_type": "code",
   "execution_count": 7,
   "metadata": {
    "ExecuteTime": {
     "end_time": "2020-05-27T04:34:43.248522Z",
     "start_time": "2020-05-27T04:33:47.645433Z"
    },
    "scrolled": true
   },
   "outputs": [
    {
     "name": "stdout",
     "output_type": "stream",
     "text": [
      "Train on 15000 samples, validate on 10000 samples\n",
      "Epoch 1/20\n",
      "15000/15000 [==============================] - 7s 442us/step - loss: 0.4997 - accuracy: 0.8050 - val_loss: 0.3796 - val_accuracy: 0.8697\n",
      "Epoch 2/20\n",
      "15000/15000 [==============================] - 3s 191us/step - loss: 0.2979 - accuracy: 0.9053 - val_loss: 0.3018 - val_accuracy: 0.8876\n",
      "Epoch 3/20\n",
      "15000/15000 [==============================] - 3s 203us/step - loss: 0.2178 - accuracy: 0.9313 - val_loss: 0.2813 - val_accuracy: 0.8907\n",
      "Epoch 4/20\n",
      "15000/15000 [==============================] - 3s 198us/step - loss: 0.1717 - accuracy: 0.9472 - val_loss: 0.3061 - val_accuracy: 0.8804\n",
      "Epoch 5/20\n",
      "15000/15000 [==============================] - 3s 198us/step - loss: 0.1423 - accuracy: 0.9568 - val_loss: 0.2820 - val_accuracy: 0.8920\n",
      "Epoch 6/20\n",
      "15000/15000 [==============================] - 3s 188us/step - loss: 0.1179 - accuracy: 0.9660 - val_loss: 0.3080 - val_accuracy: 0.8855\n",
      "Epoch 7/20\n",
      "15000/15000 [==============================] - 3s 191us/step - loss: 0.0954 - accuracy: 0.9750 - val_loss: 0.3136 - val_accuracy: 0.8859racy: \n",
      "Epoch 8/20\n",
      "15000/15000 [==============================] - 3s 224us/step - loss: 0.0823 - accuracy: 0.9777 - val_loss: 0.3354 - val_accuracy: 0.8814\n",
      "Epoch 9/20\n",
      "15000/15000 [==============================] - 3s 213us/step - loss: 0.0690 - accuracy: 0.9814 - val_loss: 0.3538 - val_accuracy: 0.8816\n",
      "Epoch 10/20\n",
      "15000/15000 [==============================] - 4s 237us/step - loss: 0.0542 - accuracy: 0.9883 - val_loss: 0.4174 - val_accuracy: 0.8760\n",
      "Epoch 11/20\n",
      "15000/15000 [==============================] - 3s 213us/step - loss: 0.0450 - accuracy: 0.9908 - val_loss: 0.4050 - val_accuracy: 0.8777\n",
      "Epoch 12/20\n",
      "15000/15000 [==============================] - 2s 125us/step - loss: 0.0395 - accuracy: 0.9915 - val_loss: 0.4496 - val_accuracy: 0.8754\n",
      "Epoch 13/20\n",
      "15000/15000 [==============================] - 2s 125us/step - loss: 0.0269 - accuracy: 0.9959 - val_loss: 0.5308 - val_accuracy: 0.8562\n",
      "Epoch 14/20\n",
      "15000/15000 [==============================] - 2s 123us/step - loss: 0.0235 - accuracy: 0.9959 - val_loss: 0.5020 - val_accuracy: 0.8717\n",
      "Epoch 15/20\n",
      "15000/15000 [==============================] - 2s 124us/step - loss: 0.0168 - accuracy: 0.9978 - val_loss: 0.5420 - val_accuracy: 0.8702\n",
      "Epoch 16/20\n",
      "15000/15000 [==============================] - 2s 127us/step - loss: 0.0178 - accuracy: 0.9967 - val_loss: 0.5701 - val_accuracy: 0.8698\n",
      "Epoch 17/20\n",
      "15000/15000 [==============================] - 2s 125us/step - loss: 0.0085 - accuracy: 0.9991 - val_loss: 0.6079 - val_accuracy: 0.8690\n",
      "Epoch 18/20\n",
      "15000/15000 [==============================] - 2s 129us/step - loss: 0.0103 - accuracy: 0.9981 - val_loss: 0.6419 - val_accuracy: 0.8689\n",
      "Epoch 19/20\n",
      "15000/15000 [==============================] - 2s 125us/step - loss: 0.0048 - accuracy: 0.9995 - val_loss: 0.6815 - val_accuracy: 0.8693\n",
      "Epoch 20/20\n",
      "15000/15000 [==============================] - 2s 126us/step - loss: 0.0065 - accuracy: 0.9989 - val_loss: 0.7207 - val_accuracy: 0.8680\n"
     ]
    }
   ],
   "source": [
    "##########\n",
    "# Train / Model Tuning\n",
    "##########\n",
    "history = model.fit(x_train__train, y_train__train, \n",
    "                    epochs=20, batch_size=512, \n",
    "                    validation_data=(x_train__val, y_train__val))"
   ]
  },
  {
   "cell_type": "markdown",
   "metadata": {},
   "source": [
    "We can use the `history` to plot training and validation loss over each epoch."
   ]
  },
  {
   "cell_type": "code",
   "execution_count": 8,
   "metadata": {
    "ExecuteTime": {
     "end_time": "2020-05-27T04:34:43.333992Z",
     "start_time": "2020-05-27T04:34:43.264533Z"
    }
   },
   "outputs": [],
   "source": [
    "##########\n",
    "# Model Evaluation\n",
    "##########\n",
    "history_dict = history.history\n",
    "metrics_df = pd.DataFrame({'loss' : history_dict['loss'], 'val_loss' : history_dict['val_loss'],\n",
    "                          'accuracy' : history_dict['accuracy'], 'val_accuracy' : history_dict['val_accuracy']})\n",
    "metrics_df['epoch'] = metrics_df.index+1"
   ]
  },
  {
   "cell_type": "code",
   "execution_count": 9,
   "metadata": {
    "ExecuteTime": {
     "end_time": "2020-05-27T04:34:43.860061Z",
     "start_time": "2020-05-27T04:34:43.337195Z"
    }
   },
   "outputs": [
    {
     "data": {
      "image/png": "[encoded data removed]",
      "text/plain": [
       "<Figure size 720x288 with 1 Axes>"
      ]
     },
     "metadata": {
      "needs_background": "light"
     },
     "output_type": "display_data"
    }
   ],
   "source": [
    "fig, ax = plt.subplots(figsize=(10,4))\n",
    "metrics_df.plot(kind='scatter', x='epoch', y='loss', ax=ax, label='train', color='blue')\n",
    "metrics_df.plot(kind='line', x='epoch', y='val_loss', ax=ax, label='validation', color='red')\n",
    "ax.set_ylabel(\"Loss\")\n",
    "ax.grid('GAINSBORO')\n",
    "ax.legend([])\n",
    "ax.set_xticks(range(0,21))\n",
    "plt.show()"
   ]
  },
  {
   "cell_type": "code",
   "execution_count": 10,
   "metadata": {
    "ExecuteTime": {
     "end_time": "2020-05-27T04:34:44.233033Z",
     "start_time": "2020-05-27T04:34:43.862940Z"
    }
   },
   "outputs": [
    {
     "data": {
      "image/png": "[encoded data removed]",
      "text/plain": [
       "<Figure size 720x288 with 1 Axes>"
      ]
     },
     "metadata": {
      "needs_background": "light"
     },
     "output_type": "display_data"
    }
   ],
   "source": [
    "fig, ax = plt.subplots(figsize=(10,4))\n",
    "metrics_df.plot(kind='scatter', x='epoch', y='accuracy', ax=ax, label='train', color='blue')\n",
    "metrics_df.plot(kind='line', x='epoch', y='val_accuracy', ax=ax, label='validation', color='red')\n",
    "ax.set_ylabel(\"Accuracy\")\n",
    "ax.grid('GAINSBORO')\n",
    "ax.legend([])\n",
    "ax.set_xticks(range(0,21))\n",
    "plt.show()"
   ]
  },
  {
   "cell_type": "markdown",
   "metadata": {},
   "source": [
    "As you can see, training loss decreases with every epoch and training accuracy increases with every epoch (blue . This is consistent because using the SGD algorithm, we get closer and closer to the minimum of the loss function for the training set. \n",
    "\n",
    "But this is not the case for valdation. Loss seems to pick up again starting from the 4th epoch. There is no notable improvement for accuracy beyond the 4th epoch.\n",
    "\n",
    "Hence, we can see here that the model that is trained on the training data might not directly also perform well on the validation data. This is an example of <b>overfitting</b>. So let's stop after 5 epochs."
   ]
  },
  {
   "cell_type": "code",
   "execution_count": 11,
   "metadata": {
    "ExecuteTime": {
     "end_time": "2020-05-27T04:34:54.503346Z",
     "start_time": "2020-05-27T04:34:44.236474Z"
    }
   },
   "outputs": [
    {
     "name": "stdout",
     "output_type": "stream",
     "text": [
      "Train on 15000 samples, validate on 10000 samples\n",
      "Epoch 1/5\n",
      "15000/15000 [==============================] - 2s 138us/step - loss: 0.4986 - accuracy: 0.7944 - val_loss: 0.4059 - val_accuracy: 0.8378\n",
      "Epoch 2/5\n",
      "15000/15000 [==============================] - 2s 126us/step - loss: 0.2938 - accuracy: 0.9038 - val_loss: 0.3271 - val_accuracy: 0.8710\n",
      "Epoch 3/5\n",
      "15000/15000 [==============================] - 2s 126us/step - loss: 0.2188 - accuracy: 0.9261 - val_loss: 0.2777 - val_accuracy: 0.8923\n",
      "Epoch 4/5\n",
      "15000/15000 [==============================] - 2s 128us/step - loss: 0.1690 - accuracy: 0.9444 - val_loss: 0.2790 - val_accuracy: 0.8922\n",
      "Epoch 5/5\n",
      "15000/15000 [==============================] - 2s 129us/step - loss: 0.1370 - accuracy: 0.9557 - val_loss: 0.2956 - val_accuracy: 0.8869\n"
     ]
    },
    {
     "data": {
      "text/plain": [
       "<keras.callbacks.callbacks.History at 0x14a8380b8>"
      ]
     },
     "execution_count": 11,
     "metadata": {},
     "output_type": "execute_result"
    }
   ],
   "source": [
    "##########\n",
    "# Train Tuned Model\n",
    "##########\n",
    "model2 = models.Sequential()\n",
    "model2.add(layers.Dense(16, activation='relu', input_shape=(10000,)))\n",
    "model2.add(layers.Dense(16, activation='relu'))\n",
    "model2.add(layers.Dense(1, activation='sigmoid'))\n",
    "\n",
    "model2.compile(optimizer='rmsprop', loss='binary_crossentropy', metrics=['accuracy'])\n",
    "model2.fit(x_train__train, y_train__train, \n",
    "           epochs=5, batch_size=512, \n",
    "           validation_data=(x_train__val, y_train__val))"
   ]
  },
  {
   "cell_type": "code",
   "execution_count": 12,
   "metadata": {
    "ExecuteTime": {
     "end_time": "2020-05-27T04:34:58.706131Z",
     "start_time": "2020-05-27T04:34:54.506949Z"
    }
   },
   "outputs": [
    {
     "name": "stdout",
     "output_type": "stream",
     "text": [
      "25000/25000 [==============================] - 4s 167us/step\n",
      "[0.3233723027896881, 0.8716800212860107]\n"
     ]
    }
   ],
   "source": [
    "##########\n",
    "# Evaluate on Test Set\n",
    "##########\n",
    "results = model2.evaluate(x_test, y_test)\n",
    "print(results)"
   ]
  },
  {
   "cell_type": "markdown",
   "metadata": {},
   "source": [
    "The final accuracy for the tuned model is 88%"
   ]
  },
  {
   "cell_type": "code",
   "execution_count": 13,
   "metadata": {
    "ExecuteTime": {
     "end_time": "2020-05-27T04:34:58.760469Z",
     "start_time": "2020-05-27T04:34:58.711484Z"
    }
   },
   "outputs": [
    {
     "data": {
      "text/plain": [
       "array([[0.14231093],\n",
       "       [0.99975103],\n",
       "       [0.74661314]], dtype=float32)"
      ]
     },
     "execution_count": 13,
     "metadata": {},
     "output_type": "execute_result"
    }
   ],
   "source": [
    "##########\n",
    "# Predict\n",
    "##########\n",
    "model2.predict(x_test[:3])"
   ]
  }
 ],
 "metadata": {
  "kernelspec": {
   "display_name": "Python 3",
   "language": "python",
   "name": "python3"
  },
  "language_info": {
   "codemirror_mode": {
    "name": "ipython",
    "version": 3
   },
   "file_extension": ".py",
   "mimetype": "text/x-python",
   "name": "python",
   "nbconvert_exporter": "python",
   "pygments_lexer": "ipython3",
   "version": "3.7.2"
  }
 },
 "nbformat": 4,
 "nbformat_minor": 4
}
