{
 "cells": [
  {
   "cell_type": "markdown",
   "metadata": {},
   "source": [
    "## 10. Introduction to Artificial Neural Networks with Keras"
   ]
  },
  {
   "cell_type": "markdown",
   "metadata": {},
   "source": [
    "### ### Building Complex Models using the Functional API\n",
    "\n",
    "Let's build a wide & deep network to tackle the **housing prices** problem"
   ]
  },
  {
   "cell_type": "code",
   "execution_count": 1,
   "metadata": {
    "ExecuteTime": {
     "end_time": "2020-05-29T11:12:56.350796Z",
     "start_time": "2020-05-29T11:12:53.723315Z"
    }
   },
   "outputs": [
    {
     "name": "stderr",
     "output_type": "stream",
     "text": [
      "Using TensorFlow backend.\n"
     ]
    }
   ],
   "source": [
    "from keras.datasets import boston_housing\n",
    "\n",
    "import numpy as np\n",
    "import pandas as pd\n",
    "import matplotlib.pyplot as plt\n",
    "\n",
    "from sklearn.preprocessing import StandardScaler\n",
    "from sklearn.model_selection import KFold, train_test_split\n",
    "\n",
    "from tensorflow import keras as tf_keras"
   ]
  },
  {
   "cell_type": "code",
   "execution_count": 2,
   "metadata": {
    "ExecuteTime": {
     "end_time": "2020-05-29T11:12:56.371501Z",
     "start_time": "2020-05-29T11:12:56.353440Z"
    }
   },
   "outputs": [],
   "source": [
    "# Ingestion\n",
    "###########\n",
    "(train_data, y_train), (test_data, y_test) = boston_housing.load_data()\n",
    "\n",
    "# Preprocessing\n",
    "###############\n",
    "sc = StandardScaler()\n",
    "x_train = sc.fit_transform(train_data)\n",
    "x_test = sc.transform(test_data)\n",
    "\n",
    "x_train__train, x_train__val, y_train__train, y_train__val = train_test_split(x_train, y_train, test_size=0.15,\n",
    "                                                                             random_state=0)\n",
    "NUM_FEATURES = x_train.shape[1:]"
   ]
  },
  {
   "cell_type": "markdown",
   "metadata": {},
   "source": [
    "An example of a non-sequential neural network is the <b>Wide & Deep</b> neural network. This architecture connects all or part of the inputs directly to the output layer. With this architecture, it is possible to learn both deep patterns  (using the deep path) and simple rules (using the short path). \n",
    "\n",
    "<img src=\"img3.png\" width=\"900\"/>\n",
    "\n",
    "In contrast, a regular network forces all the data to flow through all layers, and simple patterns might end up being distorted."
   ]
  },
  {
   "cell_type": "code",
   "execution_count": 3,
   "metadata": {
    "ExecuteTime": {
     "end_time": "2020-05-29T11:12:56.440553Z",
     "start_time": "2020-05-29T11:12:56.375486Z"
    }
   },
   "outputs": [],
   "source": [
    "# Instantiate Model\n",
    "###################\n",
    "input_layer = tf_keras.layers.Input(shape=NUM_FEATURES)\n",
    "hidden_layer1 = tf_keras.layers.Dense(30, activation='relu')(input_layer)\n",
    "hidden_layer2 = tf_keras.layers.Dense(30, activation='relu')(hidden_layer1)\n",
    "concat_layer = tf_keras.layers.Concatenate()([hidden_layer1, hidden_layer2])\n",
    "output_layer = tf_keras.layers.Dense(1)(concat_layer)\n",
    "model0 = tf_keras.models.Model(inputs=[input_layer], outputs=output_layer)"
   ]
  },
  {
   "cell_type": "code",
   "execution_count": 4,
   "metadata": {
    "ExecuteTime": {
     "end_time": "2020-05-29T11:12:57.675866Z",
     "start_time": "2020-05-29T11:12:56.443236Z"
    }
   },
   "outputs": [],
   "source": [
    "model0.compile(optimizer='sgd', loss='mean_squared_error', metrics=['mae'])\n",
    "history0 = model0.fit(x_train, y_train,  epochs = 10, verbose=0)"
   ]
  },
  {
   "cell_type": "code",
   "execution_count": 5,
   "metadata": {
    "ExecuteTime": {
     "end_time": "2020-05-29T11:12:57.743466Z",
     "start_time": "2020-05-29T11:12:57.679074Z"
    }
   },
   "outputs": [],
   "source": [
    "# Instantiate Model\n",
    "###################\n",
    "input_layera = tf_keras.layers.Input(shape=(10,))\n",
    "input_layerb = tf_keras.layers.Input(shape=(7,))\n",
    "hidden_layer1 = tf_keras.layers.Dense(30, activation='relu')(input_layerb)\n",
    "hidden_layer2 = tf_keras.layers.Dense(30, activation='relu')(hidden_layer1)\n",
    "concat_layer = tf_keras.layers.Concatenate()([input_layera, hidden_layer2])\n",
    "output_layer = tf_keras.layers.Dense(1)(concat_layer)\n",
    "model1 = tf_keras.models.Model(inputs=[input_layera, input_layerb], outputs=output_layer)"
   ]
  },
  {
   "cell_type": "code",
   "execution_count": 6,
   "metadata": {
    "ExecuteTime": {
     "end_time": "2020-05-29T11:12:57.752804Z",
     "start_time": "2020-05-29T11:12:57.745927Z"
    }
   },
   "outputs": [],
   "source": [
    "# Prepare data for feeding to NN \n",
    "####\n",
    "x_train__trainA = x_train__train[:,:10]\n",
    "x_train__trainB = x_train__train[:,[1,5,6,7,8,11,12]]\n",
    "x_train__val_A = x_train__val[:,:10]\n",
    "x_train__val_B = x_train__val[:,[1,5,6,7,8,11,12]]"
   ]
  },
  {
   "cell_type": "code",
   "execution_count": 7,
   "metadata": {
    "ExecuteTime": {
     "end_time": "2020-05-29T11:12:57.774818Z",
     "start_time": "2020-05-29T11:12:57.755325Z"
    }
   },
   "outputs": [],
   "source": [
    "model1.compile(optimizer='sgd', loss='mean_squared_error', metrics=['mae'])"
   ]
  },
  {
   "cell_type": "code",
   "execution_count": 8,
   "metadata": {
    "ExecuteTime": {
     "end_time": "2020-05-29T11:13:00.147935Z",
     "start_time": "2020-05-29T11:12:57.780300Z"
    }
   },
   "outputs": [
    {
     "data": {
      "text/plain": [
       "<tensorflow.python.keras.callbacks.History at 0x1403ff940>"
      ]
     },
     "execution_count": 8,
     "metadata": {},
     "output_type": "execute_result"
    }
   ],
   "source": [
    "model1.fit((x_train__trainA, x_train__trainB), y_train__train, epochs=20,\n",
    "           validation_data=((x_train__val_A, x_train__val_B), y_train__val), verbose=0)"
   ]
  },
  {
   "cell_type": "code",
   "execution_count": 9,
   "metadata": {
    "ExecuteTime": {
     "end_time": "2020-05-29T11:13:00.154882Z",
     "start_time": "2020-05-29T11:13:00.150487Z"
    }
   },
   "outputs": [],
   "source": [
    "x_testA = x_test[:,:10]\n",
    "x_testB = x_test[:,[1,5,6,7,8,11,12]]"
   ]
  },
  {
   "cell_type": "code",
   "execution_count": 10,
   "metadata": {
    "ExecuteTime": {
     "end_time": "2020-05-29T11:13:00.201261Z",
     "start_time": "2020-05-29T11:13:00.158489Z"
    }
   },
   "outputs": [
    {
     "name": "stdout",
     "output_type": "stream",
     "text": [
      "4/4 [==============================] - 0s 1ms/step - loss: 41.8889 - mae: 5.2461\n"
     ]
    },
    {
     "data": {
      "text/plain": [
       "[41.88889694213867, 5.246099948883057]"
      ]
     },
     "execution_count": 10,
     "metadata": {},
     "output_type": "execute_result"
    }
   ],
   "source": [
    "model1.evaluate((x_testA, x_testB), y_test)"
   ]
  },
  {
   "cell_type": "code",
   "execution_count": 11,
   "metadata": {
    "ExecuteTime": {
     "end_time": "2020-05-29T11:13:00.408034Z",
     "start_time": "2020-05-29T11:13:00.204473Z"
    }
   },
   "outputs": [
    {
     "data": {
      "text/plain": [
       "array([[ 6.039479],\n",
       "       [14.863385]], dtype=float32)"
      ]
     },
     "execution_count": 11,
     "metadata": {},
     "output_type": "execute_result"
    }
   ],
   "source": [
    "model1.predict((x_testA[:2], x_testB[:2]))"
   ]
  },
  {
   "cell_type": "markdown",
   "metadata": {},
   "source": [
    "### Using the Subclassing API"
   ]
  },
  {
   "cell_type": "code",
   "execution_count": 12,
   "metadata": {
    "ExecuteTime": {
     "end_time": "2020-05-29T11:13:00.419550Z",
     "start_time": "2020-05-29T11:13:00.410764Z"
    }
   },
   "outputs": [],
   "source": [
    "class WideAndDeepModel(tf_keras.models.Model):\n",
    "    def __init__(self, units=30, activation='relu', **kwargs):\n",
    "        super().__init__(**kwargs)\n",
    "        self.hidden_layer1 = tf_keras.layers.Dense(units, activation=activation)\n",
    "        self.hidden_layer2 = tf_keras.layers.Dense(units, activation=activation)\n",
    "        self.output_layer = tf_keras.layers.Dense(1)\n",
    "    \n",
    "    def call(self, inputs):\n",
    "        inputa, inputb = inputs\n",
    "        hidden1 = self.hidden_layer1(inputb)\n",
    "        hidden2 = self.hidden_layer2(hidden1)\n",
    "        conct = tf_keras.layers.Concatenate()([inputa, hidden2])\n",
    "        ouptt = self.output_layer(conct)\n",
    "        return ouptt\n",
    "        "
   ]
  },
  {
   "cell_type": "code",
   "execution_count": 13,
   "metadata": {
    "ExecuteTime": {
     "end_time": "2020-05-29T11:13:02.132979Z",
     "start_time": "2020-05-29T11:13:00.423948Z"
    }
   },
   "outputs": [
    {
     "data": {
      "text/plain": [
       "<tensorflow.python.keras.callbacks.History at 0x140595710>"
      ]
     },
     "execution_count": 13,
     "metadata": {},
     "output_type": "execute_result"
    }
   ],
   "source": [
    "model3 = WideAndDeepModel(30, 'relu')\n",
    "model3.compile(optimizer='sgd', loss='mean_squared_error', metrics=['mae'])\n",
    "model3.fit((x_train__trainA, x_train__trainB), y_train__train, epochs=20,\n",
    "           validation_data=((x_train__val_A, x_train__val_B), y_train__val), verbose=0)"
   ]
  },
  {
   "cell_type": "code",
   "execution_count": 14,
   "metadata": {
    "ExecuteTime": {
     "end_time": "2020-05-29T11:13:02.177986Z",
     "start_time": "2020-05-29T11:13:02.135114Z"
    }
   },
   "outputs": [
    {
     "name": "stdout",
     "output_type": "stream",
     "text": [
      "4/4 [==============================] - 0s 1ms/step - loss: 31.1054 - mae: 3.4079\n"
     ]
    },
    {
     "data": {
      "text/plain": [
       "[31.105440139770508, 3.407899856567383]"
      ]
     },
     "execution_count": 14,
     "metadata": {},
     "output_type": "execute_result"
    }
   ],
   "source": [
    "model3.evaluate((x_testA, x_testB), y_test)"
   ]
  },
  {
   "cell_type": "markdown",
   "metadata": {},
   "source": [
    "### Saving & Restoring a Model"
   ]
  },
  {
   "cell_type": "code",
   "execution_count": 15,
   "metadata": {
    "ExecuteTime": {
     "end_time": "2020-05-29T11:13:02.248767Z",
     "start_time": "2020-05-29T11:13:02.180156Z"
    }
   },
   "outputs": [
    {
     "data": {
      "text/plain": [
       "array([[11.237417],\n",
       "       [19.023613]], dtype=float32)"
      ]
     },
     "execution_count": 15,
     "metadata": {},
     "output_type": "execute_result"
    }
   ],
   "source": [
    "model3.predict((x_testA[:2], x_testB[:2]))"
   ]
  },
  {
   "cell_type": "code",
   "execution_count": 16,
   "metadata": {
    "ExecuteTime": {
     "end_time": "2020-05-29T11:13:02.269965Z",
     "start_time": "2020-05-29T11:13:02.250940Z"
    }
   },
   "outputs": [],
   "source": [
    "model1.save('model3.h5')"
   ]
  },
  {
   "cell_type": "code",
   "execution_count": 17,
   "metadata": {
    "ExecuteTime": {
     "end_time": "2020-05-29T11:13:02.390542Z",
     "start_time": "2020-05-29T11:13:02.271876Z"
    }
   },
   "outputs": [
    {
     "data": {
      "text/plain": [
       "array([[16.940674],\n",
       "       [15.326251],\n",
       "       [14.198267],\n",
       "       [34.23001 ],\n",
       "       [10.630935]], dtype=float32)"
      ]
     },
     "execution_count": 17,
     "metadata": {},
     "output_type": "execute_result"
    }
   ],
   "source": [
    "model1ld = tf_keras.models.load_model('model3.h5')\n",
    "model1ld.predict((x_testA[10:15], x_testB[10:15]))"
   ]
  },
  {
   "cell_type": "markdown",
   "metadata": {},
   "source": [
    "Additional Readings:\n",
    "\n",
    "- https://ai.googleblog.com/2016/06/wide-deep-learning-better-together-with.html"
   ]
  }
 ],
 "metadata": {
  "kernelspec": {
   "display_name": "Python 3",
   "language": "python",
   "name": "python3"
  },
  "language_info": {
   "codemirror_mode": {
    "name": "ipython",
    "version": 3
   },
   "file_extension": ".py",
   "mimetype": "text/x-python",
   "name": "python",
   "nbconvert_exporter": "python",
   "pygments_lexer": "ipython3",
   "version": "3.7.2"
  }
 },
 "nbformat": 4,
 "nbformat_minor": 4
}
