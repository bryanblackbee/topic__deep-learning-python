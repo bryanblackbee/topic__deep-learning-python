{
 "cells": [
  {
   "cell_type": "markdown",
   "metadata": {},
   "source": [
    "## 3. Getting Started with Neural Networks"
   ]
  },
  {
   "cell_type": "markdown",
   "metadata": {},
   "source": [
    "### Predicting House Prices: A Regression Example\n",
    "\n",
    "In the **housing prices** problem, the goal is to predict a value instead of a discrete label. This is an example of a regression problem, and is different from the classification problem we had in the past examples."
   ]
  },
  {
   "cell_type": "code",
   "execution_count": 1,
   "metadata": {
    "ExecuteTime": {
     "end_time": "2020-05-27T04:33:28.805026Z",
     "start_time": "2020-05-27T04:33:23.664151Z"
    }
   },
   "outputs": [
    {
     "name": "stderr",
     "output_type": "stream",
     "text": [
      "Using TensorFlow backend.\n"
     ]
    }
   ],
   "source": [
    "from keras.datasets import boston_housing\n",
    "\n",
    "import numpy as np\n",
    "import pandas as pd\n",
    "import matplotlib.pyplot as plt\n",
    "\n",
    "from sklearn.preprocessing import StandardScaler\n",
    "from sklearn.model_selection import KFold\n",
    "\n",
    "from keras.utils.np_utils import to_categorical\n",
    "from keras import models\n",
    "from keras import layers"
   ]
  },
  {
   "cell_type": "code",
   "execution_count": 2,
   "metadata": {
    "ExecuteTime": {
     "end_time": "2020-05-27T04:33:28.823615Z",
     "start_time": "2020-05-27T04:33:28.808133Z"
    }
   },
   "outputs": [],
   "source": [
    "##########\n",
    "# Ingestion\n",
    "##########\n",
    "(train_data, train_labels), (test_data, test_labels) = boston_housing.load_data()"
   ]
  },
  {
   "cell_type": "markdown",
   "metadata": {},
   "source": [
    "The data consists of 404 training examples and 102 test samples, each with 13 numericlal features. They are the median price of homes in a Boston suburb in the mid-1970s."
   ]
  },
  {
   "cell_type": "code",
   "execution_count": 3,
   "metadata": {
    "ExecuteTime": {
     "end_time": "2020-05-27T04:33:28.830832Z",
     "start_time": "2020-05-27T04:33:28.827513Z"
    }
   },
   "outputs": [],
   "source": [
    "# For testing\n",
    "# print([td[:] for td in train_data[0:3]])\n",
    "# print(train_labels[0:3])"
   ]
  },
  {
   "cell_type": "markdown",
   "metadata": {},
   "source": [
    "Before we fit the data into the network, we perform feature scaling. "
   ]
  },
  {
   "cell_type": "code",
   "execution_count": 4,
   "metadata": {
    "ExecuteTime": {
     "end_time": "2020-05-27T04:33:28.844155Z",
     "start_time": "2020-05-27T04:33:28.834468Z"
    }
   },
   "outputs": [],
   "source": [
    "##########\n",
    "# Preprocessing\n",
    "##########\n",
    "sc = StandardScaler()\n",
    "x_train = sc.fit_transform(train_data)\n",
    "x_test = sc.transform(test_data)\n",
    "\n",
    "num_features = x_train.shape[1]"
   ]
  },
  {
   "cell_type": "markdown",
   "metadata": {},
   "source": [
    "As the number of samples is small, we use a small network with two hidden layers, each with 64 units. This will help to mitigate overfitting.\n",
    "\n",
    "This model ends with a single unit and no activation. This is typical for a scalar regression problem (predict only a scalar value). "
   ]
  },
  {
   "cell_type": "code",
   "execution_count": 5,
   "metadata": {
    "ExecuteTime": {
     "end_time": "2020-05-27T04:33:28.856070Z",
     "start_time": "2020-05-27T04:33:28.846363Z"
    }
   },
   "outputs": [],
   "source": [
    "def build_model(num_features=13):\n",
    "    model = models.Sequential()\n",
    "    model.add(layers.Dense(64, activation='relu', input_shape=(num_features,)))\n",
    "    model.add(layers.Dense(64, activation='relu'))\n",
    "    model.add(layers.Dense(1))\n",
    "    \n",
    "    model.compile(optimizer='rmsprop', loss='mse', metrics=['mae'])\n",
    "    \n",
    "    return model"
   ]
  },
  {
   "cell_type": "markdown",
   "metadata": {},
   "source": [
    "Now, instead of train-test split, we will use k-fold cross validation. In this case, k is 4. Note that we are trying to grid search on no. of epochs to find the best value."
   ]
  },
  {
   "cell_type": "code",
   "execution_count": 6,
   "metadata": {
    "ExecuteTime": {
     "end_time": "2020-05-27T04:36:33.377225Z",
     "start_time": "2020-05-27T04:33:28.860358Z"
    }
   },
   "outputs": [
    {
     "name": "stdout",
     "output_type": "stream",
     "text": [
      "Processing fold 1\n",
      "Processing fold 2\n",
      "Processing fold 3\n",
      "Processing fold 4\n"
     ]
    }
   ],
   "source": [
    "kf = KFold(n_splits=4, random_state=0, shuffle=True)\n",
    "\n",
    "f = 1\n",
    "mae_histories = []\n",
    "num_epochs = 100\n",
    "\n",
    "##########\n",
    "# Train & Model Tuning\n",
    "##########\n",
    "for ftrain_index, ftest_index in kf.split(x_train):\n",
    "    print(\"Processing fold \" + str(f))\n",
    "    \n",
    "    f_xtrain = x_train[ftrain_index]\n",
    "    f_xtest = x_train[ftest_index]\n",
    "    f_ytrain = train_labels[ftrain_index]\n",
    "    f_ytest = train_labels[ftest_index]\n",
    "    \n",
    "    model = build_model()\n",
    "    history = model.fit(f_xtrain, f_ytrain, \n",
    "                        validation_data=(f_xtest, f_ytest), \n",
    "                        epochs = num_epochs, batch_size=1, \n",
    "                        verbose=0)\n",
    "    mae_histories.append(history)\n",
    "    f +=1"
   ]
  },
  {
   "cell_type": "markdown",
   "metadata": {},
   "source": [
    "Let's check the MAE scores for each of the folds, followed by the mean of the MAE scores."
   ]
  },
  {
   "cell_type": "code",
   "execution_count": 7,
   "metadata": {
    "ExecuteTime": {
     "end_time": "2020-05-27T04:36:33.388821Z",
     "start_time": "2020-05-27T04:36:33.383466Z"
    }
   },
   "outputs": [],
   "source": [
    "# For testing\n",
    "# for h in mae_histories:\n",
    "#     print(h.history['val_mae'][-1])"
   ]
  },
  {
   "cell_type": "code",
   "execution_count": 8,
   "metadata": {
    "ExecuteTime": {
     "end_time": "2020-05-27T04:36:33.404135Z",
     "start_time": "2020-05-27T04:36:33.396691Z"
    }
   },
   "outputs": [
    {
     "name": "stdout",
     "output_type": "stream",
     "text": [
      "[2.3399863243103027, 2.1578030586242676, 2.4330825805664062, 2.780451774597168]\n",
      "2.427830934524536\n"
     ]
    }
   ],
   "source": [
    "# Performance evaluation using MAE\n",
    "val_maes = [h.history['val_mae'][-1] for h in mae_histories]\n",
    "print(val_maes)\n",
    "print(np.mean(np.array(val_maes)))"
   ]
  },
  {
   "cell_type": "markdown",
   "metadata": {},
   "source": [
    "The different runs show different MAE scores. The average is a much more reliable metric."
   ]
  },
  {
   "cell_type": "markdown",
   "metadata": {},
   "source": [
    "Let's now try with 500 epochs."
   ]
  },
  {
   "cell_type": "code",
   "execution_count": 9,
   "metadata": {
    "ExecuteTime": {
     "end_time": "2020-05-27T04:52:20.204143Z",
     "start_time": "2020-05-27T04:36:33.407270Z"
    }
   },
   "outputs": [
    {
     "name": "stdout",
     "output_type": "stream",
     "text": [
      "Processing fold 1\n",
      "Processing fold 2\n",
      "Processing fold 3\n",
      "Processing fold 4\n"
     ]
    }
   ],
   "source": [
    "##########\n",
    "# Train / Model Tuning\n",
    "##########\n",
    "\n",
    "f = 1\n",
    "mae_histories = []\n",
    "num_epochs = 500\n",
    "\n",
    "for ftrain_index, ftest_index in kf.split(x_train):\n",
    "    print(\"Processing fold \" + str(f))\n",
    "    \n",
    "    f_xtrain = x_train[ftrain_index]\n",
    "    f_xtest = x_train[ftest_index]\n",
    "    f_ytrain = train_labels[ftrain_index]\n",
    "    f_ytest = train_labels[ftest_index]\n",
    "    \n",
    "    model = build_model()\n",
    "    history = model.fit(f_xtrain, f_ytrain, \n",
    "                        validation_data=(f_xtest, f_ytest), \n",
    "                        epochs = num_epochs, batch_size=1, \n",
    "                        verbose=0)\n",
    "    mae_histories.append(history)\n",
    "    f +=1"
   ]
  },
  {
   "cell_type": "code",
   "execution_count": 10,
   "metadata": {
    "ExecuteTime": {
     "end_time": "2020-05-27T04:52:20.222756Z",
     "start_time": "2020-05-27T04:52:20.208384Z"
    }
   },
   "outputs": [
    {
     "name": "stdout",
     "output_type": "stream",
     "text": [
      "[2.610649585723877, 2.8146564960479736, 2.2760980129241943, 2.991461753845215]\n",
      "2.673216462135315\n"
     ]
    }
   ],
   "source": [
    "# MAE across different folds\n",
    "val_maes2 = [h.history['val_mae'][-1] for h in mae_histories]\n",
    "print(val_maes2)\n",
    "print(np.mean(np.array(val_maes2)))"
   ]
  },
  {
   "cell_type": "markdown",
   "metadata": {},
   "source": [
    "Let's now compute the MAE across the different epochs."
   ]
  },
  {
   "cell_type": "code",
   "execution_count": 11,
   "metadata": {
    "ExecuteTime": {
     "end_time": "2020-05-27T04:52:20.243036Z",
     "start_time": "2020-05-27T04:52:20.229649Z"
    }
   },
   "outputs": [],
   "source": [
    "val_maes_by_fold = [h.history['val_mae'] for h in mae_histories]\n",
    "val_maes_by_epoch = np.array(val_maes_by_fold).transpose()\n",
    "mean_val_maes_by_epoch = np.mean(val_maes_by_epoch, axis=1)"
   ]
  },
  {
   "cell_type": "code",
   "execution_count": 12,
   "metadata": {
    "ExecuteTime": {
     "end_time": "2020-05-27T04:52:20.793963Z",
     "start_time": "2020-05-27T04:52:20.249678Z"
    }
   },
   "outputs": [
    {
     "data": {
      "image/png": "[encoded data removed]",
      "text/plain": [
       "<Figure size 1296x360 with 1 Axes>"
      ]
     },
     "metadata": {
      "needs_background": "light"
     },
     "output_type": "display_data"
    }
   ],
   "source": [
    "metrics_df = pd.DataFrame({'val_mae' : mean_val_maes_by_epoch})\n",
    "metrics_df['epoch'] = metrics_df.index+1\n",
    "\n",
    "fig = plt.figure(figsize=(18,5))\n",
    "ax = fig.add_subplot(211)\n",
    "metrics_df.plot(kind='line', x='epoch', y='val_mae', ax=ax, label='validation', color='red',)\n",
    "ax.set_ylabel(\"MAE\")\n",
    "plt.show()"
   ]
  },
  {
   "cell_type": "markdown",
   "metadata": {},
   "source": [
    "Plotting these values here seem hard. Let's omit the first 10 data points, and Replace each point with an exponential moving average of previous points."
   ]
  },
  {
   "cell_type": "code",
   "execution_count": 13,
   "metadata": {
    "ExecuteTime": {
     "end_time": "2020-05-27T04:52:20.815304Z",
     "start_time": "2020-05-27T04:52:20.799111Z"
    }
   },
   "outputs": [],
   "source": [
    "metrics_df2 = metrics_df.iloc[10:].copy()\n",
    "metrics_df2['val_mae_ewm'] = pd.Series.ewm(metrics_df2['val_mae'], span=5).mean()"
   ]
  },
  {
   "cell_type": "code",
   "execution_count": 14,
   "metadata": {
    "ExecuteTime": {
     "end_time": "2020-05-27T04:52:21.849369Z",
     "start_time": "2020-05-27T04:52:20.820787Z"
    }
   },
   "outputs": [
    {
     "data": {
      "image/png": "[encoded data removed]",
      "text/plain": [
       "<Figure size 1296x360 with 1 Axes>"
      ]
     },
     "metadata": {
      "needs_background": "light"
     },
     "output_type": "display_data"
    }
   ],
   "source": [
    "fig = plt.figure(figsize=(18,5))\n",
    "ax = fig.add_subplot(211)\n",
    "metrics_df2.plot(kind='line', x='epoch', y='val_mae_ewm', ax=ax, label='validation', color='red',)\n",
    "ax.set_ylabel(\"Smoothed MAE\")\n",
    "ax.set_xticks(range(10,500,10))\n",
    "ax.grid()\n",
    "plt.show()"
   ]
  },
  {
   "cell_type": "markdown",
   "metadata": {},
   "source": [
    "From here we can see that the validation MAE stops improving after about 60 epochs. So we use this as the tuned parameter."
   ]
  },
  {
   "cell_type": "code",
   "execution_count": 15,
   "metadata": {
    "ExecuteTime": {
     "end_time": "2020-05-27T04:53:04.433799Z",
     "start_time": "2020-05-27T04:52:21.854470Z"
    }
   },
   "outputs": [
    {
     "data": {
      "text/plain": [
       "<keras.callbacks.callbacks.History at 0x14284fc50>"
      ]
     },
     "execution_count": 15,
     "metadata": {},
     "output_type": "execute_result"
    }
   ],
   "source": [
    "##########\n",
    "# Tuned Model \n",
    "##########\n",
    "final_model = build_model()\n",
    "final_model.fit(f_xtrain, f_ytrain, \n",
    "                        validation_data=(f_xtest, f_ytest), \n",
    "                        epochs = 60, batch_size=1, \n",
    "                        verbose=0)"
   ]
  },
  {
   "cell_type": "code",
   "execution_count": 16,
   "metadata": {
    "ExecuteTime": {
     "end_time": "2020-05-27T04:53:04.478938Z",
     "start_time": "2020-05-27T04:53:04.442465Z"
    }
   },
   "outputs": [
    {
     "name": "stdout",
     "output_type": "stream",
     "text": [
      "102/102 [==============================] - 0s 151us/step\n",
      "2.442230463027954\n"
     ]
    }
   ],
   "source": [
    "##########\n",
    "# Evaluate on Test Set\n",
    "##########\n",
    "test_mse_score, test_mae_score = final_model.evaluate(x_test, test_labels)\n",
    "print(test_mae_score)"
   ]
  },
  {
   "cell_type": "markdown",
   "metadata": {},
   "source": [
    "MAE is about $2810"
   ]
  },
  {
   "cell_type": "code",
   "execution_count": 17,
   "metadata": {
    "ExecuteTime": {
     "end_time": "2020-05-27T04:53:04.551350Z",
     "start_time": "2020-05-27T04:53:04.485279Z"
    }
   },
   "outputs": [
    {
     "data": {
      "text/plain": [
       "array([[526.0804 ],\n",
       "       [650.38873],\n",
       "       [917.4825 ],\n",
       "       [574.1161 ],\n",
       "       [841.1349 ]], dtype=float32)"
      ]
     },
     "execution_count": 17,
     "metadata": {},
     "output_type": "execute_result"
    }
   ],
   "source": [
    "##########\n",
    "# Predict\n",
    "##########\n",
    "final_model.predict(test_data[:5])"
   ]
  }
 ],
 "metadata": {
  "kernelspec": {
   "display_name": "Python 3",
   "language": "python",
   "name": "python3"
  },
  "language_info": {
   "codemirror_mode": {
    "name": "ipython",
    "version": 3
   },
   "file_extension": ".py",
   "mimetype": "text/x-python",
   "name": "python",
   "nbconvert_exporter": "python",
   "pygments_lexer": "ipython3",
   "version": "3.7.2"
  }
 },
 "nbformat": 4,
 "nbformat_minor": 4
}
