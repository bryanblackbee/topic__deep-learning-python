{
 "cells": [
  {
   "cell_type": "markdown",
   "metadata": {},
   "source": [
    "## 3. Getting Started with Neural Networks"
   ]
  },
  {
   "cell_type": "markdown",
   "metadata": {},
   "source": [
    "### Predicting House Prices: A Regression Example\n",
    "\n",
    "In the **housing prices** problem, the goal is to predict a value instead of a discrete label. This is an example of a regression problem, and is different from the classification problem we had in the past examples."
   ]
  },
  {
   "cell_type": "code",
   "execution_count": 1,
   "metadata": {
    "ExecuteTime": {
     "end_time": "2020-05-29T08:08:18.035451Z",
     "start_time": "2020-05-29T08:08:15.675092Z"
    }
   },
   "outputs": [
    {
     "name": "stderr",
     "output_type": "stream",
     "text": [
      "Using TensorFlow backend.\n"
     ]
    }
   ],
   "source": [
    "from keras.datasets import boston_housing\n",
    "\n",
    "import numpy as np\n",
    "import pandas as pd\n",
    "import matplotlib.pyplot as plt\n",
    "\n",
    "from sklearn.preprocessing import StandardScaler\n",
    "from sklearn.model_selection import KFold, train_test_split\n",
    "\n",
    "from keras.utils.np_utils import to_categorical\n",
    "from keras import models\n",
    "from keras import layers\n",
    "\n",
    "from tensorflow import keras as tf_keras"
   ]
  },
  {
   "cell_type": "code",
   "execution_count": 2,
   "metadata": {
    "ExecuteTime": {
     "end_time": "2020-05-29T08:08:18.051855Z",
     "start_time": "2020-05-29T08:08:18.037624Z"
    }
   },
   "outputs": [],
   "source": [
    "##########\n",
    "# Ingestion\n",
    "##########\n",
    "(train_data, train_labels), (test_data, test_labels) = boston_housing.load_data()"
   ]
  },
  {
   "cell_type": "markdown",
   "metadata": {},
   "source": [
    "The data consists of 404 training examples and 102 test samples, each with 13 numericlal features. They are the median price of homes in a Boston suburb in the mid-1970s."
   ]
  },
  {
   "cell_type": "code",
   "execution_count": 3,
   "metadata": {
    "ExecuteTime": {
     "end_time": "2020-05-29T08:08:18.058600Z",
     "start_time": "2020-05-29T08:08:18.055326Z"
    }
   },
   "outputs": [],
   "source": [
    "# For testing\n",
    "# print([td[:] for td in train_data[0:3]])\n",
    "# print(train_labels[0:3])"
   ]
  },
  {
   "cell_type": "markdown",
   "metadata": {},
   "source": [
    "Before we fit the data into the network, we perform feature scaling. "
   ]
  },
  {
   "cell_type": "code",
   "execution_count": 4,
   "metadata": {
    "ExecuteTime": {
     "end_time": "2020-05-29T08:08:18.070223Z",
     "start_time": "2020-05-29T08:08:18.063610Z"
    }
   },
   "outputs": [],
   "source": [
    "##########\n",
    "# Preprocessing\n",
    "##########\n",
    "sc = StandardScaler()\n",
    "x_train = sc.fit_transform(train_data)\n",
    "x_test = sc.transform(test_data)\n",
    "\n",
    "num_features = x_train.shape[1]"
   ]
  },
  {
   "cell_type": "markdown",
   "metadata": {},
   "source": [
    "As the number of samples is small, we use a small network with two hidden layers, each with 64 units. This will help to mitigate overfitting.\n",
    "\n",
    "This model ends with a single unit and no activation. This is typical for a scalar regression problem (predict only a scalar value). "
   ]
  },
  {
   "cell_type": "code",
   "execution_count": 5,
   "metadata": {
    "ExecuteTime": {
     "end_time": "2020-05-29T08:08:18.079591Z",
     "start_time": "2020-05-29T08:08:18.072924Z"
    }
   },
   "outputs": [],
   "source": [
    "def build_model(num_features=13):\n",
    "    model = models.Sequential()\n",
    "    model.add(layers.Dense(64, activation='relu', input_shape=(num_features,)))\n",
    "    model.add(layers.Dense(64, activation='relu'))\n",
    "    model.add(layers.Dense(1))\n",
    "    \n",
    "    model.compile(optimizer='rmsprop', loss='mse', metrics=['mae'])\n",
    "    \n",
    "    return model"
   ]
  },
  {
   "cell_type": "markdown",
   "metadata": {},
   "source": [
    "Now, instead of train-test split, we will use k-fold cross validation. In this case, k is 4. Note that we are trying to grid search on no. of epochs to find the best value."
   ]
  },
  {
   "cell_type": "code",
   "execution_count": 6,
   "metadata": {
    "ExecuteTime": {
     "end_time": "2020-05-29T08:10:38.970870Z",
     "start_time": "2020-05-29T08:08:18.083100Z"
    }
   },
   "outputs": [
    {
     "name": "stdout",
     "output_type": "stream",
     "text": [
      "Processing fold 1\n",
      "Processing fold 2\n",
      "Processing fold 3\n",
      "Processing fold 4\n"
     ]
    }
   ],
   "source": [
    "kf = KFold(n_splits=4, random_state=0, shuffle=True)\n",
    "\n",
    "f = 1\n",
    "mae_histories = []\n",
    "num_epochs = 100\n",
    "\n",
    "##########\n",
    "# Train & Model Tuning\n",
    "##########\n",
    "for ftrain_index, ftest_index in kf.split(x_train):\n",
    "    print(\"Processing fold \" + str(f))\n",
    "    \n",
    "    f_xtrain = x_train[ftrain_index]\n",
    "    f_xtest = x_train[ftest_index]\n",
    "    f_ytrain = train_labels[ftrain_index]\n",
    "    f_ytest = train_labels[ftest_index]\n",
    "    \n",
    "    model = build_model()\n",
    "    history = model.fit(f_xtrain, f_ytrain, \n",
    "                        validation_data=(f_xtest, f_ytest), \n",
    "                        epochs = num_epochs, batch_size=1, \n",
    "                        verbose=0)\n",
    "    mae_histories.append(history)\n",
    "    f +=1"
   ]
  },
  {
   "cell_type": "markdown",
   "metadata": {},
   "source": [
    "Let's check the MAE scores for each of the folds, followed by the mean of the MAE scores."
   ]
  },
  {
   "cell_type": "code",
   "execution_count": 7,
   "metadata": {
    "ExecuteTime": {
     "end_time": "2020-05-29T08:10:38.976317Z",
     "start_time": "2020-05-29T08:10:38.972768Z"
    }
   },
   "outputs": [],
   "source": [
    "# For testing\n",
    "# for h in mae_histories:\n",
    "#     print(h.history['val_mae'][-1])"
   ]
  },
  {
   "cell_type": "code",
   "execution_count": 8,
   "metadata": {
    "ExecuteTime": {
     "end_time": "2020-05-29T08:10:38.989474Z",
     "start_time": "2020-05-29T08:10:38.981672Z"
    }
   },
   "outputs": [
    {
     "name": "stdout",
     "output_type": "stream",
     "text": [
      "[2.525017261505127, 2.4476616382598877, 2.1648025512695312, 2.6725945472717285]\n",
      "2.4525189995765686\n"
     ]
    }
   ],
   "source": [
    "# Performance evaluation using MAE\n",
    "val_maes = [h.history['val_mae'][-1] for h in mae_histories]\n",
    "print(val_maes)\n",
    "print(np.mean(np.array(val_maes)))"
   ]
  },
  {
   "cell_type": "markdown",
   "metadata": {},
   "source": [
    "The different runs show different MAE scores. The average is a much more reliable metric."
   ]
  },
  {
   "cell_type": "markdown",
   "metadata": {},
   "source": [
    "Let's now try with 500 epochs."
   ]
  },
  {
   "cell_type": "code",
   "execution_count": 9,
   "metadata": {
    "ExecuteTime": {
     "end_time": "2020-05-29T08:25:24.733297Z",
     "start_time": "2020-05-29T08:10:38.994576Z"
    }
   },
   "outputs": [
    {
     "name": "stdout",
     "output_type": "stream",
     "text": [
      "Processing fold 1\n",
      "Processing fold 2\n",
      "Processing fold 3\n",
      "Processing fold 4\n"
     ]
    }
   ],
   "source": [
    "##########\n",
    "# Train / Model Tuning\n",
    "##########\n",
    "\n",
    "f = 1\n",
    "mae_histories = []\n",
    "num_epochs = 500\n",
    "\n",
    "for ftrain_index, ftest_index in kf.split(x_train):\n",
    "    print(\"Processing fold \" + str(f))\n",
    "    \n",
    "    f_xtrain = x_train[ftrain_index]\n",
    "    f_xtest = x_train[ftest_index]\n",
    "    f_ytrain = train_labels[ftrain_index]\n",
    "    f_ytest = train_labels[ftest_index]\n",
    "    \n",
    "    model = build_model()\n",
    "    history = model.fit(f_xtrain, f_ytrain, \n",
    "                        validation_data=(f_xtest, f_ytest), \n",
    "                        epochs = num_epochs, batch_size=1, \n",
    "                        verbose=0)\n",
    "    mae_histories.append(history)\n",
    "    f +=1"
   ]
  },
  {
   "cell_type": "code",
   "execution_count": 10,
   "metadata": {
    "ExecuteTime": {
     "end_time": "2020-05-29T08:25:24.741080Z",
     "start_time": "2020-05-29T08:25:24.735527Z"
    }
   },
   "outputs": [
    {
     "name": "stdout",
     "output_type": "stream",
     "text": [
      "[2.6322991847991943, 2.8974709510803223, 2.3006911277770996, 3.0305492877960205]\n",
      "2.715252637863159\n"
     ]
    }
   ],
   "source": [
    "# MAE across different folds\n",
    "val_maes2 = [h.history['val_mae'][-1] for h in mae_histories]\n",
    "print(val_maes2)\n",
    "print(np.mean(np.array(val_maes2)))"
   ]
  },
  {
   "cell_type": "markdown",
   "metadata": {},
   "source": [
    "Let's now compute the MAE across the different epochs."
   ]
  },
  {
   "cell_type": "code",
   "execution_count": 11,
   "metadata": {
    "ExecuteTime": {
     "end_time": "2020-05-29T08:25:24.751031Z",
     "start_time": "2020-05-29T08:25:24.744111Z"
    }
   },
   "outputs": [],
   "source": [
    "val_maes_by_fold = [h.history['val_mae'] for h in mae_histories]\n",
    "val_maes_by_epoch = np.array(val_maes_by_fold).transpose()\n",
    "mean_val_maes_by_epoch = np.mean(val_maes_by_epoch, axis=1)"
   ]
  },
  {
   "cell_type": "code",
   "execution_count": 12,
   "metadata": {
    "ExecuteTime": {
     "end_time": "2020-05-29T08:25:25.035753Z",
     "start_time": "2020-05-29T08:25:24.754664Z"
    }
   },
   "outputs": [
    {
     "data": {
      "image/png": "[encoded data removed]",
      "text/plain": [
       "<Figure size 1296x360 with 1 Axes>"
      ]
     },
     "metadata": {
      "needs_background": "light"
     },
     "output_type": "display_data"
    }
   ],
   "source": [
    "metrics_df = pd.DataFrame({'val_mae' : mean_val_maes_by_epoch})\n",
    "metrics_df['epoch'] = metrics_df.index+1\n",
    "\n",
    "fig = plt.figure(figsize=(18,5))\n",
    "ax = fig.add_subplot(211)\n",
    "metrics_df.plot(kind='line', x='epoch', y='val_mae', ax=ax, label='validation', color='red',)\n",
    "ax.set_ylabel(\"MAE\")\n",
    "plt.show()"
   ]
  },
  {
   "cell_type": "markdown",
   "metadata": {},
   "source": [
    "Plotting these values here seem hard. Let's omit the first 10 data points, and Replace each point with an exponential moving average of previous points."
   ]
  },
  {
   "cell_type": "code",
   "execution_count": 13,
   "metadata": {
    "ExecuteTime": {
     "end_time": "2020-05-29T08:25:25.050759Z",
     "start_time": "2020-05-29T08:25:25.038493Z"
    }
   },
   "outputs": [],
   "source": [
    "metrics_df2 = metrics_df.iloc[10:].copy()\n",
    "metrics_df2['val_mae_ewm'] = pd.Series.ewm(metrics_df2['val_mae'], span=5).mean()"
   ]
  },
  {
   "cell_type": "code",
   "execution_count": 14,
   "metadata": {
    "ExecuteTime": {
     "end_time": "2020-05-29T08:25:25.602532Z",
     "start_time": "2020-05-29T08:25:25.053366Z"
    }
   },
   "outputs": [
    {
     "data": {
      "image/png": "[encoded data removed]",
      "text/plain": [
       "<Figure size 1296x360 with 1 Axes>"
      ]
     },
     "metadata": {
      "needs_background": "light"
     },
     "output_type": "display_data"
    }
   ],
   "source": [
    "fig = plt.figure(figsize=(18,5))\n",
    "ax = fig.add_subplot(211)\n",
    "metrics_df2.plot(kind='line', x='epoch', y='val_mae_ewm', ax=ax, label='validation', color='red',)\n",
    "ax.set_ylabel(\"Smoothed MAE\")\n",
    "ax.set_xticks(range(10,500,10))\n",
    "ax.grid()\n",
    "plt.show()"
   ]
  },
  {
   "cell_type": "markdown",
   "metadata": {},
   "source": [
    "From here we can see that the validation MAE stops improving after about 60 epochs. So we use this as the tuned parameter."
   ]
  },
  {
   "cell_type": "code",
   "execution_count": 15,
   "metadata": {
    "ExecuteTime": {
     "end_time": "2020-05-29T08:25:50.977176Z",
     "start_time": "2020-05-29T08:25:25.605249Z"
    }
   },
   "outputs": [
    {
     "data": {
      "text/plain": [
       "<keras.callbacks.callbacks.History at 0x13849f400>"
      ]
     },
     "execution_count": 15,
     "metadata": {},
     "output_type": "execute_result"
    }
   ],
   "source": [
    "##########\n",
    "# Tuned Model \n",
    "##########\n",
    "final_model = build_model()\n",
    "final_model.fit(f_xtrain, f_ytrain, \n",
    "                        validation_data=(f_xtest, f_ytest), \n",
    "                        epochs = 60, batch_size=1, \n",
    "                        verbose=0)"
   ]
  },
  {
   "cell_type": "code",
   "execution_count": 16,
   "metadata": {
    "ExecuteTime": {
     "end_time": "2020-05-29T08:25:50.993449Z",
     "start_time": "2020-05-29T08:25:50.980073Z"
    }
   },
   "outputs": [
    {
     "name": "stdout",
     "output_type": "stream",
     "text": [
      "102/102 [==============================] - 0s 53us/step\n",
      "2.7454662322998047\n"
     ]
    }
   ],
   "source": [
    "##########\n",
    "# Evaluate on Test Set\n",
    "##########\n",
    "test_mse_score, test_mae_score = final_model.evaluate(x_test, test_labels)\n",
    "print(test_mae_score)"
   ]
  },
  {
   "cell_type": "markdown",
   "metadata": {},
   "source": [
    "MAE is about $2810"
   ]
  },
  {
   "cell_type": "code",
   "execution_count": 17,
   "metadata": {
    "ExecuteTime": {
     "end_time": "2020-05-29T08:25:51.034315Z",
     "start_time": "2020-05-29T08:25:50.996828Z"
    }
   },
   "outputs": [
    {
     "data": {
      "text/plain": [
       "array([[998.2407 ],\n",
       "       [591.47284],\n",
       "       [805.2824 ],\n",
       "       [499.1135 ],\n",
       "       [740.59357]], dtype=float32)"
      ]
     },
     "execution_count": 17,
     "metadata": {},
     "output_type": "execute_result"
    }
   ],
   "source": [
    "##########\n",
    "# Predict\n",
    "##########\n",
    "final_model.predict(test_data[:5])"
   ]
  },
  {
   "cell_type": "markdown",
   "metadata": {},
   "source": [
    "### Tensorflow Implementation"
   ]
  },
  {
   "cell_type": "code",
   "execution_count": 18,
   "metadata": {
    "ExecuteTime": {
     "end_time": "2020-05-29T08:25:52.492832Z",
     "start_time": "2020-05-29T08:25:51.036938Z"
    }
   },
   "outputs": [
    {
     "data": {
      "text/plain": [
       "<tensorflow.python.keras.callbacks.History at 0x138603ba8>"
      ]
     },
     "execution_count": 18,
     "metadata": {},
     "output_type": "execute_result"
    }
   ],
   "source": [
    "# Train-test split\n",
    "x_train__train, x_train__val, y_train__train, y_train__val = train_test_split(x_train, train_labels)\n",
    "\n",
    "# Train\n",
    "modeli = tf_keras.models.Sequential([\n",
    "    tf_keras.layers.Dense(64, activation='relu', input_shape=(num_features,)),\n",
    "    tf_keras.layers.Dense(1),\n",
    "])\n",
    "modeli.compile(optimizer='sgd', loss='mean_squared_error', metrics=['mae'])\n",
    "modeli.fit(x_train, train_labels, \n",
    "           validation_data=(x_train__val, y_train__val), \n",
    "           epochs = 20, verbose=0)"
   ]
  },
  {
   "cell_type": "code",
   "execution_count": 19,
   "metadata": {
    "ExecuteTime": {
     "end_time": "2020-05-29T08:25:52.682625Z",
     "start_time": "2020-05-29T08:25:52.495492Z"
    }
   },
   "outputs": [
    {
     "name": "stdout",
     "output_type": "stream",
     "text": [
      "4/4 [==============================] - 0s 1ms/step - loss: 18.3456 - mae: 2.8819\n"
     ]
    },
    {
     "data": {
      "text/plain": [
       "array([[ 8.899626],\n",
       "       [18.566061],\n",
       "       [22.922548]], dtype=float32)"
      ]
     },
     "execution_count": 19,
     "metadata": {},
     "output_type": "execute_result"
    }
   ],
   "source": [
    "# Evaluate \n",
    "modeli.evaluate(x_test, test_labels)\n",
    "\n",
    "# Predict\n",
    "modeli.predict(x_test[:3])"
   ]
  }
 ],
 "metadata": {
  "kernelspec": {
   "display_name": "Python 3",
   "language": "python",
   "name": "python3"
  },
  "language_info": {
   "codemirror_mode": {
    "name": "ipython",
    "version": 3
   },
   "file_extension": ".py",
   "mimetype": "text/x-python",
   "name": "python",
   "nbconvert_exporter": "python",
   "pygments_lexer": "ipython3",
   "version": "3.7.2"
  }
 },
 "nbformat": 4,
 "nbformat_minor": 4
}
