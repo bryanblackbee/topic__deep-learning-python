{
 "cells": [
  {
   "cell_type": "markdown",
   "metadata": {},
   "source": [
    "## 3. Getting Started with Neural Networks"
   ]
  },
  {
   "cell_type": "markdown",
   "metadata": {},
   "source": [
    "### Predicting House Prices: A Regression Example\n",
    "\n",
    "In the housing prices problem, the goal is to predict a value instead of a discrete label. This is an example of a regression problem, and is different from the classification problem we had in the past examples."
   ]
  },
  {
   "cell_type": "code",
   "execution_count": 11,
   "metadata": {
    "ExecuteTime": {
     "end_time": "2020-05-26T09:50:49.854741Z",
     "start_time": "2020-05-26T09:50:49.849974Z"
    }
   },
   "outputs": [],
   "source": [
    "from keras.datasets import boston_housing\n",
    "\n",
    "import numpy as np\n",
    "import pandas as pd\n",
    "\n",
    "from sklearn.preprocessing import StandardScaler\n",
    "from sklearn.model_selection import KFold\n",
    "from keras.utils.np_utils import to_categorical\n",
    "from keras import models\n",
    "from keras import layers\n",
    "\n",
    "import matplotlib.pyplot as plt"
   ]
  },
  {
   "cell_type": "code",
   "execution_count": 2,
   "metadata": {
    "ExecuteTime": {
     "end_time": "2020-05-26T09:29:38.491111Z",
     "start_time": "2020-05-26T09:29:38.481559Z"
    }
   },
   "outputs": [],
   "source": [
    "##########\n",
    "# Ingestion\n",
    "##########\n",
    "(train_data, train_labels), (test_data, test_labels) = boston_housing.load_data()"
   ]
  },
  {
   "cell_type": "markdown",
   "metadata": {},
   "source": [
    "The data now consists of 404 training examples and 102 test samples, each with 13 numericlal features."
   ]
  },
  {
   "cell_type": "code",
   "execution_count": 4,
   "metadata": {
    "ExecuteTime": {
     "end_time": "2020-05-26T09:31:01.577182Z",
     "start_time": "2020-05-26T09:31:01.568390Z"
    }
   },
   "outputs": [
    {
     "name": "stdout",
     "output_type": "stream",
     "text": [
      "[array([  1.23247,   0.     ,   8.14   ,   0.     ,   0.538  ,   6.142  ,\n",
      "        91.7    ,   3.9769 ,   4.     , 307.     ,  21.     , 396.9    ,\n",
      "        18.72   ]), array([2.1770e-02, 8.2500e+01, 2.0300e+00, 0.0000e+00, 4.1500e-01,\n",
      "       7.6100e+00, 1.5700e+01, 6.2700e+00, 2.0000e+00, 3.4800e+02,\n",
      "       1.4700e+01, 3.9538e+02, 3.1100e+00]), array([4.89822e+00, 0.00000e+00, 1.81000e+01, 0.00000e+00, 6.31000e-01,\n",
      "       4.97000e+00, 1.00000e+02, 1.33250e+00, 2.40000e+01, 6.66000e+02,\n",
      "       2.02000e+01, 3.75520e+02, 3.26000e+00])]\n",
      "[15.2 42.3 50. ]\n"
     ]
    }
   ],
   "source": [
    "# For testing\n",
    "# print([td[:] for td in train_data[0:3]])\n",
    "# print(train_labels[0:3])"
   ]
  },
  {
   "cell_type": "markdown",
   "metadata": {},
   "source": [
    "Before we fit the data into the network, we perform feature scaling. "
   ]
  },
  {
   "cell_type": "code",
   "execution_count": 9,
   "metadata": {
    "ExecuteTime": {
     "end_time": "2020-05-26T09:34:28.354858Z",
     "start_time": "2020-05-26T09:34:28.348427Z"
    }
   },
   "outputs": [],
   "source": [
    "##########\n",
    "# Preprocessing\n",
    "##########\n",
    "sc = StandardScaler()\n",
    "x_train = sc.fit_transform(train_data)\n",
    "x_test = sc.transform(test_data)\n",
    "\n",
    "num_features = x_train.shape[1]"
   ]
  },
  {
   "cell_type": "markdown",
   "metadata": {},
   "source": [
    "As the number of samples is small, we use a small network with two hidden layers, each with 64 units. This will help to mitigate overfitting.\n",
    "\n",
    "This model ends with a single unit and no activation. This is typical for a scalar regression problem (predict only a scalar value). "
   ]
  },
  {
   "cell_type": "code",
   "execution_count": 10,
   "metadata": {
    "ExecuteTime": {
     "end_time": "2020-05-26T09:35:38.646113Z",
     "start_time": "2020-05-26T09:35:38.640702Z"
    }
   },
   "outputs": [],
   "source": [
    "def build_model():\n",
    "    model = models.Sequential()\n",
    "    model.add(layers.Dense(64, activation='relu', input_shape=(num_features,)))\n",
    "    model.add(layers.Dense(64, activation='relu'))\n",
    "    model.add(layers.Dense(1))\n",
    "    \n",
    "    model.compile(optimizer='rmsprop', loss='mse', metrics=['mae'])\n",
    "    \n",
    "    return model"
   ]
  },
  {
   "cell_type": "markdown",
   "metadata": {},
   "source": [
    "Now, instead of train-test split, we will use k-fold cross validation. In this case, k is 4. Note that we are trying to grid search on no. of epochs to find the best value."
   ]
  },
  {
   "cell_type": "code",
   "execution_count": 17,
   "metadata": {
    "ExecuteTime": {
     "end_time": "2020-05-26T09:58:31.383481Z",
     "start_time": "2020-05-26T09:56:09.252401Z"
    }
   },
   "outputs": [
    {
     "name": "stdout",
     "output_type": "stream",
     "text": [
      "Processing fold 1\n",
      "Processing fold 2\n",
      "Processing fold 3\n",
      "Processing fold 4\n"
     ]
    }
   ],
   "source": [
    "kf = KFold(n_splits=4, random_state=0, shuffle=True)\n",
    "f = 1\n",
    "mae_histories = []\n",
    "num_epochs = 100\n",
    "\n",
    "##########\n",
    "# Train\n",
    "##########\n",
    "for ftrain_index, ftest_index in kf.split(x_train):\n",
    "    print(\"Processing fold \" + str(f))\n",
    "    \n",
    "    f_xtrain = x_train[ftrain_index]\n",
    "    f_xtest = x_train[ftest_index]\n",
    "    f_ytrain = train_labels[ftrain_index]\n",
    "    f_ytest = train_labels[ftest_index]\n",
    "    \n",
    "    model = build_model()\n",
    "    history = model.fit(f_xtrain, f_ytrain, \n",
    "                        validation_data=(f_xtest, f_ytest), \n",
    "                        epochs = num_epochs, batch_size=1, \n",
    "                        verbose=0)\n",
    "    mae_histories.append(history)\n",
    "    f +=1"
   ]
  },
  {
   "cell_type": "code",
   "execution_count": 32,
   "metadata": {
    "ExecuteTime": {
     "end_time": "2020-05-26T10:02:01.053087Z",
     "start_time": "2020-05-26T10:02:01.045070Z"
    }
   },
   "outputs": [
    {
     "name": "stdout",
     "output_type": "stream",
     "text": [
      "[2.457387135028839, 2.491862704753876, 2.3064396286010744, 2.643530614376068]\n"
     ]
    },
    {
     "data": {
      "text/plain": [
       "2.4748050206899643"
      ]
     },
     "execution_count": 32,
     "metadata": {},
     "output_type": "execute_result"
    }
   ],
   "source": [
    "# Performance evaluation using MAE\n",
    "print([np.mean(h.history['val_mae']) for h in mae_histories])\n",
    "np.mean([np.mean(h.history['val_mae']) for h in mae_histories])"
   ]
  },
  {
   "cell_type": "markdown",
   "metadata": {},
   "source": [
    "The different runs do show different validation scores. Let's now try with 500 epochs."
   ]
  },
  {
   "cell_type": "code",
   "execution_count": 34,
   "metadata": {
    "ExecuteTime": {
     "end_time": "2020-05-26T10:17:31.666573Z",
     "start_time": "2020-05-26T10:04:11.575233Z"
    }
   },
   "outputs": [
    {
     "name": "stdout",
     "output_type": "stream",
     "text": [
      "Processing fold 1\n",
      "Processing fold 2\n",
      "Processing fold 3\n",
      "Processing fold 4\n"
     ]
    }
   ],
   "source": [
    "##########\n",
    "# Train\n",
    "##########\n",
    "\n",
    "num_epochs = 500\n",
    "f = 1\n",
    "for ftrain_index, ftest_index in kf.split(x_train):\n",
    "    print(\"Processing fold \" + str(f))\n",
    "    \n",
    "    f_xtrain = x_train[ftrain_index]\n",
    "    f_xtest = x_train[ftest_index]\n",
    "    f_ytrain = train_labels[ftrain_index]\n",
    "    f_ytest = train_labels[ftest_index]\n",
    "    \n",
    "    model = build_model()\n",
    "    history = model.fit(f_xtrain, f_ytrain, \n",
    "                        validation_data=(f_xtest, f_ytest), \n",
    "                        epochs = num_epochs, batch_size=1, \n",
    "                        verbose=0)\n",
    "    mae_histories.append(history)\n",
    "    f +=1"
   ]
  },
  {
   "cell_type": "code",
   "execution_count": 41,
   "metadata": {
    "ExecuteTime": {
     "end_time": "2020-05-26T10:21:47.220344Z",
     "start_time": "2020-05-26T10:21:47.216920Z"
    }
   },
   "outputs": [],
   "source": [
    "# Plot the MAE histories across the different folds\n",
    "mae_histories2 = [h.history['val_mae'] for h in mae_histories[4:]]\n"
   ]
  },
  {
   "cell_type": "code",
   "execution_count": 56,
   "metadata": {
    "ExecuteTime": {
     "end_time": "2020-05-26T10:25:33.987577Z",
     "start_time": "2020-05-26T10:25:33.976048Z"
    }
   },
   "outputs": [],
   "source": [
    "avg_mae_histories = []\n",
    "for (m1, m2, m3, m4) in zip(mae_histories2[0], mae_histories2[1], mae_histories2[2], mae_histories2[3]):\n",
    "    avg_mae_histories.append(np.mean(np.array([m1,m2,m3,m4])))"
   ]
  },
  {
   "cell_type": "code",
   "execution_count": 64,
   "metadata": {
    "ExecuteTime": {
     "end_time": "2020-05-26T10:26:51.832794Z",
     "start_time": "2020-05-26T10:26:51.628470Z"
    }
   },
   "outputs": [
    {
     "data": {
      "image/png": "[encoded data removed]",
      "text/plain": [
       "<Figure size 1296x360 with 1 Axes>"
      ]
     },
     "metadata": {
      "needs_background": "light"
     },
     "output_type": "display_data"
    }
   ],
   "source": [
    "metrics_df = pd.DataFrame({'val_mae' : avg_mae_histories})\n",
    "metrics_df['epoch'] = metrics_df.index+1\n",
    "\n",
    "fig = plt.figure(figsize=(18,5))\n",
    "ax = fig.add_subplot(211)\n",
    "metrics_df.plot(kind='line', x='epoch', y='val_mae', ax=ax, label='validation', color='red',)\n",
    "ax.set_ylabel(\"MAE\")\n",
    "plt.show()"
   ]
  },
  {
   "cell_type": "code",
   "execution_count": 81,
   "metadata": {
    "ExecuteTime": {
     "end_time": "2020-05-26T10:37:15.507174Z",
     "start_time": "2020-05-26T10:37:15.284074Z"
    }
   },
   "outputs": [
    {
     "data": {
      "image/png": "[encoded data removed]",
      "text/plain": [
       "<Figure size 1296x360 with 1 Axes>"
      ]
     },
     "metadata": {
      "needs_background": "light"
     },
     "output_type": "display_data"
    }
   ],
   "source": [
    "metrics_df2 = metrics_df.iloc[10:].copy()\n",
    "metrics_df2['val_mae_tm1'] = metrics_df2['val_mae'].shift(1)\n",
    "metrics_df2['val_mae_ewma'] = metrics_df2['val_mae'] * 0.1 + metrics_df2['val_mae_tm1']*0.9\n",
    "metrics_df2\n",
    "fig = plt.figure(figsize=(18,5))\n",
    "ax = fig.add_subplot(211)\n",
    "metrics_df2.plot(kind='line', x='epoch', y='val_mae_ewma', ax=ax, label='validation', color='red',)\n",
    "ax.set_ylabel(\"Smoothed MAE\")\n",
    "plt.show()"
   ]
  },
  {
   "cell_type": "markdown",
   "metadata": {},
   "source": [
    "From here we can see that the validation MAE stops improving after about 80 epochs. So we use this as the tuned parameter."
   ]
  },
  {
   "cell_type": "code",
   "execution_count": 82,
   "metadata": {
    "ExecuteTime": {
     "end_time": "2020-05-26T10:38:53.105616Z",
     "start_time": "2020-05-26T10:38:23.353402Z"
    }
   },
   "outputs": [
    {
     "data": {
      "text/plain": [
       "<keras.callbacks.callbacks.History at 0x142fe79e8>"
      ]
     },
     "execution_count": 82,
     "metadata": {},
     "output_type": "execute_result"
    }
   ],
   "source": [
    "final_model = build_model()\n",
    "final_model.fit(f_xtrain, f_ytrain, \n",
    "                        validation_data=(f_xtest, f_ytest), \n",
    "                        epochs = 80, batch_size=1, \n",
    "                        verbose=0)"
   ]
  },
  {
   "cell_type": "code",
   "execution_count": 84,
   "metadata": {
    "ExecuteTime": {
     "end_time": "2020-05-26T10:39:01.797053Z",
     "start_time": "2020-05-26T10:39:01.785452Z"
    }
   },
   "outputs": [
    {
     "name": "stdout",
     "output_type": "stream",
     "text": [
      "102/102 [==============================] - 0s 64us/step\n"
     ]
    }
   ],
   "source": [
    "test_mse_score, test_mae_score = final_model.evaluate(test_data, test_labels)"
   ]
  },
  {
   "cell_type": "code",
   "execution_count": 85,
   "metadata": {
    "ExecuteTime": {
     "end_time": "2020-05-26T10:39:04.374367Z",
     "start_time": "2020-05-26T10:39:04.369975Z"
    }
   },
   "outputs": [
    {
     "name": "stdout",
     "output_type": "stream",
     "text": [
      "1903.668701171875\n"
     ]
    }
   ],
   "source": [
    "print(test_mae_score)"
   ]
  },
  {
   "cell_type": "code",
   "execution_count": 88,
   "metadata": {
    "ExecuteTime": {
     "end_time": "2020-05-26T10:39:26.552456Z",
     "start_time": "2020-05-26T10:39:26.545528Z"
    }
   },
   "outputs": [
    {
     "data": {
      "text/plain": [
       "array([[2080.959 ],\n",
       "       [1908.7532],\n",
       "       [1749.3546],\n",
       "       [1731.4608],\n",
       "       [1717.7333]], dtype=float32)"
      ]
     },
     "execution_count": 88,
     "metadata": {},
     "output_type": "execute_result"
    }
   ],
   "source": [
    "##########\n",
    "# Predict\n",
    "##########\n",
    "final_model.predict(test_data[:5])"
   ]
  }
 ],
 "metadata": {
  "kernelspec": {
   "display_name": "Python 3",
   "language": "python",
   "name": "python3"
  },
  "language_info": {
   "codemirror_mode": {
    "name": "ipython",
    "version": 3
   },
   "file_extension": ".py",
   "mimetype": "text/x-python",
   "name": "python",
   "nbconvert_exporter": "python",
   "pygments_lexer": "ipython3",
   "version": "3.7.2"
  }
 },
 "nbformat": 4,
 "nbformat_minor": 4
}
