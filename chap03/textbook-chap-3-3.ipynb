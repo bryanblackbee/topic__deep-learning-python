{
 "cells": [
  {
   "cell_type": "markdown",
   "metadata": {},
   "source": [
    "## 3. Getting Started with Neural Networks"
   ]
  },
  {
   "cell_type": "markdown",
   "metadata": {},
   "source": [
    "### Classifying newswires: A Multiclass Classification Example\n",
    "In the newswires problem, we want to classify newswires to one of 46 mutually exclusive topics. Since the number of classes is more than 2, this is a multiclass classification problem, extending from the binary classification problem."
   ]
  },
  {
   "cell_type": "code",
   "execution_count": 1,
   "metadata": {
    "ExecuteTime": {
     "end_time": "2020-05-26T09:27:16.093277Z",
     "start_time": "2020-05-26T09:27:13.086196Z"
    }
   },
   "outputs": [
    {
     "name": "stderr",
     "output_type": "stream",
     "text": [
      "Using TensorFlow backend.\n"
     ]
    }
   ],
   "source": [
    "from keras.datasets import reuters\n",
    "\n",
    "import numpy as np\n",
    "import pandas as pd\n",
    "\n",
    "from keras.utils.np_utils import to_categorical\n",
    "from keras import models\n",
    "from keras import layers\n",
    "\n",
    "import matplotlib.pyplot as plt"
   ]
  },
  {
   "cell_type": "code",
   "execution_count": 2,
   "metadata": {
    "ExecuteTime": {
     "end_time": "2020-05-26T09:27:16.751311Z",
     "start_time": "2020-05-26T09:27:16.095731Z"
    }
   },
   "outputs": [],
   "source": [
    "##########\n",
    "# Ingestion\n",
    "##########\n",
    "(train_data, train_labels), (test_data, test_labels) = reuters.load_data(num_words=10000)"
   ]
  },
  {
   "cell_type": "markdown",
   "metadata": {},
   "source": [
    "The data consists of 8982 training examples and 2246 test examples. Similarly each document is stored as a word vector."
   ]
  },
  {
   "cell_type": "code",
   "execution_count": 3,
   "metadata": {
    "ExecuteTime": {
     "end_time": "2020-05-26T09:27:16.756867Z",
     "start_time": "2020-05-26T09:27:16.753663Z"
    }
   },
   "outputs": [],
   "source": [
    "# For testing\n",
    "# print([td[:15] for td in train_data[0:3]])\n",
    "# print(train_labels[0:3])"
   ]
  },
  {
   "cell_type": "markdown",
   "metadata": {},
   "source": [
    "Preprocessing follows that in the reviews problem for the input data. \n",
    "\n",
    "For the labels, we can cast the label list as an integer tensor, or one-hot encode the categorical data. We will do one-hot encoding.\n",
    "\n",
    "Note that if we use the integer tensor way, then the loss function will be `sparse_categorical_crossentropy`."
   ]
  },
  {
   "cell_type": "code",
   "execution_count": 4,
   "metadata": {
    "ExecuteTime": {
     "end_time": "2020-05-26T09:27:17.253870Z",
     "start_time": "2020-05-26T09:27:16.765102Z"
    }
   },
   "outputs": [],
   "source": [
    "##########\n",
    "# Preprocessing\n",
    "##########\n",
    "def vectorize_sequences(sequences, dimension=10000):\n",
    "    results = np.zeros((len(sequences), dimension))\n",
    "    for i, sequence in enumerate(sequences):\n",
    "          results[i, sequence] = 1.\n",
    "    return results\n",
    "x_train = vectorize_sequences(train_data)\n",
    "x_test = vectorize_sequences(test_data)\n",
    "y_train = to_categorical(train_labels)\n",
    "y_test = to_categorical(test_labels)\n",
    "\n",
    "# Train-Validation Split\n",
    "x_val, y_val = x_train[:1000], y_train[:1000]\n",
    "partial_x_train, partial_y_train = x_train[1000:], y_train[1000:]"
   ]
  },
  {
   "cell_type": "markdown",
   "metadata": {},
   "source": [
    "For this problem, a 16-dimensional space might be too limited to learn to separate 46 different classes. For this, we go with a larger layer with 64 units.\n",
    "\n",
    "Also, for the last layer, we now use a softmax function because this is a multiclass problem with more than 2 classes. Note that the 46 probabilities from the output layer will sum to $1$ too.\n",
    "\n",
    "The network ends with a dense layer of size 46 to represent the 46 different categories. Each entry will encode a different output class."
   ]
  },
  {
   "cell_type": "code",
   "execution_count": 5,
   "metadata": {
    "ExecuteTime": {
     "end_time": "2020-05-26T09:27:17.315396Z",
     "start_time": "2020-05-26T09:27:17.255800Z"
    }
   },
   "outputs": [],
   "source": [
    "##########\n",
    "# Train\n",
    "##########\n",
    "model = models.Sequential()\n",
    "model.add(layers.Dense(64, activation='relu', input_shape=(10000,)))\n",
    "model.add(layers.Dense(64, activation='relu'))\n",
    "model.add(layers.Dense(46, activation='softmax'))"
   ]
  },
  {
   "cell_type": "markdown",
   "metadata": {},
   "source": [
    "We use the same workflow and now will compile the model. This time the loss function changes to `categorical_crossentropy`."
   ]
  },
  {
   "cell_type": "code",
   "execution_count": 6,
   "metadata": {
    "ExecuteTime": {
     "end_time": "2020-05-26T09:27:17.358126Z",
     "start_time": "2020-05-26T09:27:17.317627Z"
    }
   },
   "outputs": [],
   "source": [
    "model.compile(optimizer='rmsprop', loss='categorical_crossentropy', metrics=['accuracy'])"
   ]
  },
  {
   "cell_type": "markdown",
   "metadata": {},
   "source": [
    "We will train the network on 20 epochs"
   ]
  },
  {
   "cell_type": "code",
   "execution_count": 7,
   "metadata": {
    "ExecuteTime": {
     "end_time": "2020-05-26T09:27:33.166492Z",
     "start_time": "2020-05-26T09:27:17.360210Z"
    }
   },
   "outputs": [
    {
     "name": "stdout",
     "output_type": "stream",
     "text": [
      "Train on 7982 samples, validate on 1000 samples\n",
      "Epoch 1/20\n",
      "7982/7982 [==============================] - 1s 140us/step - loss: 2.7373 - accuracy: 0.4825 - val_loss: 1.8090 - val_accuracy: 0.6320\n",
      "Epoch 2/20\n",
      "7982/7982 [==============================] - 1s 95us/step - loss: 1.4921 - accuracy: 0.6928 - val_loss: 1.3274 - val_accuracy: 0.7150\n",
      "Epoch 3/20\n",
      "7982/7982 [==============================] - 1s 94us/step - loss: 1.0885 - accuracy: 0.7660 - val_loss: 1.1302 - val_accuracy: 0.7710\n",
      "Epoch 4/20\n",
      "7982/7982 [==============================] - 1s 94us/step - loss: 0.8502 - accuracy: 0.8232 - val_loss: 1.0199 - val_accuracy: 0.7830\n",
      "Epoch 5/20\n",
      "7982/7982 [==============================] - 1s 95us/step - loss: 0.6758 - accuracy: 0.8586 - val_loss: 0.9609 - val_accuracy: 0.8000\n",
      "Epoch 6/20\n",
      "7982/7982 [==============================] - 1s 94us/step - loss: 0.5411 - accuracy: 0.8882 - val_loss: 0.9181 - val_accuracy: 0.8180\n",
      "Epoch 7/20\n",
      "7982/7982 [==============================] - 1s 94us/step - loss: 0.4360 - accuracy: 0.9099 - val_loss: 0.9040 - val_accuracy: 0.8110\n",
      "Epoch 8/20\n",
      "7982/7982 [==============================] - 1s 95us/step - loss: 0.3597 - accuracy: 0.9199 - val_loss: 0.8879 - val_accuracy: 0.8220\n",
      "Epoch 9/20\n",
      "7982/7982 [==============================] - 1s 94us/step - loss: 0.2956 - accuracy: 0.9352 - val_loss: 0.8964 - val_accuracy: 0.8210\n",
      "Epoch 10/20\n",
      "7982/7982 [==============================] - 1s 94us/step - loss: 0.2510 - accuracy: 0.9422 - val_loss: 0.9321 - val_accuracy: 0.8090\n",
      "Epoch 11/20\n",
      "7982/7982 [==============================] - 1s 95us/step - loss: 0.2164 - accuracy: 0.9471 - val_loss: 0.9147 - val_accuracy: 0.8200\n",
      "Epoch 12/20\n",
      "7982/7982 [==============================] - 1s 95us/step - loss: 0.1916 - accuracy: 0.9520 - val_loss: 0.9390 - val_accuracy: 0.8110\n",
      "Epoch 13/20\n",
      "7982/7982 [==============================] - 1s 94us/step - loss: 0.1699 - accuracy: 0.9541 - val_loss: 0.9396 - val_accuracy: 0.8280\n",
      "Epoch 14/20\n",
      "7982/7982 [==============================] - 1s 94us/step - loss: 0.1559 - accuracy: 0.9553 - val_loss: 0.9457 - val_accuracy: 0.8220\n",
      "Epoch 15/20\n",
      "7982/7982 [==============================] - 1s 93us/step - loss: 0.1466 - accuracy: 0.9569 - val_loss: 0.9750 - val_accuracy: 0.8270\n",
      "Epoch 16/20\n",
      "7982/7982 [==============================] - 1s 95us/step - loss: 0.1329 - accuracy: 0.9559 - val_loss: 1.0187 - val_accuracy: 0.8150\n",
      "Epoch 17/20\n",
      "7982/7982 [==============================] - 1s 94us/step - loss: 0.1305 - accuracy: 0.9549 - val_loss: 0.9929 - val_accuracy: 0.8160\n",
      "Epoch 18/20\n",
      "7982/7982 [==============================] - 1s 94us/step - loss: 0.1216 - accuracy: 0.9573 - val_loss: 1.0444 - val_accuracy: 0.8100\n",
      "Epoch 19/20\n",
      "7982/7982 [==============================] - 1s 95us/step - loss: 0.1180 - accuracy: 0.9560 - val_loss: 1.0589 - val_accuracy: 0.8160\n",
      "Epoch 20/20\n",
      "7982/7982 [==============================] - 1s 97us/step - loss: 0.1145 - accuracy: 0.9570 - val_loss: 1.1032 - val_accuracy: 0.7960\n"
     ]
    }
   ],
   "source": [
    "history = model.fit(partial_x_train, partial_y_train, epochs=20, batch_size=512, validation_data=(x_val, y_val))"
   ]
  },
  {
   "cell_type": "markdown",
   "metadata": {},
   "source": [
    "Let's plot the loss and accuracy curves."
   ]
  },
  {
   "cell_type": "code",
   "execution_count": 8,
   "metadata": {
    "ExecuteTime": {
     "end_time": "2020-05-26T09:27:33.663654Z",
     "start_time": "2020-05-26T09:27:33.170040Z"
    },
    "scrolled": false
   },
   "outputs": [
    {
     "name": "stderr",
     "output_type": "stream",
     "text": [
      "/Users/bryanlim/.pyenv/versions/3.7.2/envs/botanic/lib/python3.7/site-packages/pandas/plotting/_matplotlib/tools.py:298: MatplotlibDeprecationWarning: \n",
      "The rowNum attribute was deprecated in Matplotlib 3.2 and will be removed two minor releases later. Use ax.get_subplotspec().rowspan.start instead.\n",
      "  layout[ax.rowNum, ax.colNum] = ax.get_visible()\n",
      "/Users/bryanlim/.pyenv/versions/3.7.2/envs/botanic/lib/python3.7/site-packages/pandas/plotting/_matplotlib/tools.py:298: MatplotlibDeprecationWarning: \n",
      "The colNum attribute was deprecated in Matplotlib 3.2 and will be removed two minor releases later. Use ax.get_subplotspec().colspan.start instead.\n",
      "  layout[ax.rowNum, ax.colNum] = ax.get_visible()\n",
      "/Users/bryanlim/.pyenv/versions/3.7.2/envs/botanic/lib/python3.7/site-packages/pandas/plotting/_matplotlib/tools.py:304: MatplotlibDeprecationWarning: \n",
      "The rowNum attribute was deprecated in Matplotlib 3.2 and will be removed two minor releases later. Use ax.get_subplotspec().rowspan.start instead.\n",
      "  if not layout[ax.rowNum + 1, ax.colNum]:\n",
      "/Users/bryanlim/.pyenv/versions/3.7.2/envs/botanic/lib/python3.7/site-packages/pandas/plotting/_matplotlib/tools.py:304: MatplotlibDeprecationWarning: \n",
      "The colNum attribute was deprecated in Matplotlib 3.2 and will be removed two minor releases later. Use ax.get_subplotspec().colspan.start instead.\n",
      "  if not layout[ax.rowNum + 1, ax.colNum]:\n"
     ]
    },
    {
     "data": {
      "image/png": "[encoded data removed]",
      "text/plain": [
       "<Figure size 720x720 with 2 Axes>"
      ]
     },
     "metadata": {
      "needs_background": "light"
     },
     "output_type": "display_data"
    }
   ],
   "source": [
    "history_dict = history.history\n",
    "metrics_df = pd.DataFrame({'loss' : history_dict['loss'], \n",
    "                           'val_loss' : history_dict['val_loss'],\n",
    "                          'accuracy' : history_dict['accuracy'],\n",
    "                          'val_accuracy' : history_dict['val_accuracy']})\n",
    "metrics_df['epoch'] = metrics_df.index+1\n",
    "\n",
    "fig = plt.figure(figsize=(10,10))\n",
    "ax1, ax2 = fig.add_subplot(211), fig.add_subplot(212)\n",
    "metrics_df.plot(kind='scatter', x='epoch', y='loss', ax=ax1, label='train', color='blue')\n",
    "metrics_df.plot(kind='scatter', x='epoch', y='val_loss', ax=ax1, label='validation', color='red', marker='+')\n",
    "ax1.set_ylabel(\"Loss\")\n",
    "\n",
    "metrics_df.plot(kind='scatter', x='epoch', y='accuracy', ax=ax2, label='train', color='blue')\n",
    "metrics_df.plot(kind='scatter', x='epoch', y='val_accuracy', ax=ax2, label='validation', color='red', marker='+')\n",
    "ax2.set_ylabel(\"Accuracy\")\n",
    "plt.show()"
   ]
  },
  {
   "cell_type": "markdown",
   "metadata": {},
   "source": [
    "For this, the network starts to overfit after 6 epochs. So we train a new network on the 6 epochs and use this on the test set."
   ]
  },
  {
   "cell_type": "code",
   "execution_count": 9,
   "metadata": {
    "ExecuteTime": {
     "end_time": "2020-05-26T09:27:38.926664Z",
     "start_time": "2020-05-26T09:27:33.666596Z"
    }
   },
   "outputs": [
    {
     "name": "stdout",
     "output_type": "stream",
     "text": [
      "Train on 7982 samples, validate on 1000 samples\n",
      "Epoch 1/6\n",
      "7982/7982 [==============================] - 1s 105us/step - loss: 2.6462 - accuracy: 0.4592 - val_loss: 1.7594 - val_accuracy: 0.6150\n",
      "Epoch 2/6\n",
      "7982/7982 [==============================] - 1s 95us/step - loss: 1.4456 - accuracy: 0.6842 - val_loss: 1.3326 - val_accuracy: 0.6990\n",
      "Epoch 3/6\n",
      "7982/7982 [==============================] - 1s 93us/step - loss: 1.0689 - accuracy: 0.7653 - val_loss: 1.1379 - val_accuracy: 0.7540\n",
      "Epoch 4/6\n",
      "7982/7982 [==============================] - 1s 93us/step - loss: 0.8396 - accuracy: 0.8191 - val_loss: 1.0357 - val_accuracy: 0.7820\n",
      "Epoch 5/6\n",
      "7982/7982 [==============================] - 1s 95us/step - loss: 0.6687 - accuracy: 0.8571 - val_loss: 0.9680 - val_accuracy: 0.7960\n",
      "Epoch 6/6\n",
      "7982/7982 [==============================] - 1s 95us/step - loss: 0.5363 - accuracy: 0.8866 - val_loss: 0.9368 - val_accuracy: 0.8080\n",
      "2246/2246 [==============================] - 0s 117us/step\n",
      "[1.015451033414737, 0.7715939283370972]\n"
     ]
    }
   ],
   "source": [
    "model2 = models.Sequential()\n",
    "model2.add(layers.Dense(64, activation='relu', input_shape=(10000,)))\n",
    "model2.add(layers.Dense(64, activation='relu'))\n",
    "model2.add(layers.Dense(46, activation='softmax'))\n",
    "\n",
    "model2.compile(optimizer='rmsprop', loss='categorical_crossentropy', metrics=['accuracy'])\n",
    "model2.fit(partial_x_train, partial_y_train, epochs=6, batch_size=512, validation_data=(x_val, y_val))\n",
    "\n",
    "results = model2.evaluate(x_test, y_test)\n",
    "print(results)"
   ]
  },
  {
   "cell_type": "markdown",
   "metadata": {},
   "source": [
    "For the softmax problem, the output class is the class with the highest probability."
   ]
  },
  {
   "cell_type": "code",
   "execution_count": 10,
   "metadata": {
    "ExecuteTime": {
     "end_time": "2020-05-26T09:27:39.151902Z",
     "start_time": "2020-05-26T09:27:38.929513Z"
    }
   },
   "outputs": [
    {
     "name": "stdout",
     "output_type": "stream",
     "text": [
      "(46,)\n",
      "[8.06797703e-04 2.60573882e-03 2.41981965e-04 6.95302248e-01\n",
      " 2.32037410e-01 2.07960402e-05 1.16088171e-03 1.03368395e-04\n",
      " 8.64757411e-03 6.60895254e-04 9.67208063e-04 4.07889998e-03\n",
      " 1.23639277e-03 2.42396677e-03 2.91733595e-04 1.75085908e-04\n",
      " 1.72837470e-02 1.57513015e-03 1.21371727e-03 8.64391308e-03\n",
      " 4.68883663e-03 6.72240742e-04 2.52051923e-05 1.36604800e-03\n",
      " 1.89185230e-04 5.32534730e-04 8.09680147e-04 3.67804285e-04\n",
      " 8.14260391e-04 3.54076736e-04 8.18590284e-04 2.34096521e-03\n",
      " 4.06309642e-04 5.84049230e-05 5.34039165e-04 5.84027475e-05\n",
      " 1.11027679e-03 5.21572365e-04 1.31368099e-04 2.82216282e-03\n",
      " 3.11208161e-04 7.30226224e-04 1.74813773e-04 4.75863373e-04\n",
      " 1.66758051e-04 4.16983821e-05]\n",
      "1.0000001\n",
      "3\n"
     ]
    }
   ],
   "source": [
    "##########\n",
    "# Predict\n",
    "##########\n",
    "prediction_probs = model2.predict(x_test)\n",
    "print(prediction_probs[0].shape)\n",
    "print(prediction_probs[0])\n",
    "print(np.sum(prediction_probs[0])) # sums to 1\n",
    "print(np.argmax(prediction_probs[0])) # sums to 1"
   ]
  },
  {
   "cell_type": "markdown",
   "metadata": {},
   "source": [
    "Here is how to update the framing of the model when using the integer tensor."
   ]
  },
  {
   "cell_type": "code",
   "execution_count": 11,
   "metadata": {
    "ExecuteTime": {
     "end_time": "2020-05-26T09:27:39.158924Z",
     "start_time": "2020-05-26T09:27:39.154023Z"
    }
   },
   "outputs": [],
   "source": [
    "ytrain2 = np.array(train_labels)\n",
    "ytest2 = np.array(test_labels)\n",
    "\n",
    "x_val2, y_val2 = x_train[:1000], ytrain2[:1000]\n",
    "partial_x_train2, partial_y_train2 = x_train[1000:], ytrain2[1000:]"
   ]
  },
  {
   "cell_type": "code",
   "execution_count": 12,
   "metadata": {
    "ExecuteTime": {
     "end_time": "2020-05-26T09:27:44.317215Z",
     "start_time": "2020-05-26T09:27:39.162490Z"
    }
   },
   "outputs": [
    {
     "name": "stdout",
     "output_type": "stream",
     "text": [
      "Train on 7982 samples, validate on 1000 samples\n",
      "Epoch 1/6\n",
      "7982/7982 [==============================] - 1s 107us/step - loss: 2.4762 - accuracy: 0.5435 - val_loss: 1.6615 - val_accuracy: 0.6560\n",
      "Epoch 2/6\n",
      "7982/7982 [==============================] - 1s 96us/step - loss: 1.3706 - accuracy: 0.7154 - val_loss: 1.2748 - val_accuracy: 0.7060\n",
      "Epoch 3/6\n",
      "7982/7982 [==============================] - 1s 98us/step - loss: 1.0188 - accuracy: 0.7838 - val_loss: 1.1197 - val_accuracy: 0.7580\n",
      "Epoch 4/6\n",
      "7982/7982 [==============================] - 1s 97us/step - loss: 0.7975 - accuracy: 0.8302 - val_loss: 1.0350 - val_accuracy: 0.7690\n",
      "Epoch 5/6\n",
      "7982/7982 [==============================] - 1s 96us/step - loss: 0.6401 - accuracy: 0.8634 - val_loss: 0.9564 - val_accuracy: 0.8040\n",
      "Epoch 6/6\n",
      "7982/7982 [==============================] - 1s 97us/step - loss: 0.5089 - accuracy: 0.8914 - val_loss: 0.9248 - val_accuracy: 0.8040\n"
     ]
    },
    {
     "data": {
      "text/plain": [
       "<keras.callbacks.callbacks.History at 0x137efdfd0>"
      ]
     },
     "execution_count": 12,
     "metadata": {},
     "output_type": "execute_result"
    }
   ],
   "source": [
    "model3 = models.Sequential()\n",
    "model3.add(layers.Dense(64, activation='relu', input_shape=(10000,)))\n",
    "model3.add(layers.Dense(64, activation='relu'))\n",
    "model3.add(layers.Dense(46, activation='softmax'))\n",
    "\n",
    "model3.compile(optimizer='rmsprop', loss='sparse_categorical_crossentropy', metrics=['accuracy'])\n",
    "model3.fit(partial_x_train2, partial_y_train2, epochs=6, batch_size=512, validation_data=(x_val2, y_val2))\n",
    "\n",
    "# results = model3.evaluate(x_test, y_test)\n",
    "# print(results)"
   ]
  },
  {
   "cell_type": "code",
   "execution_count": 13,
   "metadata": {
    "ExecuteTime": {
     "end_time": "2020-05-26T09:27:44.575884Z",
     "start_time": "2020-05-26T09:27:44.319737Z"
    }
   },
   "outputs": [
    {
     "name": "stdout",
     "output_type": "stream",
     "text": [
      "(46,)\n",
      "[2.06686527e-04 8.77269485e-04 9.71764457e-05 8.44638050e-01\n",
      " 1.23873547e-01 4.61997661e-06 2.73858517e-04 3.05777503e-05\n",
      " 9.97911766e-03 6.82906481e-04 3.90760426e-04 5.92695409e-03\n",
      " 1.74163055e-04 2.39608329e-04 5.41926347e-05 3.14471654e-05\n",
      " 2.26091710e-03 3.28956317e-04 4.24944417e-04 2.73963530e-03\n",
      " 1.24907040e-03 4.71709005e-04 2.10899470e-05 1.18002517e-03\n",
      " 1.07403685e-04 5.56442596e-04 5.16458131e-05 5.38591194e-05\n",
      " 6.95626601e-04 6.73129325e-05 2.17667519e-04 8.91245509e-05\n",
      " 6.43639287e-05 5.81098539e-06 1.44697433e-05 1.44277710e-05\n",
      " 6.51146285e-04 6.57829733e-05 6.23757160e-06 9.39957332e-04\n",
      " 3.63233376e-05 1.02541628e-04 2.07102348e-05 3.38242826e-05\n",
      " 6.26993278e-06 4.18588097e-05]\n",
      "1.0\n",
      "3\n"
     ]
    }
   ],
   "source": [
    "##########\n",
    "# Predict using the integer tensor method\n",
    "##########\n",
    "prediction_probs2 = model3.predict(x_test)\n",
    "print(prediction_probs2[0].shape)\n",
    "print(prediction_probs2[0])\n",
    "print(np.sum(prediction_probs2[0])) # sums to 1\n",
    "print(np.argmax(prediction_probs2[0])) # sums to 1"
   ]
  }
 ],
 "metadata": {
  "kernelspec": {
   "display_name": "Python 3",
   "language": "python",
   "name": "python3"
  },
  "language_info": {
   "codemirror_mode": {
    "name": "ipython",
    "version": 3
   },
   "file_extension": ".py",
   "mimetype": "text/x-python",
   "name": "python",
   "nbconvert_exporter": "python",
   "pygments_lexer": "ipython3",
   "version": "3.7.2"
  }
 },
 "nbformat": 4,
 "nbformat_minor": 4
}
