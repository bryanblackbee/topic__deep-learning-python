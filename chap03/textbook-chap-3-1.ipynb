{
 "cells": [
  {
   "cell_type": "markdown",
   "metadata": {},
   "source": [
    "## 3. Getting Started with Neural Networks"
   ]
  },
  {
   "cell_type": "markdown",
   "metadata": {},
   "source": [
    "### Anatomy of a Neural Network\n",
    "\n",
    "Some key concepts of neural networks are:\n",
    "\n",
    "- <b>layers</b> stacked together to form a <b>network</b>\n",
    "- the <b>input data</b> and corresponding <b>targets / responses</b>\n",
    "- the <b>loss function</b> which determines the performance of the model\n",
    "- the <b>optimiser</b> which determines how the learning proceeds\n",
    "\n",
    "The model below illustrates the relationship between each of the elements.\n",
    "\n",
    "<img src=\"img1.png\" width=\"600\"/>\n",
    "\n",
    "The network is made up of layers stacked together. Input data is fed to the network for training, and the network uses the loss function to determine the performance of its predictions against the labels. The optimiser then kicks in to tune the model parameters/weights for better predictive power on the training data."
   ]
  },
  {
   "cell_type": "code",
   "execution_count": 1,
   "metadata": {
    "ExecuteTime": {
     "end_time": "2020-05-26T01:50:47.076769Z",
     "start_time": "2020-05-26T01:50:43.508506Z"
    }
   },
   "outputs": [
    {
     "name": "stderr",
     "output_type": "stream",
     "text": [
      "Using TensorFlow backend.\n"
     ]
    }
   ],
   "source": [
    "from keras.datasets import mnist\n",
    "\n",
    "from keras import models\n",
    "from keras import layers\n",
    "from keras.utils import to_categorical"
   ]
  },
  {
   "cell_type": "markdown",
   "metadata": {},
   "source": [
    "#### Layer\n",
    "The layer is a fundamental data structure of a neural network. It is a data processing module that takes an input as one or more tensors, and outputs one or more tensors. Some layers are stateless but most have a state, the layer's <b>weights</b> that are learnt by SGD.\n",
    "\n",
    "Different layers are used for different tensor formats. \n",
    "- Simple vectors stored as 2D tensors use <b>densely connected / fully connected / dense</b> layers\n",
    "- Sequence data stored as 3D tensors use <b>recurrent layers</b> like an LSTM layer\n",
    "- Image data, stored as 4D tensors is usually processed by 2D <b>convolution layers</b>\n",
    "\n",
    "Layers can only be connected if they are mutually compatible. Specifically, each layer only accepts tensors of a certain shape and output tensors of a certain shape."
   ]
  },
  {
   "cell_type": "code",
   "execution_count": 3,
   "metadata": {
    "ExecuteTime": {
     "end_time": "2020-05-26T01:51:08.313809Z",
     "start_time": "2020-05-26T01:51:08.305237Z"
    }
   },
   "outputs": [],
   "source": [
    "l1 = layers.Dense(32, input_shape=(784,))"
   ]
  },
  {
   "cell_type": "markdown",
   "metadata": {},
   "source": [
    "In the example above, we created a Dense layer where that only accepts inputs as 2D tensors where the first dimension is 784. The layer will return a tensor where the first dimension has been transformed to be 32.\n",
    "\n",
    "The downstream layer can only accept 32-dimensional vectors as inputs."
   ]
  },
  {
   "cell_type": "markdown",
   "metadata": {},
   "source": [
    "#### Model: A network of layers\n",
    "A deep-learning model is a directed, acyclic graph of layers. The most common instance is a linear stack of layers, mapping a single input to one output. But other networks exist, like two-branch networks, multihead networks and inception blocks. \n",
    "\n",
    "The topology of a network defines a hypothesis space. By choosing a network topology, we constraint the space of possibilities to a specific series of tensor operations, mapping input data to output data."
   ]
  },
  {
   "cell_type": "markdown",
   "metadata": {},
   "source": [
    "#### Loss Function & Optimiser\n",
    "The loss function is the value to be minimised during training. It is the performance measure used to determine if the model is a good predictor or not\n",
    "\n",
    "The optimiser determines how the network is updated based on the loss function. It implements a variant of SGD.\n",
    "\n",
    "A neural network that has multiple outputs may have multiple loss functions but the gradient descent process must be based on a scalar loss value So for multiloss networks, all losses are combined by avaraging to a single scalar value."
   ]
  }
 ],
 "metadata": {
  "kernelspec": {
   "display_name": "Python 3",
   "language": "python",
   "name": "python3"
  },
  "language_info": {
   "codemirror_mode": {
    "name": "ipython",
    "version": 3
   },
   "file_extension": ".py",
   "mimetype": "text/x-python",
   "name": "python",
   "nbconvert_exporter": "python",
   "pygments_lexer": "ipython3",
   "version": "3.7.2"
  }
 },
 "nbformat": 4,
 "nbformat_minor": 4
}
