{
 "cells": [
  {
   "cell_type": "markdown",
   "metadata": {},
   "source": [
    "# 6. Deep Learning for Text and Sequences"
   ]
  },
  {
   "cell_type": "markdown",
   "metadata": {},
   "source": [
    "## Understanding Recurrent Neural Networks"
   ]
  },
  {
   "cell_type": "markdown",
   "metadata": {},
   "source": [
    "The MLP and CNN have no memory. Each input is shown to them independently, with no state kept between inputs. These are considered <b>feed-forward networks</b>.\n",
    "\n",
    "In contrast, in reading, when we process a word, we also keep a memory of what came before. This gives a fluid representation of the meaning conveyed by a sentence. A <b>recurrent neural network (RNN)</b> adopts the same principle (albeit a simplified version) It processes sequences by iterating through the sequence elements and maintaining a <b>state</b> containing information relative to what it has seen so far. In effect, an RNN is a type of neural network that has an internal loop. The state of the RNN is reset between processing two different, independent sequences (e.g. two documents) so you still consider one sequence a single data point: a single input to the network. But the data point is no longer processed in a single step. Rather, the network internally loops over sequence elements."
   ]
  },
  {
   "cell_type": "code",
   "execution_count": 24,
   "metadata": {
    "ExecuteTime": {
     "end_time": "2020-06-09T07:12:30.974670Z",
     "start_time": "2020-06-09T07:12:30.968929Z"
    }
   },
   "outputs": [],
   "source": [
    "import numpy as np\n",
    "import pandas as pd\n",
    "import matplotlib.pyplot as plt\n",
    "\n",
    "from tensorflow.keras.datasets import imdb\n",
    "\n",
    "from tensorflow.keras.backend import clear_session\n",
    "from tensorflow.keras.preprocessing import sequence\n",
    "from tensorflow.keras.models import Sequential\n",
    "from tensorflow.keras.layers import (Embedding, Dense, SimpleRNN, LSTM)"
   ]
  },
  {
   "cell_type": "markdown",
   "metadata": {},
   "source": [
    "Consider the following psuedocode for the RNN.\n",
    "\n",
    "```python\n",
    "state_t = 0\n",
    "for input_t in input_seq:\n",
    "    output_t = f(input_t, state_t)\n",
    "    # the previous output becomes the input for the next iteration     \n",
    "    state_t = output_t\n",
    "```\n",
    "This RNN takes as input a sequence of vectors of size `(timesteps, input_features)`. It loops over timesteps and at each timestep $t$, it considers its current state & input at $t$ and combines them to obtain the output at $t$. This is then the state for the computation at $t+1$. At $t=0$, the state is initialised as an all-zero vector. This is the <u>initial state</u> of the network.\n",
    "\n",
    "We can even flesh out the function $f$ to be the transformation of the <u>input and state</u> to an output parameterised by two matrices and a bias vector.\n",
    "```python\n",
    "state_t = 0\n",
    "for input_t in input_seq:\n",
    "    # concretely defining f\n",
    "    output_t = activation(dot(W, input) + dot(U, state_t) + b)\n",
    "    # the previous output becomes the input for the next iteration     \n",
    "    state_t = output_t\n",
    "```"
   ]
  },
  {
   "cell_type": "code",
   "execution_count": 2,
   "metadata": {
    "ExecuteTime": {
     "end_time": "2020-06-09T06:44:45.296151Z",
     "start_time": "2020-06-09T06:44:45.276955Z"
    }
   },
   "outputs": [],
   "source": [
    "T = 100\n",
    "# Dimensionality of input & output space, respectively\n",
    "INPUT_FEATURES, OUTPUT_FEATURES = 32, 64\n",
    "\n",
    "# Create the input as random noise, and state as a zero-vector\n",
    "inputs = np.random.random((T, INPUT_FEATURES))\n",
    "state_t = np.zeros((OUTPUT_FEATURES,))\n",
    "\n",
    "# Randomly initialise weights\n",
    "W = np.random.random((OUTPUT_FEATURES, INPUT_FEATURES))\n",
    "U = np.random.random((OUTPUT_FEATURES, OUTPUT_FEATURES))\n",
    "B = np.random.random((OUTPUT_FEATURES,))\n",
    "\n",
    "successive_outputs = []\n",
    "\n",
    "for input_t in inputs:\n",
    "    # Perform the computation as a function of the input and state, with weights    \n",
    "    output_t = 1/1+np.exp((np.dot(W, input_t) + np.dot(U, state_t) + B)*-1)\n",
    "    successive_outputs.append(output_t)\n",
    "    # Update the state at successive steps\n",
    "    state_t = output_t\n",
    "final_output_sequence = np.concatenate(successive_outputs, axis=0)"
   ]
  },
  {
   "cell_type": "markdown",
   "metadata": {},
   "source": [
    "The above is an implementation of an RNN layer. Essentially, it is a for loop that reuses quantities computed during the previous iteration of the loop. RNNs are characterised by the step function, in this case the sigmoid function.\n",
    "\n",
    "The following is the graphical representation of the RNN.\n",
    "<img src=\"img63.png\" width=\"650\">\n",
    "\n",
    "In time $t$, the input to the layer is input $t$, state at $t$. The state at $t$ is the output from $t-1$, and following this, the output at $t$ is the state for $t+1$."
   ]
  },
  {
   "cell_type": "markdown",
   "metadata": {},
   "source": [
    "### A Recurrent Layer in Keras\n",
    "\n",
    "The code implemented above corresponds to an actual Keras layer - the `SimpleRNN` layer. The difference is that `SimpleRNN` processes batches of sequences, not just 1 sequence as in the above. Hence, it takes in inputs of shape `(batch_size, time_step, input_features)` rather than just 2 inputs `(time_step, input_features)` only.\n",
    "\n",
    "`SimpleRNN` can be run in 2 different modes: either the full sequences of successive outputs for each timestep to output a 3D tensor of shape `(batch_size, time_step, output_features)` or only the last output of shape `(batch_size, output_features)`. These two modes are controlled by the `return_sequences` parameter. "
   ]
  },
  {
   "cell_type": "code",
   "execution_count": 6,
   "metadata": {
    "ExecuteTime": {
     "end_time": "2020-06-09T06:50:31.499148Z",
     "start_time": "2020-06-09T06:50:31.397955Z"
    }
   },
   "outputs": [
    {
     "name": "stdout",
     "output_type": "stream",
     "text": [
      "Model: \"sequential\"\n",
      "_________________________________________________________________\n",
      "Layer (type)                 Output Shape              Param #   \n",
      "=================================================================\n",
      "embedding (Embedding)        (None, None, 32)          320000    \n",
      "_________________________________________________________________\n",
      "simple_rnn (SimpleRNN)       (None, 32)                2080      \n",
      "=================================================================\n",
      "Total params: 322,080\n",
      "Trainable params: 322,080\n",
      "Non-trainable params: 0\n",
      "_________________________________________________________________\n"
     ]
    }
   ],
   "source": [
    "# Only return the output at the last value of t\n",
    "clear_session()\n",
    "dummymodel1 = Sequential()\n",
    "dummymodel1.add(Embedding(10000, 32))\n",
    "dummymodel1.add(SimpleRNN(32, return_sequences=False))\n",
    "dummymodel1.summary()"
   ]
  },
  {
   "cell_type": "code",
   "execution_count": 7,
   "metadata": {
    "ExecuteTime": {
     "end_time": "2020-06-09T06:52:07.466409Z",
     "start_time": "2020-06-09T06:52:07.366221Z"
    }
   },
   "outputs": [
    {
     "name": "stdout",
     "output_type": "stream",
     "text": [
      "Model: \"sequential\"\n",
      "_________________________________________________________________\n",
      "Layer (type)                 Output Shape              Param #   \n",
      "=================================================================\n",
      "embedding (Embedding)        (None, None, 32)          320000    \n",
      "_________________________________________________________________\n",
      "simple_rnn (SimpleRNN)       (None, None, 32)          2080      \n",
      "=================================================================\n",
      "Total params: 322,080\n",
      "Trainable params: 322,080\n",
      "Non-trainable params: 0\n",
      "_________________________________________________________________\n"
     ]
    }
   ],
   "source": [
    "# Return the full sequence at all values of t\n",
    "clear_session()\n",
    "dummymodel2 = Sequential()\n",
    "dummymodel2.add(Embedding(10000, 32))\n",
    "dummymodel2.add(SimpleRNN(32, return_sequences=True))\n",
    "dummymodel2.summary()"
   ]
  },
  {
   "cell_type": "markdown",
   "metadata": {},
   "source": [
    "When several recurrent layers are stacked one on top of another, the intermediate layers always output the full sequence of outputs."
   ]
  },
  {
   "cell_type": "code",
   "execution_count": 10,
   "metadata": {
    "ExecuteTime": {
     "end_time": "2020-06-09T06:52:56.402373Z",
     "start_time": "2020-06-09T06:52:56.143078Z"
    }
   },
   "outputs": [
    {
     "name": "stdout",
     "output_type": "stream",
     "text": [
      "Model: \"sequential\"\n",
      "_________________________________________________________________\n",
      "Layer (type)                 Output Shape              Param #   \n",
      "=================================================================\n",
      "embedding (Embedding)        (None, None, 32)          320000    \n",
      "_________________________________________________________________\n",
      "simple_rnn (SimpleRNN)       (None, None, 32)          2080      \n",
      "_________________________________________________________________\n",
      "simple_rnn_1 (SimpleRNN)     (None, None, 32)          2080      \n",
      "_________________________________________________________________\n",
      "simple_rnn_2 (SimpleRNN)     (None, None, 32)          2080      \n",
      "_________________________________________________________________\n",
      "simple_rnn_3 (SimpleRNN)     (None, 32)                2080      \n",
      "=================================================================\n",
      "Total params: 328,320\n",
      "Trainable params: 328,320\n",
      "Non-trainable params: 0\n",
      "_________________________________________________________________\n"
     ]
    }
   ],
   "source": [
    "# Return the full sequence at all values of t\n",
    "clear_session()\n",
    "dummymodel3 = Sequential()\n",
    "dummymodel3.add(Embedding(10000, 32))\n",
    "dummymodel3.add(SimpleRNN(32, return_sequences=True))\n",
    "dummymodel3.add(SimpleRNN(32, return_sequences=True))\n",
    "dummymodel3.add(SimpleRNN(32, return_sequences=True))\n",
    "dummymodel3.add(SimpleRNN(32)) # or return_sequences=False\n",
    "dummymodel3.summary()"
   ]
  },
  {
   "cell_type": "markdown",
   "metadata": {},
   "source": [
    "Let's now use the RNN on the IMDB movie review classification problem."
   ]
  },
  {
   "cell_type": "code",
   "execution_count": 14,
   "metadata": {
    "ExecuteTime": {
     "end_time": "2020-06-09T06:56:28.308506Z",
     "start_time": "2020-06-09T06:56:21.785122Z"
    }
   },
   "outputs": [],
   "source": [
    "# Ingestion\n",
    "###########\n",
    "VOCABULARY_SIZE = 10000\n",
    "DOCUMENT_MAX_LENGTH = 500\n",
    "(train_data, train_labels), (test_data, test_labels) = imdb.load_data(num_words=VOCABULARY_SIZE)\n",
    "x_train = sequence.pad_sequences(train_data, maxlen=DOCUMENT_MAX_LENGTH)\n",
    "x_test = sequence.pad_sequences(test_data, maxlen=DOCUMENT_MAX_LENGTH)"
   ]
  },
  {
   "cell_type": "code",
   "execution_count": 17,
   "metadata": {
    "ExecuteTime": {
     "end_time": "2020-06-09T06:58:25.242742Z",
     "start_time": "2020-06-09T06:58:25.125535Z"
    }
   },
   "outputs": [
    {
     "name": "stdout",
     "output_type": "stream",
     "text": [
      "Model: \"sequential\"\n",
      "_________________________________________________________________\n",
      "Layer (type)                 Output Shape              Param #   \n",
      "=================================================================\n",
      "embedding (Embedding)        (None, 500, 32)           320000    \n",
      "_________________________________________________________________\n",
      "simple_rnn (SimpleRNN)       (None, 32)                2080      \n",
      "_________________________________________________________________\n",
      "dense (Dense)                (None, 1)                 33        \n",
      "=================================================================\n",
      "Total params: 322,113\n",
      "Trainable params: 322,113\n",
      "Non-trainable params: 0\n",
      "_________________________________________________________________\n",
      "None\n"
     ]
    }
   ],
   "source": [
    "# Instantiate Model\n",
    "###################\n",
    "clear_session()\n",
    "model = Sequential()\n",
    "model.add(Embedding(VOCABULARY_SIZE, 32, input_length=DOCUMENT_MAX_LENGTH))\n",
    "model.add(SimpleRNN(32, return_sequences=False))\n",
    "model.add(Dense(1, activation='sigmoid'))\n",
    "\n",
    "# Compile\n",
    "#########\n",
    "model.compile(optimizer='rmsprop', loss='binary_crossentropy', metrics=['accuracy'])\n",
    "print(model.summary())"
   ]
  },
  {
   "cell_type": "code",
   "execution_count": 19,
   "metadata": {
    "ExecuteTime": {
     "end_time": "2020-06-09T07:07:40.966235Z",
     "start_time": "2020-06-09T07:01:31.625663Z"
    }
   },
   "outputs": [
    {
     "name": "stdout",
     "output_type": "stream",
     "text": [
      "Epoch 1/10\n",
      "157/157 [==============================] - 32s 202ms/step - loss: 0.2628 - accuracy: 0.9007 - val_loss: 0.3604 - val_accuracy: 0.8424\n",
      "Epoch 2/10\n",
      "157/157 [==============================] - 31s 198ms/step - loss: 0.2242 - accuracy: 0.9155 - val_loss: 0.3576 - val_accuracy: 0.8390\n",
      "Epoch 3/10\n",
      "157/157 [==============================] - 38s 240ms/step - loss: 0.1903 - accuracy: 0.9282 - val_loss: 0.3950 - val_accuracy: 0.8706\n",
      "Epoch 4/10\n",
      "157/157 [==============================] - 81s 516ms/step - loss: 0.1581 - accuracy: 0.9437 - val_loss: 0.3832 - val_accuracy: 0.8316\n",
      "Epoch 5/10\n",
      "157/157 [==============================] - 31s 199ms/step - loss: 0.1336 - accuracy: 0.9523 - val_loss: 0.5613 - val_accuracy: 0.7954\n",
      "Epoch 6/10\n",
      "157/157 [==============================] - 28s 178ms/step - loss: 0.1170 - accuracy: 0.9581 - val_loss: 0.4037 - val_accuracy: 0.8340\n",
      "Epoch 7/10\n",
      "157/157 [==============================] - 28s 175ms/step - loss: 0.0900 - accuracy: 0.9676 - val_loss: 0.4544 - val_accuracy: 0.8270\n",
      "Epoch 8/10\n",
      "157/157 [==============================] - 28s 181ms/step - loss: 0.0691 - accuracy: 0.9763 - val_loss: 0.5287 - val_accuracy: 0.8218\n",
      "Epoch 9/10\n",
      "157/157 [==============================] - 32s 203ms/step - loss: 0.0617 - accuracy: 0.9780 - val_loss: 0.4965 - val_accuracy: 0.8482\n",
      "Epoch 10/10\n",
      "157/157 [==============================] - 38s 242ms/step - loss: 0.0466 - accuracy: 0.9847 - val_loss: 0.5906 - val_accuracy: 0.8174\n"
     ]
    }
   ],
   "source": [
    "# Train\n",
    "#######\n",
    "history = model.fit(x_train, train_labels, \n",
    "                    epochs=10, batch_size=128, \n",
    "                    validation_split=0.2,)"
   ]
  },
  {
   "cell_type": "code",
   "execution_count": 22,
   "metadata": {
    "ExecuteTime": {
     "end_time": "2020-06-09T07:08:43.889163Z",
     "start_time": "2020-06-09T07:08:43.352662Z"
    },
    "scrolled": true
   },
   "outputs": [
    {
     "data": {
      "text/html": [
       "<div>\n",
       "<style scoped>\n",
       "    .dataframe tbody tr th:only-of-type {\n",
       "        vertical-align: middle;\n",
       "    }\n",
       "\n",
       "    .dataframe tbody tr th {\n",
       "        vertical-align: top;\n",
       "    }\n",
       "\n",
       "    .dataframe thead th {\n",
       "        text-align: right;\n",
       "    }\n",
       "</style>\n",
       "<table border=\"1\" class=\"dataframe\">\n",
       "  <thead>\n",
       "    <tr style=\"text-align: right;\">\n",
       "      <th></th>\n",
       "      <th>loss</th>\n",
       "      <th>accuracy</th>\n",
       "      <th>val_loss</th>\n",
       "      <th>val_accuracy</th>\n",
       "      <th>epoch</th>\n",
       "    </tr>\n",
       "  </thead>\n",
       "  <tbody>\n",
       "    <tr>\n",
       "      <th>5</th>\n",
       "      <td>0.117034</td>\n",
       "      <td>0.95805</td>\n",
       "      <td>0.403654</td>\n",
       "      <td>0.8340</td>\n",
       "      <td>6</td>\n",
       "    </tr>\n",
       "    <tr>\n",
       "      <th>6</th>\n",
       "      <td>0.090023</td>\n",
       "      <td>0.96765</td>\n",
       "      <td>0.454417</td>\n",
       "      <td>0.8270</td>\n",
       "      <td>7</td>\n",
       "    </tr>\n",
       "    <tr>\n",
       "      <th>7</th>\n",
       "      <td>0.069094</td>\n",
       "      <td>0.97630</td>\n",
       "      <td>0.528686</td>\n",
       "      <td>0.8218</td>\n",
       "      <td>8</td>\n",
       "    </tr>\n",
       "    <tr>\n",
       "      <th>8</th>\n",
       "      <td>0.061685</td>\n",
       "      <td>0.97800</td>\n",
       "      <td>0.496493</td>\n",
       "      <td>0.8482</td>\n",
       "      <td>9</td>\n",
       "    </tr>\n",
       "    <tr>\n",
       "      <th>9</th>\n",
       "      <td>0.046570</td>\n",
       "      <td>0.98470</td>\n",
       "      <td>0.590590</td>\n",
       "      <td>0.8174</td>\n",
       "      <td>10</td>\n",
       "    </tr>\n",
       "  </tbody>\n",
       "</table>\n",
       "</div>"
      ],
      "text/plain": [
       "       loss  accuracy  val_loss  val_accuracy  epoch\n",
       "5  0.117034   0.95805  0.403654        0.8340      6\n",
       "6  0.090023   0.96765  0.454417        0.8270      7\n",
       "7  0.069094   0.97630  0.528686        0.8218      8\n",
       "8  0.061685   0.97800  0.496493        0.8482      9\n",
       "9  0.046570   0.98470  0.590590        0.8174     10"
      ]
     },
     "metadata": {},
     "output_type": "display_data"
    },
    {
     "data": {
      "image/png": "[encoded data removed]",
      "text/plain": [
       "<Figure size 1224x720 with 2 Axes>"
      ]
     },
     "metadata": {
      "needs_background": "light"
     },
     "output_type": "display_data"
    }
   ],
   "source": [
    "metrics_df = pd.DataFrame(history.history)\n",
    "metrics_df['epoch'] = metrics_df.index+1\n",
    "display(metrics_df.tail())\n",
    "\n",
    "fig = plt.figure(figsize=(17,10))\n",
    "ax1, ax2 = fig.add_subplot(2,1,1), fig.add_subplot(2,1,2)\n",
    "metrics_df.plot(kind='scatter', x='epoch', y='loss', ax=ax1, label='train', color='blue')\n",
    "metrics_df.plot(kind='line', x='epoch', y='val_loss', ax=ax1, label='validation', color='red',)\n",
    "ax1.set_ylabel(\"Loss\")\n",
    "ax1.grid('GAINSBORO')\n",
    "ax1.legend([])\n",
    "ax1.set_ylim(0,1.1)\n",
    "ax1.set_xticks(range(0,11))\n",
    "\n",
    "metrics_df.plot(kind='scatter', x='epoch', y='accuracy', ax=ax2, label='train', color='blue')\n",
    "metrics_df.plot(kind='line', x='epoch', y='val_accuracy', ax=ax2, label='validation', color='red',)\n",
    "ax2.set_ylabel(\"Accuracy\")\n",
    "ax2.grid('GAINSBORO')\n",
    "ax2.set_xticks(range(0,11))\n",
    "ax2.legend([])\n",
    "ax2.set_ylim(0,1.1)\n",
    "plt.show()"
   ]
  },
  {
   "cell_type": "code",
   "execution_count": 23,
   "metadata": {
    "ExecuteTime": {
     "end_time": "2020-06-09T07:09:47.648287Z",
     "start_time": "2020-06-09T07:09:19.480265Z"
    }
   },
   "outputs": [
    {
     "name": "stdout",
     "output_type": "stream",
     "text": [
      "782/782 [==============================] - 28s 36ms/step - loss: 0.6037 - accuracy: 0.8120\n"
     ]
    },
    {
     "data": {
      "text/plain": [
       "[0.6036810278892517, 0.8120399713516235]"
      ]
     },
     "execution_count": 23,
     "metadata": {},
     "output_type": "execute_result"
    }
   ],
   "source": [
    "model.evaluate(x_test, test_labels)"
   ]
  },
  {
   "cell_type": "markdown",
   "metadata": {},
   "source": [
    "The first naive approach got us 88% accuracy. But this small recurrent network does not perform well against the baseline. The `SimpleRNN` is not good at processing long sequences, like text. But there are other types of recurrent layers that work on them."
   ]
  },
  {
   "cell_type": "markdown",
   "metadata": {},
   "source": [
    "### Understanding LSTM and GRU Layers\n",
    "\n",
    "In practice, we hardly use the `SimpleRNN` and use `LSTM` or `GRU` layers. `SimpleRNN` has no ability to learn long-term dependencies due to the <b>vanishing gradient problem</b>, similar to what we observe in feedforward networks.\n",
    "\n",
    "This is overcome using an `LSTM` layer. On top of the `SimpleRNN` computations, there is another data flow that carries information across steps, a carry, $C$. This will be combined with the input connection and recurrent connection. It extends the RNN psuedocode:\n",
    "\n",
    "```python\n",
    "output_t = activation(dot(state_t, Uo) + \n",
    "                      dot(input_t, Wo) + \n",
    "                      dot(C_t, Vo) + bo)\n",
    "i_t = activation(dot(state_t, Ui) + dot(input_t, Wi) + bi)\n",
    "f_t = activation(dot(state_t, Uf) + dot(input_t, Wf) + bf)\n",
    "k_t = activation(dot(state_t, Uk) + dot(input_t, Wk) + bk)\n",
    "```\n",
    "\n",
    "And then \n",
    "```python\n",
    "c_{t+1} = i_t * k_t + c_t * f_t\n",
    "```\n",
    "\n",
    "Conceptually, `c_t * f_t` is to deliberately forget information that is irrelevant to the carry workflow. `i_t * k_t` provide information about the present, updating the carry track with new information. \n",
    "\n",
    "<img src=\"img64.png\" width=\"700\">"
   ]
  },
  {
   "cell_type": "code",
   "execution_count": 25,
   "metadata": {
    "ExecuteTime": {
     "end_time": "2020-06-09T07:13:07.021713Z",
     "start_time": "2020-06-09T07:13:06.704820Z"
    }
   },
   "outputs": [
    {
     "name": "stdout",
     "output_type": "stream",
     "text": [
      "Model: \"sequential\"\n",
      "_________________________________________________________________\n",
      "Layer (type)                 Output Shape              Param #   \n",
      "=================================================================\n",
      "embedding (Embedding)        (None, 500, 32)           320000    \n",
      "_________________________________________________________________\n",
      "lstm (LSTM)                  (None, 32)                8320      \n",
      "_________________________________________________________________\n",
      "dense (Dense)                (None, 1)                 33        \n",
      "=================================================================\n",
      "Total params: 328,353\n",
      "Trainable params: 328,353\n",
      "Non-trainable params: 0\n",
      "_________________________________________________________________\n",
      "None\n"
     ]
    }
   ],
   "source": [
    "# Instantiate Model\n",
    "###################\n",
    "clear_session()\n",
    "model2 = Sequential()\n",
    "model2.add(Embedding(VOCABULARY_SIZE, 32, input_length=DOCUMENT_MAX_LENGTH))\n",
    "model2.add(LSTM(32, return_sequences=False))\n",
    "model2.add(Dense(1, activation='sigmoid'))\n",
    "\n",
    "# Compile\n",
    "#########\n",
    "model2.compile(optimizer='rmsprop', loss='binary_crossentropy', metrics=['accuracy'])\n",
    "print(model2.summary())"
   ]
  },
  {
   "cell_type": "code",
   "execution_count": 26,
   "metadata": {
    "ExecuteTime": {
     "end_time": "2020-06-09T07:25:06.635582Z",
     "start_time": "2020-06-09T07:13:34.272519Z"
    }
   },
   "outputs": [
    {
     "name": "stdout",
     "output_type": "stream",
     "text": [
      "Epoch 1/10\n",
      "157/157 [==============================] - 61s 387ms/step - loss: 0.5086 - accuracy: 0.7627 - val_loss: 0.3305 - val_accuracy: 0.8724\n",
      "Epoch 2/10\n",
      "157/157 [==============================] - 68s 434ms/step - loss: 0.2922 - accuracy: 0.8863 - val_loss: 0.3071 - val_accuracy: 0.8700\n",
      "Epoch 3/10\n",
      "157/157 [==============================] - 57s 365ms/step - loss: 0.2341 - accuracy: 0.9108 - val_loss: 0.2917 - val_accuracy: 0.8790\n",
      "Epoch 4/10\n",
      "157/157 [==============================] - 54s 345ms/step - loss: 0.1972 - accuracy: 0.9265 - val_loss: 0.4178 - val_accuracy: 0.8710\n",
      "Epoch 5/10\n",
      "157/157 [==============================] - 65s 417ms/step - loss: 0.1782 - accuracy: 0.9359 - val_loss: 0.3735 - val_accuracy: 0.8650\n",
      "Epoch 6/10\n",
      "157/157 [==============================] - 101s 642ms/step - loss: 0.1564 - accuracy: 0.9446 - val_loss: 0.3530 - val_accuracy: 0.8530\n",
      "Epoch 7/10\n",
      "157/157 [==============================] - 65s 415ms/step - loss: 0.1453 - accuracy: 0.9482 - val_loss: 0.3286 - val_accuracy: 0.8892\n",
      "Epoch 8/10\n",
      "157/157 [==============================] - 63s 399ms/step - loss: 0.1315 - accuracy: 0.9538 - val_loss: 0.3909 - val_accuracy: 0.8666\n",
      "Epoch 9/10\n",
      "157/157 [==============================] - 84s 536ms/step - loss: 0.1179 - accuracy: 0.9578 - val_loss: 0.3607 - val_accuracy: 0.8626\n",
      "Epoch 10/10\n",
      "157/157 [==============================] - 67s 426ms/step - loss: 0.1089 - accuracy: 0.9627 - val_loss: 0.3992 - val_accuracy: 0.8742\n"
     ]
    }
   ],
   "source": [
    "# Train\n",
    "#######\n",
    "history2 = model2.fit(x_train, train_labels, \n",
    "                    epochs=10, batch_size=128, \n",
    "                    validation_split=0.2,)"
   ]
  },
  {
   "cell_type": "code",
   "execution_count": 27,
   "metadata": {
    "ExecuteTime": {
     "end_time": "2020-06-09T07:25:07.296418Z",
     "start_time": "2020-06-09T07:25:06.640124Z"
    }
   },
   "outputs": [
    {
     "data": {
      "text/html": [
       "<div>\n",
       "<style scoped>\n",
       "    .dataframe tbody tr th:only-of-type {\n",
       "        vertical-align: middle;\n",
       "    }\n",
       "\n",
       "    .dataframe tbody tr th {\n",
       "        vertical-align: top;\n",
       "    }\n",
       "\n",
       "    .dataframe thead th {\n",
       "        text-align: right;\n",
       "    }\n",
       "</style>\n",
       "<table border=\"1\" class=\"dataframe\">\n",
       "  <thead>\n",
       "    <tr style=\"text-align: right;\">\n",
       "      <th></th>\n",
       "      <th>loss</th>\n",
       "      <th>accuracy</th>\n",
       "      <th>val_loss</th>\n",
       "      <th>val_accuracy</th>\n",
       "      <th>epoch</th>\n",
       "    </tr>\n",
       "  </thead>\n",
       "  <tbody>\n",
       "    <tr>\n",
       "      <th>5</th>\n",
       "      <td>0.156403</td>\n",
       "      <td>0.94460</td>\n",
       "      <td>0.352953</td>\n",
       "      <td>0.8530</td>\n",
       "      <td>6</td>\n",
       "    </tr>\n",
       "    <tr>\n",
       "      <th>6</th>\n",
       "      <td>0.145332</td>\n",
       "      <td>0.94825</td>\n",
       "      <td>0.328576</td>\n",
       "      <td>0.8892</td>\n",
       "      <td>7</td>\n",
       "    </tr>\n",
       "    <tr>\n",
       "      <th>7</th>\n",
       "      <td>0.131493</td>\n",
       "      <td>0.95385</td>\n",
       "      <td>0.390942</td>\n",
       "      <td>0.8666</td>\n",
       "      <td>8</td>\n",
       "    </tr>\n",
       "    <tr>\n",
       "      <th>8</th>\n",
       "      <td>0.117867</td>\n",
       "      <td>0.95775</td>\n",
       "      <td>0.360674</td>\n",
       "      <td>0.8626</td>\n",
       "      <td>9</td>\n",
       "    </tr>\n",
       "    <tr>\n",
       "      <th>9</th>\n",
       "      <td>0.108876</td>\n",
       "      <td>0.96265</td>\n",
       "      <td>0.399184</td>\n",
       "      <td>0.8742</td>\n",
       "      <td>10</td>\n",
       "    </tr>\n",
       "  </tbody>\n",
       "</table>\n",
       "</div>"
      ],
      "text/plain": [
       "       loss  accuracy  val_loss  val_accuracy  epoch\n",
       "5  0.156403   0.94460  0.352953        0.8530      6\n",
       "6  0.145332   0.94825  0.328576        0.8892      7\n",
       "7  0.131493   0.95385  0.390942        0.8666      8\n",
       "8  0.117867   0.95775  0.360674        0.8626      9\n",
       "9  0.108876   0.96265  0.399184        0.8742     10"
      ]
     },
     "metadata": {},
     "output_type": "display_data"
    },
    {
     "data": {
      "image/png": "[encoded data removed]",
      "text/plain": [
       "<Figure size 1224x720 with 2 Axes>"
      ]
     },
     "metadata": {
      "needs_background": "light"
     },
     "output_type": "display_data"
    }
   ],
   "source": [
    "metrics_df = pd.DataFrame(history2.history)\n",
    "metrics_df['epoch'] = metrics_df.index+1\n",
    "display(metrics_df.tail())\n",
    "\n",
    "fig = plt.figure(figsize=(17,10))\n",
    "ax1, ax2 = fig.add_subplot(2,1,1), fig.add_subplot(2,1,2)\n",
    "metrics_df.plot(kind='scatter', x='epoch', y='loss', ax=ax1, label='train', color='blue')\n",
    "metrics_df.plot(kind='line', x='epoch', y='val_loss', ax=ax1, label='validation', color='red',)\n",
    "ax1.set_ylabel(\"Loss\")\n",
    "ax1.grid('GAINSBORO')\n",
    "ax1.legend([])\n",
    "ax1.set_ylim(0,1.1)\n",
    "ax1.set_xticks(range(0,11))\n",
    "\n",
    "metrics_df.plot(kind='scatter', x='epoch', y='accuracy', ax=ax2, label='train', color='blue')\n",
    "metrics_df.plot(kind='line', x='epoch', y='val_accuracy', ax=ax2, label='validation', color='red',)\n",
    "ax2.set_ylabel(\"Accuracy\")\n",
    "ax2.grid('GAINSBORO')\n",
    "ax2.set_xticks(range(0,11))\n",
    "ax2.legend([])\n",
    "ax2.set_ylim(0,1.1)\n",
    "plt.show()"
   ]
  },
  {
   "cell_type": "code",
   "execution_count": 28,
   "metadata": {
    "ExecuteTime": {
     "end_time": "2020-06-09T07:25:53.856813Z",
     "start_time": "2020-06-09T07:25:07.300329Z"
    }
   },
   "outputs": [
    {
     "name": "stdout",
     "output_type": "stream",
     "text": [
      "782/782 [==============================] - 46s 59ms/step - loss: 0.4358 - accuracy: 0.8637\n"
     ]
    },
    {
     "data": {
      "text/plain": [
       "[0.43575406074523926, 0.8636800050735474]"
      ]
     },
     "execution_count": 28,
     "metadata": {},
     "output_type": "execute_result"
    }
   ],
   "source": [
    "model2.evaluate(x_test, test_labels)"
   ]
  },
  {
   "cell_type": "markdown",
   "metadata": {},
   "source": [
    "The validation accuracy has improved. That's because LSTM suffers less from the vanishing gradietn problem and slightly better than the fully connected approach in earlier chapters. But this result is not groundbreaking for something so computationally intensive. Why so? It could possibly be due to no tuning of hyperparameters, or lack of regularisation.\n",
    "\n",
    "However, they primary reason is that analysing the global, long-term structure of the reviews is not helpful for a sentiment-analysis problem. This is well solved with bag-of-words models. But there are far more difficult natural-language processing problems out there where the strength of LSTM can be exploited. Examples are question-answering and machine translation."
   ]
  }
 ],
 "metadata": {
  "kernelspec": {
   "display_name": "Python 3",
   "language": "python",
   "name": "python3"
  },
  "language_info": {
   "codemirror_mode": {
    "name": "ipython",
    "version": 3
   },
   "file_extension": ".py",
   "mimetype": "text/x-python",
   "name": "python",
   "nbconvert_exporter": "python",
   "pygments_lexer": "ipython3",
   "version": "3.7.2"
  }
 },
 "nbformat": 4,
 "nbformat_minor": 4
}
