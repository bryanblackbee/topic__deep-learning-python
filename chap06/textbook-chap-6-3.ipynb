{
 "cells": [
  {
   "cell_type": "markdown",
   "metadata": {},
   "source": [
    "# 6. Deep Learning for Text and Sequences"
   ]
  },
  {
   "cell_type": "markdown",
   "metadata": {},
   "source": [
    "## Advanced Use of Recurrent Neural Networks"
   ]
  },
  {
   "cell_type": "markdown",
   "metadata": {},
   "source": [
    "Here, we introduce three advanced techniques for improving the performance and generalisation power of RNNs. We demonstrate these concepts on a **temperature forecasting** problem, where we have access to timeseries of data points from sensors installed on the roof of a building.\n",
    "\n",
    "The techniques covered are:\n",
    "- <b>Recurrent dropout</b> - This is a built-in way to use dropout to fight overfitting in recurrent layers\n",
    "- <b>Stacking Recurrent Layers</b> - This increases the representational power of the network (at the cost of higher computational loads)\n",
    "- <b>Bidirectional Recurrent Layers</b> - This present the same information to a recurrent network in different ways, increasing accuracy and mitigating forgetting issues"
   ]
  },
  {
   "cell_type": "code",
   "execution_count": 2,
   "metadata": {
    "ExecuteTime": {
     "end_time": "2020-06-14T02:54:36.528826Z",
     "start_time": "2020-06-14T02:54:32.388009Z"
    }
   },
   "outputs": [],
   "source": [
    "import numpy as np\n",
    "import pandas as pd\n",
    "import matplotlib.pyplot as plt\n",
    "\n",
    "from sklearn.preprocessing import StandardScaler\n",
    "\n",
    "from tensorflow.keras.backend import clear_session\n",
    "from tensorflow.keras.optimizers import RMSprop\n",
    "from tensorflow.keras.preprocessing import sequence\n",
    "from tensorflow.keras.models import Sequential, load_model\n",
    "from tensorflow.keras.layers import (Flatten, Dense, SimpleRNN, LSTM, GRU)"
   ]
  },
  {
   "cell_type": "markdown",
   "metadata": {},
   "source": [
    "In the **temperature forecasting** problem, we work with a weather timeseires dataset recorded at the Weather Station at the Max Planck Institute for Biogeochemistry in Jena, Germany."
   ]
  },
  {
   "cell_type": "code",
   "execution_count": 2,
   "metadata": {
    "ExecuteTime": {
     "end_time": "2020-06-13T13:31:29.830705Z",
     "start_time": "2020-06-13T13:31:28.954032Z"
    }
   },
   "outputs": [],
   "source": [
    "df = pd.read_csv('jena_climate_2009_2016.csv')\n",
    "df = df.iloc[:,1:]\n",
    "df_values = df.values"
   ]
  },
  {
   "cell_type": "code",
   "execution_count": 3,
   "metadata": {
    "ExecuteTime": {
     "end_time": "2020-06-13T13:31:33.416370Z",
     "start_time": "2020-06-13T13:31:33.381981Z"
    }
   },
   "outputs": [
    {
     "data": {
      "text/html": [
       "<div>\n",
       "<style scoped>\n",
       "    .dataframe tbody tr th:only-of-type {\n",
       "        vertical-align: middle;\n",
       "    }\n",
       "\n",
       "    .dataframe tbody tr th {\n",
       "        vertical-align: top;\n",
       "    }\n",
       "\n",
       "    .dataframe thead th {\n",
       "        text-align: right;\n",
       "    }\n",
       "</style>\n",
       "<table border=\"1\" class=\"dataframe\">\n",
       "  <thead>\n",
       "    <tr style=\"text-align: right;\">\n",
       "      <th></th>\n",
       "      <th>p (mbar)</th>\n",
       "      <th>T (degC)</th>\n",
       "      <th>Tpot (K)</th>\n",
       "      <th>Tdew (degC)</th>\n",
       "      <th>rh (%)</th>\n",
       "      <th>VPmax (mbar)</th>\n",
       "      <th>VPact (mbar)</th>\n",
       "      <th>VPdef (mbar)</th>\n",
       "      <th>sh (g/kg)</th>\n",
       "      <th>H2OC (mmol/mol)</th>\n",
       "      <th>rho (g/m**3)</th>\n",
       "      <th>wv (m/s)</th>\n",
       "      <th>max. wv (m/s)</th>\n",
       "      <th>wd (deg)</th>\n",
       "    </tr>\n",
       "  </thead>\n",
       "  <tbody>\n",
       "    <tr>\n",
       "      <th>0</th>\n",
       "      <td>996.52</td>\n",
       "      <td>-8.02</td>\n",
       "      <td>265.40</td>\n",
       "      <td>-8.90</td>\n",
       "      <td>93.3</td>\n",
       "      <td>3.33</td>\n",
       "      <td>3.11</td>\n",
       "      <td>0.22</td>\n",
       "      <td>1.94</td>\n",
       "      <td>3.12</td>\n",
       "      <td>1307.75</td>\n",
       "      <td>1.03</td>\n",
       "      <td>1.75</td>\n",
       "      <td>152.3</td>\n",
       "    </tr>\n",
       "    <tr>\n",
       "      <th>1</th>\n",
       "      <td>996.57</td>\n",
       "      <td>-8.41</td>\n",
       "      <td>265.01</td>\n",
       "      <td>-9.28</td>\n",
       "      <td>93.4</td>\n",
       "      <td>3.23</td>\n",
       "      <td>3.02</td>\n",
       "      <td>0.21</td>\n",
       "      <td>1.89</td>\n",
       "      <td>3.03</td>\n",
       "      <td>1309.80</td>\n",
       "      <td>0.72</td>\n",
       "      <td>1.50</td>\n",
       "      <td>136.1</td>\n",
       "    </tr>\n",
       "    <tr>\n",
       "      <th>2</th>\n",
       "      <td>996.53</td>\n",
       "      <td>-8.51</td>\n",
       "      <td>264.91</td>\n",
       "      <td>-9.31</td>\n",
       "      <td>93.9</td>\n",
       "      <td>3.21</td>\n",
       "      <td>3.01</td>\n",
       "      <td>0.20</td>\n",
       "      <td>1.88</td>\n",
       "      <td>3.02</td>\n",
       "      <td>1310.24</td>\n",
       "      <td>0.19</td>\n",
       "      <td>0.63</td>\n",
       "      <td>171.6</td>\n",
       "    </tr>\n",
       "  </tbody>\n",
       "</table>\n",
       "</div>"
      ],
      "text/plain": [
       "   p (mbar)  T (degC)  Tpot (K)  Tdew (degC)  rh (%)  VPmax (mbar)  \\\n",
       "0    996.52     -8.02    265.40        -8.90    93.3          3.33   \n",
       "1    996.57     -8.41    265.01        -9.28    93.4          3.23   \n",
       "2    996.53     -8.51    264.91        -9.31    93.9          3.21   \n",
       "\n",
       "   VPact (mbar)  VPdef (mbar)  sh (g/kg)  H2OC (mmol/mol)  rho (g/m**3)  \\\n",
       "0          3.11          0.22       1.94             3.12       1307.75   \n",
       "1          3.02          0.21       1.89             3.03       1309.80   \n",
       "2          3.01          0.20       1.88             3.02       1310.24   \n",
       "\n",
       "   wv (m/s)  max. wv (m/s)  wd (deg)  \n",
       "0      1.03           1.75     152.3  \n",
       "1      0.72           1.50     136.1  \n",
       "2      0.19           0.63     171.6  "
      ]
     },
     "metadata": {},
     "output_type": "display_data"
    }
   ],
   "source": [
    "# For testing\n",
    "display(df.head(3))\n",
    "# print(df.shape)\n",
    "# print(df.columns)"
   ]
  },
  {
   "cell_type": "markdown",
   "metadata": {},
   "source": [
    "This dataset will be used to learn to work with numerical time series. We will use it to build a model that takes in some data in the past as input and predicts the air temperature 24 hours in the future. Each line is a timestep and the readings of the different sensors at that time."
   ]
  },
  {
   "cell_type": "code",
   "execution_count": 4,
   "metadata": {
    "ExecuteTime": {
     "end_time": "2020-06-12T07:48:03.269050Z",
     "start_time": "2020-06-12T07:48:02.277296Z"
    }
   },
   "outputs": [
    {
     "data": {
      "image/png": "[encoded data removed]",
      "text/plain": [
       "<Figure size 1296x288 with 1 Axes>"
      ]
     },
     "metadata": {
      "needs_background": "light"
     },
     "output_type": "display_data"
    },
    {
     "data": {
      "image/png": "[encoded data removed]",
      "text/plain": [
       "<Figure size 1296x288 with 1 Axes>"
      ]
     },
     "metadata": {
      "needs_background": "light"
     },
     "output_type": "display_data"
    }
   ],
   "source": [
    "# Plot temperature timeseries for whole period\n",
    "df.plot(kind='line', y='T (degC)', figsize=(18,4), title=\"Temperature, all time\")\n",
    "plt.show()\n",
    "df.iloc[:1440,:].plot(kind='line', y='T (degC)', figsize=(18,4), title=\"Temperature, first 10 days\")\n",
    "plt.show()"
   ]
  },
  {
   "cell_type": "markdown",
   "metadata": {},
   "source": [
    "In the 10 days plot, we can see daily periodicity, especially in the last 4 days. Also this is in a cold winter month. If we were trying to predict average temperature for the next month given a few months of past data, the problem would be easy. But looking at the data over a scale of days, the data looks a lot more chaotic. Can we predict time series at a daily scale?"
   ]
  },
  {
   "cell_type": "markdown",
   "metadata": {},
   "source": [
    "### Problem Statement\n",
    "The **temperature forecasting** problem is as follows: Given data going as far back as $l$ timesteps, sampled every $f$ steps (that means $n=\\frac lf$), can we predict the temperature in $d$ timesteps? E.g. if $l=720, f=6, d=144$, then we have <u>hourly</u> data, up to <u>5 days back</u> (holding <u>120 samples</u>) and want to predict targets <u>24 hours into the future</u>.\n"
   ]
  },
  {
   "cell_type": "code",
   "execution_count": 5,
   "metadata": {
    "ExecuteTime": {
     "end_time": "2020-06-12T07:48:08.056664Z",
     "start_time": "2020-06-12T07:48:08.053593Z"
    }
   },
   "outputs": [],
   "source": [
    "# Preprocessing\n",
    "df_mean, df_std = df_values[:200000].mean(axis=0), df_values[:200000].std(axis=0)\n",
    "df_values-=df_mean\n",
    "df_values/=df_std"
   ]
  },
  {
   "cell_type": "markdown",
   "metadata": {},
   "source": [
    "This generator yields a tuple `(samples, targets)` where `samples` is one batch of input data and `targets` is the corresponding array of target temperatures."
   ]
  },
  {
   "cell_type": "code",
   "execution_count": 6,
   "metadata": {
    "ExecuteTime": {
     "end_time": "2020-06-12T07:48:08.209214Z",
     "start_time": "2020-06-12T07:48:08.204102Z"
    }
   },
   "outputs": [],
   "source": [
    "# Generator\n",
    "def generator(data, lookback=0, delay=0, min_index=0, max_index=None, shuffle=False,\n",
    "              batch_size=128, step=6):\n",
    "    '''\n",
    "    data: the original normalised dataset, containing the features and target\n",
    "    lookback: how many timesteps the input data should go\n",
    "    delay: how many timesteps in the future the target should be \n",
    "    min_index / max_index: the data array that delimits where to draw from\n",
    "    shuffle: whether to shuffle the time series data\n",
    "    batch_size: the number of samples per batch\n",
    "    step: the period in timesteps to sample the data.\n",
    "    '''\n",
    "\n",
    "    # If no max_index is defined, then define\n",
    "    # it to be the no. of records input\n",
    "    if max_index == None:\n",
    "        max_index = len(data) - delay - 1\n",
    "    \n",
    "    # earliest observation from the dataset to draw\n",
    "    i = min_index + lookback\n",
    "    \n",
    "    while 1:\n",
    "        if shuffle:\n",
    "            # Draw a batch of size (batch_size) from\n",
    "            # from the dataset, starting from \n",
    "            # (min_index+lookback) to max_index\n",
    "            rows = np.random.randint(\n",
    "            min_index + lookback, max_index, size=batch_size)\n",
    "        else:\n",
    "            # reset i if it exceeds the max_index to draw from\n",
    "            if i + batch_size >= max_index:\n",
    "                i = min_index + lookback\n",
    "            # draw a batch from i to i+batch_size\n",
    "            rows = np.arange(i, min(i + batch_size, max_index))\n",
    "            # add this batch to i so the batches are contiguous            \n",
    "            i+= len(rows)\n",
    "        \n",
    "        # create a batch of samples, as a 3D tensor\n",
    "        # of (num_samples, features)\n",
    "        # and targets of size rows\n",
    "        samples = np.zeros((len(rows),\n",
    "                           lookback // step,\n",
    "                           data.shape[-1]))\n",
    "        targets = np.zeros((len(rows,)))\n",
    "        for j, row in enumerate(rows):\n",
    "            # indices are the steps from low to high\n",
    "            # with steps\n",
    "            indices = range(rows[j] - lookback, rows[j], step)\n",
    "            samples[j] = data[indices]\n",
    "            targets[j] = data[rows[j] + delay][1]\n",
    "        yield samples, targets"
   ]
  },
  {
   "cell_type": "code",
   "execution_count": 7,
   "metadata": {
    "ExecuteTime": {
     "end_time": "2020-06-12T07:48:10.696553Z",
     "start_time": "2020-06-12T07:48:10.692770Z"
    }
   },
   "outputs": [],
   "source": [
    "LOOKBACK, STEP, DELAY, BATCH_SIZE = 1440, 6, 144, 128\n",
    "train_min_i, train_max_i = 0, 200000\n",
    "val_min_i, val_max_i = 200001, 300000\n",
    "test_min_i, test_max_i = 300001, None\n",
    "val_steps = (val_max_i - val_min_i - LOOKBACK)\n",
    "test_steps = (len(df_values) - test_min_i - LOOKBACK)\n",
    "train_gen = generator(df_values, \n",
    "                      lookback=LOOKBACK, delay=DELAY, \n",
    "                      min_index=train_min_i, max_index=train_max_i, \n",
    "                      batch_size=BATCH_SIZE, step=STEP,shuffle=True)\n",
    "val_gen = generator(df_values, \n",
    "                    lookback=LOOKBACK, delay=DELAY, \n",
    "                    min_index=val_min_i, max_index=val_max_i, \n",
    "                    batch_size=BATCH_SIZE, step=STEP,shuffle=False)\n",
    "test_gen = generator(df_values, \n",
    "                     lookback=LOOKBACK, delay=DELAY, \n",
    "                     min_index=test_min_i, max_index=test_max_i, \n",
    "                     batch_size=BATCH_SIZE, step=STEP,shuffle=False)"
   ]
  },
  {
   "cell_type": "markdown",
   "metadata": {},
   "source": [
    "### Baseline\n"
   ]
  },
  {
   "cell_type": "code",
   "execution_count": 8,
   "metadata": {
    "ExecuteTime": {
     "end_time": "2020-06-12T07:48:11.861417Z",
     "start_time": "2020-06-12T07:48:11.856195Z"
    }
   },
   "outputs": [],
   "source": [
    "# def evaluate_naive_method():\n",
    "#     batch_maes = []\n",
    "#     for t in range(val_steps):\n",
    "#         samples, targets = next(val_gen)\n",
    "#         preds = samples[:,-1,1]\n",
    "#         mae = np.mean(np.abs(preds - targets))\n",
    "#         batch_maes.append(mae)\n",
    "#     print(np.mean(batch_maes))\n",
    "# evaluate_naive_method()"
   ]
  },
  {
   "cell_type": "markdown",
   "metadata": {},
   "source": [
    "This yields an MAE of 0.29. it translates to an average error of $0.29 \\times \\text{std temperature}$ or $2.57^\\circ\\text{C}$ which is a fairly large training error."
   ]
  },
  {
   "cell_type": "markdown",
   "metadata": {},
   "source": [
    "### v1: MLP Model\n",
    "\n",
    "Before we work on complicated deep learning models, let's use a simple baseline deep learning model. A model with higher complexity should also deliver a proportionate increase in performance.\n",
    "\n",
    "For this model, let's use 2 `Dense` layers. Note that there is no activation function in the final layer as we are solving a regression problem."
   ]
  },
  {
   "cell_type": "code",
   "execution_count": 9,
   "metadata": {
    "ExecuteTime": {
     "end_time": "2020-06-12T07:48:14.420619Z",
     "start_time": "2020-06-12T07:48:14.417337Z"
    }
   },
   "outputs": [],
   "source": [
    "# Instantiate Model\n",
    "###################\n",
    "# clear_session()\n",
    "# model1 = Sequential()\n",
    "# model1.add(Flatten(input_shape=(LOOKBACK//STEP, df_values.shape[-1])))\n",
    "# model1.add(Dense(32, activation='relu'))\n",
    "# model1.add(Dense(1))\n",
    "\n",
    "# Compile\n",
    "#########\n",
    "# model1.compile(optimizer=RMSprop(), loss='mae',)\n",
    "# print(model1.summary())\n",
    "\n",
    "# Train\n",
    "#######\n",
    "# history1 = model1.fit(train_gen, steps_per_epoch=500, epochs=20, \n",
    "#                       validation_data=val_gen, validation_steps=val_steps)"
   ]
  },
  {
   "cell_type": "code",
   "execution_count": 10,
   "metadata": {
    "ExecuteTime": {
     "end_time": "2020-06-12T07:48:18.851877Z",
     "start_time": "2020-06-12T07:48:18.740667Z"
    }
   },
   "outputs": [],
   "source": [
    "# Load trained model. \n",
    "# Ran on EC2 Medium for 18 hours\n",
    "# Code: weather_modelv1_mlp.py\n",
    "################################\n",
    "clear_session()\n",
    "model1 = load_model('weather__v1__mlp.h5')"
   ]
  },
  {
   "cell_type": "code",
   "execution_count": 11,
   "metadata": {
    "ExecuteTime": {
     "end_time": "2020-06-12T07:48:20.040139Z",
     "start_time": "2020-06-12T07:48:20.037102Z"
    }
   },
   "outputs": [],
   "source": [
    "# model1.predict(generator(df_values, \n",
    "#                      lookback=LOOKBACK, delay=DELAY, \n",
    "#                      min_index=300000, max_index=310000, \n",
    "#                      batch_size=BATCH_SIZE, step=STEP,shuffle=False))"
   ]
  },
  {
   "cell_type": "code",
   "execution_count": 12,
   "metadata": {
    "ExecuteTime": {
     "end_time": "2020-06-12T07:48:21.323869Z",
     "start_time": "2020-06-12T07:48:20.986884Z"
    }
   },
   "outputs": [
    {
     "data": {
      "text/html": [
       "<div>\n",
       "<style scoped>\n",
       "    .dataframe tbody tr th:only-of-type {\n",
       "        vertical-align: middle;\n",
       "    }\n",
       "\n",
       "    .dataframe tbody tr th {\n",
       "        vertical-align: top;\n",
       "    }\n",
       "\n",
       "    .dataframe thead th {\n",
       "        text-align: right;\n",
       "    }\n",
       "</style>\n",
       "<table border=\"1\" class=\"dataframe\">\n",
       "  <thead>\n",
       "    <tr style=\"text-align: right;\">\n",
       "      <th></th>\n",
       "      <th>loss</th>\n",
       "      <th>val_loss</th>\n",
       "      <th>epoch</th>\n",
       "    </tr>\n",
       "  </thead>\n",
       "  <tbody>\n",
       "    <tr>\n",
       "      <th>15</th>\n",
       "      <td>0.207683</td>\n",
       "      <td>0.322443</td>\n",
       "      <td>16</td>\n",
       "    </tr>\n",
       "    <tr>\n",
       "      <th>16</th>\n",
       "      <td>0.206338</td>\n",
       "      <td>0.327836</td>\n",
       "      <td>17</td>\n",
       "    </tr>\n",
       "    <tr>\n",
       "      <th>17</th>\n",
       "      <td>0.203756</td>\n",
       "      <td>0.334344</td>\n",
       "      <td>18</td>\n",
       "    </tr>\n",
       "    <tr>\n",
       "      <th>18</th>\n",
       "      <td>0.202211</td>\n",
       "      <td>0.335350</td>\n",
       "      <td>19</td>\n",
       "    </tr>\n",
       "    <tr>\n",
       "      <th>19</th>\n",
       "      <td>0.200439</td>\n",
       "      <td>0.318153</td>\n",
       "      <td>20</td>\n",
       "    </tr>\n",
       "  </tbody>\n",
       "</table>\n",
       "</div>"
      ],
      "text/plain": [
       "        loss  val_loss  epoch\n",
       "15  0.207683  0.322443     16\n",
       "16  0.206338  0.327836     17\n",
       "17  0.203756  0.334344     18\n",
       "18  0.202211  0.335350     19\n",
       "19  0.200439  0.318153     20"
      ]
     },
     "metadata": {},
     "output_type": "display_data"
    },
    {
     "data": {
      "image/png": "[encoded data removed]",
      "text/plain": [
       "<Figure size 1224x360 with 1 Axes>"
      ]
     },
     "metadata": {
      "needs_background": "light"
     },
     "output_type": "display_data"
    }
   ],
   "source": [
    "# Evaluate\n",
    "##########\n",
    "# metrics_df = pd.DataFrame(history1.history)\n",
    "\n",
    "# Load History of trained model.\n",
    "# weather_modelv1_mlp.py\n",
    "################################\n",
    "metrics_df = pd.read_csv('weather__v1history__mlp.csv')\n",
    "metrics_df['epoch'] = metrics_df.index+1\n",
    "display(metrics_df.tail())\n",
    "\n",
    "fig = plt.figure(figsize=(17,5))\n",
    "ax1 = fig.add_subplot(1,1,1)\n",
    "metrics_df.plot(kind='scatter', x='epoch', y='loss', ax=ax1, label='train', color='blue')\n",
    "metrics_df.plot(kind='line', x='epoch', y='val_loss', ax=ax1, label='validation', color='red',)\n",
    "ax1.set_ylabel(\"Loss\")\n",
    "ax1.grid('GAINSBORO')\n",
    "ax1.legend([])\n",
    "ax1.set_ylim(0,1.1)\n",
    "ax1.set_xticks(range(0,metrics_df.shape[0]+1))\n",
    "plt.show()"
   ]
  },
  {
   "cell_type": "markdown",
   "metadata": {},
   "source": [
    "### v2.1: Recurrent Baseline\n",
    "\n",
    "The MLP model flattened the time series, which removed the notion of time from the input data. Let's look at the data as what it is: a sequence, where order matters. We will use a recurrent-sequence processing model.\n",
    "\n",
    "This time, we will use the Gated recurrent unit (`GRU`) layer. They use the same principle as LSTM, but are somewhat streamlined and thus cheaper to run (and might not have the same representational power as LSTM). This is a classical tradeoff in ML in the industry."
   ]
  },
  {
   "cell_type": "code",
   "execution_count": null,
   "metadata": {
    "ExecuteTime": {
     "end_time": "2020-06-10T11:32:38.515923Z",
     "start_time": "2020-06-10T11:32:38.210859Z"
    }
   },
   "outputs": [],
   "source": [
    "# Instantiate Model\n",
    "###################\n",
    "# clear_session()\n",
    "# model2 = Sequential()\n",
    "# model2.add(GRU(32, input_shape=(None, df_values.shape[-1])))\n",
    "# model2.add(Dense(1))\n",
    "\n",
    "# Compile\n",
    "#########\n",
    "# model2.compile(optimizer=RMSprop(), loss='mae',)\n",
    "# print(model2.summary())\n",
    "\n",
    "# Train\n",
    "#######\n",
    "# history2 = model2.fit(train_gen, steps_per_epoch=500, epochs=20, \n",
    "#                       validation_data=val_gen, validation_steps=val_steps)"
   ]
  },
  {
   "cell_type": "code",
   "execution_count": null,
   "metadata": {},
   "outputs": [],
   "source": [
    "# Load trained model. \n",
    "# Ran on EC2 Medium for 2 days\n",
    "# Code: weather_modelv2_rnn.py\n",
    "################################"
   ]
  },
  {
   "cell_type": "code",
   "execution_count": 3,
   "metadata": {
    "ExecuteTime": {
     "end_time": "2020-06-14T02:54:37.012757Z",
     "start_time": "2020-06-14T02:54:36.531307Z"
    },
    "scrolled": true
   },
   "outputs": [
    {
     "data": {
      "text/html": [
       "<div>\n",
       "<style scoped>\n",
       "    .dataframe tbody tr th:only-of-type {\n",
       "        vertical-align: middle;\n",
       "    }\n",
       "\n",
       "    .dataframe tbody tr th {\n",
       "        vertical-align: top;\n",
       "    }\n",
       "\n",
       "    .dataframe thead th {\n",
       "        text-align: right;\n",
       "    }\n",
       "</style>\n",
       "<table border=\"1\" class=\"dataframe\">\n",
       "  <thead>\n",
       "    <tr style=\"text-align: right;\">\n",
       "      <th></th>\n",
       "      <th>loss</th>\n",
       "      <th>val_loss</th>\n",
       "      <th>epoch</th>\n",
       "    </tr>\n",
       "  </thead>\n",
       "  <tbody>\n",
       "    <tr>\n",
       "      <th>15</th>\n",
       "      <td>0.215189</td>\n",
       "      <td>0.294299</td>\n",
       "      <td>16</td>\n",
       "    </tr>\n",
       "    <tr>\n",
       "      <th>16</th>\n",
       "      <td>0.211771</td>\n",
       "      <td>0.290098</td>\n",
       "      <td>17</td>\n",
       "    </tr>\n",
       "    <tr>\n",
       "      <th>17</th>\n",
       "      <td>0.209199</td>\n",
       "      <td>0.297865</td>\n",
       "      <td>18</td>\n",
       "    </tr>\n",
       "    <tr>\n",
       "      <th>18</th>\n",
       "      <td>0.205123</td>\n",
       "      <td>0.298661</td>\n",
       "      <td>19</td>\n",
       "    </tr>\n",
       "    <tr>\n",
       "      <th>19</th>\n",
       "      <td>0.202315</td>\n",
       "      <td>0.303692</td>\n",
       "      <td>20</td>\n",
       "    </tr>\n",
       "  </tbody>\n",
       "</table>\n",
       "</div>"
      ],
      "text/plain": [
       "        loss  val_loss  epoch\n",
       "15  0.215189  0.294299     16\n",
       "16  0.211771  0.290098     17\n",
       "17  0.209199  0.297865     18\n",
       "18  0.205123  0.298661     19\n",
       "19  0.202315  0.303692     20"
      ]
     },
     "metadata": {},
     "output_type": "display_data"
    },
    {
     "data": {
      "image/png": "[encoded data removed]",
      "text/plain": [
       "<Figure size 1224x360 with 1 Axes>"
      ]
     },
     "metadata": {
      "needs_background": "light"
     },
     "output_type": "display_data"
    }
   ],
   "source": [
    "# Evaluate\n",
    "##########\n",
    "# metrics_df = pd.DataFrame(history1.history)\n",
    "\n",
    "# Load History of trained model.\n",
    "# weather_modelv1_mlp.py\n",
    "################################\n",
    "metrics_df = pd.read_csv('weather__v2history__rnn.csv')\n",
    "metrics_df['epoch'] = metrics_df.index+1\n",
    "display(metrics_df.tail())\n",
    "\n",
    "fig = plt.figure(figsize=(17,5))\n",
    "ax1 = fig.add_subplot(1,1,1)\n",
    "metrics_df.plot(kind='scatter', x='epoch', y='loss', ax=ax1, label='train', color='blue')\n",
    "metrics_df.plot(kind='line', x='epoch', y='val_loss', ax=ax1, label='validation', color='red',)\n",
    "ax1.set_ylabel(\"Loss\")\n",
    "ax1.grid('GAINSBORO')\n",
    "ax1.legend([])\n",
    "ax1.set_ylim(0,1.1)\n",
    "ax1.set_xticks(range(0,metrics_df.shape[0]+1))\n",
    "plt.show()"
   ]
  },
  {
   "cell_type": "markdown",
   "metadata": {},
   "source": [
    "It's clear that this model has beaten the MLP baseline."
   ]
  },
  {
   "cell_type": "markdown",
   "metadata": {},
   "source": [
    "### v2.2: RNN with Dropout\n",
    "One of the ways to overcome overfitting is by using dropout, which randomly zeros out input units of a layer to break coincidental correlations in the training data that the layer is exposed to. \n",
    "\n",
    "However, appplying dropout in a reucurrent layer isn't a trivial question. Applying dropout before a recurrent layer hinders learning rahter than helping with regularization. In Yarin Gal's [thesis](http://mlg.eng.cam.ac.uk/yarin/blog_2248.html), the proper way to use dropout is to use the same dropout mask (pattern of dropped units) at every timestep, instead of a dropout mask that varies randomly from timestep to timestep. Also, in order to regularise the representations formed by the recurrent gates of layers, a temporally constant dropout mask should be applied to the inner recurrent activations of the layer. Using the same dropout mask at every timestep allows the network to properly proagate its learning error through time.\n",
    "\n",
    "This dropout behaviour can be implemented using 2 parameters: `dropout` specifying the dropout rate for input units of the layer and `recurrent_dropout`, specifying the dropout rate of teh recurrent units."
   ]
  },
  {
   "cell_type": "code",
   "execution_count": null,
   "metadata": {},
   "outputs": [],
   "source": [
    "# Instantiate Model\n",
    "###################\n",
    "# clear_session()\n",
    "# model3 = Sequential()\n",
    "# model3.add(GRU(32, dropout=0.2, recurrent_dropout=0.2, \n",
    "#                input_shape=(None, df_values.shape[-1])))\n",
    "# model3.add(Dense(1))\n",
    "\n",
    "# Compile\n",
    "#########\n",
    "# model3.compile(optimizer=RMSprop(), loss='mae',)\n",
    "# print(model3.summary())\n",
    "\n",
    "# Train\n",
    "#######\n",
    "# history3 = model3.fit(train_gen, \n",
    "#   steps_per_epoch=500, \n",
    "#   epochs=40, \n",
    "#   validation_data=val_gen, \n",
    "#   validation_steps=val_steps)"
   ]
  },
  {
   "cell_type": "code",
   "execution_count": null,
   "metadata": {},
   "outputs": [],
   "source": [
    "# Evaluate\n",
    "##########\n",
    "# metrics_df = pd.DataFrame(history1.history)\n",
    "\n",
    "# Load History of trained model.\n",
    "# X.py\n",
    "################################\n",
    "# metrics_df = pd.read_csv('weather__v1history__mlp.csv')\n",
    "# metrics_df['epoch'] = metrics_df.index+1\n",
    "# display(metrics_df.tail())\n",
    "\n",
    "# fig = plt.figure(figsize=(17,5))\n",
    "# ax1 = fig.add_subplot(1,1,1)\n",
    "# metrics_df.plot(kind='scatter', x='epoch', y='loss', ax=ax1, label='train', color='blue')\n",
    "# metrics_df.plot(kind='line', x='epoch', y='val_loss', ax=ax1, label='validation', color='red',)\n",
    "# ax1.set_ylabel(\"Loss\")\n",
    "# ax1.grid('GAINSBORO')\n",
    "# ax1.legend([])\n",
    "# ax1.set_ylim(0,1.1)\n",
    "# ax1.set_xticks(range(0,metrics_df.shape[0]+1))\n",
    "# plt.show()"
   ]
  },
  {
   "cell_type": "markdown",
   "metadata": {},
   "source": [
    "### v2.3: Stacking RNN Layers\n",
    "\n",
    "The next step is to increase the capacity of the network. As long as you re not overfitting too badly, you're likely under capacity. The low network capacity might not maximise the model's performance (in this case, validation accuracy).\n",
    "\n",
    "Increasing a network's capacity is typically done by increasing the number of units in the layers or adding more layers. Recurrent layer stacking is a classic way to build more powerful recurrent networks. For example, the model powering Google Translate is a stack of seven large LSTM layers.\n",
    "\n",
    "When recurrent layers are stacked on top of each other in Keras, all intermediate layers should return their full sequence of outputs rather than the output at the last timestep."
   ]
  },
  {
   "cell_type": "code",
   "execution_count": null,
   "metadata": {},
   "outputs": [],
   "source": [
    "# Instantiate Model\n",
    "###################\n",
    "# clear_session()\n",
    "# model4 = Sequential()\n",
    "# model4.add(GRU(32, dropout=0.1, recurrent_dropout=0.5,\n",
    "#                return_sequences=True,\n",
    "#                input_shape=(None, df_values.shape[-1])))\n",
    "# model4.add(GRU(64, activation='relu', dropout=0.1, \n",
    "#                recurrent_dropout=0.5))\n",
    "# model4.add(Dense(1))\n",
    "\n",
    "# Compile\n",
    "#########\n",
    "# model4.compile(optimizer=RMSprop(), loss='mae',)\n",
    "# print(model4.summary())\n",
    "\n",
    "# Train\n",
    "#######\n",
    "# history4 = model4.fit(train_gen, \n",
    "#   steps_per_epoch=500, \n",
    "#   epochs=40, \n",
    "#   validation_data=val_gen, \n",
    "#   validation_steps=val_steps)"
   ]
  },
  {
   "cell_type": "markdown",
   "metadata": {},
   "source": [
    "### v2.4: Using Bidirectional RNN\n",
    "\n",
    "A bidirectional RNN is a common RNN variant that can offer greater performance than a regular RNN on certain tasks. It is frequently used in natural language processing. \n",
    "\n",
    "RNNs are order dependent or time dependent: they process the input sequences in order and shuffling or reversing the timesteps can completely change the representations the RNN extracts from the sequence. This is precisely why they perform well on problems where the order is meaningful.\n",
    "\n",
    "A birectional RNN explots the order sensitivity of RNNs. It uses 2 regular RNN layers and each process the input sequences in one direction, and then merging their representations. By processing a sequence both ways, a bidirectional RNN can catch patterns that may be overlooked by a unidirectional RNN."
   ]
  }
 ],
 "metadata": {
  "kernelspec": {
   "display_name": "Python 3",
   "language": "python",
   "name": "python3"
  },
  "language_info": {
   "codemirror_mode": {
    "name": "ipython",
    "version": 3
   },
   "file_extension": ".py",
   "mimetype": "text/x-python",
   "name": "python",
   "nbconvert_exporter": "python",
   "pygments_lexer": "ipython3",
   "version": "3.7.2"
  }
 },
 "nbformat": 4,
 "nbformat_minor": 4
}
