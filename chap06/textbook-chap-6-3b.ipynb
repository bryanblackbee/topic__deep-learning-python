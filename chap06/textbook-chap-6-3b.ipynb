{
 "cells": [
  {
   "cell_type": "markdown",
   "metadata": {},
   "source": [
    "# 6. Deep Learning for Text and Sequences"
   ]
  },
  {
   "cell_type": "markdown",
   "metadata": {},
   "source": [
    "## Advanced Use of Recurrent Neural Networks"
   ]
  },
  {
   "cell_type": "markdown",
   "metadata": {},
   "source": [
    "Here, we introduce three advanced techniques for improving the performance and generalisation power of RNNs. We demonstrate these concepts on a **temperature forecasting** problem, where we have access to timeseries of data points from sensors installed on the roof of a building.\n",
    "\n",
    "The techniques covered are:\n",
    "- <b>Recurrent dropout</b> - This is a built-in way to use dropout to fight overfitting in recurrent layers\n",
    "- <b>Stacking Recurrent Layers</b> - This increases the representational power of the network (at the cost of higher computational loads)\n",
    "- <b>Bidirectional Recurrent Layers</b> - This present the same information to a recurrent network in different ways, increasing accuracy and mitigating forgetting issues"
   ]
  },
  {
   "cell_type": "code",
   "execution_count": 1,
   "metadata": {
    "ExecuteTime": {
     "end_time": "2020-06-10T12:01:50.503727Z",
     "start_time": "2020-06-10T12:01:46.056521Z"
    }
   },
   "outputs": [],
   "source": [
    "import numpy as np\n",
    "import pandas as pd\n",
    "import matplotlib.pyplot as plt\n",
    "\n",
    "from sklearn.preprocessing import StandardScaler\n",
    "\n",
    "from tensorflow.keras.backend import clear_session\n",
    "from tensorflow.keras.optimizers import RMSprop\n",
    "from tensorflow.keras.preprocessing import sequence\n",
    "from tensorflow.keras.models import Sequential\n",
    "from tensorflow.keras.layers import (Flatten, Dense, SimpleRNN, LSTM, GRU)"
   ]
  },
  {
   "cell_type": "markdown",
   "metadata": {},
   "source": [
    "In the **temperature forecasting** problem, we work with a weather timeseires dataset recorded at the Weather Station at the Max Planck Institute for Biogeochemistry in Jena, Germany."
   ]
  },
  {
   "cell_type": "code",
   "execution_count": 2,
   "metadata": {
    "ExecuteTime": {
     "end_time": "2020-06-10T12:01:51.383389Z",
     "start_time": "2020-06-10T12:01:50.506281Z"
    }
   },
   "outputs": [],
   "source": [
    "df = pd.read_csv('jena_climate_2009_2016.csv')\n",
    "df = df.iloc[:,1:]\n",
    "df_values = df.values"
   ]
  },
  {
   "cell_type": "code",
   "execution_count": 3,
   "metadata": {
    "ExecuteTime": {
     "end_time": "2020-06-10T12:01:51.421119Z",
     "start_time": "2020-06-10T12:01:51.385728Z"
    }
   },
   "outputs": [
    {
     "data": {
      "text/html": [
       "<div>\n",
       "<style scoped>\n",
       "    .dataframe tbody tr th:only-of-type {\n",
       "        vertical-align: middle;\n",
       "    }\n",
       "\n",
       "    .dataframe tbody tr th {\n",
       "        vertical-align: top;\n",
       "    }\n",
       "\n",
       "    .dataframe thead th {\n",
       "        text-align: right;\n",
       "    }\n",
       "</style>\n",
       "<table border=\"1\" class=\"dataframe\">\n",
       "  <thead>\n",
       "    <tr style=\"text-align: right;\">\n",
       "      <th></th>\n",
       "      <th>p (mbar)</th>\n",
       "      <th>T (degC)</th>\n",
       "      <th>Tpot (K)</th>\n",
       "      <th>Tdew (degC)</th>\n",
       "      <th>rh (%)</th>\n",
       "      <th>VPmax (mbar)</th>\n",
       "      <th>VPact (mbar)</th>\n",
       "      <th>VPdef (mbar)</th>\n",
       "      <th>sh (g/kg)</th>\n",
       "      <th>H2OC (mmol/mol)</th>\n",
       "      <th>rho (g/m**3)</th>\n",
       "      <th>wv (m/s)</th>\n",
       "      <th>max. wv (m/s)</th>\n",
       "      <th>wd (deg)</th>\n",
       "    </tr>\n",
       "  </thead>\n",
       "  <tbody>\n",
       "    <tr>\n",
       "      <th>0</th>\n",
       "      <td>996.52</td>\n",
       "      <td>-8.02</td>\n",
       "      <td>265.40</td>\n",
       "      <td>-8.90</td>\n",
       "      <td>93.3</td>\n",
       "      <td>3.33</td>\n",
       "      <td>3.11</td>\n",
       "      <td>0.22</td>\n",
       "      <td>1.94</td>\n",
       "      <td>3.12</td>\n",
       "      <td>1307.75</td>\n",
       "      <td>1.03</td>\n",
       "      <td>1.75</td>\n",
       "      <td>152.3</td>\n",
       "    </tr>\n",
       "    <tr>\n",
       "      <th>1</th>\n",
       "      <td>996.57</td>\n",
       "      <td>-8.41</td>\n",
       "      <td>265.01</td>\n",
       "      <td>-9.28</td>\n",
       "      <td>93.4</td>\n",
       "      <td>3.23</td>\n",
       "      <td>3.02</td>\n",
       "      <td>0.21</td>\n",
       "      <td>1.89</td>\n",
       "      <td>3.03</td>\n",
       "      <td>1309.80</td>\n",
       "      <td>0.72</td>\n",
       "      <td>1.50</td>\n",
       "      <td>136.1</td>\n",
       "    </tr>\n",
       "    <tr>\n",
       "      <th>2</th>\n",
       "      <td>996.53</td>\n",
       "      <td>-8.51</td>\n",
       "      <td>264.91</td>\n",
       "      <td>-9.31</td>\n",
       "      <td>93.9</td>\n",
       "      <td>3.21</td>\n",
       "      <td>3.01</td>\n",
       "      <td>0.20</td>\n",
       "      <td>1.88</td>\n",
       "      <td>3.02</td>\n",
       "      <td>1310.24</td>\n",
       "      <td>0.19</td>\n",
       "      <td>0.63</td>\n",
       "      <td>171.6</td>\n",
       "    </tr>\n",
       "  </tbody>\n",
       "</table>\n",
       "</div>"
      ],
      "text/plain": [
       "   p (mbar)  T (degC)  Tpot (K)  Tdew (degC)  rh (%)  VPmax (mbar)  \\\n",
       "0    996.52     -8.02    265.40        -8.90    93.3          3.33   \n",
       "1    996.57     -8.41    265.01        -9.28    93.4          3.23   \n",
       "2    996.53     -8.51    264.91        -9.31    93.9          3.21   \n",
       "\n",
       "   VPact (mbar)  VPdef (mbar)  sh (g/kg)  H2OC (mmol/mol)  rho (g/m**3)  \\\n",
       "0          3.11          0.22       1.94             3.12       1307.75   \n",
       "1          3.02          0.21       1.89             3.03       1309.80   \n",
       "2          3.01          0.20       1.88             3.02       1310.24   \n",
       "\n",
       "   wv (m/s)  max. wv (m/s)  wd (deg)  \n",
       "0      1.03           1.75     152.3  \n",
       "1      0.72           1.50     136.1  \n",
       "2      0.19           0.63     171.6  "
      ]
     },
     "metadata": {},
     "output_type": "display_data"
    },
    {
     "name": "stdout",
     "output_type": "stream",
     "text": [
      "(420551, 14)\n",
      "Index(['p (mbar)', 'T (degC)', 'Tpot (K)', 'Tdew (degC)', 'rh (%)',\n",
      "       'VPmax (mbar)', 'VPact (mbar)', 'VPdef (mbar)', 'sh (g/kg)',\n",
      "       'H2OC (mmol/mol)', 'rho (g/m**3)', 'wv (m/s)', 'max. wv (m/s)',\n",
      "       'wd (deg)'],\n",
      "      dtype='object')\n"
     ]
    }
   ],
   "source": [
    "# For testing\n",
    "display(df.head(3))\n",
    "print(df.shape)\n",
    "print(df.columns)"
   ]
  },
  {
   "cell_type": "markdown",
   "metadata": {},
   "source": [
    "This dataset will be used to learn to work with numerical time series. We will use it to build a model that takes in some data in the past as input and predicts the air temperature 24 hours in the future. Each line is a timestep and the readings of the different sensors at that time."
   ]
  },
  {
   "cell_type": "code",
   "execution_count": 4,
   "metadata": {
    "ExecuteTime": {
     "end_time": "2020-06-10T12:01:52.588133Z",
     "start_time": "2020-06-10T12:01:51.607979Z"
    }
   },
   "outputs": [
    {
     "data": {
      "image/png": "[encoded data removed]",
      "text/plain": [
       "<Figure size 1296x288 with 1 Axes>"
      ]
     },
     "metadata": {
      "needs_background": "light"
     },
     "output_type": "display_data"
    },
    {
     "data": {
      "image/png": "[encoded data removed]",
      "text/plain": [
       "<Figure size 1296x288 with 1 Axes>"
      ]
     },
     "metadata": {
      "needs_background": "light"
     },
     "output_type": "display_data"
    }
   ],
   "source": [
    "# Plot temperature timeseries for whole period\n",
    "df.plot(kind='line', y='T (degC)', figsize=(18,4), title=\"Temperature, all time\")\n",
    "plt.show()\n",
    "df.iloc[:1440,:].plot(kind='line', y='T (degC)', figsize=(18,4), title=\"Temperature, first 10 days\")\n",
    "plt.show()"
   ]
  },
  {
   "cell_type": "markdown",
   "metadata": {},
   "source": [
    "In the 10 days plot, we can see daily periodicity, especially in the last 4 days. Also this is in a cold winter month. If we were trying to predict average temperature for the next month given a few months of past data, the problem would be easy. But looking at the data over a scale of days, the data looks a lot more chaotic. Can we predict time series at a daily scale?"
   ]
  },
  {
   "cell_type": "markdown",
   "metadata": {},
   "source": [
    "### Problem Statement\n",
    "The **temperature forecasting** problem is as follows: Given data going as far back as $l$ timesteps, sampled every $f$ steps (that means $n=\\frac lf$), can we predict the temperature in $d$ timesteps? E.g. if $l=720, f=6, d=144$, then we have <u>hourly</u> data, up to <u>5 days back</u> (holding <u>120 samples</u>) and want to predict targets <u>24 hours into the future</u>.\n"
   ]
  },
  {
   "cell_type": "code",
   "execution_count": 5,
   "metadata": {
    "ExecuteTime": {
     "end_time": "2020-06-10T12:01:57.141235Z",
     "start_time": "2020-06-10T12:01:57.094730Z"
    }
   },
   "outputs": [],
   "source": [
    "# Preprocessing\n",
    "df_mean, df_std = df_values[:200000].mean(axis=0), df_values[:200000].std(axis=0)\n",
    "df_values-=df_mean\n",
    "df_values/=df_std"
   ]
  },
  {
   "cell_type": "code",
   "execution_count": 6,
   "metadata": {
    "ExecuteTime": {
     "end_time": "2020-06-10T12:02:02.335608Z",
     "start_time": "2020-06-10T12:02:02.328146Z"
    }
   },
   "outputs": [
    {
     "data": {
      "text/plain": [
       "(420551, 14)"
      ]
     },
     "execution_count": 6,
     "metadata": {},
     "output_type": "execute_result"
    }
   ],
   "source": [
    "df_values.shape"
   ]
  },
  {
   "cell_type": "code",
   "execution_count": null,
   "metadata": {
    "ExecuteTime": {
     "end_time": "2020-06-10T03:23:42.980035Z",
     "start_time": "2020-06-10T03:23:42.970449Z"
    }
   },
   "outputs": [],
   "source": [
    "# Generator\n",
    "def generator(data, lookback=0, delay=0, min_index=0, max_index=None, shuffle=False,\n",
    "              batch_size=128, step=6):\n",
    "    if max_index == None:\n",
    "        max_index = len(data) - delay - 1\n",
    "    i = min_index + lookback\n",
    "    \n",
    "    while 1:\n",
    "        if shuffle:\n",
    "            rows = np.random.randint(\n",
    "            min_index + lookback, max_index, size=batch_size)\n",
    "        else:\n",
    "            if i + batch_size >= max_index:\n",
    "                i = min_index + lookback\n",
    "            rows = np.arange(i, min(i + batch_size, max_index))\n",
    "            i+= len(rows)\n",
    "        \n",
    "        samples = np.zeros((len(rows),\n",
    "                           lookback // step,\n",
    "                           data.shape[-1]))\n",
    "        targets = np.zeros((len(rows,)))\n",
    "        for j, row in enumerate(rows):\n",
    "            indices = range(rows[j] - lookback, rows[j], step)\n",
    "            samples[j] = data[indices]\n",
    "            targets[j] = data[rows[j] + delay][1]\n",
    "        yield samples, targets"
   ]
  },
  {
   "cell_type": "code",
   "execution_count": null,
   "metadata": {
    "ExecuteTime": {
     "end_time": "2020-06-10T03:23:43.483372Z",
     "start_time": "2020-06-10T03:23:43.476325Z"
    }
   },
   "outputs": [],
   "source": [
    "LOOKBACK, STEP, DELAY, BATCH_SIZE = 1440, 6, 144, 128\n",
    "\n",
    "train_gen = generator(df_values, \n",
    "                      lookback=LOOKBACK, delay=DELAY, min_index=0, max_index=200000, batch_size=BATCH_SIZE,\n",
    "                      step=STEP,shuffle=True)\n",
    "val_gen = generator(df_values, \n",
    "                    lookback=LOOKBACK, delay=DELAY, min_index=200001, max_index=300000, batch_size=BATCH_SIZE,\n",
    "                    step=STEP,shuffle=True)\n",
    "test_gen = generator(df_values, \n",
    "                     lookback=LOOKBACK, delay=DELAY, min_index=300001, max_index=None, batch_size=BATCH_SIZE,\n",
    "                     step=STEP,shuffle=True)\n",
    "\n",
    "val_steps = (300000 - 200001 - LOOKBACK)\n",
    "test_steps = (len(df_values) - 300001 - LOOKBACK)"
   ]
  },
  {
   "cell_type": "markdown",
   "metadata": {},
   "source": [
    "### Baseline\n"
   ]
  },
  {
   "cell_type": "code",
   "execution_count": null,
   "metadata": {
    "ExecuteTime": {
     "end_time": "2020-06-10T03:42:24.715923Z",
     "start_time": "2020-06-10T03:23:44.152091Z"
    }
   },
   "outputs": [],
   "source": [
    "def evaluate_naive_method():\n",
    "    batch_maes = []\n",
    "    for t in range(val_steps):\n",
    "        samples, targets = next(val_gen)\n",
    "        preds = samples[:,-1,1]\n",
    "        mae = np.mean(np.abs(preds - targets))\n",
    "        batch_maes.append(mae)\n",
    "    print(np.mean(batch_maes))\n",
    "evaluate_naive_method()"
   ]
  },
  {
   "cell_type": "markdown",
   "metadata": {},
   "source": [
    "This yields an MAE of 0.29. it translates to an average error of $0.29 \\times \\text{std temperature}$ or $2.57^\\circ\\text{C}$ which is a fairly large training error."
   ]
  },
  {
   "cell_type": "markdown",
   "metadata": {},
   "source": [
    "### v1: MLP Model\n",
    "\n",
    "Before we work on complicated deep learning models, let's use a simple baseline deep learning model. A model with higher complexity should also deliver a proportionate increase in performance.\n",
    "\n",
    "For this model, let's use 2 `Dense` layers. Note that there is no activation function in the final layer as we are solving a regression problem."
   ]
  },
  {
   "cell_type": "code",
   "execution_count": null,
   "metadata": {
    "ExecuteTime": {
     "end_time": "2020-06-10T04:11:42.465236Z",
     "start_time": "2020-06-10T04:11:42.406870Z"
    }
   },
   "outputs": [],
   "source": [
    "# Instantiate Model\n",
    "###################\n",
    "clear_session()\n",
    "model1 = Sequential()\n",
    "model1.add(Flatten(input_shape=(LOOKBACK//STEP, df_values.shape[-1])))\n",
    "model1.add(Dense(32, activation='relu'))\n",
    "model1.add(Dense(1))\n",
    "\n",
    "# Compile\n",
    "#########\n",
    "model1.compile(optimizer=RMSprop(), loss='mae',)\n",
    "print(model1.summary())"
   ]
  },
  {
   "cell_type": "code",
   "execution_count": null,
   "metadata": {
    "ExecuteTime": {
     "end_time": "2020-06-10T11:22:56.930724Z",
     "start_time": "2020-06-10T04:12:23.747996Z"
    }
   },
   "outputs": [],
   "source": [
    "# history1 = model1.fit(train_gen, steps_per_epoch=500, epochs=20, \n",
    "#                       validation_data=val_gen, validation_steps=val_steps)"
   ]
  },
  {
   "cell_type": "code",
   "execution_count": null,
   "metadata": {
    "ExecuteTime": {
     "end_time": "2020-06-10T11:22:56.938572Z",
     "start_time": "2020-06-10T04:12:42.221Z"
    }
   },
   "outputs": [],
   "source": [
    "# import warnings\n",
    "# warnings.filterwarnings(\"ignore\")\n",
    "\n",
    "# metrics_df = pd.DataFrame(history1.history)\n",
    "# metrics_df['epoch'] = metrics_df.index+1\n",
    "# display(metrics_df.tail())\n",
    "\n",
    "# fig = plt.figure(figsize=(17,10))\n",
    "# ax1, ax2 = fig.add_subplot(2,1,1), fig.add_subplot(2,1,2)\n",
    "# metrics_df.plot(kind='scatter', x='epoch', y='loss', ax=ax1, label='train', color='blue')\n",
    "# metrics_df.plot(kind='line', x='epoch', y='val_loss', ax=ax1, label='validation', color='red',)\n",
    "# ax1.set_ylabel(\"Loss\")\n",
    "# ax1.grid('GAINSBORO')\n",
    "# ax1.legend([])\n",
    "# ax1.set_ylim(0,1.1)\n",
    "# ax1.set_xticks(range(0,11))\n",
    "\n",
    "# metrics_df.plot(kind='scatter', x='epoch', y='accuracy', ax=ax2, label='train', color='blue')\n",
    "# metrics_df.plot(kind='line', x='epoch', y='val_accuracy', ax=ax2, label='validation', color='red',)\n",
    "# ax2.set_ylabel(\"Accuracy\")\n",
    "# ax2.grid('GAINSBORO')\n",
    "# ax2.set_xticks(range(0,11))\n",
    "# ax2.legend([])\n",
    "# ax2.set_ylim(0,1.1)\n",
    "# plt.show()"
   ]
  },
  {
   "cell_type": "markdown",
   "metadata": {},
   "source": [
    "### v2.1: Recurrent Baseline\n",
    "\n",
    "The MLP model does not do well, because the model flattened the time series, which removed the notion of time from the input data. Let's look at the data as what it is: a sequence, where order matters. We will use a recurrent-sequence processing model.\n",
    "\n",
    "This time, we will use the Gated recurrent unit (`GRU`) layer. They use the same principle as LSTM, but are somewhat streamlined and thus cheaper to run (and might not have the same representational power as LSTM). This is a classical tradeoff in ML."
   ]
  },
  {
   "cell_type": "code",
   "execution_count": null,
   "metadata": {
    "ExecuteTime": {
     "end_time": "2020-06-10T11:32:38.515923Z",
     "start_time": "2020-06-10T11:32:38.210859Z"
    }
   },
   "outputs": [],
   "source": [
    "# Instantiate Model\n",
    "###################\n",
    "clear_session()\n",
    "model2 = Sequential()\n",
    "model2.add(GRU(32, input_shape=(None, df_values.shape[-1])))\n",
    "model2.add(Dense(1))\n",
    "\n",
    "# Compile\n",
    "#########\n",
    "model2.compile(optimizer=RMSprop(), loss='mae',)\n",
    "print(model2.summary())"
   ]
  },
  {
   "cell_type": "code",
   "execution_count": null,
   "metadata": {
    "ExecuteTime": {
     "end_time": "2020-06-10T11:47:35.709398Z",
     "start_time": "2020-06-10T11:32:57.918102Z"
    }
   },
   "outputs": [],
   "source": [
    "history2 = model2.fit(train_gen, steps_per_epoch=500, epochs=20, \n",
    "                      validation_data=val_gen, validation_steps=val_steps)"
   ]
  },
  {
   "cell_type": "code",
   "execution_count": null,
   "metadata": {},
   "outputs": [],
   "source": []
  },
  {
   "cell_type": "markdown",
   "metadata": {},
   "source": [
    "### v2.2: RNN with Dropout\n",
    "It does seem that the model is overfitting. One of the ways to overcome overfitting is by using dropout, which randomly zeros out input units of a layer."
   ]
  },
  {
   "cell_type": "code",
   "execution_count": null,
   "metadata": {},
   "outputs": [],
   "source": [
    "# Instantiate Model\n",
    "###################\n",
    "clear_session()\n",
    "model3 = Sequential()\n",
    "model3.add(GRU(32, dropout=0.2, recurrent_dropout=0.2, \n",
    "               input_shape=(None, df_values.shape[-1])))\n",
    "model3.add(Dense(1))\n",
    "\n",
    "# Compile\n",
    "#########\n",
    "model3.compile(optimizer=RMSprop(), loss='mae',)\n",
    "print(model3.summary())"
   ]
  },
  {
   "cell_type": "code",
   "execution_count": null,
   "metadata": {},
   "outputs": [],
   "source": []
  },
  {
   "cell_type": "markdown",
   "metadata": {},
   "source": [
    "### v2.3: Stacking RNN Layers"
   ]
  },
  {
   "cell_type": "code",
   "execution_count": null,
   "metadata": {},
   "outputs": [],
   "source": [
    "# Instantiate Model\n",
    "###################\n",
    "clear_session()\n",
    "model4 = Sequential()\n",
    "model4.add(GRU(32, dropout=0.1, recurrent_dropout=0.5,\n",
    "               return_sequences=True,\n",
    "               input_shape=(None, df_values.shape[-1])))\n",
    "model4.add(GRU(64, activation='relu', dropout=0.1, \n",
    "               recurrent_dropout=0.5))\n",
    "model4.add(Dense(1))\n",
    "\n",
    "# Compile\n",
    "#########\n",
    "model4.compile(optimizer=RMSprop(), loss='mae',)\n",
    "print(model4.summary())"
   ]
  },
  {
   "cell_type": "markdown",
   "metadata": {},
   "source": [
    "### v2.4: Using Bidirectional RNN"
   ]
  },
  {
   "cell_type": "code",
   "execution_count": null,
   "metadata": {},
   "outputs": [],
   "source": [
    "# Instantiate Model\n",
    "###################\n",
    "clear_session()\n",
    "model5 = Sequential()\n",
    "model5.add(GRU(32, dropout=0.1, recurrent_dropout=0.5,\n",
    "               return_sequences=True,\n",
    "               input_shape=(None, df_values.shape[-1])))\n",
    "model5.add(GRU(64, activation='relu', dropout=0.1, \n",
    "               recurrent_dropout=0.5))\n",
    "model5.add(Dense(1))\n",
    "\n",
    "# Compile\n",
    "#########\n",
    "model4.compile(optimizer=RMSprop(), loss='mae',)\n",
    "print(model4.summary())"
   ]
  }
 ],
 "metadata": {
  "kernelspec": {
   "display_name": "Python 3",
   "language": "python",
   "name": "python3"
  },
  "language_info": {
   "codemirror_mode": {
    "name": "ipython",
    "version": 3
   },
   "file_extension": ".py",
   "mimetype": "text/x-python",
   "name": "python",
   "nbconvert_exporter": "python",
   "pygments_lexer": "ipython3",
   "version": "3.7.2"
  }
 },
 "nbformat": 4,
 "nbformat_minor": 4
}
