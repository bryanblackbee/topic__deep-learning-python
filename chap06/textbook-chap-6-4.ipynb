{
 "cells": [
  {
   "cell_type": "markdown",
   "metadata": {},
   "source": [
    "# 6. Deep Learning for Text and Sequences"
   ]
  },
  {
   "cell_type": "markdown",
   "metadata": {},
   "source": [
    "## Sequence Processing with convnets"
   ]
  },
  {
   "cell_type": "markdown",
   "metadata": {},
   "source": [
    "Convnets have a particularly performance in computer vision problems due to their ability to operate convolutionally, extracting features from local input patches and allowing for representation modularity and data efficiency. These same properties allow them to be useful at sequence processing.\n",
    "\n",
    "1D convnets can be competitive with RNNs on certain sequence processing problems, usually at a considerably cheaper computational cost. Recently, 1D convnets, typically used with dilated kernals have been used with great success for audio generation and machine translation."
   ]
  },
  {
   "cell_type": "code",
   "execution_count": 10,
   "metadata": {
    "ExecuteTime": {
     "end_time": "2020-06-12T09:49:08.013998Z",
     "start_time": "2020-06-12T09:49:07.509302Z"
    }
   },
   "outputs": [],
   "source": [
    "import warnings\n",
    "warnings.filterwarnings(\"ignore\")\n",
    "\n",
    "import pandas as pd\n",
    "import matplotlib.pyplot as plt\n",
    "\n",
    "from tensorflow.keras.datasets import imdb\n",
    "\n",
    "from tensorflow.keras.backend import clear_session\n",
    "from tensorflow.keras.preprocessing import sequence\n",
    "from tensorflow.keras.models import Sequential\n",
    "from tensorflow.keras.optimizers import RMSprop\n",
    "from tensorflow.keras.layers import (Embedding, Dense, SimpleRNN, LSTM, MaxPooling1D, Conv1D, GlobalMaxPooling1D)"
   ]
  },
  {
   "cell_type": "markdown",
   "metadata": {},
   "source": [
    "### Understanding 1D convolution for sequence data\n",
    "\n",
    "Recall that in 2D convolutions, the layers extract 2D patches (areas) from image tensors. Similarly, a 1D convolution extracts 1D subsequences from a sequence.\n",
    "\n",
    "<img src=\"img65.png\" width=\"700\">\n",
    "\n",
    "These 1D convolution layers can recognise local patterns in a sequence. Because the <u>same input transformation is performed on every patch</u>, a pattern learned in one position can later be recognised at a different position (translation invariance). A character-level 1D convnet is thus able to learn about morphology (\"-ly\", \"-ing\", \"un-\", \"dis-\", \"-ed\" etc.)"
   ]
  },
  {
   "cell_type": "markdown",
   "metadata": {},
   "source": [
    "### Implementing a 1D convnet\n",
    "\n",
    "In Keras we can use the `Conv1D` layer, which takes in an input 3D tensors with shape `(samples, timesteps, features)` and outputs similarly shaped 3D tensors.\n",
    "\n",
    "The network consist of a stack of `Conv1D` and `MaxPooling1D` layers, similar to their 2D counterparts. You can affort to use a larger convolution windows with 1D convnets. A 3X3 layer has 9 features in a 2D convnet but a 3-dim layer in a 1D convnet has only 3 features."
   ]
  },
  {
   "cell_type": "code",
   "execution_count": 2,
   "metadata": {
    "ExecuteTime": {
     "end_time": "2020-06-12T09:29:03.901060Z",
     "start_time": "2020-06-12T09:28:56.926220Z"
    }
   },
   "outputs": [],
   "source": [
    "# Ingestion\n",
    "###########\n",
    "VOCABULARY_SIZE = 10000\n",
    "DOCUMENT_MAX_LENGTH = 500\n",
    "(train_data, train_labels), (test_data, test_labels) = imdb.load_data(num_words=VOCABULARY_SIZE)\n",
    "x_train = sequence.pad_sequences(train_data, maxlen=DOCUMENT_MAX_LENGTH)\n",
    "x_test = sequence.pad_sequences(test_data, maxlen=DOCUMENT_MAX_LENGTH)"
   ]
  },
  {
   "cell_type": "markdown",
   "metadata": {},
   "source": [
    "### v1: Simple 1D Convnet"
   ]
  },
  {
   "cell_type": "code",
   "execution_count": 8,
   "metadata": {
    "ExecuteTime": {
     "end_time": "2020-06-12T09:34:54.645495Z",
     "start_time": "2020-06-12T09:34:54.536724Z"
    },
    "scrolled": true
   },
   "outputs": [
    {
     "name": "stdout",
     "output_type": "stream",
     "text": [
      "Model: \"sequential\"\n",
      "_________________________________________________________________\n",
      "Layer (type)                 Output Shape              Param #   \n",
      "=================================================================\n",
      "embedding (Embedding)        (None, 500, 128)          1280000   \n",
      "_________________________________________________________________\n",
      "conv1d (Conv1D)              (None, 494, 32)           28704     \n",
      "_________________________________________________________________\n",
      "max_pooling1d (MaxPooling1D) (None, 98, 32)            0         \n",
      "_________________________________________________________________\n",
      "conv1d_1 (Conv1D)            (None, 92, 32)            7200      \n",
      "_________________________________________________________________\n",
      "global_max_pooling1d (Global (None, 32)                0         \n",
      "_________________________________________________________________\n",
      "dense (Dense)                (None, 1)                 33        \n",
      "=================================================================\n",
      "Total params: 1,315,937\n",
      "Trainable params: 1,315,937\n",
      "Non-trainable params: 0\n",
      "_________________________________________________________________\n",
      "None\n"
     ]
    }
   ],
   "source": [
    "# Instantiate Model\n",
    "###################\n",
    "# clear_session()\n",
    "# model1 = Sequential()\n",
    "# model1.add(Embedding(VOCABULARY_SIZE, 128, input_length=DOCUMENT_MAX_LENGTH))\n",
    "# model1.add(Conv1D(32, 7, activation='relu'))\n",
    "# model1.add(MaxPooling1D(5))\n",
    "# model1.add(Conv1D(32, 7, activation='relu'))\n",
    "# model1.add(GlobalMaxPooling1D())\n",
    "# model1.add(Dense(1))\n",
    "\n",
    "# Compile\n",
    "#########\n",
    "# model1.compile(optimizer=RMSprop(learning_rate=1e-4), \n",
    "#                loss='binary_crossentropy',\n",
    "#                metrics=['acc'])\n",
    "# print(model1.summary())"
   ]
  },
  {
   "cell_type": "code",
   "execution_count": 9,
   "metadata": {
    "ExecuteTime": {
     "end_time": "2020-06-12T09:49:07.505454Z",
     "start_time": "2020-06-12T09:35:45.648335Z"
    },
    "scrolled": true
   },
   "outputs": [
    {
     "name": "stdout",
     "output_type": "stream",
     "text": [
      "Epoch 1/10\n",
      "625/625 [==============================] - 63s 101ms/step - loss: 7.7364 - acc: 0.4985 - val_loss: 7.6168 - val_acc: 0.5062\n",
      "Epoch 2/10\n",
      "625/625 [==============================] - 77s 124ms/step - loss: 7.7364 - acc: 0.4985 - val_loss: 7.6168 - val_acc: 0.5062\n",
      "Epoch 3/10\n",
      "625/625 [==============================] - 76s 122ms/step - loss: 7.7364 - acc: 0.4985 - val_loss: 7.6168 - val_acc: 0.5062\n",
      "Epoch 4/10\n",
      "625/625 [==============================] - 70s 112ms/step - loss: 7.7364 - acc: 0.4985 - val_loss: 7.6168 - val_acc: 0.5062\n",
      "Epoch 5/10\n",
      "625/625 [==============================] - 169s 271ms/step - loss: 7.7364 - acc: 0.4985 - val_loss: 7.6168 - val_acc: 0.5062\n",
      "Epoch 6/10\n",
      "625/625 [==============================] - 57s 91ms/step - loss: 7.7364 - acc: 0.4985 - val_loss: 7.6168 - val_acc: 0.5062\n",
      "Epoch 7/10\n",
      "625/625 [==============================] - 61s 97ms/step - loss: 7.7364 - acc: 0.4985 - val_loss: 7.6168 - val_acc: 0.5062\n",
      "Epoch 8/10\n",
      "625/625 [==============================] - 96s 153ms/step - loss: 7.7364 - acc: 0.4985 - val_loss: 7.6168 - val_acc: 0.5062\n",
      "Epoch 9/10\n",
      "625/625 [==============================] - 67s 107ms/step - loss: 7.7364 - acc: 0.4985 - val_loss: 7.6168 - val_acc: 0.5062\n",
      "Epoch 10/10\n",
      "625/625 [==============================] - 65s 103ms/step - loss: 7.7364 - acc: 0.4985 - val_loss: 7.6168 - val_acc: 0.5062\n"
     ]
    }
   ],
   "source": [
    "# history1 = model1.fit(x_train, train_labels,\n",
    "#                       epochs=10, \n",
    "#                       validation_split=0.2)"
   ]
  },
  {
   "cell_type": "code",
   "execution_count": 14,
   "metadata": {
    "ExecuteTime": {
     "end_time": "2020-06-12T09:51:23.113952Z",
     "start_time": "2020-06-12T09:51:23.033908Z"
    }
   },
   "outputs": [],
   "source": [
    "# Save Model & Training Results\n",
    "###############################\n",
    "model1.save('model64_1D_CNN.h5')\n",
    "pd.DataFrame(history1.history).to_csv('model64_1D_CNN_history.csv', index=False)"
   ]
  },
  {
   "cell_type": "code",
   "execution_count": 13,
   "metadata": {
    "ExecuteTime": {
     "end_time": "2020-06-12T09:50:05.468286Z",
     "start_time": "2020-06-12T09:50:04.929984Z"
    }
   },
   "outputs": [
    {
     "data": {
      "text/html": [
       "<div>\n",
       "<style scoped>\n",
       "    .dataframe tbody tr th:only-of-type {\n",
       "        vertical-align: middle;\n",
       "    }\n",
       "\n",
       "    .dataframe tbody tr th {\n",
       "        vertical-align: top;\n",
       "    }\n",
       "\n",
       "    .dataframe thead th {\n",
       "        text-align: right;\n",
       "    }\n",
       "</style>\n",
       "<table border=\"1\" class=\"dataframe\">\n",
       "  <thead>\n",
       "    <tr style=\"text-align: right;\">\n",
       "      <th></th>\n",
       "      <th>loss</th>\n",
       "      <th>acc</th>\n",
       "      <th>val_loss</th>\n",
       "      <th>val_acc</th>\n",
       "      <th>epoch</th>\n",
       "    </tr>\n",
       "  </thead>\n",
       "  <tbody>\n",
       "    <tr>\n",
       "      <th>5</th>\n",
       "      <td>7.736389</td>\n",
       "      <td>0.49845</td>\n",
       "      <td>7.616838</td>\n",
       "      <td>0.5062</td>\n",
       "      <td>6</td>\n",
       "    </tr>\n",
       "    <tr>\n",
       "      <th>6</th>\n",
       "      <td>7.736383</td>\n",
       "      <td>0.49845</td>\n",
       "      <td>7.616838</td>\n",
       "      <td>0.5062</td>\n",
       "      <td>7</td>\n",
       "    </tr>\n",
       "    <tr>\n",
       "      <th>7</th>\n",
       "      <td>7.736392</td>\n",
       "      <td>0.49845</td>\n",
       "      <td>7.616838</td>\n",
       "      <td>0.5062</td>\n",
       "      <td>8</td>\n",
       "    </tr>\n",
       "    <tr>\n",
       "      <th>8</th>\n",
       "      <td>7.736390</td>\n",
       "      <td>0.49845</td>\n",
       "      <td>7.616838</td>\n",
       "      <td>0.5062</td>\n",
       "      <td>9</td>\n",
       "    </tr>\n",
       "    <tr>\n",
       "      <th>9</th>\n",
       "      <td>7.736394</td>\n",
       "      <td>0.49845</td>\n",
       "      <td>7.616838</td>\n",
       "      <td>0.5062</td>\n",
       "      <td>10</td>\n",
       "    </tr>\n",
       "  </tbody>\n",
       "</table>\n",
       "</div>"
      ],
      "text/plain": [
       "       loss      acc  val_loss  val_acc  epoch\n",
       "5  7.736389  0.49845  7.616838   0.5062      6\n",
       "6  7.736383  0.49845  7.616838   0.5062      7\n",
       "7  7.736392  0.49845  7.616838   0.5062      8\n",
       "8  7.736390  0.49845  7.616838   0.5062      9\n",
       "9  7.736394  0.49845  7.616838   0.5062     10"
      ]
     },
     "metadata": {},
     "output_type": "display_data"
    },
    {
     "data": {
      "image/png": "[encoded data removed]",
      "text/plain": [
       "<Figure size 1224x720 with 2 Axes>"
      ]
     },
     "metadata": {
      "needs_background": "light"
     },
     "output_type": "display_data"
    }
   ],
   "source": [
    "metrics_df = pd.DataFrame(history1.history)\n",
    "metrics_df['epoch'] = metrics_df.index+1\n",
    "display(metrics_df.tail())\n",
    "\n",
    "fig = plt.figure(figsize=(17,10))\n",
    "ax1, ax2 = fig.add_subplot(2,1,1), fig.add_subplot(2,1,2)\n",
    "metrics_df.plot(kind='scatter', x='epoch', y='loss', ax=ax1, label='train', color='blue')\n",
    "metrics_df.plot(kind='line', x='epoch', y='val_loss', ax=ax1, label='validation', color='red',)\n",
    "ax1.set_ylabel(\"Loss\")\n",
    "ax1.grid('GAINSBORO')\n",
    "ax1.legend([])\n",
    "ax1.set_xticks(range(0,11))\n",
    "\n",
    "metrics_df.plot(kind='scatter', x='epoch', y='acc', ax=ax2, label='train', color='blue')\n",
    "metrics_df.plot(kind='line', x='epoch', y='val_acc', ax=ax2, label='validation', color='red',)\n",
    "ax2.set_ylabel(\"Accuracy\")\n",
    "ax2.grid('GAINSBORO')\n",
    "ax2.set_xticks(range(0,11))\n",
    "ax2.legend([])\n",
    "plt.show()"
   ]
  },
  {
   "cell_type": "markdown",
   "metadata": {},
   "source": [
    "### Combining CNNs and RNNs to process long sequences\n",
    "\n",
    "Because 1D convnets process input batches independently, they aren't sensitive to the order of the timesteps, unlike RNNs. To recognise longer-term patterns, you may stack many convolutional & pooling layers, resulting in upper layers that will see long chungs of the original inputs. We can see this when we use 1D convnets on the **temperature-forecasting** problem."
   ]
  },
  {
   "cell_type": "code",
   "execution_count": null,
   "metadata": {},
   "outputs": [],
   "source": [
    "# Instantiate Model\n",
    "###################\n",
    "clear_session()\n",
    "model2 = Sequential()\n",
    "model2.add(Embedding(VOCABULARY_SIZE, 128, input_length=DOCUMENT_MAX_LENGTH))\n",
    "model2.add(Conv1D(32, 7, activation='relu'))\n",
    "model2.add(MaxPooling1D(5))\n",
    "model2.add(Conv1D(32, 7, activation='relu'))\n",
    "model2.add(GlobalMaxPooling1D())\n",
    "model2.add(Dense(1))\n",
    "\n",
    "Compile\n",
    "########\n",
    "model2.compile(optimizer=RMSprop(learning_rate=1e-4), \n",
    "               loss='binary_crossentropy',\n",
    "               metrics=['acc'])\n",
    "print(model2.summary())"
   ]
  },
  {
   "cell_type": "code",
   "execution_count": null,
   "metadata": {},
   "outputs": [],
   "source": []
  },
  {
   "cell_type": "code",
   "execution_count": null,
   "metadata": {},
   "outputs": [],
   "source": []
  },
  {
   "cell_type": "code",
   "execution_count": null,
   "metadata": {},
   "outputs": [],
   "source": []
  }
 ],
 "metadata": {
  "kernelspec": {
   "display_name": "Python 3",
   "language": "python",
   "name": "python3"
  },
  "language_info": {
   "codemirror_mode": {
    "name": "ipython",
    "version": 3
   },
   "file_extension": ".py",
   "mimetype": "text/x-python",
   "name": "python",
   "nbconvert_exporter": "python",
   "pygments_lexer": "ipython3",
   "version": "3.7.2"
  }
 },
 "nbformat": 4,
 "nbformat_minor": 4
}
