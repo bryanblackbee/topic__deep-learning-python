{
 "cells": [
  {
   "cell_type": "markdown",
   "metadata": {},
   "source": [
    "# 6. Deep Learning for Text and Sequences"
   ]
  },
  {
   "cell_type": "markdown",
   "metadata": {},
   "source": [
    "## Working with Text Data\n",
    "\n",
    "Deep learning for natural-language processing is pattern recognition applied to words, sentences and paragraphs like how deep learning for computer vision is applied to pixels. Applications of these techniques can be found in document classification, sentiment analysis, author identification and even QA (in a constrained context). These deep learning do not truly understand text in a human sense, but these models can map the statistical structure of written language, which is sufficient to solve many simple textual tasks.\n",
    "\n",
    "Before processing text, models need to vectorize text - transforming text to numeric tensors. This can be done in multiple ways:\n",
    "\n",
    "1. segment text to words and transform each word to a vector\n",
    "2. segment text to charactes and transform each character to a vector\n",
    "3. segment text to n-grams (2-grams, 3-grams etc, where 1-gram is the word level tokenisation) and transform each n-gram to a vector.\n",
    "\n",
    "Collectively, the different units into which we can break down text are called <b>tokens</b> and breaking text into tokens is called <b>tokenisation</b>. There are generally two common ways to do so:\n",
    "\n",
    "1. one-hot encoding of tokens\n",
    "2. word embedding"
   ]
  },
  {
   "cell_type": "markdown",
   "metadata": {},
   "source": [
    "### One-hot Encoding\n",
    "\n",
    "One-hot encoding is the most common, most basic way to turn a token to a vector. This can be done using Keras, sklearn or nltk. "
   ]
  },
  {
   "cell_type": "code",
   "execution_count": 1,
   "metadata": {
    "ExecuteTime": {
     "end_time": "2020-06-11T12:16:53.985846Z",
     "start_time": "2020-06-11T12:16:49.982561Z"
    }
   },
   "outputs": [],
   "source": [
    "import warnings\n",
    "warnings.filterwarnings(\"ignore\")\n",
    "\n",
    "import pandas as pd\n",
    "import numpy as np\n",
    "import matplotlib.pyplot as plt\n",
    "from sklearn.feature_extraction.text import CountVectorizer\n",
    "\n",
    "from tensorflow.keras.datasets import imdb\n",
    "import tensorflow as tf"
   ]
  },
  {
   "cell_type": "code",
   "execution_count": 2,
   "metadata": {
    "ExecuteTime": {
     "end_time": "2020-06-11T12:16:53.991388Z",
     "start_time": "2020-06-11T12:16:53.987881Z"
    }
   },
   "outputs": [],
   "source": [
    "# Moby Dick & Sherlock Holmes\n",
    "samples = ['The pale Usher—threadbare in coat, heart, body, and brain; I see him now.', \n",
    "           'He loved to dust his old grammars; it somehow mildly reminded him of his mortality.']"
   ]
  },
  {
   "cell_type": "code",
   "execution_count": 3,
   "metadata": {
    "ExecuteTime": {
     "end_time": "2020-06-11T12:16:54.003952Z",
     "start_time": "2020-06-11T12:16:53.994356Z"
    }
   },
   "outputs": [
    {
     "name": "stdout",
     "output_type": "stream",
     "text": [
      "[0. 1. 0. 1. 1. 1. 1. 1. 1. 1. 1. 1. 1. 1. 1. 0. 0. 0. 0. 0. 0. 0. 0. 0.\n",
      " 0. 0. 0. 0. 0. 0. 0. 0. 0. 0. 0. 0. 0. 0. 0. 0. 0. 0. 0. 0. 0. 0. 0. 0.\n",
      " 0. 0.]\n",
      "26\n"
     ]
    }
   ],
   "source": [
    "# Tokenisation using Keras\n",
    "tokenizer = tf.keras.preprocessing.text.Tokenizer(num_words=50)\n",
    "tokenizer.fit_on_texts(samples)\n",
    "sequences = tokenizer.texts_to_sequences\n",
    "one_hot_results = tokenizer.texts_to_matrix(samples, mode='binary')\n",
    "print(one_hot_results[0])\n",
    "print(len(tokenizer.word_index))"
   ]
  },
  {
   "cell_type": "code",
   "execution_count": 4,
   "metadata": {
    "ExecuteTime": {
     "end_time": "2020-06-11T12:16:54.020591Z",
     "start_time": "2020-06-11T12:16:54.007420Z"
    }
   },
   "outputs": [
    {
     "name": "stdout",
     "output_type": "stream",
     "text": [
      "26\n",
      "[[1 1 1 1 0 0 0 1 1 0 1 0 0 0 0 1 0 0 1 0 1 0 1 1 0 1]]\n"
     ]
    }
   ],
   "source": [
    "# Tokenisation using sklearn\n",
    "cv = CountVectorizer()\n",
    "one_hot_results2 = cv.fit_transform(samples)\n",
    "print(len(cv.get_feature_names()))\n",
    "print(one_hot_results2[0].A)"
   ]
  },
  {
   "cell_type": "markdown",
   "metadata": {},
   "source": [
    "### Word Embedding"
   ]
  },
  {
   "cell_type": "markdown",
   "metadata": {},
   "source": [
    "Another powerful way to associate a vector with a word is to use dense <b>word vectors</b>, or <b>word embeddings</b>. While the vectors obtained through one-hot encoding is sparse and high dimensional, word embeddings are low-dimensional, dense floating-point vectors. Word embeddings are learnt from data. Common word embeddings are 256-dimensional, 512-dimensional or 1024-dimensional, while common one-hot encoded vectors are 20000-dimensional or larger if there are 20000 words in the vocabulary. There are two ways to learn word embeddings:\n",
    "\n",
    "1. learn word-embeddings jointly with the problem at hand. Here, you start with random word vectors and then learn word vectors the same way you learn the weights of a neural network\n",
    "2. load word embeddings that were precomputed using a different task, or using <b>pretrained word embeddings</b>"
   ]
  },
  {
   "cell_type": "markdown",
   "metadata": {},
   "source": [
    "#### Learning Word Embeddings\n",
    "\n",
    "Generally, we want to represent semantic relationships between words with geometric relationships. For example, synonyms should be mapped to similar word vectors, and generally, the geometric distance between two words reflect the semantic relationship between them (words with different meanings are embedded at points far away from each other, while words with similar meanings are close to each other). Also, we can use directions to imply relationships between words.\n",
    "\n",
    "<img src=\"img62.png\" width=\"625\">\n",
    "\n",
    "In this example, there are 4 words - `cat`, `tiger`, `dog`, `wolf`. When we move up, we can say this direction is \"domestic to wild\" transition. When we move to the left, we can say this is a \"canine to feline\" transition. So we can put `pig -> boar` in the first transition and `puppy -> kitten` to the second one.\n",
    "\n",
    "<img src=\"img61.png\" width=\"225\">\n",
    "\n",
    "General real-world transformations include gender like `king/queen`, `actor/actress`, plural `bottle/bottles` etc. There is not such ideal word-embedding space for all NLP tasks, but we can generally use the same word embeddings for similar tasks / topics. The word embedding for legal documents is likely different to that of reviews."
   ]
  },
  {
   "cell_type": "markdown",
   "metadata": {},
   "source": [
    "In Keras, we learn the embedding using the `Embedding` layer. It is best understood as a dictionary that maps integer indices to dense vectors. It takes integers as input, and looks up these integers in an internal dictionary, and returns the associated vectors. It is essentially a dictionary lookup.\n",
    "\n",
    "The `Embedding` layer takes an input as a 2D tensor integers of shape `(samples, sequence_length)`, where each entry is a sequence of integers. All sequences in a batch must have the same length, so sequences that are shorter should be padded while sequences that are longer should be truncated. When you instantiate an `Embedding` layer, the weights are initially random. During training, these weights are gradually adjusted via backpropagation, structuring the space into something the downstream model can exploit. Once fully trained, the embedding space will show structure that is specislised for the specific ML problem.\n",
    "\n",
    "This layer returns a 3D floating-point tensor of shape `(samples, sequence_length, embedding_dimensionality)` and this can be processed by an RNN layer or a 1D convolution layer."
   ]
  },
  {
   "cell_type": "markdown",
   "metadata": {},
   "source": [
    "Consider applying this to the **reviews** problem. We add a network to learn 8-dimensional embeddings for each of the 10000 words, turn the input ineger sequences to embedded sequences, flatten the tensor to 2D and train a single `Dense` layer for classification."
   ]
  },
  {
   "cell_type": "code",
   "execution_count": 5,
   "metadata": {
    "ExecuteTime": {
     "end_time": "2020-06-11T12:16:59.741490Z",
     "start_time": "2020-06-11T12:16:54.023271Z"
    }
   },
   "outputs": [],
   "source": [
    "# Ingestion\n",
    "###########\n",
    "VOCABULARY_SIZE = 10000\n",
    "DOCUMENT_MAX_LENGTH = 20\n",
    "(train_data, train_labels), (test_data, test_labels) = imdb.load_data(num_words=VOCABULARY_SIZE)\n",
    "\n",
    "# Preprocessing\n",
    "###############\n",
    "x_train = tf.keras.preprocessing.sequence.pad_sequences(train_data, maxlen=DOCUMENT_MAX_LENGTH)\n",
    "x_test = tf.keras.preprocessing.sequence.pad_sequences(test_data, maxlen=DOCUMENT_MAX_LENGTH)"
   ]
  },
  {
   "cell_type": "code",
   "execution_count": 6,
   "metadata": {
    "ExecuteTime": {
     "end_time": "2020-06-11T12:16:59.828420Z",
     "start_time": "2020-06-11T12:16:59.743447Z"
    }
   },
   "outputs": [
    {
     "name": "stdout",
     "output_type": "stream",
     "text": [
      "Model: \"sequential\"\n",
      "_________________________________________________________________\n",
      "Layer (type)                 Output Shape              Param #   \n",
      "=================================================================\n",
      "embedding (Embedding)        (None, 20, 8)             80000     \n",
      "_________________________________________________________________\n",
      "flatten (Flatten)            (None, 160)               0         \n",
      "_________________________________________________________________\n",
      "dense (Dense)                (None, 1)                 161       \n",
      "=================================================================\n",
      "Total params: 80,161\n",
      "Trainable params: 80,161\n",
      "Non-trainable params: 0\n",
      "_________________________________________________________________\n",
      "None\n"
     ]
    }
   ],
   "source": [
    "# Instantiate Model\n",
    "###################\n",
    "tf.keras.backend.clear_session()\n",
    "model = tf.keras.models.Sequential()\n",
    "model.add(tf.keras.layers.Embedding(VOCABULARY_SIZE, 8, input_length=DOCUMENT_MAX_LENGTH))\n",
    "model.add(tf.keras.layers.Flatten())\n",
    "model.add(tf.keras.layers.Dense(1, activation='sigmoid'))\n",
    "\n",
    "# Compile\n",
    "#########\n",
    "model.compile(optimizer='rmsprop', loss='binary_crossentropy', metrics=['accuracy'])\n",
    "print(model.summary())"
   ]
  },
  {
   "cell_type": "code",
   "execution_count": 7,
   "metadata": {
    "ExecuteTime": {
     "end_time": "2020-06-11T12:17:06.891498Z",
     "start_time": "2020-06-11T12:16:59.832403Z"
    }
   },
   "outputs": [
    {
     "name": "stdout",
     "output_type": "stream",
     "text": [
      "[0.7445999979972839]\n"
     ]
    }
   ],
   "source": [
    "# Train\n",
    "#######\n",
    "history = model.fit(x_train, train_labels, \n",
    "                    epochs=10, batch_size=32, \n",
    "                    validation_split=0.2, verbose=0)\n",
    "model.save('chap06_imdb__v1_embed_8d.h5')\n",
    "print(history.history['val_accuracy'][-1:])"
   ]
  },
  {
   "cell_type": "markdown",
   "metadata": {
    "ExecuteTime": {
     "end_time": "2020-06-08T03:34:55.400758Z",
     "start_time": "2020-06-08T03:34:55.395946Z"
    }
   },
   "source": [
    "Validation accuracy is 73% which is pretty good considering just looking at the first 20 words of the review, but flattening the embedded sequences and training a single `Dense` layer on top leads ot a model that treats each word in the input sequence separately, wihtout considering inter-word relationships and sentence structure. It is much better to add recurrent layers or 1D convolutional layers on top of the embedded sequences to learn features that take into account each sequence as a whole."
   ]
  },
  {
   "cell_type": "markdown",
   "metadata": {},
   "source": [
    "#### Using Pretrained Word Embeddings\n",
    "\n",
    "Besides training your own word embeddings, you can use a precomputed embedding space that is precomputed and exhibits useful properties. This is similar to using pretrained convnets for image classification, and is useful when the dataset for the ML problem is relatively small and when the features are reasonably generic: the semantic features for text, like the visual features for computer vision.\n",
    "\n",
    "There are pretrained word embeddings. The more common ones are Word2Vec by Google in 2013, and GloVe by Stanford researchers in 2014."
   ]
  },
  {
   "cell_type": "code",
   "execution_count": 8,
   "metadata": {
    "ExecuteTime": {
     "end_time": "2020-06-11T12:17:07.446936Z",
     "start_time": "2020-06-11T12:17:06.896490Z"
    }
   },
   "outputs": [
    {
     "data": {
      "text/html": [
       "<div>\n",
       "<style scoped>\n",
       "    .dataframe tbody tr th:only-of-type {\n",
       "        vertical-align: middle;\n",
       "    }\n",
       "\n",
       "    .dataframe tbody tr th {\n",
       "        vertical-align: top;\n",
       "    }\n",
       "\n",
       "    .dataframe thead th {\n",
       "        text-align: right;\n",
       "    }\n",
       "</style>\n",
       "<table border=\"1\" class=\"dataframe\">\n",
       "  <thead>\n",
       "    <tr style=\"text-align: right;\">\n",
       "      <th></th>\n",
       "      <th>review</th>\n",
       "      <th>sentiment</th>\n",
       "      <th>label</th>\n",
       "    </tr>\n",
       "  </thead>\n",
       "  <tbody>\n",
       "    <tr>\n",
       "      <th>11167</th>\n",
       "      <td>This film is about the life of Queen Victoria ...</td>\n",
       "      <td>positive</td>\n",
       "      <td>1</td>\n",
       "    </tr>\n",
       "    <tr>\n",
       "      <th>16570</th>\n",
       "      <td>i loved catcher in the rye, it happens to be m...</td>\n",
       "      <td>positive</td>\n",
       "      <td>1</td>\n",
       "    </tr>\n",
       "    <tr>\n",
       "      <th>35764</th>\n",
       "      <td>This series would have been a lot better if th...</td>\n",
       "      <td>negative</td>\n",
       "      <td>0</td>\n",
       "    </tr>\n",
       "    <tr>\n",
       "      <th>9156</th>\n",
       "      <td>\"Mame\" is a disgrace to many things--to Lucill...</td>\n",
       "      <td>negative</td>\n",
       "      <td>0</td>\n",
       "    </tr>\n",
       "  </tbody>\n",
       "</table>\n",
       "</div>"
      ],
      "text/plain": [
       "                                                  review sentiment  label\n",
       "11167  This film is about the life of Queen Victoria ...  positive      1\n",
       "16570  i loved catcher in the rye, it happens to be m...  positive      1\n",
       "35764  This series would have been a lot better if th...  negative      0\n",
       "9156   \"Mame\" is a disgrace to many things--to Lucill...  negative      0"
      ]
     },
     "metadata": {},
     "output_type": "display_data"
    },
    {
     "name": "stdout",
     "output_type": "stream",
     "text": [
      "1    25000\n",
      "0    25000\n",
      "Name: label, dtype: int64\n"
     ]
    }
   ],
   "source": [
    "# Ingestion, Labelling\n",
    "######################\n",
    "df = pd.read_csv('IMDB Dataset.csv')\n",
    "df['label'] = df['sentiment'].map({'positive' : 1, 'negative' : 0})\n",
    "display(df.sample(4))\n",
    "df.drop(['sentiment'], axis=1, inplace=True)\n",
    "print(df['label'].value_counts())"
   ]
  },
  {
   "cell_type": "code",
   "execution_count": 9,
   "metadata": {
    "ExecuteTime": {
     "end_time": "2020-06-11T12:17:26.507951Z",
     "start_time": "2020-06-11T12:17:07.449998Z"
    }
   },
   "outputs": [
    {
     "name": "stdout",
     "output_type": "stream",
     "text": [
      "124252\n"
     ]
    }
   ],
   "source": [
    "# Preprocessing\n",
    "###############\n",
    "EXPT2_VOCABULARY_SIZE = 10000\n",
    "EXPT2_DOCUMENT_MAX_LENGTH = 20\n",
    "\n",
    "EXPT2_TRAIN_DOC_COUNT = 200\n",
    "EXPT2_VALIDATION_DOC_COUNT = 10000\n",
    "\n",
    "expt2_tokenizer2 = tf.keras.preprocessing.text.Tokenizer(num_words=EXPT2_VOCABULARY_SIZE)\n",
    "expt2_tokenizer2.fit_on_texts(df['review'])\n",
    "expt2_sequences = expt2_tokenizer2.texts_to_sequences(df['review'])\n",
    "print(len(expt2_tokenizer2.word_index))\n",
    "\n",
    "GLOVE_FN = 'glove.6B.100d.txt'"
   ]
  },
  {
   "cell_type": "code",
   "execution_count": 10,
   "metadata": {
    "ExecuteTime": {
     "end_time": "2020-06-11T12:17:26.877811Z",
     "start_time": "2020-06-11T12:17:26.511307Z"
    }
   },
   "outputs": [
    {
     "name": "stdout",
     "output_type": "stream",
     "text": [
      "(50000, 20)\n",
      "(50000,)\n"
     ]
    }
   ],
   "source": [
    "imdb_corpus = tf.keras.preprocessing.sequence.pad_sequences(expt2_sequences, maxlen=EXPT2_DOCUMENT_MAX_LENGTH)\n",
    "imdb_labels = np.asarray(df['label'])\n",
    "print(imdb_corpus.shape)\n",
    "print(imdb_labels.shape)"
   ]
  },
  {
   "cell_type": "code",
   "execution_count": 11,
   "metadata": {
    "ExecuteTime": {
     "end_time": "2020-06-11T12:17:26.887504Z",
     "start_time": "2020-06-11T12:17:26.881919Z"
    }
   },
   "outputs": [],
   "source": [
    "# Train-Test split\n",
    "EXPT2_VALIDATION_INDEX_START = EXPT2_TRAIN_DOC_COUNT + EXPT2_VALIDATION_DOC_COUNT\n",
    "\n",
    "x_train = imdb_corpus[:EXPT2_TRAIN_DOC_COUNT]\n",
    "y_train = imdb_labels[:EXPT2_TRAIN_DOC_COUNT]\n",
    "x_val = imdb_corpus[EXPT2_TRAIN_DOC_COUNT:EXPT2_VALIDATION_INDEX_START] \n",
    "y_val = imdb_labels[EXPT2_TRAIN_DOC_COUNT:EXPT2_VALIDATION_INDEX_START]"
   ]
  },
  {
   "cell_type": "code",
   "execution_count": 12,
   "metadata": {
    "ExecuteTime": {
     "end_time": "2020-06-11T12:17:26.894362Z",
     "start_time": "2020-06-11T12:17:26.890917Z"
    }
   },
   "outputs": [],
   "source": [
    "# For testing\n",
    "# print(x_train.shape)\n",
    "# print(y_train.shape)\n",
    "# print(x_val.shape)\n",
    "# print(y_val.shape)"
   ]
  },
  {
   "cell_type": "markdown",
   "metadata": {},
   "source": [
    "To preprocess the embeddings, first ingest the embeddings into a dictionary where the key is the word and the value is the vector.\n",
    "\n",
    "Then, build an embedding matrix where the each entry in the word index contains the preloaded vector from Glove."
   ]
  },
  {
   "cell_type": "code",
   "execution_count": 13,
   "metadata": {
    "ExecuteTime": {
     "end_time": "2020-06-11T12:17:45.252216Z",
     "start_time": "2020-06-11T12:17:26.897302Z"
    },
    "scrolled": true
   },
   "outputs": [],
   "source": [
    "# Preprocessing GLOVE\n",
    "#####################\n",
    "\n",
    "# Read from the embedding file and store as key-value pair where key is word and value is vector\n",
    "glove_embeddings = dict()\n",
    "with open(GLOVE_FN, 'r') as f:\n",
    "    for l in f:\n",
    "        w, coefs = l.split()[0], np.asarray(l.split()[1:], dtype='float32')\n",
    "        glove_embeddings[w] = coefs\n",
    "        \n",
    "# Assign the vector to the word using the word_index fitted from the tokenizer\n",
    "EMBEDDING_DIMENSIONS = 100\n",
    "expt2_wordembeddings = np.zeros((EXPT2_VOCABULARY_SIZE, EMBEDDING_DIMENSIONS))\n",
    "for w, i in expt2_tokenizer2.word_index.items():\n",
    "    if i < EXPT2_VOCABULARY_SIZE:\n",
    "        try:\n",
    "            embedding_vector = glove_embeddings[w]\n",
    "            expt2_wordembeddings[i] = embedding_vector\n",
    "        except KeyError:\n",
    "            pass"
   ]
  },
  {
   "cell_type": "markdown",
   "metadata": {},
   "source": [
    "To understand the performance with and without the embeddings, consider a model with no pretrained embeddings."
   ]
  },
  {
   "cell_type": "code",
   "execution_count": 14,
   "metadata": {
    "ExecuteTime": {
     "end_time": "2020-06-11T12:17:45.358317Z",
     "start_time": "2020-06-11T12:17:45.256446Z"
    }
   },
   "outputs": [],
   "source": [
    "# Instantiate Model\n",
    "###################\n",
    "tf.keras.backend.clear_session()\n",
    "model2 = tf.keras.models.Sequential()\n",
    "model2.add(tf.keras.layers.Embedding(EXPT2_VOCABULARY_SIZE, EMBEDDING_DIMENSIONS,\n",
    "                                     input_length=EXPT2_DOCUMENT_MAX_LENGTH))\n",
    "model2.add(tf.keras.layers.Flatten())\n",
    "model2.add(tf.keras.layers.Dense(32, activation='relu'))\n",
    "model2.add(tf.keras.layers.Dense(1, activation='sigmoid'))"
   ]
  },
  {
   "cell_type": "code",
   "execution_count": 15,
   "metadata": {
    "ExecuteTime": {
     "end_time": "2020-06-11T12:17:45.390721Z",
     "start_time": "2020-06-11T12:17:45.365251Z"
    }
   },
   "outputs": [
    {
     "name": "stdout",
     "output_type": "stream",
     "text": [
      "Model: \"sequential\"\n",
      "_________________________________________________________________\n",
      "Layer (type)                 Output Shape              Param #   \n",
      "=================================================================\n",
      "embedding (Embedding)        (None, 20, 100)           1000000   \n",
      "_________________________________________________________________\n",
      "flatten (Flatten)            (None, 2000)              0         \n",
      "_________________________________________________________________\n",
      "dense (Dense)                (None, 32)                64032     \n",
      "_________________________________________________________________\n",
      "dense_1 (Dense)              (None, 1)                 33        \n",
      "=================================================================\n",
      "Total params: 1,064,065\n",
      "Trainable params: 1,064,065\n",
      "Non-trainable params: 0\n",
      "_________________________________________________________________\n",
      "None\n"
     ]
    }
   ],
   "source": [
    "# Compile\n",
    "#########\n",
    "model2.compile(optimizer='rmsprop', loss='binary_crossentropy', metrics=['accuracy'])\n",
    "print(model2.summary())"
   ]
  },
  {
   "cell_type": "code",
   "execution_count": 16,
   "metadata": {
    "ExecuteTime": {
     "end_time": "2020-06-11T12:17:51.634173Z",
     "start_time": "2020-06-11T12:17:45.394171Z"
    },
    "code_folding": [],
    "scrolled": true
   },
   "outputs": [
    {
     "name": "stdout",
     "output_type": "stream",
     "text": [
      "Epoch 1/10\n",
      "7/7 [==============================] - 1s 72ms/step - loss: 0.6930 - accuracy: 0.5100 - val_loss: 0.6929 - val_accuracy: 0.5093\n",
      "Epoch 2/10\n",
      "7/7 [==============================] - 0s 66ms/step - loss: 0.6138 - accuracy: 0.9900 - val_loss: 0.6928 - val_accuracy: 0.5103\n",
      "Epoch 3/10\n",
      "7/7 [==============================] - 1s 78ms/step - loss: 0.5416 - accuracy: 1.0000 - val_loss: 0.6925 - val_accuracy: 0.5174\n",
      "Epoch 4/10\n",
      "7/7 [==============================] - 1s 87ms/step - loss: 0.4420 - accuracy: 1.0000 - val_loss: 0.6966 - val_accuracy: 0.5141\n",
      "Epoch 5/10\n",
      "7/7 [==============================] - 1s 100ms/step - loss: 0.3228 - accuracy: 1.0000 - val_loss: 0.6990 - val_accuracy: 0.5192\n",
      "Epoch 6/10\n",
      "7/7 [==============================] - 0s 68ms/step - loss: 0.2155 - accuracy: 1.0000 - val_loss: 0.7091 - val_accuracy: 0.5173\n",
      "Epoch 7/10\n",
      "7/7 [==============================] - 0s 66ms/step - loss: 0.1368 - accuracy: 1.0000 - val_loss: 0.7100 - val_accuracy: 0.5249\n",
      "Epoch 8/10\n",
      "7/7 [==============================] - 0s 60ms/step - loss: 0.0844 - accuracy: 1.0000 - val_loss: 0.7301 - val_accuracy: 0.5208\n",
      "Epoch 9/10\n",
      "7/7 [==============================] - 0s 56ms/step - loss: 0.0521 - accuracy: 1.0000 - val_loss: 0.7315 - val_accuracy: 0.5234\n",
      "Epoch 10/10\n",
      "7/7 [==============================] - 0s 59ms/step - loss: 0.0327 - accuracy: 1.0000 - val_loss: 0.7494 - val_accuracy: 0.5220\n"
     ]
    }
   ],
   "source": [
    "# Train\n",
    "##############\n",
    "history2 = model2.fit(x_train, y_train, \n",
    "                    epochs=10, batch_size=32, \n",
    "                      validation_data=(x_val, y_val))\n",
    "model2.save('chap06_imdb__v2_embed_100d.h5')"
   ]
  },
  {
   "cell_type": "code",
   "execution_count": 17,
   "metadata": {
    "ExecuteTime": {
     "end_time": "2020-06-11T12:17:52.136426Z",
     "start_time": "2020-06-11T12:17:51.636219Z"
    },
    "scrolled": false
   },
   "outputs": [
    {
     "data": {
      "text/html": [
       "<div>\n",
       "<style scoped>\n",
       "    .dataframe tbody tr th:only-of-type {\n",
       "        vertical-align: middle;\n",
       "    }\n",
       "\n",
       "    .dataframe tbody tr th {\n",
       "        vertical-align: top;\n",
       "    }\n",
       "\n",
       "    .dataframe thead th {\n",
       "        text-align: right;\n",
       "    }\n",
       "</style>\n",
       "<table border=\"1\" class=\"dataframe\">\n",
       "  <thead>\n",
       "    <tr style=\"text-align: right;\">\n",
       "      <th></th>\n",
       "      <th>loss</th>\n",
       "      <th>accuracy</th>\n",
       "      <th>val_loss</th>\n",
       "      <th>val_accuracy</th>\n",
       "      <th>epoch</th>\n",
       "    </tr>\n",
       "  </thead>\n",
       "  <tbody>\n",
       "    <tr>\n",
       "      <th>5</th>\n",
       "      <td>0.215495</td>\n",
       "      <td>1.0</td>\n",
       "      <td>0.709106</td>\n",
       "      <td>0.5173</td>\n",
       "      <td>6</td>\n",
       "    </tr>\n",
       "    <tr>\n",
       "      <th>6</th>\n",
       "      <td>0.136767</td>\n",
       "      <td>1.0</td>\n",
       "      <td>0.709988</td>\n",
       "      <td>0.5249</td>\n",
       "      <td>7</td>\n",
       "    </tr>\n",
       "    <tr>\n",
       "      <th>7</th>\n",
       "      <td>0.084442</td>\n",
       "      <td>1.0</td>\n",
       "      <td>0.730148</td>\n",
       "      <td>0.5208</td>\n",
       "      <td>8</td>\n",
       "    </tr>\n",
       "    <tr>\n",
       "      <th>8</th>\n",
       "      <td>0.052056</td>\n",
       "      <td>1.0</td>\n",
       "      <td>0.731452</td>\n",
       "      <td>0.5234</td>\n",
       "      <td>9</td>\n",
       "    </tr>\n",
       "    <tr>\n",
       "      <th>9</th>\n",
       "      <td>0.032676</td>\n",
       "      <td>1.0</td>\n",
       "      <td>0.749353</td>\n",
       "      <td>0.5220</td>\n",
       "      <td>10</td>\n",
       "    </tr>\n",
       "  </tbody>\n",
       "</table>\n",
       "</div>"
      ],
      "text/plain": [
       "       loss  accuracy  val_loss  val_accuracy  epoch\n",
       "5  0.215495       1.0  0.709106        0.5173      6\n",
       "6  0.136767       1.0  0.709988        0.5249      7\n",
       "7  0.084442       1.0  0.730148        0.5208      8\n",
       "8  0.052056       1.0  0.731452        0.5234      9\n",
       "9  0.032676       1.0  0.749353        0.5220     10"
      ]
     },
     "metadata": {},
     "output_type": "display_data"
    },
    {
     "data": {
      "image/png": "[encoded data removed]",
      "text/plain": [
       "<Figure size 1224x720 with 2 Axes>"
      ]
     },
     "metadata": {
      "needs_background": "light"
     },
     "output_type": "display_data"
    }
   ],
   "source": [
    "metrics_df = pd.DataFrame(history2.history)\n",
    "metrics_df['epoch'] = metrics_df.index+1\n",
    "display(metrics_df.tail())\n",
    "\n",
    "fig = plt.figure(figsize=(17,10))\n",
    "ax1, ax2 = fig.add_subplot(2,1,1), fig.add_subplot(2,1,2)\n",
    "metrics_df.plot(kind='scatter', x='epoch', y='loss', ax=ax1, label='train', color='blue')\n",
    "metrics_df.plot(kind='line', x='epoch', y='val_loss', ax=ax1, label='validation', color='red',)\n",
    "ax1.set_ylabel(\"Loss\")\n",
    "ax1.grid('GAINSBORO')\n",
    "ax1.legend([])\n",
    "ax1.set_ylim(0,1.1)\n",
    "ax1.set_xticks(range(0,11))\n",
    "\n",
    "metrics_df.plot(kind='scatter', x='epoch', y='accuracy', ax=ax2, label='train', color='blue')\n",
    "metrics_df.plot(kind='line', x='epoch', y='val_accuracy', ax=ax2, label='validation', color='red',)\n",
    "ax2.set_ylabel(\"Accuracy\")\n",
    "ax2.grid('GAINSBORO')\n",
    "ax2.set_xticks(range(0,11))\n",
    "ax2.legend([])\n",
    "ax2.set_ylim(0,1.1)\n",
    "plt.show()"
   ]
  },
  {
   "cell_type": "markdown",
   "metadata": {},
   "source": [
    "This contains word embeddings only learnt from the training data. Validation accuracy cannot improve beyond 50%. It is clear that this model performance is rather poor for a binary prediction task."
   ]
  },
  {
   "cell_type": "code",
   "execution_count": 18,
   "metadata": {
    "ExecuteTime": {
     "end_time": "2020-06-11T12:17:57.485281Z",
     "start_time": "2020-06-11T12:17:52.138931Z"
    }
   },
   "outputs": [
    {
     "name": "stdout",
     "output_type": "stream",
     "text": [
      "Model: \"sequential\"\n",
      "_________________________________________________________________\n",
      "Layer (type)                 Output Shape              Param #   \n",
      "=================================================================\n",
      "embedding (Embedding)        (None, 20, 100)           1000000   \n",
      "_________________________________________________________________\n",
      "flatten (Flatten)            (None, 2000)              0         \n",
      "_________________________________________________________________\n",
      "dense (Dense)                (None, 32)                64032     \n",
      "_________________________________________________________________\n",
      "dense_1 (Dense)              (None, 1)                 33        \n",
      "=================================================================\n",
      "Total params: 1,064,065\n",
      "Trainable params: 64,065\n",
      "Non-trainable params: 1,000,000\n",
      "_________________________________________________________________\n",
      "None\n",
      "Epoch 1/10\n",
      "7/7 [==============================] - 1s 77ms/step - loss: 0.8161 - accuracy: 0.5050 - val_loss: 0.8011 - val_accuracy: 0.4999\n",
      "Epoch 2/10\n",
      "7/7 [==============================] - 0s 58ms/step - loss: 0.5297 - accuracy: 0.7450 - val_loss: 1.0786 - val_accuracy: 0.4974\n",
      "Epoch 3/10\n",
      "7/7 [==============================] - 0s 55ms/step - loss: 0.4514 - accuracy: 0.7850 - val_loss: 0.7971 - val_accuracy: 0.5081\n",
      "Epoch 4/10\n",
      "7/7 [==============================] - 0s 53ms/step - loss: 0.3023 - accuracy: 0.9300 - val_loss: 0.7859 - val_accuracy: 0.5271\n",
      "Epoch 5/10\n",
      "7/7 [==============================] - 1s 81ms/step - loss: 0.2675 - accuracy: 0.9350 - val_loss: 0.9013 - val_accuracy: 0.5200\n",
      "Epoch 6/10\n",
      "7/7 [==============================] - 0s 62ms/step - loss: 0.2131 - accuracy: 0.9600 - val_loss: 0.7746 - val_accuracy: 0.5430\n",
      "Epoch 7/10\n",
      "7/7 [==============================] - 0s 60ms/step - loss: 0.1445 - accuracy: 0.9900 - val_loss: 0.9046 - val_accuracy: 0.5207\n",
      "Epoch 8/10\n",
      "7/7 [==============================] - 0s 62ms/step - loss: 0.1303 - accuracy: 0.9900 - val_loss: 0.8168 - val_accuracy: 0.5393\n",
      "Epoch 9/10\n",
      "7/7 [==============================] - 1s 93ms/step - loss: 0.0901 - accuracy: 1.0000 - val_loss: 0.8522 - val_accuracy: 0.5440\n",
      "Epoch 10/10\n",
      "7/7 [==============================] - 1s 78ms/step - loss: 0.0747 - accuracy: 1.0000 - val_loss: 1.0614 - val_accuracy: 0.5214\n"
     ]
    }
   ],
   "source": [
    "# Instantiate Model\n",
    "###################\n",
    "tf.keras.backend.clear_session()\n",
    "model3 = tf.keras.models.Sequential()\n",
    "model3.add(tf.keras.layers.Embedding(EXPT2_VOCABULARY_SIZE, EMBEDDING_DIMENSIONS,\n",
    "                                     input_length=EXPT2_DOCUMENT_MAX_LENGTH))\n",
    "model3.add(tf.keras.layers.Flatten())\n",
    "model3.add(tf.keras.layers.Dense(32, activation='relu'))\n",
    "model3.add(tf.keras.layers.Dense(1, activation='sigmoid'))\n",
    "\n",
    "model3.layers[0].set_weights([expt2_wordembeddings])\n",
    "model3.layers[0].trainable = False\n",
    "\n",
    "# Compile\n",
    "#########\n",
    "model3.compile(optimizer='rmsprop', loss='binary_crossentropy', metrics=['accuracy'])\n",
    "print(model3.summary())\n",
    "\n",
    "# Train\n",
    "##############\n",
    "history3 = model3.fit(x_train, y_train, \n",
    "                    epochs=10, batch_size=32, \n",
    "                      validation_data=(x_val, y_val))\n",
    "model3.save('chap06_imdb__v3_glove.h5')"
   ]
  },
  {
   "cell_type": "code",
   "execution_count": 19,
   "metadata": {
    "ExecuteTime": {
     "end_time": "2020-06-11T12:17:58.173707Z",
     "start_time": "2020-06-11T12:17:57.487767Z"
    },
    "scrolled": false
   },
   "outputs": [
    {
     "data": {
      "text/html": [
       "<div>\n",
       "<style scoped>\n",
       "    .dataframe tbody tr th:only-of-type {\n",
       "        vertical-align: middle;\n",
       "    }\n",
       "\n",
       "    .dataframe tbody tr th {\n",
       "        vertical-align: top;\n",
       "    }\n",
       "\n",
       "    .dataframe thead th {\n",
       "        text-align: right;\n",
       "    }\n",
       "</style>\n",
       "<table border=\"1\" class=\"dataframe\">\n",
       "  <thead>\n",
       "    <tr style=\"text-align: right;\">\n",
       "      <th></th>\n",
       "      <th>loss</th>\n",
       "      <th>accuracy</th>\n",
       "      <th>val_loss</th>\n",
       "      <th>val_accuracy</th>\n",
       "      <th>epoch</th>\n",
       "    </tr>\n",
       "  </thead>\n",
       "  <tbody>\n",
       "    <tr>\n",
       "      <th>5</th>\n",
       "      <td>0.213073</td>\n",
       "      <td>0.96</td>\n",
       "      <td>0.774569</td>\n",
       "      <td>0.5430</td>\n",
       "      <td>6</td>\n",
       "    </tr>\n",
       "    <tr>\n",
       "      <th>6</th>\n",
       "      <td>0.144529</td>\n",
       "      <td>0.99</td>\n",
       "      <td>0.904619</td>\n",
       "      <td>0.5207</td>\n",
       "      <td>7</td>\n",
       "    </tr>\n",
       "    <tr>\n",
       "      <th>7</th>\n",
       "      <td>0.130275</td>\n",
       "      <td>0.99</td>\n",
       "      <td>0.816780</td>\n",
       "      <td>0.5393</td>\n",
       "      <td>8</td>\n",
       "    </tr>\n",
       "    <tr>\n",
       "      <th>8</th>\n",
       "      <td>0.090086</td>\n",
       "      <td>1.00</td>\n",
       "      <td>0.852209</td>\n",
       "      <td>0.5440</td>\n",
       "      <td>9</td>\n",
       "    </tr>\n",
       "    <tr>\n",
       "      <th>9</th>\n",
       "      <td>0.074667</td>\n",
       "      <td>1.00</td>\n",
       "      <td>1.061448</td>\n",
       "      <td>0.5214</td>\n",
       "      <td>10</td>\n",
       "    </tr>\n",
       "  </tbody>\n",
       "</table>\n",
       "</div>"
      ],
      "text/plain": [
       "       loss  accuracy  val_loss  val_accuracy  epoch\n",
       "5  0.213073      0.96  0.774569        0.5430      6\n",
       "6  0.144529      0.99  0.904619        0.5207      7\n",
       "7  0.130275      0.99  0.816780        0.5393      8\n",
       "8  0.090086      1.00  0.852209        0.5440      9\n",
       "9  0.074667      1.00  1.061448        0.5214     10"
      ]
     },
     "metadata": {},
     "output_type": "display_data"
    },
    {
     "data": {
      "image/png": "[encoded data removed]",
      "text/plain": [
       "<Figure size 1224x720 with 2 Axes>"
      ]
     },
     "metadata": {
      "needs_background": "light"
     },
     "output_type": "display_data"
    }
   ],
   "source": [
    "metrics_df = pd.DataFrame(history3.history)\n",
    "metrics_df['epoch'] = metrics_df.index+1\n",
    "display(metrics_df.tail())\n",
    "\n",
    "fig = plt.figure(figsize=(17,10))\n",
    "ax1, ax2 = fig.add_subplot(2,1,1), fig.add_subplot(2,1,2)\n",
    "metrics_df.plot(kind='scatter', x='epoch', y='loss', ax=ax1, label='train', color='blue')\n",
    "metrics_df.plot(kind='line', x='epoch', y='val_loss', ax=ax1, label='validation', color='red',)\n",
    "ax1.set_ylabel(\"Loss\")\n",
    "ax1.grid('GAINSBORO')\n",
    "ax1.legend([])\n",
    "ax1.set_ylim(0,2.1)\n",
    "ax1.set_xticks(range(0,11))\n",
    "\n",
    "metrics_df.plot(kind='scatter', x='epoch', y='accuracy', ax=ax2, label='train', color='blue')\n",
    "metrics_df.plot(kind='line', x='epoch', y='val_accuracy', ax=ax2, label='validation', color='red',)\n",
    "ax2.set_ylabel(\"Accuracy\")\n",
    "ax2.grid('GAINSBORO')\n",
    "ax2.set_xticks(range(0,11))\n",
    "ax2.legend([])\n",
    "ax2.set_ylim(0,1.1)\n",
    "plt.show()"
   ]
  },
  {
   "cell_type": "markdown",
   "metadata": {},
   "source": [
    "With the pretrained embeddings, we can see the model to start overfitting very quickly. Validation accuracy has high variance too. This is common for relatively small datasets. "
   ]
  },
  {
   "cell_type": "code",
   "execution_count": 20,
   "metadata": {
    "ExecuteTime": {
     "end_time": "2020-06-11T12:18:00.797741Z",
     "start_time": "2020-06-11T12:17:58.176758Z"
    }
   },
   "outputs": [
    {
     "name": "stdout",
     "output_type": "stream",
     "text": [
      "782/782 [==============================] - 1s 2ms/step - loss: 0.7688 - accuracy: 0.5004\n",
      "[0.7688281536102295, 0.5003600120544434]\n",
      "782/782 [==============================] - 1s 1ms/step - loss: 1.1071 - accuracy: 0.4987\n",
      "[1.1070612668991089, 0.4987199902534485]\n"
     ]
    }
   ],
   "source": [
    "print(model2.evaluate(x_test, test_labels))\n",
    "print(model3.evaluate(x_test, test_labels))"
   ]
  },
  {
   "cell_type": "markdown",
   "metadata": {},
   "source": [
    "Additional References / Resources\n",
    "\n",
    "- https://www.gutenberg.org/\n",
    "\n",
    "- https://www.kaggle.com/lakshmi25npathi/imdb-dataset-of-50k-movie-reviews\n",
    "\n",
    "- https://github.com/stanfordnlp/GloVe"
   ]
  }
 ],
 "metadata": {
  "kernelspec": {
   "display_name": "Python 3",
   "language": "python",
   "name": "python3"
  },
  "language_info": {
   "codemirror_mode": {
    "name": "ipython",
    "version": 3
   },
   "file_extension": ".py",
   "mimetype": "text/x-python",
   "name": "python",
   "nbconvert_exporter": "python",
   "pygments_lexer": "ipython3",
   "version": "3.7.2"
  }
 },
 "nbformat": 4,
 "nbformat_minor": 4
}
