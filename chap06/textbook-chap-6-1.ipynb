{
 "cells": [
  {
   "cell_type": "markdown",
   "metadata": {},
   "source": [
    "# 6. Deep Learning for Text and Sequences"
   ]
  },
  {
   "cell_type": "markdown",
   "metadata": {},
   "source": [
    "## Working with Text Data\n",
    "\n",
    "Deep learning for natural-language processing is pattern recognition applied to words, sentences and paragraphs like how deep learning for computer vision is applied to pixels. Applications of these techniques can be found in document classification, sentiment analysis, author identification and even QA (in a constrained context). These deep learning do not truly understand text in a human sense, but these models can map the statistical structure of written language, which is sufficient to solve many simple textual tasks.\n",
    "\n",
    "Before processing text, models need to vectorize text - transforming text to numeric tensors. This can be done in multiple ways:\n",
    "\n",
    "1. segment text to words and transform each word to a vector\n",
    "2. segment text to charactes and transform each character to a vector\n",
    "3. segment text to n-grams (2-grams, 3-grams etc, where 1-gram is the word level tokenisation) and transform each n-gram to a vector.\n",
    "\n",
    "Collectively, the different units into which we can break down text are called <b>tokens</b> and breaking text into tokens is called <b>tokenisation</b>. There are generally two common ways to do so:\n",
    "\n",
    "1. one-hot encoding of tokens\n",
    "2. word embedding"
   ]
  },
  {
   "cell_type": "markdown",
   "metadata": {},
   "source": [
    "### One-hot Encoding\n",
    "\n",
    "One-hot encoding is the most common, most basic way to turn a token to a vector. This can be done using Keras, sklearn or nltk. "
   ]
  },
  {
   "cell_type": "code",
   "execution_count": 39,
   "metadata": {
    "ExecuteTime": {
     "end_time": "2020-06-08T07:01:12.242562Z",
     "start_time": "2020-06-08T07:01:11.929285Z"
    }
   },
   "outputs": [],
   "source": [
    "import pandas as pd\n",
    "import numpy as np\n",
    "import matplotlib.pyplot as plt\n",
    "from sklearn.feature_extraction.text import CountVectorizer\n",
    "\n",
    "from tensorflow.keras.datasets import imdb\n",
    "import tensorflow as tf"
   ]
  },
  {
   "cell_type": "code",
   "execution_count": 2,
   "metadata": {
    "ExecuteTime": {
     "end_time": "2020-06-08T06:37:16.329624Z",
     "start_time": "2020-06-08T06:37:16.324925Z"
    }
   },
   "outputs": [],
   "source": [
    "# Moby Dick & Sherlock Holmes\n",
    "samples = ['The pale Usher—threadbare in coat, heart, body, and brain; I see him now.', \n",
    "           'He loved to dust his old grammars; it somehow mildly reminded him of his mortality.']"
   ]
  },
  {
   "cell_type": "code",
   "execution_count": 3,
   "metadata": {
    "ExecuteTime": {
     "end_time": "2020-06-08T06:37:16.345213Z",
     "start_time": "2020-06-08T06:37:16.333745Z"
    }
   },
   "outputs": [
    {
     "name": "stdout",
     "output_type": "stream",
     "text": [
      "[0. 1. 0. 1. 1. 1. 1. 1. 1. 1. 1. 1. 1. 1. 1. 0. 0. 0. 0. 0. 0. 0. 0. 0.\n",
      " 0. 0. 0. 0. 0. 0. 0. 0. 0. 0. 0. 0. 0. 0. 0. 0. 0. 0. 0. 0. 0. 0. 0. 0.\n",
      " 0. 0.]\n",
      "26\n"
     ]
    }
   ],
   "source": [
    "# Tokenisation using Keras\n",
    "tokenizer = tf.keras.preprocessing.text.Tokenizer(num_words=50)\n",
    "tokenizer.fit_on_texts(samples)\n",
    "sequences = tokenizer.texts_to_sequences\n",
    "one_hot_results = tokenizer.texts_to_matrix(samples, mode='binary')\n",
    "print(one_hot_results[0])\n",
    "print(len(tokenizer.word_index))"
   ]
  },
  {
   "cell_type": "code",
   "execution_count": 4,
   "metadata": {
    "ExecuteTime": {
     "end_time": "2020-06-08T06:37:16.361409Z",
     "start_time": "2020-06-08T06:37:16.349701Z"
    }
   },
   "outputs": [
    {
     "name": "stdout",
     "output_type": "stream",
     "text": [
      "26\n",
      "[[1 1 1 1 0 0 0 1 1 0 1 0 0 0 0 1 0 0 1 0 1 0 1 1 0 1]]\n"
     ]
    }
   ],
   "source": [
    "# Tokenisation using sklearn\n",
    "cv = CountVectorizer()\n",
    "one_hot_results2 = cv.fit_transform(samples)\n",
    "print(len(cv.get_feature_names()))\n",
    "print(one_hot_results2[0].A)"
   ]
  },
  {
   "cell_type": "markdown",
   "metadata": {},
   "source": [
    "### Word Embedding"
   ]
  },
  {
   "cell_type": "markdown",
   "metadata": {},
   "source": [
    "Another powerful way to associate a vector with a word is to use dense <b>word vectors</b>, or <b>word embeddings</b>. While the vectors obtained through one-hot encoding is sparse and high dimensional, word embeddings are low-dimensional, dense floating-point vectors. Word embeddings are learnt from data. Common word embeddings are 256-dimensional, 512-dimensional or 1024-dimensional, while common one-hot encoded vectors are 20000-dimensional or larger if there are 20000 words in the vocabulary. There are two ways to learn word embeddings:\n",
    "\n",
    "1. learn word-embeddings jointly with the problem at hand. Here, you start with random word vectors and then learn word vectors the same way you learn the weights of a neural network\n",
    "2. load word embeddings that were precomputed using a different task, or using <b>pretrained word embeddings</b>"
   ]
  },
  {
   "cell_type": "markdown",
   "metadata": {},
   "source": [
    "#### Learning Word Embeddings\n",
    "\n",
    "Generally, we want to represent semantic relationships between words with geometric relationships. For example, synonyms should be mapped to similar word vectors, and generally, the geometric distance between two words reflect the semantic relationship between them (words with different meanings are embedded at points far away from each other, while words with similar meanings are close to each other). Also, we can use directions to imply relationships between words.\n",
    "\n",
    "<img src=\"img62.png\" width=\"625\">\n",
    "\n",
    "In this example, there are 4 words - `cat`, `tiger`, `dog`, `wolf`. When we move up, we can say this direction is \"domestic to wild\" transition. When we move to the left, we can say this is a \"canine to feline\" transition. So we can put `pig -> boar` in the first transition and `puppy -> kitten` to the second one.\n",
    "\n",
    "<img src=\"img61.png\" width=\"225\">\n",
    "\n",
    "General real-world transformations include gender like `king/queen`, `actor/actress`, plural `bottle/bottles` etc. There is not such ideal word-embedding space for all NLP tasks, but we can generally use the same word embeddings for similar tasks / topics. The word embedding for legal documents is likely different to that of reviews."
   ]
  },
  {
   "cell_type": "markdown",
   "metadata": {},
   "source": [
    "In Keras, we learn the embedding using the `Embedding` layer. It is best understood as a dictionary that maps integer indices to dense vectors. It takes integers as input, and looks up these integers in an internal dictionary, and returns the associated vectors. It is essentially a dictionary lookup.\n",
    "\n",
    "The `Embedding` layer takes an input as a 2D tensor integers of shape `(samples, sequence_length)`, where each entry is a sequence of integers. All sequences in a batch must have the same length, so sequences that are shorter should be padded while sequences that are longer should be truncated. When you instantiate an `Embedding` layer, the weights are initially random. During training, these weights are gradually adjusted via backpropagation, structuring the space into something the downstream model can exploit. Once fully trained, the embedding space will show structure that is specislised for the specific ML problem.\n",
    "\n",
    "This layer returns a 3D floating-point tensor of shape `(samples, sequence_length, embedding_dimensionality)` and this can be processed by an RNN layer or a 1D convolution layer."
   ]
  },
  {
   "cell_type": "markdown",
   "metadata": {},
   "source": [
    "Consider applying this to the **reviews** problem. We add a network to learn 8-dimensional embeddings for each of the 10000 words, turn the input ineger sequences to embedded sequences, flatten the tensor to 2D and train a single `Dense` layer for classification."
   ]
  },
  {
   "cell_type": "code",
   "execution_count": 5,
   "metadata": {
    "ExecuteTime": {
     "end_time": "2020-06-08T06:37:21.667902Z",
     "start_time": "2020-06-08T06:37:16.364481Z"
    }
   },
   "outputs": [],
   "source": [
    "# Ingestion\n",
    "###########\n",
    "VOCABULARY_SIZE = 10000\n",
    "DOCUMENT_MAX_LENGTH = 20\n",
    "(train_data, train_labels), (test_data, test_labels) = imdb.load_data(num_words=VOCABULARY_SIZE)\n",
    "\n",
    "# Preprocessing\n",
    "###############\n",
    "x_train = tf.keras.preprocessing.sequence.pad_sequences(train_data, maxlen=DOCUMENT_MAX_LENGTH)\n",
    "x_test = tf.keras.preprocessing.sequence.pad_sequences(test_data, maxlen=DOCUMENT_MAX_LENGTH)"
   ]
  },
  {
   "cell_type": "code",
   "execution_count": 6,
   "metadata": {
    "ExecuteTime": {
     "end_time": "2020-06-08T06:37:21.757438Z",
     "start_time": "2020-06-08T06:37:21.669860Z"
    }
   },
   "outputs": [
    {
     "name": "stdout",
     "output_type": "stream",
     "text": [
      "Model: \"sequential\"\n",
      "_________________________________________________________________\n",
      "Layer (type)                 Output Shape              Param #   \n",
      "=================================================================\n",
      "embedding (Embedding)        (None, 20, 8)             80000     \n",
      "_________________________________________________________________\n",
      "flatten (Flatten)            (None, 160)               0         \n",
      "_________________________________________________________________\n",
      "dense (Dense)                (None, 1)                 161       \n",
      "=================================================================\n",
      "Total params: 80,161\n",
      "Trainable params: 80,161\n",
      "Non-trainable params: 0\n",
      "_________________________________________________________________\n",
      "None\n"
     ]
    }
   ],
   "source": [
    "# Instantiate Model\n",
    "###################\n",
    "tf.keras.backend.clear_session()\n",
    "model = tf.keras.models.Sequential()\n",
    "model.add(tf.keras.layers.Embedding(VOCABULARY_SIZE, 8, input_length=DOCUMENT_MAX_LENGTH))\n",
    "model.add(tf.keras.layers.Flatten())\n",
    "model.add(tf.keras.layers.Dense(1, activation='sigmoid'))\n",
    "\n",
    "# Compile\n",
    "#########\n",
    "model.compile(optimizer='rmsprop', loss='binary_crossentropy', metrics=['accuracy'])\n",
    "print(model.summary())"
   ]
  },
  {
   "cell_type": "code",
   "execution_count": 37,
   "metadata": {
    "ExecuteTime": {
     "end_time": "2020-06-08T07:00:24.492668Z",
     "start_time": "2020-06-08T07:00:24.072644Z"
    }
   },
   "outputs": [
    {
     "name": "stdout",
     "output_type": "stream",
     "text": [
      "[0.574999988079071]\n"
     ]
    }
   ],
   "source": [
    "# Train\n",
    "#######\n",
    "history = model.fit(x_train, train_labels, \n",
    "                    epochs=10, batch_size=32, \n",
    "                    validation_split=0.2, verbose=0)\n",
    "model.save_weights('model6v0_no_pretrained.h5')\n",
    "print(history.history['val_accuracy'][-1:])"
   ]
  },
  {
   "cell_type": "markdown",
   "metadata": {
    "ExecuteTime": {
     "end_time": "2020-06-08T03:34:55.400758Z",
     "start_time": "2020-06-08T03:34:55.395946Z"
    }
   },
   "source": [
    "Validation accuracy is 73% which is pretty good considering just looking at the first 20 words of the review, but flattening the embedded sequences and training a single `Dense` layer on top leads ot a model that treats each word in the input sequence separately, wihtout considering inter-word relationships and sentence structure. It is much better to add recurrent layers or 1D convolutional layers on top of the embedded sequences to learn features that take into account each sequence as a whole."
   ]
  },
  {
   "cell_type": "markdown",
   "metadata": {},
   "source": [
    "#### Using Pretrained Word Embeddings\n",
    "\n",
    "Besides training your own word embeddings, you can use a precomputed embedding space that is precomputed and exhibits useful properties. This is similar to using pretrained convnets for image classification, and is useful when the dataset for the ML problem is relatively small and when the features are reasonably generic: the semantic features for text, like the visual features for computer vision.\n",
    "\n",
    "There are pretrained word embeddings. The more common ones are Word2Vec by Google in 2013, and GloVe by Stanford researchers in 2014."
   ]
  },
  {
   "cell_type": "code",
   "execution_count": 8,
   "metadata": {
    "ExecuteTime": {
     "end_time": "2020-06-08T06:37:31.140523Z",
     "start_time": "2020-06-08T06:37:30.423315Z"
    }
   },
   "outputs": [
    {
     "data": {
      "text/html": [
       "<div>\n",
       "<style scoped>\n",
       "    .dataframe tbody tr th:only-of-type {\n",
       "        vertical-align: middle;\n",
       "    }\n",
       "\n",
       "    .dataframe tbody tr th {\n",
       "        vertical-align: top;\n",
       "    }\n",
       "\n",
       "    .dataframe thead th {\n",
       "        text-align: right;\n",
       "    }\n",
       "</style>\n",
       "<table border=\"1\" class=\"dataframe\">\n",
       "  <thead>\n",
       "    <tr style=\"text-align: right;\">\n",
       "      <th></th>\n",
       "      <th>review</th>\n",
       "      <th>sentiment</th>\n",
       "      <th>label</th>\n",
       "    </tr>\n",
       "  </thead>\n",
       "  <tbody>\n",
       "    <tr>\n",
       "      <th>11167</th>\n",
       "      <td>This film is about the life of Queen Victoria ...</td>\n",
       "      <td>positive</td>\n",
       "      <td>1</td>\n",
       "    </tr>\n",
       "    <tr>\n",
       "      <th>16570</th>\n",
       "      <td>i loved catcher in the rye, it happens to be m...</td>\n",
       "      <td>positive</td>\n",
       "      <td>1</td>\n",
       "    </tr>\n",
       "    <tr>\n",
       "      <th>35764</th>\n",
       "      <td>This series would have been a lot better if th...</td>\n",
       "      <td>negative</td>\n",
       "      <td>0</td>\n",
       "    </tr>\n",
       "    <tr>\n",
       "      <th>9156</th>\n",
       "      <td>\"Mame\" is a disgrace to many things--to Lucill...</td>\n",
       "      <td>negative</td>\n",
       "      <td>0</td>\n",
       "    </tr>\n",
       "  </tbody>\n",
       "</table>\n",
       "</div>"
      ],
      "text/plain": [
       "                                                  review sentiment  label\n",
       "11167  This film is about the life of Queen Victoria ...  positive      1\n",
       "16570  i loved catcher in the rye, it happens to be m...  positive      1\n",
       "35764  This series would have been a lot better if th...  negative      0\n",
       "9156   \"Mame\" is a disgrace to many things--to Lucill...  negative      0"
      ]
     },
     "metadata": {},
     "output_type": "display_data"
    },
    {
     "name": "stdout",
     "output_type": "stream",
     "text": [
      "1    25000\n",
      "0    25000\n",
      "Name: label, dtype: int64\n"
     ]
    }
   ],
   "source": [
    "# Ingestion, Labelling\n",
    "######################\n",
    "df = pd.read_csv('IMDB Dataset.csv')\n",
    "df['label'] = df['sentiment'].map({'positive' : 1, 'negative' : 0})\n",
    "display(df.sample(4))\n",
    "df.drop(['sentiment'], axis=1, inplace=True)\n",
    "print(df['label'].value_counts())"
   ]
  },
  {
   "cell_type": "code",
   "execution_count": 28,
   "metadata": {
    "ExecuteTime": {
     "end_time": "2020-06-08T06:58:25.376901Z",
     "start_time": "2020-06-08T06:58:03.567695Z"
    }
   },
   "outputs": [
    {
     "name": "stdout",
     "output_type": "stream",
     "text": [
      "124252\n"
     ]
    }
   ],
   "source": [
    "# Preprocessing\n",
    "###############\n",
    "EXPT2_VOCABULARY_SIZE = 10000\n",
    "EXPT2_DOCUMENT_MAX_LENGTH = 20\n",
    "\n",
    "EXPT2_TRAIN_DOC_COUNT = 200\n",
    "EXPT2_VALIDATION_DOC_COUNT = 10000\n",
    "\n",
    "expt2_tokenizer2 = tf.keras.preprocessing.text.Tokenizer(num_words=EXPT2_VOCABULARY_SIZE)\n",
    "expt2_tokenizer2.fit_on_texts(df['review'])\n",
    "expt2_sequences = expt2_tokenizer2.texts_to_sequences(df['review'])\n",
    "print(len(expt2_tokenizer2.word_index))\n",
    "\n",
    "GLOVE_FN = 'glove.6B.100d.txt'"
   ]
  },
  {
   "cell_type": "code",
   "execution_count": 29,
   "metadata": {
    "ExecuteTime": {
     "end_time": "2020-06-08T06:58:25.729970Z",
     "start_time": "2020-06-08T06:58:25.379604Z"
    }
   },
   "outputs": [
    {
     "name": "stdout",
     "output_type": "stream",
     "text": [
      "(50000, 20)\n",
      "(50000,)\n"
     ]
    }
   ],
   "source": [
    "imdb_corpus = tf.keras.preprocessing.sequence.pad_sequences(expt2_sequences, maxlen=EXPT2_DOCUMENT_MAX_LENGTH)\n",
    "imdb_labels = np.asarray(df['label'])\n",
    "print(imdb_corpus.shape)\n",
    "print(imdb_labels.shape)"
   ]
  },
  {
   "cell_type": "code",
   "execution_count": 30,
   "metadata": {
    "ExecuteTime": {
     "end_time": "2020-06-08T06:58:25.739714Z",
     "start_time": "2020-06-08T06:58:25.732869Z"
    }
   },
   "outputs": [],
   "source": [
    "# Train-Test split\n",
    "EXPT2_VALIDATION_INDEX_START = EXPT2_TRAIN_DOC_COUNT + EXPT2_VALIDATION_DOC_COUNT\n",
    "\n",
    "x_train = imdb_corpus[:EXPT2_TRAIN_DOC_COUNT]\n",
    "y_train = imdb_labels[:EXPT2_TRAIN_DOC_COUNT]\n",
    "x_val = imdb_corpus[EXPT2_TRAIN_DOC_COUNT:EXPT2_VALIDATION_INDEX_START] \n",
    "y_val = imdb_labels[EXPT2_TRAIN_DOC_COUNT:EXPT2_VALIDATION_INDEX_START]"
   ]
  },
  {
   "cell_type": "code",
   "execution_count": 31,
   "metadata": {
    "ExecuteTime": {
     "end_time": "2020-06-08T06:58:25.751644Z",
     "start_time": "2020-06-08T06:58:25.743574Z"
    }
   },
   "outputs": [
    {
     "name": "stdout",
     "output_type": "stream",
     "text": [
      "(200, 20)\n",
      "(200,)\n",
      "(10000, 20)\n",
      "(10000,)\n"
     ]
    }
   ],
   "source": [
    "# For testing\n",
    "# print(x_train.shape)\n",
    "# print(y_train.shape)\n",
    "# print(x_val.shape)\n",
    "# print(y_val.shape)"
   ]
  },
  {
   "cell_type": "markdown",
   "metadata": {},
   "source": [
    "To preprocess the embeddings, first ingest the embeddings into a dictionary where the key is the word and the value is the vector.\n",
    "\n",
    "Then, build an embedding matrix where the each entry in the word index contains the preloaded vector from Glove."
   ]
  },
  {
   "cell_type": "code",
   "execution_count": 32,
   "metadata": {
    "ExecuteTime": {
     "end_time": "2020-06-08T06:58:42.694296Z",
     "start_time": "2020-06-08T06:58:25.754338Z"
    },
    "scrolled": true
   },
   "outputs": [],
   "source": [
    "# Preprocessing GLOVE\n",
    "#####################\n",
    "\n",
    "# Read from the embedding file and store as key-value pair where key is word and value is vector\n",
    "glove_embeddings = dict()\n",
    "with open(GLOVE_FN, 'r') as f:\n",
    "    for l in f:\n",
    "        w, coefs = l.split()[0], np.asarray(l.split()[1:], dtype='float32')\n",
    "        glove_embeddings[w] = coefs\n",
    "        \n",
    "# Assign the vector to the word using the word_index fitted from the tokenizer\n",
    "EMBEDDING_DIMENSIONS = 100\n",
    "expt2_wordembeddings = np.zeros((EXPT2_VOCABULARY_SIZE, EMBEDDING_DIMENSIONS))\n",
    "for w, i in expt2_tokenizer2.word_index.items():\n",
    "    if i < EXPT2_VOCABULARY_SIZE:\n",
    "        try:\n",
    "            embedding_vector = glove_embeddings[w]\n",
    "            expt2_wordembeddings[i] = embedding_vector\n",
    "        except KeyError:\n",
    "            pass"
   ]
  },
  {
   "cell_type": "markdown",
   "metadata": {},
   "source": [
    "To understand the performance with and without the embeddings, consider a model with no pretrained embeddings."
   ]
  },
  {
   "cell_type": "code",
   "execution_count": 33,
   "metadata": {
    "ExecuteTime": {
     "end_time": "2020-06-08T06:58:42.770393Z",
     "start_time": "2020-06-08T06:58:42.696710Z"
    }
   },
   "outputs": [],
   "source": [
    "# Instantiate Model\n",
    "###################\n",
    "tf.keras.backend.clear_session()\n",
    "model2 = tf.keras.models.Sequential()\n",
    "model2.add(tf.keras.layers.Embedding(EXPT2_VOCABULARY_SIZE, EMBEDDING_DIMENSIONS,\n",
    "                                     input_length=EXPT2_DOCUMENT_MAX_LENGTH))\n",
    "model2.add(tf.keras.layers.Flatten())\n",
    "model2.add(tf.keras.layers.Dense(32, activation='relu'))\n",
    "model2.add(tf.keras.layers.Dense(1, activation='sigmoid'))"
   ]
  },
  {
   "cell_type": "code",
   "execution_count": 34,
   "metadata": {
    "ExecuteTime": {
     "end_time": "2020-06-08T06:58:42.795826Z",
     "start_time": "2020-06-08T06:58:42.773086Z"
    }
   },
   "outputs": [
    {
     "name": "stdout",
     "output_type": "stream",
     "text": [
      "Model: \"sequential\"\n",
      "_________________________________________________________________\n",
      "Layer (type)                 Output Shape              Param #   \n",
      "=================================================================\n",
      "embedding (Embedding)        (None, 20, 100)           1000000   \n",
      "_________________________________________________________________\n",
      "flatten (Flatten)            (None, 2000)              0         \n",
      "_________________________________________________________________\n",
      "dense (Dense)                (None, 32)                64032     \n",
      "_________________________________________________________________\n",
      "dense_1 (Dense)              (None, 1)                 33        \n",
      "=================================================================\n",
      "Total params: 1,064,065\n",
      "Trainable params: 1,064,065\n",
      "Non-trainable params: 0\n",
      "_________________________________________________________________\n",
      "None\n"
     ]
    }
   ],
   "source": [
    "# Compile\n",
    "#########\n",
    "model2.compile(optimizer='rmsprop', loss='binary_crossentropy', metrics=['accuracy'])\n",
    "print(model2.summary())"
   ]
  },
  {
   "cell_type": "code",
   "execution_count": 36,
   "metadata": {
    "ExecuteTime": {
     "end_time": "2020-06-08T06:59:11.869551Z",
     "start_time": "2020-06-08T06:59:06.644456Z"
    },
    "code_folding": [],
    "scrolled": true
   },
   "outputs": [
    {
     "name": "stdout",
     "output_type": "stream",
     "text": [
      "Epoch 1/10\n",
      "7/7 [==============================] - 0s 70ms/step - loss: 0.0198 - accuracy: 1.0000 - val_loss: 0.7812 - val_accuracy: 0.5158\n",
      "Epoch 2/10\n",
      "7/7 [==============================] - 0s 69ms/step - loss: 0.0126 - accuracy: 1.0000 - val_loss: 0.7935 - val_accuracy: 0.5168\n",
      "Epoch 3/10\n",
      "7/7 [==============================] - 1s 74ms/step - loss: 0.0081 - accuracy: 1.0000 - val_loss: 0.8129 - val_accuracy: 0.5179\n",
      "Epoch 4/10\n",
      "7/7 [==============================] - 0s 70ms/step - loss: 0.0052 - accuracy: 1.0000 - val_loss: 0.8321 - val_accuracy: 0.5184\n",
      "Epoch 5/10\n",
      "7/7 [==============================] - 1s 72ms/step - loss: 0.0033 - accuracy: 1.0000 - val_loss: 0.8563 - val_accuracy: 0.5158\n",
      "Epoch 6/10\n",
      "7/7 [==============================] - 1s 74ms/step - loss: 0.0022 - accuracy: 1.0000 - val_loss: 0.8626 - val_accuracy: 0.5177\n",
      "Epoch 7/10\n",
      "7/7 [==============================] - 1s 72ms/step - loss: 0.0014 - accuracy: 1.0000 - val_loss: 0.8912 - val_accuracy: 0.5161\n",
      "Epoch 8/10\n",
      "7/7 [==============================] - 1s 73ms/step - loss: 9.1644e-04 - accuracy: 1.0000 - val_loss: 0.9039 - val_accuracy: 0.5165\n",
      "Epoch 9/10\n",
      "7/7 [==============================] - 1s 74ms/step - loss: 6.0134e-04 - accuracy: 1.0000 - val_loss: 0.9188 - val_accuracy: 0.5177\n",
      "Epoch 10/10\n",
      "7/7 [==============================] - 0s 68ms/step - loss: 3.9773e-04 - accuracy: 1.0000 - val_loss: 0.9383 - val_accuracy: 0.5174\n"
     ]
    }
   ],
   "source": [
    "# Train\n",
    "##############\n",
    "history2 = model2.fit(x_train, y_train, \n",
    "                    epochs=10, batch_size=32, \n",
    "                      validation_data=(x_val, y_val))\n",
    "model2.save_weights('model6v1_no_pretrained2.h5')"
   ]
  },
  {
   "cell_type": "code",
   "execution_count": 41,
   "metadata": {
    "ExecuteTime": {
     "end_time": "2020-06-08T07:01:23.699366Z",
     "start_time": "2020-06-08T07:01:23.161762Z"
    },
    "scrolled": false
   },
   "outputs": [
    {
     "data": {
      "text/html": [
       "<div>\n",
       "<style scoped>\n",
       "    .dataframe tbody tr th:only-of-type {\n",
       "        vertical-align: middle;\n",
       "    }\n",
       "\n",
       "    .dataframe tbody tr th {\n",
       "        vertical-align: top;\n",
       "    }\n",
       "\n",
       "    .dataframe thead th {\n",
       "        text-align: right;\n",
       "    }\n",
       "</style>\n",
       "<table border=\"1\" class=\"dataframe\">\n",
       "  <thead>\n",
       "    <tr style=\"text-align: right;\">\n",
       "      <th></th>\n",
       "      <th>loss</th>\n",
       "      <th>accuracy</th>\n",
       "      <th>val_loss</th>\n",
       "      <th>val_accuracy</th>\n",
       "      <th>epoch</th>\n",
       "    </tr>\n",
       "  </thead>\n",
       "  <tbody>\n",
       "    <tr>\n",
       "      <th>5</th>\n",
       "      <td>0.002170</td>\n",
       "      <td>1.0</td>\n",
       "      <td>0.862595</td>\n",
       "      <td>0.5177</td>\n",
       "      <td>6</td>\n",
       "    </tr>\n",
       "    <tr>\n",
       "      <th>6</th>\n",
       "      <td>0.001409</td>\n",
       "      <td>1.0</td>\n",
       "      <td>0.891218</td>\n",
       "      <td>0.5161</td>\n",
       "      <td>7</td>\n",
       "    </tr>\n",
       "    <tr>\n",
       "      <th>7</th>\n",
       "      <td>0.000916</td>\n",
       "      <td>1.0</td>\n",
       "      <td>0.903915</td>\n",
       "      <td>0.5165</td>\n",
       "      <td>8</td>\n",
       "    </tr>\n",
       "    <tr>\n",
       "      <th>8</th>\n",
       "      <td>0.000601</td>\n",
       "      <td>1.0</td>\n",
       "      <td>0.918775</td>\n",
       "      <td>0.5177</td>\n",
       "      <td>9</td>\n",
       "    </tr>\n",
       "    <tr>\n",
       "      <th>9</th>\n",
       "      <td>0.000398</td>\n",
       "      <td>1.0</td>\n",
       "      <td>0.938264</td>\n",
       "      <td>0.5174</td>\n",
       "      <td>10</td>\n",
       "    </tr>\n",
       "  </tbody>\n",
       "</table>\n",
       "</div>"
      ],
      "text/plain": [
       "       loss  accuracy  val_loss  val_accuracy  epoch\n",
       "5  0.002170       1.0  0.862595        0.5177      6\n",
       "6  0.001409       1.0  0.891218        0.5161      7\n",
       "7  0.000916       1.0  0.903915        0.5165      8\n",
       "8  0.000601       1.0  0.918775        0.5177      9\n",
       "9  0.000398       1.0  0.938264        0.5174     10"
      ]
     },
     "metadata": {},
     "output_type": "display_data"
    },
    {
     "data": {
      "image/png": "[encoded data removed]",
      "text/plain": [
       "<Figure size 1224x720 with 2 Axes>"
      ]
     },
     "metadata": {
      "needs_background": "light"
     },
     "output_type": "display_data"
    }
   ],
   "source": [
    "import warnings\n",
    "warnings.filterwarnings(\"ignore\")\n",
    "\n",
    "metrics_df = pd.DataFrame(history2.history)\n",
    "metrics_df['epoch'] = metrics_df.index+1\n",
    "display(metrics_df.tail())\n",
    "\n",
    "fig = plt.figure(figsize=(17,10))\n",
    "ax1, ax2 = fig.add_subplot(2,1,1), fig.add_subplot(2,1,2)\n",
    "metrics_df.plot(kind='scatter', x='epoch', y='loss', ax=ax1, label='train', color='blue')\n",
    "metrics_df.plot(kind='line', x='epoch', y='val_loss', ax=ax1, label='validation', color='red',)\n",
    "ax1.set_ylabel(\"Loss\")\n",
    "ax1.grid('GAINSBORO')\n",
    "ax1.legend([])\n",
    "ax1.set_ylim(0,1.1)\n",
    "ax1.set_xticks(range(0,11))\n",
    "\n",
    "metrics_df.plot(kind='scatter', x='epoch', y='accuracy', ax=ax2, label='train', color='blue')\n",
    "metrics_df.plot(kind='line', x='epoch', y='val_accuracy', ax=ax2, label='validation', color='red',)\n",
    "ax2.set_ylabel(\"Accuracy\")\n",
    "ax2.grid('GAINSBORO')\n",
    "ax2.set_xticks(range(0,11))\n",
    "ax2.legend([])\n",
    "ax2.set_ylim(0,1.1)\n",
    "plt.show()"
   ]
  },
  {
   "cell_type": "markdown",
   "metadata": {},
   "source": [
    "This contains word embeddings only learnt from the training data. Validation accuracy cannot improve beyond 50%. It is clear that this model performance is rather poor for a binary prediction task."
   ]
  },
  {
   "cell_type": "code",
   "execution_count": 44,
   "metadata": {
    "ExecuteTime": {
     "end_time": "2020-06-08T07:04:25.608768Z",
     "start_time": "2020-06-08T07:04:19.768983Z"
    }
   },
   "outputs": [
    {
     "name": "stdout",
     "output_type": "stream",
     "text": [
      "Model: \"sequential\"\n",
      "_________________________________________________________________\n",
      "Layer (type)                 Output Shape              Param #   \n",
      "=================================================================\n",
      "embedding (Embedding)        (None, 20, 100)           1000000   \n",
      "_________________________________________________________________\n",
      "flatten (Flatten)            (None, 2000)              0         \n",
      "_________________________________________________________________\n",
      "dense (Dense)                (None, 32)                64032     \n",
      "_________________________________________________________________\n",
      "dense_1 (Dense)              (None, 1)                 33        \n",
      "=================================================================\n",
      "Total params: 1,064,065\n",
      "Trainable params: 64,065\n",
      "Non-trainable params: 1,000,000\n",
      "_________________________________________________________________\n",
      "None\n",
      "Epoch 1/10\n",
      "7/7 [==============================] - 1s 106ms/step - loss: 0.7430 - accuracy: 0.5350 - val_loss: 0.7712 - val_accuracy: 0.5032\n",
      "Epoch 2/10\n",
      "7/7 [==============================] - 0s 68ms/step - loss: 0.4974 - accuracy: 0.7600 - val_loss: 1.0260 - val_accuracy: 0.4977\n",
      "Epoch 3/10\n",
      "7/7 [==============================] - 1s 104ms/step - loss: 0.4131 - accuracy: 0.8800 - val_loss: 0.8512 - val_accuracy: 0.5127\n",
      "Epoch 4/10\n",
      "7/7 [==============================] - 0s 67ms/step - loss: 0.3170 - accuracy: 0.9400 - val_loss: 0.8139 - val_accuracy: 0.5232\n",
      "Epoch 5/10\n",
      "7/7 [==============================] - 0s 67ms/step - loss: 0.2788 - accuracy: 0.9250 - val_loss: 0.7642 - val_accuracy: 0.5362\n",
      "Epoch 6/10\n",
      "7/7 [==============================] - 0s 66ms/step - loss: 0.2107 - accuracy: 0.9800 - val_loss: 1.2373 - val_accuracy: 0.5017\n",
      "Epoch 7/10\n",
      "7/7 [==============================] - 0s 67ms/step - loss: 0.1853 - accuracy: 0.9700 - val_loss: 0.8035 - val_accuracy: 0.5373\n",
      "Epoch 8/10\n",
      "7/7 [==============================] - 0s 62ms/step - loss: 0.1272 - accuracy: 1.0000 - val_loss: 1.0974 - val_accuracy: 0.5169\n",
      "Epoch 9/10\n",
      "7/7 [==============================] - 0s 61ms/step - loss: 0.1257 - accuracy: 0.9900 - val_loss: 1.3260 - val_accuracy: 0.5063\n",
      "Epoch 10/10\n",
      "7/7 [==============================] - 0s 62ms/step - loss: 0.1224 - accuracy: 0.9850 - val_loss: 0.9744 - val_accuracy: 0.5337\n"
     ]
    }
   ],
   "source": [
    "# Instantiate Model\n",
    "###################\n",
    "tf.keras.backend.clear_session()\n",
    "model3 = tf.keras.models.Sequential()\n",
    "model3.add(tf.keras.layers.Embedding(EXPT2_VOCABULARY_SIZE, EMBEDDING_DIMENSIONS,\n",
    "                                     input_length=EXPT2_DOCUMENT_MAX_LENGTH))\n",
    "model3.add(tf.keras.layers.Flatten())\n",
    "model3.add(tf.keras.layers.Dense(32, activation='relu'))\n",
    "model3.add(tf.keras.layers.Dense(1, activation='sigmoid'))\n",
    "\n",
    "model3.layers[0].set_weights([expt2_wordembeddings])\n",
    "model3.layers[0].trainable = False\n",
    "\n",
    "# Compile\n",
    "#########\n",
    "model3.compile(optimizer='rmsprop', loss='binary_crossentropy', metrics=['accuracy'])\n",
    "print(model3.summary())\n",
    "\n",
    "# Train\n",
    "##############\n",
    "history3 = model3.fit(x_train, y_train, \n",
    "                    epochs=10, batch_size=32, \n",
    "                      validation_data=(x_val, y_val))\n",
    "model3.save_weights('model6v1_no_pretrained2.h5')"
   ]
  },
  {
   "cell_type": "code",
   "execution_count": 47,
   "metadata": {
    "ExecuteTime": {
     "end_time": "2020-06-08T07:04:44.397283Z",
     "start_time": "2020-06-08T07:04:43.859296Z"
    },
    "scrolled": false
   },
   "outputs": [
    {
     "data": {
      "text/html": [
       "<div>\n",
       "<style scoped>\n",
       "    .dataframe tbody tr th:only-of-type {\n",
       "        vertical-align: middle;\n",
       "    }\n",
       "\n",
       "    .dataframe tbody tr th {\n",
       "        vertical-align: top;\n",
       "    }\n",
       "\n",
       "    .dataframe thead th {\n",
       "        text-align: right;\n",
       "    }\n",
       "</style>\n",
       "<table border=\"1\" class=\"dataframe\">\n",
       "  <thead>\n",
       "    <tr style=\"text-align: right;\">\n",
       "      <th></th>\n",
       "      <th>loss</th>\n",
       "      <th>accuracy</th>\n",
       "      <th>val_loss</th>\n",
       "      <th>val_accuracy</th>\n",
       "      <th>epoch</th>\n",
       "    </tr>\n",
       "  </thead>\n",
       "  <tbody>\n",
       "    <tr>\n",
       "      <th>5</th>\n",
       "      <td>0.210721</td>\n",
       "      <td>0.980</td>\n",
       "      <td>1.237275</td>\n",
       "      <td>0.5017</td>\n",
       "      <td>6</td>\n",
       "    </tr>\n",
       "    <tr>\n",
       "      <th>6</th>\n",
       "      <td>0.185261</td>\n",
       "      <td>0.970</td>\n",
       "      <td>0.803483</td>\n",
       "      <td>0.5373</td>\n",
       "      <td>7</td>\n",
       "    </tr>\n",
       "    <tr>\n",
       "      <th>7</th>\n",
       "      <td>0.127237</td>\n",
       "      <td>1.000</td>\n",
       "      <td>1.097397</td>\n",
       "      <td>0.5169</td>\n",
       "      <td>8</td>\n",
       "    </tr>\n",
       "    <tr>\n",
       "      <th>8</th>\n",
       "      <td>0.125734</td>\n",
       "      <td>0.990</td>\n",
       "      <td>1.325978</td>\n",
       "      <td>0.5063</td>\n",
       "      <td>9</td>\n",
       "    </tr>\n",
       "    <tr>\n",
       "      <th>9</th>\n",
       "      <td>0.122397</td>\n",
       "      <td>0.985</td>\n",
       "      <td>0.974424</td>\n",
       "      <td>0.5337</td>\n",
       "      <td>10</td>\n",
       "    </tr>\n",
       "  </tbody>\n",
       "</table>\n",
       "</div>"
      ],
      "text/plain": [
       "       loss  accuracy  val_loss  val_accuracy  epoch\n",
       "5  0.210721     0.980  1.237275        0.5017      6\n",
       "6  0.185261     0.970  0.803483        0.5373      7\n",
       "7  0.127237     1.000  1.097397        0.5169      8\n",
       "8  0.125734     0.990  1.325978        0.5063      9\n",
       "9  0.122397     0.985  0.974424        0.5337     10"
      ]
     },
     "metadata": {},
     "output_type": "display_data"
    },
    {
     "data": {
      "image/png": "[encoded data removed]",
      "text/plain": [
       "<Figure size 1224x720 with 2 Axes>"
      ]
     },
     "metadata": {
      "needs_background": "light"
     },
     "output_type": "display_data"
    }
   ],
   "source": [
    "import warnings\n",
    "warnings.filterwarnings(\"ignore\")\n",
    "\n",
    "metrics_df = pd.DataFrame(history3.history)\n",
    "metrics_df['epoch'] = metrics_df.index+1\n",
    "display(metrics_df.tail())\n",
    "\n",
    "fig = plt.figure(figsize=(17,10))\n",
    "ax1, ax2 = fig.add_subplot(2,1,1), fig.add_subplot(2,1,2)\n",
    "metrics_df.plot(kind='scatter', x='epoch', y='loss', ax=ax1, label='train', color='blue')\n",
    "metrics_df.plot(kind='line', x='epoch', y='val_loss', ax=ax1, label='validation', color='red',)\n",
    "ax1.set_ylabel(\"Loss\")\n",
    "ax1.grid('GAINSBORO')\n",
    "ax1.legend([])\n",
    "ax1.set_ylim(0,2.1)\n",
    "ax1.set_xticks(range(0,11))\n",
    "\n",
    "metrics_df.plot(kind='scatter', x='epoch', y='accuracy', ax=ax2, label='train', color='blue')\n",
    "metrics_df.plot(kind='line', x='epoch', y='val_accuracy', ax=ax2, label='validation', color='red',)\n",
    "ax2.set_ylabel(\"Accuracy\")\n",
    "ax2.grid('GAINSBORO')\n",
    "ax2.set_xticks(range(0,11))\n",
    "ax2.legend([])\n",
    "ax2.set_ylim(0,1.1)\n",
    "plt.show()"
   ]
  },
  {
   "cell_type": "markdown",
   "metadata": {},
   "source": [
    "With the pretrained embeddings, we can see the model to start overfitting very quickly. Validation accuracy has high variance too. This is common for relatively small datasets. "
   ]
  },
  {
   "cell_type": "markdown",
   "metadata": {},
   "source": [
    "Additional References / Resources\n",
    "\n",
    "- https://www.gutenberg.org/\n",
    "\n",
    "- https://www.kaggle.com/lakshmi25npathi/imdb-dataset-of-50k-movie-reviews\n",
    "\n",
    "- https://github.com/stanfordnlp/GloVe"
   ]
  }
 ],
 "metadata": {
  "kernelspec": {
   "display_name": "Python 3",
   "language": "python",
   "name": "python3"
  },
  "language_info": {
   "codemirror_mode": {
    "name": "ipython",
    "version": 3
   },
   "file_extension": ".py",
   "mimetype": "text/x-python",
   "name": "python",
   "nbconvert_exporter": "python",
   "pygments_lexer": "ipython3",
   "version": "3.7.2"
  }
 },
 "nbformat": 4,
 "nbformat_minor": 4
}
